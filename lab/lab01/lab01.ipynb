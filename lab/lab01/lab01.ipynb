{
 "cells": [
  {
   "cell_type": "code",
   "execution_count": 1,
   "id": "c682ce10",
   "metadata": {
    "deletable": false,
    "editable": false
   },
   "outputs": [],
   "source": [
    "# Initialize Otter\n",
    "import otter\n",
    "grader = otter.Notebook(\"lab01.ipynb\")"
   ]
  },
  {
   "cell_type": "markdown",
   "id": "75e56d8c-bb2a-4348-aee7-1ff59a1c86cf",
   "metadata": {},
   "source": [
    "<a href=\"https://cdudea.org/hub/user-redirect/lab/tree/lab/semestre2025-2/lab/lab01/lab01.ipynb\" target=\"_parent\"><img src=\"https://colab.research.google.com/assets/colab-badge.svg\" alt=\"Open In Colab\"/></a>\n"
   ]
  },
  {
   "cell_type": "markdown",
   "id": "71ccef80-281f-4283-aaff-51c5604b94d8",
   "metadata": {},
   "source": [
    "<p><img alt=\"Colaborat\" style=\"height: 220px;\" src=\"Fig_01_Escudo-UdeA.png\" align=\"left\" hspace=\"10px\" vspace=\"0px\"></p>\n",
    "\n",
    "\n",
    "\n",
    "# Fundamentos en ciencias de datos\n",
    "\n",
    "¡Bienvenido a al curso *Fundamentos de la ciencia de datos*! Cada semana completarás dos tareas de laboratorio como esta. No se pueden aprender temas técnicos sin  práctica, por lo que los laboratorios son una parte importante del curso.\n",
    "\n",
    "Antes de comenzar, hay algunos detalles importantes.\n",
    "\n",
    "Las sesiones de laboratorio semanales están diseñadas para desarrollar tus habilidades con conceptos computacionales e inferenciales. Estas tareas de laboratorio son una parte obligatoria del curso y se entregarán el miércoles antes de las 8pm.\n",
    "\n",
    "La práctica de laboratorio vale el 20% de tu calificación final:\n",
    "\n",
    "**Asistencia regular al laboratorio**: Para recibir notas por el laboratorio, debes asistir y completar la tarea de laboratorio durante el período de laboratorio y ser revisado por el profesor del curso. Puedes quedarte todo el período y hacer un progreso significativo. Los profesores  revisarán tu trabajo para otorgarte el crédito completo, incluso si no has completado toda la tarea.\n",
    "\n",
    "\n",
    "**Laboratorios a tu propio ritmo**:  Debes terminar todo el laboratorio y aprobar todas las pruebas del autocalificador (100% de las pruebas aprobadas) para recibir tu nota. No se otorgará nota parcial.\n",
    "\n",
    "\n",
    "\n",
    "Colaborar en los laboratorios está  bien: ¡se recomienda! No deberías quedarte atascado más de unos minutos, así que pide ayuda a al profesor o compañero de clase. Explicar las cosas también es beneficioso; la mejor manera de solidificar tu conocimiento sobre un tema es explicarlo. Sin embargo, no te limites a compartir respuestas.\n",
    "\n",
    "\n",
    "Puede leer más sobre las [políticas del curso](https://cienciadatosudea.github.io/001_SitioWebFundCienciaDatos/03politicas.html) en el [sitio web del curso](https://cienciadatosudea.github.io/001_SitioWebFundCienciaDatos/).\n",
    "\n",
    "\n",
    "### En el laboratorio de hoy, aprenderás a:\n",
    "\n",
    "1. Navegar por los cuadernos de Jupyter (como este);\n",
    "2. Escribir y evaluar algunas *expresiones* básicas en Python, el lenguaje  del curso;\n",
    "3. Llamar a *funciones* para usar el código escrito por otras personas\n",
    "4. Dividir el código Python en partes más pequeñas para comprenderlo mejor.\n",
    "\n",
    "Esta práctica de laboratorio cubre partes del [Capítulo 3](http://www.inferentialthinking.com/chapters/03/programming-in-python.html) del libro de texto en línea. Deberías leer los ejemplos del libro, pero no ahora. En lugar de eso, ¡comencemos!"
   ]
  },
  {
   "cell_type": "markdown",
   "id": "f90cb2d5-8767-4708-945f-1d5ff318e736",
   "metadata": {
    "deletable": false,
    "editable": false
   },
   "source": [
    "<!-- BEGIN QUESTION -->\n",
    "\n",
    "Ingresa tu nombre  con apellido y número de carnet en las variables dadas en la celda siguiente:\n",
    "Ejemplo:\n",
    "```python\n",
    "NombreApellidos=\"Ada Lovelace\"\n",
    "NumeroCarnet=\"27182818\"\n",
    "Email=\"Ada.Lovelace@udea.edu.co\"\n",
    "```"
   ]
  },
  {
   "cell_type": "code",
   "execution_count": 2,
   "id": "50bfed67-9a8a-40d9-ad45-ec5a5241a55e",
   "metadata": {
    "tags": []
   },
   "outputs": [],
   "source": [
    "NombreApellidos=\"Gustavo Castrillon\"\n",
    "NumeroCarnet=\"66666666666\"\n",
    "Email=\"gadolfo.castrillon@udea.edu.co\""
   ]
  },
  {
   "cell_type": "code",
   "execution_count": 3,
   "id": "1058dcd0",
   "metadata": {
    "deletable": false,
    "editable": false
   },
   "outputs": [
    {
     "data": {
      "text/html": [
       "<p><strong><pre style='display: inline;'>qt</pre></strong> passed! 🙌</p>"
      ],
      "text/plain": [
       "qt results: All test cases passed!"
      ]
     },
     "execution_count": 3,
     "metadata": {},
     "output_type": "execute_result"
    }
   ],
   "source": [
    "grader.check(\"qt\")"
   ]
  },
  {
   "cell_type": "markdown",
   "id": "f380c2b3",
   "metadata": {
    "deletable": false,
    "editable": false
   },
   "source": [
    "<!-- END QUESTION -->\n",
    "\n"
   ]
  },
  {
   "cell_type": "code",
   "execution_count": 4,
   "id": "54e59a67",
   "metadata": {},
   "outputs": [],
   "source": [
    "import otter\n",
    "import pandas as pd\n",
    "import numpy as np\n",
    "%matplotlib inline\n",
    "import otter\n",
    "import matplotlib.pylab as plt"
   ]
  },
  {
   "cell_type": "markdown",
   "id": "440bc820-315f-4a72-98ce-2052c12decb8",
   "metadata": {},
   "source": [
    "# 0. Formulario de pólizas obligatorias\n",
    "¡Leer el texto anterior le ahorrará tiempo!\n",
    "\n",
    "Complete [este](https://forms.gle/MRb9NUjoEibuiCsh6) formulario antes de continuar. Utilice su correo electrónico de la UdeA para acceder al formulario. En la parte final del formulario, habrá una palabra secreta que deberá ingresar en el cuadro a continuación. Recuerde poner la palabra secreta entre comillas al ingresarla (es decir, \"hola\"). ¡Las comillas indican que es del tipo String!"
   ]
  },
  {
   "cell_type": "markdown",
   "id": "3d509c44-872b-4e77-b096-118cedfe2c1e",
   "metadata": {},
   "source": [
    "**Pregunta  1:** Ingrese la palabra secreta"
   ]
  },
  {
   "cell_type": "code",
   "execution_count": 5,
   "id": "74e34a58-a008-4521-9703-639b3967d99b",
   "metadata": {},
   "outputs": [
    {
     "name": "stdout",
     "output_type": "stream",
     "text": [
      "Hola estudiantes\n"
     ]
    }
   ],
   "source": [
    "print(\"Hola estudiantes\")"
   ]
  },
  {
   "cell_type": "markdown",
   "id": "ef9f9989-5f56-4b3e-9305-a7af12fb5938",
   "metadata": {},
   "source": [
    "# Hola estudiantes"
   ]
  },
  {
   "cell_type": "markdown",
   "id": "fbaf6796",
   "metadata": {
    "deletable": false,
    "editable": false
   },
   "source": [
    "<!-- BEGIN QUESTION -->\n",
    "\n"
   ]
  },
  {
   "cell_type": "code",
   "execution_count": 6,
   "id": "e3ff2c09",
   "metadata": {
    "tags": []
   },
   "outputs": [],
   "source": [
    "secret_word = \"Bienvenido\""
   ]
  },
  {
   "cell_type": "code",
   "execution_count": 7,
   "id": "783f85b0",
   "metadata": {
    "deletable": false,
    "editable": false
   },
   "outputs": [
    {
     "data": {
      "text/html": [
       "<p><strong><pre style='display: inline;'>q0</pre></strong> passed! 🌟</p>"
      ],
      "text/plain": [
       "q0 results: All test cases passed!"
      ]
     },
     "execution_count": 7,
     "metadata": {},
     "output_type": "execute_result"
    }
   ],
   "source": [
    "grader.check(\"q0\")"
   ]
  },
  {
   "cell_type": "markdown",
   "id": "676da9c2-896b-4f67-aa6c-0189abd814c9",
   "metadata": {
    "deletable": false,
    "editable": false
   },
   "source": [
    "<!-- END QUESTION -->\n",
    "\n",
    "# 1. Jupyter Notebooks\n",
    "Esta página web se llama Jupyter Notebook. Un cuaderno es un lugar para escribir programas, ver sus resultados y escribir texto.\n",
    "\n",
    "## 1.1. Celdas de texto\n",
    "En un cuaderno, cada rectángulo que contiene texto o código se llama **celda**. Las **celdas** de texto (como ésta) se pueden editar haciendo doble clic en ellas. Están escritos en un formato simple llamado [Markdown](https://www.markdownguide.org/basic-syntax/) para agregar formato y encabezados de sección. No es necesario que aprendas Markdown, pero quizás quieras hacerlo.\n",
    "\n",
    "Después de editar una celda de texto, haga clic en el botón \"ejecutar celda\" en la parte superior que se parece a \" ▶ \" o mantenga presionado `shift` + `enter` para confirmar cualquier cambio. (Intente no borrar las instrucciones de la práctica)."
   ]
  },
  {
   "cell_type": "markdown",
   "id": "2005e1d7-d7a4-4639-afd9-f4c7f2c91634",
   "metadata": {},
   "source": [
    "**Pregunta 1.1.1.**Intente editarlo para que esta oración sea la última oración del párrafo y luego haga clic en el botón \"ejecutar celda\" ▶ o mantenga presionado `shift` + `enter`.  Este párrafo está en su propia celda de texto. "
   ]
  },
  {
   "cell_type": "markdown",
   "id": "67927c23-10f6-4b51-a069-2f6e536ac1ee",
   "metadata": {},
   "source": [
    "## 1.2. Celdas de código\n",
    "Otras celdas contienen código en el lenguaje Python 3. Al ejecutar una celda de código se ejecutará todo el código que contiene. Notese que los comandos propios de python estan en inglés y aparecen en color verde: \n",
    "\n",
    "Para ejecutar el código en una celda de código, primero haga clic en esa celda para activarla. Se resaltará con un pequeño rectángulo verde o azul. A continuación, presione ▶ o mantenga presionado `shift` + `enter`.\n",
    "\n",
    "Intente ejecutar esta celda:"
   ]
  },
  {
   "cell_type": "code",
   "execution_count": 8,
   "id": "f0aaf377-01f5-4a8c-b035-1940c1f026cd",
   "metadata": {},
   "outputs": [
    {
     "name": "stdout",
     "output_type": "stream",
     "text": [
      "hola, mundo\n"
     ]
    }
   ],
   "source": [
    "print(\"hola, mundo\")"
   ]
  },
  {
   "cell_type": "markdown",
   "id": "18176353-8366-470a-8b1e-a7463fa845a5",
   "metadata": {},
   "source": [
    "y este otra, "
   ]
  },
  {
   "cell_type": "code",
   "execution_count": 9,
   "id": "a6fcc3a1-f432-4ea2-b756-1d845d2b4727",
   "metadata": {},
   "outputs": [
    {
     "name": "stdout",
     "output_type": "stream",
     "text": [
      "Hello, World!\n"
     ]
    }
   ],
   "source": [
    "print(\"Hello, World!\")"
   ]
  },
  {
   "cell_type": "markdown",
   "id": "42e9ef5e-1c4a-4995-b790-79b20cdcfea8",
   "metadata": {},
   "source": [
    "y este "
   ]
  },
  {
   "cell_type": "code",
   "execution_count": 10,
   "id": "4bb61086-b0bd-47be-99e7-3ee2fea58110",
   "metadata": {},
   "outputs": [
    {
     "name": "stdout",
     "output_type": "stream",
     "text": [
      "👋, 🌏!\n"
     ]
    }
   ],
   "source": [
    "print(\"\\N{WAVING HAND SIGN}, \\N{EARTH GLOBE ASIA-AUSTRALIA}!\")"
   ]
  },
  {
   "cell_type": "markdown",
   "id": "4cdd3b30-d966-4c81-afd2-4ce8535959fb",
   "metadata": {},
   "source": [
    "El componente fundamental del código Python es una expresión. Las celdas pueden contener varias líneas con múltiples expresiones. Cuando ejecuta una celda, las líneas de código se ejecutan en el orden en que aparecen. Cada expresión \"imprimir\" imprime una línea. Ejecute la siguiente celda y observe el orden de la salida."
   ]
  },
  {
   "cell_type": "code",
   "execution_count": 11,
   "id": "8e2bc01f-576f-40d5-8d7b-13fe25b5fc21",
   "metadata": {},
   "outputs": [
    {
     "name": "stdout",
     "output_type": "stream",
     "text": [
      "Primero se imprime esta línea,\n",
      "y luego esta.\n"
     ]
    }
   ],
   "source": [
    "print(\"Primero se imprime esta línea,\")\n",
    "print(\"y luego esta.\")"
   ]
  },
  {
   "cell_type": "markdown",
   "id": "784ed3d2-03ec-471d-8cb6-2f72d1961c1e",
   "metadata": {},
   "source": [
    "**Pregunta 1.2.1.** Cambie la celda de arriba para que imprima:\n",
    "\n",
    "     Primero esta línea,\n",
    "     luego todo 🌏,\n",
    "     y luego este.\n",
    "\n",
    "*Pista:* Si estás atrapado en el símbolo de la Tierra durante más de unos minutos, intenta hablar con un compañero vecino o prifesor. Esa es una buena idea para cualquier problema de laboratorio."
   ]
  },
  {
   "cell_type": "markdown",
   "id": "195e97d2-89f4-4d2f-b040-dc8560217cff",
   "metadata": {},
   "source": [
    "## 1.3. Escribir cuadernos Jupyter\n",
    "\n",
    "Puede utilizar los cuadernos de Jupyter para sus propios proyectos o documentos. Cuando crees tu propio cuaderno, necesitarás crear tus propias celdas para texto y código.\n",
    "\n",
    "Para agregar una celda, haga clic en el botón + en la barra de menú. Comenzará como una celda de texto. Puedes cambiarlo a una celda de código haciendo clic dentro de él para que quede resaltado, haciendo clic en el cuadro desplegable al lado del botón con triángulos dobles en la barra de menú y eligiendo \"Código\".\n",
    "\n",
    "**Pregunta 1.3.1.** Agregue una celda de código debajo de esta. Escriba el código que imprima:\n",
    "   \n",
    "     ¡Una celda completamente nueva! ♪🌏♪\n",
    "\n",
    "(Ese símbolo de nota musical es como el símbolo de la Tierra. Su nombre largo es `\\N{EIGHTH NOTE}`.)\n",
    "\n",
    "Ejecuta en una celda para verificar que funciona."
   ]
  },
  {
   "cell_type": "code",
   "execution_count": 12,
   "id": "43468a36-e5c0-4b2f-818b-3c8cafb4f519",
   "metadata": {},
   "outputs": [
    {
     "data": {
      "text/plain": [
       "'Escribela aqui...'"
      ]
     },
     "execution_count": 12,
     "metadata": {},
     "output_type": "execute_result"
    }
   ],
   "source": [
    "\"Escribela aqui...\""
   ]
  },
  {
   "cell_type": "markdown",
   "id": "e5e30bc5-25ce-4caa-9a02-2e290aed829c",
   "metadata": {},
   "source": [
    "Este tambien es un print:"
   ]
  },
  {
   "cell_type": "code",
   "execution_count": 13,
   "id": "0c874a54-9acb-422b-93bb-722144273048",
   "metadata": {},
   "outputs": [
    {
     "name": "stdout",
     "output_type": "stream",
     "text": [
      "  /\\                 /\\\n",
      " / \\'._   (\\_/)   _.'/ \\\n",
      " |.''._'--(o.o)--'_.''.|\n",
      "  \\_ / `;=/ \" \\=;` \\ _/\n",
      "    `\\__| \\___/ |__/`\n",
      "         \\(_|_)/\n"
     ]
    }
   ],
   "source": [
    "print(\"  /\\\\                 /\\\\\")\n",
    "print(\" / \\\\'._   (\\\\_/)   _.'/ \\\\\")\n",
    "print(\" |.''._'--(o.o)--'_.''.|\")\n",
    "print(\"  \\\\_ / `;=/ \\\" \\\\=;` \\\\ _/\")\n",
    "print(\"    `\\\\__| \\\\___/ |__/`\")\n",
    "print(\"         \\\\(_|_)/\")\n"
   ]
  },
  {
   "cell_type": "markdown",
   "id": "d8a68473-0ab9-420e-9612-d912b2020d2f",
   "metadata": {},
   "source": [
    "**Pregunta 1.3.2.**: \n",
    "\n",
    "Intenta pintar un gato con simbolos empleando un `print`, para ello copia los siguientes simbolos en una celda, análogo al muercielago mostrado en la anterior:\n",
    "```bash\n",
    " /\\_/\\  \n",
    "( o.o ) \n",
    " > ^ <\n",
    "```"
   ]
  },
  {
   "cell_type": "code",
   "execution_count": 14,
   "id": "fdcc46fe-a177-4b36-af3b-2b0216fe0006",
   "metadata": {},
   "outputs": [
    {
     "data": {
      "text/plain": [
       "'Escribe la solución aqui...'"
      ]
     },
     "execution_count": 14,
     "metadata": {},
     "output_type": "execute_result"
    }
   ],
   "source": [
    "\"Escribe la solución aqui...\""
   ]
  },
  {
   "cell_type": "markdown",
   "id": "116115e1-b55c-4489-b45f-52a2d1116ea6",
   "metadata": {},
   "source": [
    "## 1.4. Errores\n",
    "Python es un lenguaje, y al igual que los lenguajes humanos naturales tiene reglas. Se diferencia del lenguaje natural en dos aspectos importantes:\n",
    "\n",
    "1. Las reglas son *simples*. Puedes aprender la mayoría de ellos en unas pocas semanas y adquirir un dominio razonable del idioma en un semestre.\n",
    "   \n",
    "2. Las reglas son *rígidas*. Si domina un lenguaje natural, puede comprender a un hablante que no lo domina, pasando por alto los pequeños errores. Una computadora que ejecuta código Python no es lo suficientemente inteligente para hacer eso.\n",
    "\n",
    "Siempre que escribas código, cometerás errores. Cuando ejecuta una celda de código que tiene errores, Python a veces generará mensajes de error para indicarle qué hizo mal.\n",
    "\n",
    "Los errores están bien; Incluso los programadores experimentados cometen muchos errores. Cuando cometes un error, sólo tienes que encontrar el origen del problema, solucionarlo y seguir adelante."
   ]
  },
  {
   "cell_type": "code",
   "execution_count": 15,
   "id": "aed25bf6-7d2c-4cbc-9378-82c46e08b1bf",
   "metadata": {},
   "outputs": [
    {
     "ename": "SyntaxError",
     "evalue": "incomplete input (1867411798.py, line 1)",
     "output_type": "error",
     "traceback": [
      "\u001b[0;36m  Cell \u001b[0;32mIn[15], line 1\u001b[0;36m\u001b[0m\n\u001b[0;31m    print(\"This line is missing something.\"\u001b[0m\n\u001b[0m                                           ^\u001b[0m\n\u001b[0;31mSyntaxError\u001b[0m\u001b[0;31m:\u001b[0m incomplete input\n"
     ]
    }
   ],
   "source": [
    "print(\"This line is missing something.\""
   ]
  },
  {
   "cell_type": "markdown",
   "id": "6e244d84-af53-4327-ac5f-8600b55ff6df",
   "metadata": {},
   "source": [
    "Deberías ver algo como esto (menos las anotaciones y el resultado de error):\n",
    " \n",
    "\n",
    "\n",
    "<div style=\"display: flex; justify-content: center; gap: 5px;\">\n",
    "    <img src=\"Fig_02_Error.jpg\" alt=\"Manchas\" width=\"800\"/>\n",
    "</div>\n",
    "\n",
    "\n",
    "\n",
    "La última línea del resultado de error intenta indicarle qué salió mal. La *sintaxis* de un lenguaje es su estructura, y este `SyntaxError` te indica que has creado una estructura ilegal. \"`EOF`\" significa \"fin de archivo\", por lo que el mensaje dice que Python esperaba que escribieras algo más (en este caso, un paréntesis derecho) antes de terminar la celda.\n",
    "\n",
    "Hay mucha terminología en los lenguajes de programación, pero no es necesario saberla toda para programar de forma eficaz. Si ve un mensaje crítico como este, a menudo podrá arreglárselas sin descifrarlo. (Por supuesto, si está frustrado, pida ayuda a un compañero o a un instructor). Sin embargo, el paquete de errores del curso puede ayudar a explicar los errores y excepciones de Python y sus causas comunes, así como recursos a los que puede consultar para obtener ayuda adicional. En el ejemplo anterior, vemos que una fuente de un \"SyntaxError\" tiene que ver con los paréntesis.\n",
    "\n",
    "\n",
    "Intente corregir el código anterior para que pueda ejecutar la celda y ver el mensaje deseado en lugar de un error.\n",
    "\n",
    "\n",
    "**Nota:** En programación los mensajes aparecen en inglés, de ser necesario busca las palabras que no entiendas en un traductor, mientras se acostumbra a la terminología."
   ]
  },
  {
   "cell_type": "markdown",
   "id": "7e9c0743-5817-4312-a469-0687c9bf95cc",
   "metadata": {},
   "source": [
    "## 1.5. El núcleo\n",
    "El kernel es un programa que ejecuta el código dentro de los cuadernos de trabajo y genera los resultados. En la parte superior derecha de su ventana, puede ver un círculo que indica el estado de su kernel. Si el círculo está vacío (⚪), el kernel está inactivo y listo para ejecutar código. Si el círculo está lleno (⚫), el núcleo está ocupado ejecutando algún código.\n",
    "\n",
    "Al lado de cada celda de código, verá un texto que dice \"[ ]\". Antes de ejecutar la celda, verá \"[ ]\". Cuando la celda se esté ejecutando, verá `[*]`. Si ve un asterisco (\\*) junto a una celda que no desaparece, es probable que el código dentro de la celda esté tardando demasiado en ejecutarse y podría ser un buen momento para interrumpir el kernel (que se analiza a continuación). . Cuando termine de ejecutarse una celda, verá un número entre corchetes, como este: `[1]`. El número corresponde al orden en que ejecuta las celdas; entonces, la primera celda que ejecute mostrará un 1 cuando termine de ejecutarse, la segunda mostrará un 2, y así sucesivamente.\n",
    "\n",
    "Es posible que se encuentre con problemas en los que su kernel esté bloqueado por una cantidad excesiva de tiempo, su computadora portátil sea muy lenta y no responda, o su kernel pierda su conexión. Si esto sucede, intente los siguientes pasos:\n",
    "1. En la parte superior de la pantalla, haga clic en **Kernel** y luego en **Interrumpir kernel**.\n",
    "2. Si eso no ayuda, haga clic en **Kernel** y luego en **Reiniciar kernel**. Si hace esto, tendrá que ejecutar las celdas de código desde el inicio de su computadora portátil hasta donde detuvo su trabajo."
   ]
  },
  {
   "cell_type": "markdown",
   "id": "37d8c9a4-40f8-4dc5-9fa2-70995cca6aba",
   "metadata": {},
   "source": [
    "## 1.6. Enviar su trabajo\n",
    "Todas las tareas del curso se distribuirán en cuadernos como este, y usted enviará su trabajo desde el cuaderno. Usaremos un sistema llamado Otter Grader para verificar su trabajo. Si aún no lo ha hecho, asegúrese de haber ejecutado la celda en la parte superior de este cuaderno para inicializar OtterGrader."
   ]
  },
  {
   "cell_type": "markdown",
   "id": "765dc718-003d-4d33-b005-a30242e5c01b",
   "metadata": {},
   "source": [
    "# 2. Números\n",
    "\n",
    "La información cuantitativa surge en todas partes de la ciencia de datos. Además de representar comandos para imprimir líneas, las expresiones pueden representar números y métodos de combinación de números. La expresión `3.2500` se evalúa como el número 3.25. (Ejecute la celda y vea)."
   ]
  },
  {
   "cell_type": "code",
   "execution_count": null,
   "id": "fc4a7cb6-4e70-4151-9da1-1f9251ea11f2",
   "metadata": {},
   "outputs": [],
   "source": [
    "3.2500"
   ]
  },
  {
   "cell_type": "markdown",
   "id": "d577b10c-051d-4c75-99b6-6b05daeb8e94",
   "metadata": {},
   "source": [
    "Observe que no tuvimos que \"imprimir\". Cuando ejecuta una celda del cuaderno, si la última línea tiene un valor, Jupyter imprime ese valor de manera útil. Sin embargo, no imprimirá las líneas anteriores automáticamente."
   ]
  },
  {
   "cell_type": "code",
   "execution_count": null,
   "id": "7a397e50-9f62-4bfd-a774-63f9f6ed984b",
   "metadata": {},
   "outputs": [],
   "source": [
    "print(2)\n",
    "3\n",
    "4"
   ]
  },
  {
   "cell_type": "markdown",
   "id": "8501f9eb-0e97-4822-97e2-13cb836c07a1",
   "metadata": {},
   "source": [
    "Arriba, deberías ver que 4 es el valor de la última expresión, se imprime 2, pero 3 se pierde para siempre porque no se imprimió ni fue la última.\n",
    "\n",
    "De todos modos, no querrás imprimir todo todo el tiempo. Pero si lo deseas, imprime el número 3, cambia la celda de arriba para imprimirla."
   ]
  },
  {
   "cell_type": "markdown",
   "id": "014a90bb-fedb-42bd-a971-048ac6fae48d",
   "metadata": {},
   "source": [
    "## 2.1. Aritmética\n",
    "La línea en la siguiente celda realiza la resta entre dos números. Su valor es el que cabría esperar. Ejecutalo."
   ]
  },
  {
   "cell_type": "code",
   "execution_count": null,
   "id": "0424bcbe-43e9-4037-8082-77ffa53cc611",
   "metadata": {},
   "outputs": [],
   "source": [
    "3.25 - 1.5"
   ]
  },
  {
   "cell_type": "markdown",
   "id": "58c9d343-9f30-411e-9997-a99c28601719",
   "metadata": {},
   "source": [
    "Intenta realizar el cálculo de tu edad menos los últimos dos dígitos de tu documento:"
   ]
  },
  {
   "cell_type": "code",
   "execution_count": null,
   "id": "0820ca7c-7fc6-4495-8d6b-6ac8df7f1020",
   "metadata": {},
   "outputs": [],
   "source": [
    "27-27"
   ]
  },
  {
   "cell_type": "markdown",
   "id": "014e87ae-ab68-41e4-9408-aebcd5b53ee1",
   "metadata": {},
   "source": [
    "Muchas operaciones aritméticas básicas están integradas en Python. La sección del libro de texto sobre [Expresiones](http://www.inferentialthinking.com/chapters/03/1/Expressions.html) describe todos los operadores aritméticos utilizados en el curso. El operador común que difiere de la notación matemática típica es `**`, que eleva un número a la potencia del otro. Entonces, `2**3` significa $2^3$ y se evalúa como 8.\n",
    "El orden de las operaciones es el mismo que aprendiste en el colegio y Python también tiene paréntesis.  Por ejemplo, compare los resultados de las siguientes celdas.\n"
   ]
  },
  {
   "cell_type": "markdown",
   "id": "7ea51673-e13a-40bc-bba7-60f3a613e11f",
   "metadata": {},
   "source": [
    "### 2.1.1 Suma y Multiplicación"
   ]
  },
  {
   "cell_type": "code",
   "execution_count": null,
   "id": "d90aff34-0cde-4a5b-8575-d88180760209",
   "metadata": {},
   "outputs": [],
   "source": [
    "2 + 3 * 4"
   ]
  },
  {
   "cell_type": "code",
   "execution_count": null,
   "id": "8a4d5e04-cf15-4f46-8174-ad249912e3ba",
   "metadata": {},
   "outputs": [],
   "source": [
    "(2 + 3) * 4"
   ]
  },
  {
   "cell_type": "markdown",
   "id": "6efc977e-e30a-4a59-ad20-6c53616aa151",
   "metadata": {},
   "source": [
    "### 2.1.2 Resta y División"
   ]
  },
  {
   "cell_type": "code",
   "execution_count": null,
   "id": "360a53f3-cf7c-4b55-a88a-7494bb9a968c",
   "metadata": {},
   "outputs": [],
   "source": [
    "10 - 4 / 2"
   ]
  },
  {
   "cell_type": "code",
   "execution_count": null,
   "id": "a9d2a8f3-51b6-44e2-886e-a12499662088",
   "metadata": {},
   "outputs": [],
   "source": [
    "(10 - 4) / 2"
   ]
  },
  {
   "cell_type": "markdown",
   "id": "10d28090-94ca-4f52-81cd-2528b33769a5",
   "metadata": {},
   "source": [
    "### 2.1.3  Exponentes y Multiplicación"
   ]
  },
  {
   "cell_type": "code",
   "execution_count": null,
   "id": "62291c47-05b5-42ea-ac46-6216ab8621d9",
   "metadata": {},
   "outputs": [],
   "source": [
    "2 ** 3 * 4"
   ]
  },
  {
   "cell_type": "code",
   "execution_count": null,
   "id": "aa574ed2-341c-48d9-8807-ebf8a6bedc76",
   "metadata": {},
   "outputs": [],
   "source": [
    "2 ** (3 * 4)"
   ]
  },
  {
   "cell_type": "markdown",
   "id": "377b802c-cf33-4356-be77-a51f29477c95",
   "metadata": {},
   "source": [
    "### 2.1.4 Múltiples Operaciones\n"
   ]
  },
  {
   "cell_type": "code",
   "execution_count": null,
   "id": "debe5203-38eb-474d-8b80-c8979e407abd",
   "metadata": {},
   "outputs": [],
   "source": [
    "2 + 3 * 4 - 5 / 2"
   ]
  },
  {
   "cell_type": "code",
   "execution_count": null,
   "id": "a0931719-5fb2-4b67-ab70-fdeb81d21543",
   "metadata": {},
   "outputs": [],
   "source": [
    "(2 + 3) * (4 - 5) / 2"
   ]
  },
  {
   "cell_type": "markdown",
   "id": "6aaf33f0-d3db-4aca-bfa2-79e9f908455e",
   "metadata": {},
   "source": [
    "Note que todas las operaciones anteriores, las podemos resumir en una sola celda:"
   ]
  },
  {
   "cell_type": "code",
   "execution_count": null,
   "id": "fcac1830-74ee-426f-882f-83e6b00737b7",
   "metadata": {},
   "outputs": [],
   "source": [
    "print(2 + 3 * 4)  # El resultado es 14 porque la multiplicación se realiza antes que la suma\n",
    "print((2 + 3) * 4)  # El resultado es 20 porque los paréntesis alteran el orden de las operaciones\n",
    "print(\"---------------------\")\n",
    "print(10 - 4 / 2)  # El resultado es 8.0 porque la división se realiza antes que la resta\n",
    "print((10 - 4) / 2)  # El resultado es 3.0 porque los paréntesis alteran el orden de las operaciones\n",
    "print(\"---------------------\")\n",
    "\n",
    "print(2 ** 3 * 4)  # El resultado es 32 porque la exponenciación se realiza antes que la multiplicación\n",
    "print(2 ** (3 * 4))  # El resultado es 4096 porque los paréntesis alteran el orden de las operaciones\n",
    "print(\"---------------------\")\n",
    "\n",
    "print(2 + 3 * 4 - 5 / 2)  # El resultado es 10.5 porque la multiplicación y división se realizan antes que la suma y resta\n",
    "print((2 + 3) * (4 - 5) / 2)  # El resultado es -2.5 porque los paréntesis alteran el orden de las operaciones"
   ]
  },
  {
   "cell_type": "markdown",
   "id": "550b90bb-49d2-458f-8c61-a99c2bf8e240",
   "metadata": {},
   "source": [
    "# Ejemplos:\n",
    "Revisa las siguientes operaciones matemáticas:"
   ]
  },
  {
   "cell_type": "code",
   "execution_count": null,
   "id": "875f3c33-dbb4-48a9-8fa6-990460d738ec",
   "metadata": {},
   "outputs": [],
   "source": [
    "6+6*5-6*3**2*2**3/4*7"
   ]
  },
  {
   "cell_type": "markdown",
   "id": "d33e8862-1567-4476-bdd4-2419f44fe614",
   "metadata": {},
   "source": [
    "En notación matemática estándar, el primer ejemplo seria así:\n",
    "\n",
    "$$6 + 6 × 5 - 6 × 3^2 \\times \\frac{2^3}{4} \\times 7,$$"
   ]
  },
  {
   "cell_type": "markdown",
   "id": "fee32f93-28d9-4aee-8d62-d5d5ec2af406",
   "metadata": {},
   "source": [
    "Revisemos el siguiente ejemplo:"
   ]
  },
  {
   "cell_type": "code",
   "execution_count": null,
   "id": "59263994-66e4-4058-a947-b0103ccc7bb4",
   "metadata": {},
   "outputs": [],
   "source": [
    "6 + (6 * 5 - (6 * 3) ** 2) * (2 ** 3 / 4 * 7)"
   ]
  },
  {
   "cell_type": "markdown",
   "id": "24eb36f2-df0f-4ba3-aca6-ee80b17d8a27",
   "metadata": {},
   "source": [
    "En notación matemática, seria de esta manera:\n",
    "\n",
    "$$6 + (6 \\times 5 - (6 \\times 3))^2 \\times \\left(\\frac{\\left(2^3\\right)}{4} \\times 7\\right).$$"
   ]
  },
  {
   "cell_type": "markdown",
   "id": "58d5e844-1ed8-4a17-8032-62882327d654",
   "metadata": {
    "deletable": false,
    "editable": false
   },
   "source": [
    "**Pregunta 2:**  Escribe una expresión de Python en la siguiente celda que sea igual a $\\displaystyle 5 \\times \\left(3 \\frac{10}{11}\\right) - 50 \\frac{1}{3 } + 2^{0.5 \\times 22} - \\frac{7}{33} + 7$. Eso es cinco por tres y diez onceavos, menos cincuenta y un tercio, más dos elevado a la mitad de veintidós, menos siete treinta y tres más seis.\n",
    "\n",
    "Reemplace las elipses (`...`) con su expresión. Intente utilizar paréntesis sólo cuando sea necesario.\n",
    "\n",
    "**Nota:** Por \"$\\displaystyle 3 \\frac{10}{11}$\", nos referimos a $\\displaystyle 3+\\frac{10}{11}$, no a $\\displaystyle 3 \\times \\frac{ 10}{11}$.\n",
    "\n",
    "**Pista:** El resultado correcto debe comenzar con un número familiar."
   ]
  },
  {
   "cell_type": "code",
   "execution_count": null,
   "id": "561a6323-5a24-4399-82d9-e5a768c71fba",
   "metadata": {
    "tags": []
   },
   "outputs": [],
   "source": [
    "equation = 5*(3 + (10/11)) - (50 + 1/3) + 2**(0.5*22) - 7/33 + 7"
   ]
  },
  {
   "cell_type": "code",
   "execution_count": null,
   "id": "fc746a17",
   "metadata": {
    "deletable": false,
    "editable": false
   },
   "outputs": [],
   "source": [
    "grader.check(\"q2\")"
   ]
  },
  {
   "cell_type": "markdown",
   "id": "e6afb6be-849b-4cad-a27b-35e94762a750",
   "metadata": {},
   "source": [
    "# 3. Nombres\n",
    "En lenguaje natural, tenemos terminología que nos permite hacer referencia rápidamente a conceptos muy complicados. No decimos: \"¡Ese es un mamífero grande con pelaje marrón y dientes afilados!\" En cambio, simplemente decimos: \"¡Oso!\"\n",
    "\n",
    "En Python, hacemos esto con *declaraciones de asignación*. Una declaración de asignación tiene un nombre en el lado izquierdo de un signo `=` y una expresión que se evaluará en el lado derecho."
   ]
  },
  {
   "cell_type": "code",
   "execution_count": null,
   "id": "28385b95-b3fa-4bab-a092-bc7cefc6b821",
   "metadata": {},
   "outputs": [],
   "source": [
    "diez = 3 * 2 + 4"
   ]
  },
  {
   "cell_type": "markdown",
   "id": "1d69d8ca-4c30-4e53-b4f5-c366d6da4a0c",
   "metadata": {},
   "source": [
    "Cuando ejecuta esa celda, Python primero calcula el valor de la expresión en el lado derecho, `3 * 2 + 4`, que es el número 10. Luego asigna ese valor al nombre `diez`. En ese momento, el código en la celda termina de ejecutarse.\n",
    "\n",
    "Después de ejecutar esa celda, el valor 10 está vinculado al nombre \"diez\":"
   ]
  },
  {
   "cell_type": "code",
   "execution_count": null,
   "id": "965eb2eb-ea0e-4454-b5ac-8971b1ba59c8",
   "metadata": {},
   "outputs": [],
   "source": [
    "diez"
   ]
  },
  {
   "cell_type": "code",
   "execution_count": null,
   "id": "7d8729af-a051-427b-95e2-96a1c6ead30a",
   "metadata": {},
   "outputs": [],
   "source": [
    "print(diez)"
   ]
  },
  {
   "cell_type": "markdown",
   "id": "845ac60b-3b38-45f6-b07d-b26ef905ed0b",
   "metadata": {},
   "source": [
    "La afirmación \"diez = 3 * 2 + 4\" no afirma que \"diez\" ya sea igual a \"3 * 2 + 4\", como podríamos esperar por analogía con la notación matemática. Más bien, esa línea de código cambia lo que significa \"diez\"; ahora se refiere al valor 10, mientras que antes no significaba nada en absoluto.\n",
    "\n",
    "Si los diseñadores de Python hubieran sido despiadadamente pedantes, nos habrían hecho escribir\n",
    "\n",
    "     define el nombre diez para que en adelante tenga el valor de 3 * 2 + 4\n",
    "\n",
    "en cambio. ¡Probablemente apreciará la brevedad de \"`=`\"! Pero tenga en cuenta que este es el verdadero significado."
   ]
  },
  {
   "cell_type": "markdown",
   "id": "fb963497-d9fb-4456-9dc3-9562bda0cc4a",
   "metadata": {},
   "source": [
    "**Pregunta 3.1.** Ejecute la siguiente celda que usa un nombre de variable `eleven` que no ha sido asignado a nada. ¡Verás un error!"
   ]
  },
  {
   "cell_type": "code",
   "execution_count": null,
   "id": "0730d9cb-e527-4fda-90c0-ba12cc5a580e",
   "metadata": {},
   "outputs": [],
   "source": [
    "eleven + 8"
   ]
  },
  {
   "cell_type": "markdown",
   "id": "e2d056ad-20a0-401a-8012-8b3283567eab",
   "metadata": {},
   "source": [
    "Un patrón común en los cuadernos de Jupyter es asignar un valor a un nombre y luego evaluar inmediatamente el nombre en la última línea de la celda para que el valor se muestre como salida."
   ]
  },
  {
   "cell_type": "code",
   "execution_count": null,
   "id": "e6629cde-7c39-4eb8-8ce6-5274405865d2",
   "metadata": {},
   "outputs": [],
   "source": [
    "cerca_pi = 355/113\n",
    "cerca_pi"
   ]
  },
  {
   "cell_type": "markdown",
   "id": "95fc4faa-c2de-4f25-9e1e-ad8e92da0fe1",
   "metadata": {},
   "source": [
    "Un patrón común en programación es utilizar varias líneas en una sola celda para construir un cálculo complejo paso a paso, nombrando los resultados intermedios en cada etapa.\""
   ]
  },
  {
   "cell_type": "code",
   "execution_count": null,
   "id": "dd9be887-ad12-4c7f-878f-0f3f8bafe4f8",
   "metadata": {},
   "outputs": [],
   "source": [
    "salario_quincenal = 650000\n",
    "salario_mensual = 2 * salario_quincenal\n",
    "numero_de_meses_en_un_ano = 12\n",
    "salario_anual = numero_de_meses_en_un_ano * salario_mensual\n",
    "salario_anual"
   ]
  },
  {
   "cell_type": "markdown",
   "id": "28cfc0b9-ab18-4ace-838c-aa9ab6d21db3",
   "metadata": {},
   "source": [
    "Los nombres en Python pueden tener **letras** (las letras mayúsculas y minúsculas están bien y cuentan como letras diferentes), guiones bajos y números. El primer carácter no puede ser un número (de lo contrario, el nombre podría parecer un número). Y los nombres no pueden contener espacios, ya que los espacios se utilizan para separar fragmentos de código entre sí.\n",
    "\n",
    "Aparte de esas reglas, el nombre que le pongas a algo no le importa *a Python*. Por ejemplo, las dos celdas abajo, hacen  lo mismo que la celda anterior, excepto que todo tiene un nombre diferente:"
   ]
  },
  {
   "cell_type": "code",
   "execution_count": null,
   "id": "cf59d844-f405-43b0-9242-10482782dc59",
   "metadata": {},
   "outputs": [],
   "source": [
    "a = 650000\n",
    "b = 2 * a\n",
    "c = 12\n",
    "d = c * b\n",
    "d"
   ]
  },
  {
   "cell_type": "markdown",
   "id": "abb95f4b-87ff-4562-b00b-c17c3e91d8b2",
   "metadata": {},
   "source": [
    "Igual que estas con nombres en inglés:"
   ]
  },
  {
   "cell_type": "code",
   "execution_count": null,
   "id": "cc4e5c9d-6d62-45ec-b259-9929732cb51e",
   "metadata": {},
   "outputs": [],
   "source": [
    "semimonthly_salary = 650000\n",
    "monthly_salary = 2 * semimonthly_salary\n",
    "number_of_months_in_a_year = 12\n",
    "yearly_salary = number_of_months_in_a_year * monthly_salary\n",
    "yearly_salary"
   ]
  },
  {
   "cell_type": "markdown",
   "id": "a254ea6a-09b8-4bca-be1b-7a2d1c62e457",
   "metadata": {},
   "source": [
    "**Sin embargo**, los nombres son muy importantes para que su código sea *legible* para usted y los demás. La celda de arriba es más corta, pero es totalmente inútil sin una explicación de lo que hace."
   ]
  },
  {
   "cell_type": "markdown",
   "id": "203f6894-ca04-4cb5-87c0-07a1e398a7f8",
   "metadata": {},
   "source": [
    "## 3.1. Comprobando su código\n",
    "Ahora que sabes cómo nombrar cosas, puedes comenzar a usar las *pruebas* integradas para comprobar si tu trabajo es correcto. A veces, hay varias pruebas para una sola pregunta y es necesario aprobarlas todas para recibir la calificacion total por la pregunta. No cambie el contenido de las celdas de prueba.\n",
    "\n",
    "Continúe e intente la siguiente pregunta (**pregunta 3.1.2.**). Al ejecutar la celda directamente  se comprobará si ha asignado a la variable \"segundos_en_una_década\". Si no lo has hecho, esta prueba te dirá la respuesta correcta. Resista la tentación de simplemente copiarlo y, en su lugar, intente ajustar su expresión. (A veces las pruebas darán pistas sobre lo que salió mal...)"
   ]
  },
  {
   "cell_type": "markdown",
   "id": "8c071261",
   "metadata": {},
   "source": [
    "**Pregunta 3.1.2.** Asigne el nombre `segundos_en_una_decada` al número de segundos que hay entre la media noche del 1 de enero de **2010** y la media noche del 1 de enero de **2020**. Tenga en cuenta que hay dos años bisiestos en este lapso de una década. Un año no bisiesto tiene 365 días y un año bisiesto tiene 366 días.\n",
    "\n",
    "**Pista:** Si estás atascado, la siguiente sección te muestra cómo obtener pistas."
   ]
  },
  {
   "cell_type": "code",
   "execution_count": null,
   "id": "b6725f70",
   "metadata": {
    "tags": []
   },
   "outputs": [],
   "source": [
    "segundos_en_una_decada = (60*60*24)*(365*10+2)"
   ]
  },
  {
   "cell_type": "code",
   "execution_count": null,
   "id": "2ef1dde2",
   "metadata": {
    "deletable": false,
    "editable": false
   },
   "outputs": [],
   "source": [
    "grader.check(\"q3_1_2\")"
   ]
  },
  {
   "cell_type": "markdown",
   "id": "96e08847-f104-43a0-9a31-2653cb028a62",
   "metadata": {},
   "source": [
    "# 3.2. Comentarios\n",
    "Es posible que hayas notado estas líneas en la celda en la que respondiste la pregunta 3.2:\n",
    "\n",
    "     # Cambiar la siguiente línea\n",
    "     # para que calcule el número de segundos en una década\n",
    "     # y asigna a ese número el nombre, segundos_en_una_década.\n",
    "    \n",
    "Esto se llama *comentario*. No hace que suceda nada en Python. Python ignora cualquier cosa en una línea después de `#`. En cambio, está ahí para comunicarle algo sobre el código a usted, el lector humano. Los comentarios son extremadamente útiles.\n",
    "\n",
    "<img src=\"http://imgs.xkcd.com/comics/future_self.png\">\n",
    "\n",
    "Fuente: [XKCD](http://imgs.xkcd.com/comics/future_self.png)"
   ]
  },
  {
   "cell_type": "markdown",
   "id": "e3a7ddab-3810-4c83-8dc6-cdd71fe3f311",
   "metadata": {},
   "source": [
    "## 3.3. Aplicación: un experimento de física\n",
    "\n",
    "En la misión Apolo 15 a la Luna, el astronauta David Scott replicó el famoso experimento de física de Galileo en el que demostró que la gravedad acelera objetos de diferente masa a la misma velocidad. Debido a que no hay resistencia del aire para un objeto que cae sobre la superficie de la Luna, incluso dos objetos con masas y densidades muy diferentes deberían caer al mismo ritmo. David Scott comparó una pluma y un martillo.\n",
    "\n",
    "Puede ejecutar la siguiente celda para ver un vídeo del experimento."
   ]
  },
  {
   "cell_type": "code",
   "execution_count": 16,
   "id": "9a465238-d274-41c0-a0ed-227176683bdc",
   "metadata": {},
   "outputs": [
    {
     "data": {
      "image/jpeg": "[encoded data removed]",
      "text/html": [
       "\n",
       "        <iframe\n",
       "            width=\"400\"\n",
       "            height=\"300\"\n",
       "            src=\"https://www.youtube.com/embed/U7db6ZeLR5s\"\n",
       "            frameborder=\"0\"\n",
       "            allowfullscreen\n",
       "            \n",
       "        ></iframe>\n",
       "        "
      ],
      "text/plain": [
       "<IPython.lib.display.YouTubeVideo at 0x7b56bc381f50>"
      ]
     },
     "execution_count": 16,
     "metadata": {},
     "output_type": "execute_result"
    }
   ],
   "source": [
    "from IPython.display import YouTubeVideo\n",
    "# The original URL is:\n",
    "# https://www.youtube.com/watch?v=U7db6ZeLR5s\n",
    "\n",
    "YouTubeVideo(\"U7db6ZeLR5s\")"
   ]
  },
  {
   "cell_type": "markdown",
   "id": "c5056576-0cad-46f3-9644-abbf19768d19",
   "metadata": {},
   "source": [
    "Aquí está la transcripción del vídeo:\n",
    "\n",
    "**167:22:06 Scott**: Bueno, en mi mano izquierda tengo una pluma; en mi mano derecha, un martillo. Y supongo que una de las razones por las que llegamos hoy aquí fue porque un caballero llamado Galileo, hace mucho tiempo, hizo un descubrimiento bastante significativo sobre la caída de objetos en campos de gravedad. Y pensamos cuál sería un mejor lugar para confirmar sus hallazgos que la Luna. Y por eso pensamos en probarlo aquí para usted. La pluma resulta ser, apropiadamente, una pluma de halcón para nuestro Halcón. Y los dejaré aquí a los dos y, con suerte, caerán al suelo al mismo tiempo.\n",
    "\n",
    "**167:22:43 Scott**: ¿Qué tal eso?\n",
    "\n",
    "**167:22:45 Allen**: ¡Qué tal eso! (Aplausos en Houston)\n",
    "\n",
    "**167:22:46 Scott**: Lo que demuestra que el Sr. Galileo tenía razón en sus hallazgos.."
   ]
  },
  {
   "cell_type": "markdown",
   "id": "4e5d072f-dc2b-4fd4-9dee-6c2c77a576ea",
   "metadata": {},
   "source": [
    "**Ley de Newton.** Usando este video, también podemos intentar confirmar otra leyes de la física: la ley de gravitación universal de Newton. Las leyes de Newton predicen que cualquier objeto que caiga cerca de la superficie de la Luna debería caer:\n",
    "\n",
    "$$y = \\frac{1}{2} G \\frac{M}{R^2} t^2 \\text{ (metros)}$$\n",
    "\n",
    "después de $t$ segundos, donde $G$ es una constante universal, $M$ es la masa de la luna en kilogramos y $R$ es el radio de la luna en metros. Entonces, si conocemos $G$, $M$ y $R$, las leyes de Newton nos permiten predecir qué tan lejos caerá un objeto en cualquier  tiempo.\n",
    "\n",
    "Para verificar la precisión de esta ley, calcularemos la diferencia entre la distancia prevista que cae el martillo y la distancia real. (Si son diferentes, podría deberse a que las leyes de Newton son erróneas, a que nuestras mediciones son imprecisas o a que hay otros factores que afectan al martillo y que no hemos tenido en cuenta).\n",
    "\n",
    "Alguien estudió el vídeo y estimó que el martillo cayó a 113 cm de la superficie. Contando fotogramas en el vídeo, el martillo cae durante 1,2 segundos (36 fotogramas)."
   ]
  },
  {
   "cell_type": "markdown",
   "id": "de26d76c",
   "metadata": {
    "deletable": false,
    "editable": false
   },
   "source": [
    "**Pregunta 3.3.1.** Complete el código en la siguiente celda para completar los datos del experimento.\n",
    "\n",
    "*Pista:* No se requiere ningún cálculo; simplemente complete los datos del párrafo anterior. "
   ]
  },
  {
   "cell_type": "code",
   "execution_count": 23,
   "id": "25f0000c",
   "metadata": {
    "tags": []
   },
   "outputs": [
    {
     "data": {
      "text/plain": [
       "1.13"
      ]
     },
     "execution_count": 23,
     "metadata": {},
     "output_type": "execute_result"
    }
   ],
   "source": [
    "# t, la duración de la caída en el experimento, en segundos.\n",
    "# Complete esto.\n",
    "\n",
    "time = 1.2\n",
    "estimated_distance_m=1.13\n",
    "# La distancia estimada que realmente cayó el martillo, en metros.\n",
    "# Complete esto.\n",
    "estimated_distance_m"
   ]
  },
  {
   "cell_type": "code",
   "execution_count": 24,
   "id": "07323bec",
   "metadata": {
    "deletable": false,
    "editable": false
   },
   "outputs": [
    {
     "data": {
      "text/html": [
       "<p><strong><pre style='display: inline;'>q3_3_1</pre></strong> passed! ✨</p>"
      ],
      "text/plain": [
       "q3_3_1 results: All test cases passed!"
      ]
     },
     "execution_count": 24,
     "metadata": {},
     "output_type": "execute_result"
    }
   ],
   "source": [
    "grader.check(\"q3_3_1\")"
   ]
  },
  {
   "cell_type": "markdown",
   "id": "729ab9cc",
   "metadata": {
    "deletable": false,
    "editable": false
   },
   "source": [
    "**Pregunta 3.3.2.** Ahora, completa el código en la siguiente celda para calcular la diferencia entre las distancias previstas y estimadas (en metros) a las que cayó el martillo en este experimento.\n",
    "\n",
    "Esto solo significa traducir la fórmula anterior ($\\frac{1}{2}G\\frac{M}{R^2}t^2$) al código Python. Tendrás que reemplazar cada variable en la fórmula matemática con el nombre que le dimos a ese número en el código Python.\n",
    "\n",
    "*Pista:* Intente utilizar variables que ya definió en la pregunta 3.3.1"
   ]
  },
  {
   "cell_type": "code",
   "execution_count": 27,
   "id": "c91209b1",
   "metadata": {
    "tags": []
   },
   "outputs": [
    {
     "data": {
      "text/plain": [
       "0.040223694659304865"
      ]
     },
     "execution_count": 27,
     "metadata": {},
     "output_type": "execute_result"
    }
   ],
   "source": [
    "# Primero, hemos anotado los valores de las 3 constantes universales.\n",
    "# que aparecen en la fórmula de Newton.\n",
    "\n",
    "# G, la constante universal que mide la fuerza de la gravedad.\n",
    "gravity_constant = 6.674 * 10**-11\n",
    "\n",
    "# M, la masa de la luna, en kilogramos.\n",
    "moon_mass_kg = 7.34767309 * 10**22\n",
    "\n",
    "# R, el radio de la luna, en metros.\n",
    "moon_radius_m = 1.737 * 10**6\n",
    "\n",
    "\n",
    "# La distancia que debería haber caído el martillo\n",
    "# durante la duración de la caída, en metros,\n",
    "# según la ley de gravedad de Newton.\n",
    "# El texto de arriba describe la fórmula.\n",
    "# para esta distancia dada por la ley de Newton.\n",
    "# **USTED COMPLETA ESTA PARTE.**\n",
    "\n",
    "\n",
    "predicted_distance_m = 0.5 * gravity_constant * (moon_mass_kg / moon_radius_m**2) * 1.2**2\n",
    "\n",
    "# Aquí hemos calculado la diferencia.\n",
    "# entre la distancia de caída prevista y la distancia que realmente medimos.\n",
    "# Si ha completado el código anterior, esto debería funcionar.\n",
    "\n",
    "difference = predicted_distance_m - estimated_distance_m\n",
    "difference"
   ]
  },
  {
   "cell_type": "code",
   "execution_count": 28,
   "id": "e1c5d816",
   "metadata": {
    "deletable": false,
    "editable": false
   },
   "outputs": [
    {
     "data": {
      "text/html": [
       "<p><strong><pre style='display: inline;'>q3_3_2</pre></strong> passed! 🍀</p>"
      ],
      "text/plain": [
       "q3_3_2 results: All test cases passed!"
      ]
     },
     "execution_count": 28,
     "metadata": {},
     "output_type": "execute_result"
    }
   ],
   "source": [
    "grader.check(\"q3_3_2\")"
   ]
  },
  {
   "cell_type": "markdown",
   "id": "9885fdcb-9d67-45a1-845f-60a754aaf90e",
   "metadata": {},
   "source": [
    "## 4. Llamada a funciones\n",
    "\n",
    "La forma más común de combinar o manipular valores en Python es llamando funciones. Python viene con muchas funciones integradas que realizan operaciones comunes.\n",
    "\n",
    "Por ejemplo, la función `abs` toma un solo número como argumento y devuelve el valor absoluto de ese número. Ejecute las siguientes dos celdas y vea si comprende el resultado."
   ]
  },
  {
   "cell_type": "code",
   "execution_count": null,
   "id": "f7cd2ed7-ab80-423a-8d74-78cff8ade909",
   "metadata": {},
   "outputs": [],
   "source": [
    "abs(5)"
   ]
  },
  {
   "cell_type": "markdown",
   "id": "f773bd70-cb06-4616-816f-185f29d00279",
   "metadata": {},
   "source": [
    "## 4.1. Aplicación: Computación de distancias recorridas\n",
    "\n",
    "\n",
    "María está en la esquina de la Calle 52 con la Carrera 49 (Edificio Coltejer) en Medellín, y quiere saber hasta dónde tendría que caminar para llegar a la Placita de Flores en la esquina de la Carrera 39 con la Calle 50.\n",
    "\n",
    "No puede cortar bloques en diagonal, ya que hay edificios en el camino. Tiene que caminar por las aceras. Usando un mapa, ve que tendría que caminar 10 carreras (cuadras largas) y 2 calles (cuadras cortas). En términos de los números dados, el número  10 esta cálculado como la diferencia entre 49 y 39, en valor absoluto, y 2 de manera similar.\n",
    "\n",
    "María también sabe que las cuadras en Medellín miden aproximadamente 80 m (calles) por 80 m (carreras). Entonces, en total, tendría que caminar $(80 \\times |52 - 50| + 80 \\times |49 - 39|)$ metros para llegar a la Placita de Flores.\n",
    "\n",
    "\n",
    "<img src=\"https://github.com/CienciaDatosUdea/001_DataSetFundCienciaDatos/blob/main/semestre2024-2/lab/lab01/images/fig_02caminata.png?raw=true\"/>\n",
    "\n",
    "**Pregunta 4.1.1** Complete la línea `num_carreras = ...` en la siguiente celda para que la celda calcule la distancia que debe caminar María y le dé el nombre `distancia_medellin`. Todo lo demás ya lo hemos completado. **Utilice la función `abs`**. Además, asegúrese de ejecutar la celda de prueba después para probar su código."
   ]
  },
  {
   "cell_type": "markdown",
   "id": "70ac0943",
   "metadata": {
    "deletable": false,
    "editable": false
   },
   "source": [
    "**Pregunta 4.1.1.** Complete la línea `num_carreras = ...` en la siguiente celda para que calcule la distancia que debe caminar Maria, dale el nombre de `distancia_medellin`. Todo lo demás ya lo hemos completado. **Utilice la función `abs`.** Además, asegúrese de ejecutar la celda de prueba después para probar su código."
   ]
  },
  {
   "cell_type": "code",
   "execution_count": null,
   "id": "715ea123",
   "metadata": {
    "tags": []
   },
   "outputs": [],
   "source": [
    "\n",
    "carrera_inicial = 49\n",
    "calle_inicial = 52\n",
    "carrera_final = 39\n",
    "calle_final = 50\n",
    "\n",
    "distancia_calle = 80  #80m  aproximadamente \n",
    "distancia_carrera = 80  #80m aproximadamente \n",
    "\n",
    "# Cálculo de la distancia en cuadras\n",
    "num_calles = abs(calle_final - calle_inicial)\n",
    "num_carreras = ...\n",
    "\n",
    "# Cálculo de la distancia total en metros\n",
    "distancia_medellin = ...."
   ]
  },
  {
   "cell_type": "code",
   "execution_count": null,
   "id": "96f37eaa",
   "metadata": {
    "deletable": false,
    "editable": false
   },
   "outputs": [],
   "source": [
    "grader.check(\"q4_1_1\")"
   ]
  },
  {
   "cell_type": "markdown",
   "id": "16c33ef9-cef9-46b4-9abb-6bc45dfa4c4b",
   "metadata": {},
   "source": [
    "##### Múltiples argumentos\n",
    "Algunas funciones toman múltiples argumentos, separados por comas. Por ejemplo, la función incorporada `max` devuelve el argumento máximo que se le pasa."
   ]
  },
  {
   "cell_type": "code",
   "execution_count": null,
   "id": "91e162ee-2040-42d8-9c5c-6b552751846f",
   "metadata": {},
   "outputs": [],
   "source": [
    "max(2, -3, 4, -5)"
   ]
  },
  {
   "cell_type": "markdown",
   "id": "a6e259b7-0f8b-4b81-9e5b-b0e268f48423",
   "metadata": {},
   "source": [
    "# 5. Comprensión de las expresiones anidadas\n",
    "\n",
    "Las llamadas a funciones y las expresiones aritméticas pueden contener expresiones, como viste en la pregunta anterior:\n",
    "\n",
    "    num_calles = abs(calle_final - calle_inicial)\n",
    "\n",
    "que indica que ```num_calles = abs(39 - 49)```. Las expresiones anidadas pueden convertirse en código de apariencia  complicada. Sin embargo, la forma en que se descomponen las expresiones complicadas es muy regular.\n",
    "\n",
    "Supongamos que estamos interesados en longitudes de gatos que son muy inusuales(longitud desde la cabeza hasta la cola). Diremos que una longitud es inusual en la medida en que está muy alejada en la recta numérica de la longitud promedio de un gato. Una estimación de la longitud promedio de un gato (que esperamos que sea un promedio de todos los gatos de la Tierra hoy en día) es de **46.2cm**\n",
    "\n",
    "\n",
    "\n",
    "Entonces, si los gatos Savannah miden en promedio 55.7cm  de largo, entonces su longitud está a $|46.2 - 55.7|$, o $9.5$cm  de distancia del promedio. Aquí hay una foto de eso:\n",
    " \n",
    "<img src=\"Fig_04_Cat-Lengths.png\"/>\n",
    "\n",
    "La fuente de la longitud promedio de los gatos es [Wikipedia](https://en.wikipedia.org/wiki/Cat#:~:text=The%20domestic%20cat%20has%20a,(9%20and%2011%20lb). ).\n",
    "\n",
    "Y así es como escribiríamos esa expresión en una línea de código Python:"
   ]
  },
  {
   "cell_type": "code",
   "execution_count": null,
   "id": "56540a05-546a-4fad-a020-991b32327c23",
   "metadata": {},
   "outputs": [],
   "source": [
    "abs(55.7-46.2)"
   ]
  },
  {
   "cell_type": "markdown",
   "id": "b2b41ece-a9fb-41c5-92d0-643bf6fda5ba",
   "metadata": {},
   "source": [
    "¿Que está pasando aqui? `abs` toma solo un argumento, por lo que todo lo que está dentro del paréntesis es parte de ese *argumento único*. Específicamente, el argumento es el valor de la expresión `55.7 - 46.2`. El valor de esa expresión es \"3,5\". Ese valor es el argumento de \"abs\". El valor absoluto de eso es \"9.5\", por lo que \"9.5\" es el valor de la expresión completa `abs(55.7-46.2 )`.\n",
    "\n",
    "Imagen simplificando la expresión en varios pasos:\n",
    "\n",
    "1. `abs(55.7-46.2 )`\n",
    "2. `abs(9.5)`\n",
    "3. `9.5`\n",
    "\n",
    "Lo anterior, es lo que hace Python para calcular el valor de la expresión."
   ]
  },
  {
   "cell_type": "markdown",
   "id": "95197aa2-c155-4cbf-b565-6d1cc497378b",
   "metadata": {
    "deletable": false,
    "editable": false
   },
   "source": [
    "**Pregunta 5.1.** Supongamos  que la longitud de una raza particular de  gatos es de 42.8cm. En la siguiente celda, use la función \"abs\" para calcular el valor absoluto de la diferencia entre la longitud promedio del gato y esta raza particular. Asigne a ese valor el nombre `distancia_del_promedio_cm`."
   ]
  },
  {
   "cell_type": "code",
   "execution_count": null,
   "id": "60455329-4c92-4799-ab07-20e88d9d7eb5",
   "metadata": {
    "tags": []
   },
   "outputs": [],
   "source": [
    "\n",
    "distancia_del_promedio_cm = ...."
   ]
  },
  {
   "cell_type": "code",
   "execution_count": null,
   "id": "55fb2b1f",
   "metadata": {
    "deletable": false,
    "editable": false
   },
   "outputs": [],
   "source": [
    "grader.check(\"q51\")"
   ]
  },
  {
   "cell_type": "markdown",
   "id": "7bab9823",
   "metadata": {
    "deletable": false,
    "editable": false
   },
   "source": [
    "**Pregunta 5.1.1.** Dadas las longitudes de los gatos de Yanay, Hummus, Gatkes y Zeepty, escribe una expresión que calcule la diferencia más pequeña entre cualquiera de las tres longitudes. Su expresión no debe tener números, solo llamadas a funciones y los nombres \"hummus\", \"gatkes\" y \"zeepty\". Asigne al valor de su expresión el nombre `dif_de_longitud_min`.*"
   ]
  },
  {
   "cell_type": "code",
   "execution_count": null,
   "id": "ed79d61f",
   "metadata": {
    "tags": []
   },
   "outputs": [],
   "source": [
    "hummus =  24.5 # Hummus is 24.5 inches long\n",
    "gatkes = 19.7 # Gatkes is 19.7 inches long\n",
    "zeepty = 15.8 # Zeepty is 15.8 inches long\n",
    "\n",
    "\n",
    "dif_de_longitud_min = ..."
   ]
  },
  {
   "cell_type": "code",
   "execution_count": null,
   "id": "356c1438",
   "metadata": {
    "deletable": false,
    "editable": false
   },
   "outputs": [],
   "source": [
    "grader.check(\"q5_1_1\")"
   ]
  },
  {
   "cell_type": "markdown",
   "id": "9f846842-9aaf-4692-be47-ea6e9f0758ca",
   "metadata": {},
   "source": [
    "¡Ya terminaste con el Laboratorio 1!\n",
    "\n",
    "**Información sobre la entrega:** Asegúrese de correr todas las pruebas y verificar que se ejectuen correctamente. Aquí, seleccione **Guardar Notebook** En el menú de **Archivo** y **corra la  última celda**. Descargue el archivo .zip y el archivo con extensión .ipynb y subálo al enlace compartido en la página del curso para su entrega. El nombre de este laboratorio es \"lab 01 \". **Es su responsabilidad asegurarse que su trabajo se guarde antes de correr la última celda**.\n",
    "\n",
    "<!-- \n",
    "<img src=\"https://github.com/darioblandon/materials-fa23/blob/main/lab/lab01/gradescope.png?raw=1\">\n",
    " -->\n",
    "¡Dash quería felicitarte y darte la bienvenida al curso de  Fundamentos en ciencias de datos!\n",
    "<!-- \n",
    "<img src=\"dash.JPG\" alt=\"dibujo\" width=\"200\"/> -->\n",
    "\n",
    "<p><img alt=\"Colaborat\" style=\"height: 220px;\" src=\"Fig_05_Dash.jpg\" align=\"center\" hspace=\"10px\" vspace=\"0px\"></p>"
   ]
  },
  {
   "cell_type": "markdown",
   "id": "03ff7184",
   "metadata": {
    "deletable": false,
    "editable": false
   },
   "source": [
    "## Submission\n",
    "\n",
    "Make sure you have run all cells in your notebook in order before running the cell below, so that all images/graphs appear in the output. The cell below will generate a zip file for you to submit. **Please save before exporting!**\n",
    "\n",
    "These are some submission instructions."
   ]
  },
  {
   "cell_type": "code",
   "execution_count": 29,
   "id": "e8414501",
   "metadata": {
    "deletable": false,
    "editable": false
   },
   "outputs": [
    {
     "name": "stdout",
     "output_type": "stream",
     "text": [
      "Running your submission against local test cases...\n",
      "\n",
      "\n",
      "Your submission received the following results when run against available test cases:\n",
      "\n",
      "    qt results: All test cases passed!\n",
      "\n",
      "    q0 results: All test cases passed!\n",
      "\n",
      "    q2 results: All test cases passed!\n",
      "\n",
      "    q3_1_2 results: All test cases passed!\n",
      "\n",
      "    q3_3_1 results: All test cases passed!\n",
      "\n",
      "    q3_3_2 results: All test cases passed!\n",
      "\n",
      "    q4_1_1 results:\n",
      "        q4_1_1 - 1 result:\n",
      "            ❌ Test case failed\n",
      "            Trying:\n",
      "                assert isinstance(num_calles, int) == True\n",
      "            Expecting nothing\n",
      "            **********************************************************************\n",
      "            Line 1, in q4_1_1 0\n",
      "            Failed example:\n",
      "                assert isinstance(num_calles, int) == True\n",
      "            Exception raised:\n",
      "                Traceback (most recent call last):\n",
      "                  File \"/opt/conda/lib/python3.11/doctest.py\", line 1351, in __run\n",
      "                    exec(compile(example.source, filename, \"single\",\n",
      "                  File \"<doctest q4_1_1 0[0]>\", line 1, in <module>\n",
      "                    assert isinstance(num_calles, int) == True\n",
      "                                      ^^^^^^^^^^\n",
      "                NameError: name 'num_calles' is not defined\n",
      "            Trying:\n",
      "                assert isinstance(distancia_medellin, int) == True\n",
      "            Expecting nothing\n",
      "            **********************************************************************\n",
      "            Line 2, in q4_1_1 0\n",
      "            Failed example:\n",
      "                assert isinstance(distancia_medellin, int) == True\n",
      "            Exception raised:\n",
      "                Traceback (most recent call last):\n",
      "                  File \"/opt/conda/lib/python3.11/doctest.py\", line 1351, in __run\n",
      "                    exec(compile(example.source, filename, \"single\",\n",
      "                  File \"<doctest q4_1_1 0[1]>\", line 1, in <module>\n",
      "                    assert isinstance(distancia_medellin, int) == True\n",
      "                                      ^^^^^^^^^^^^^^^^^^\n",
      "                NameError: name 'distancia_medellin' is not defined\n",
      "\n",
      "        q4_1_1 - 2 result:\n",
      "            ❌ Test case failed\n",
      "            Trying:\n",
      "                assert np.isclose(num_carreras, 10, 0.01)\n",
      "            Expecting nothing\n",
      "            **********************************************************************\n",
      "            Line 1, in q4_1_1 1\n",
      "            Failed example:\n",
      "                assert np.isclose(num_carreras, 10, 0.01)\n",
      "            Exception raised:\n",
      "                Traceback (most recent call last):\n",
      "                  File \"/opt/conda/lib/python3.11/doctest.py\", line 1351, in __run\n",
      "                    exec(compile(example.source, filename, \"single\",\n",
      "                  File \"<doctest q4_1_1 1[0]>\", line 1, in <module>\n",
      "                    assert np.isclose(num_carreras, 10, 0.01)\n",
      "                                      ^^^^^^^^^^^^\n",
      "                NameError: name 'num_carreras' is not defined\n",
      "\n",
      "        q4_1_1 - 3 result:\n",
      "            ❌ Test case failed\n",
      "            Trying:\n",
      "                assert np.isclose(distancia_medellin, 960.0, 0.01)\n",
      "            Expecting nothing\n",
      "            **********************************************************************\n",
      "            Line 1, in q4_1_1 2\n",
      "            Failed example:\n",
      "                assert np.isclose(distancia_medellin, 960.0, 0.01)\n",
      "            Exception raised:\n",
      "                Traceback (most recent call last):\n",
      "                  File \"/opt/conda/lib/python3.11/doctest.py\", line 1351, in __run\n",
      "                    exec(compile(example.source, filename, \"single\",\n",
      "                  File \"<doctest q4_1_1 2[0]>\", line 1, in <module>\n",
      "                    assert np.isclose(distancia_medellin, 960.0, 0.01)\n",
      "                                      ^^^^^^^^^^^^^^^^^^\n",
      "                NameError: name 'distancia_medellin' is not defined\n",
      "\n",
      "    q51 results:\n",
      "        q51 - 1 result:\n",
      "            ❌ Test case failed\n",
      "            Trying:\n",
      "                assert isinstance(distancia_del_promedio_cm, float) == True\n",
      "            Expecting nothing\n",
      "            **********************************************************************\n",
      "            Line 1, in q51 0\n",
      "            Failed example:\n",
      "                assert isinstance(distancia_del_promedio_cm, float) == True\n",
      "            Exception raised:\n",
      "                Traceback (most recent call last):\n",
      "                  File \"/opt/conda/lib/python3.11/doctest.py\", line 1351, in __run\n",
      "                    exec(compile(example.source, filename, \"single\",\n",
      "                  File \"<doctest q51 0[0]>\", line 1, in <module>\n",
      "                    assert isinstance(distancia_del_promedio_cm, float) == True\n",
      "                                      ^^^^^^^^^^^^^^^^^^^^^^^^^\n",
      "                NameError: name 'distancia_del_promedio_cm' is not defined\n",
      "            Trying:\n",
      "                assert np.isclose(distancia_del_promedio_cm, abs(-3.4000000000000057), 0.002)\n",
      "            Expecting nothing\n",
      "            **********************************************************************\n",
      "            Line 2, in q51 0\n",
      "            Failed example:\n",
      "                assert np.isclose(distancia_del_promedio_cm, abs(-3.4000000000000057), 0.002)\n",
      "            Exception raised:\n",
      "                Traceback (most recent call last):\n",
      "                  File \"/opt/conda/lib/python3.11/doctest.py\", line 1351, in __run\n",
      "                    exec(compile(example.source, filename, \"single\",\n",
      "                  File \"<doctest q51 0[1]>\", line 1, in <module>\n",
      "                    assert np.isclose(distancia_del_promedio_cm, abs(-3.4000000000000057), 0.002)\n",
      "                                      ^^^^^^^^^^^^^^^^^^^^^^^^^\n",
      "                NameError: name 'distancia_del_promedio_cm' is not defined\n",
      "\n",
      "    q5_1_1 results:\n",
      "        q5_1_1 - 1 result:\n",
      "            ❌ Test case failed\n",
      "            Trying:\n",
      "                assert isinstance(dif_de_longitud_min, float) == True\n",
      "            Expecting nothing\n",
      "            **********************************************************************\n",
      "            Line 1, in q5_1_1 0\n",
      "            Failed example:\n",
      "                assert isinstance(dif_de_longitud_min, float) == True\n",
      "            Exception raised:\n",
      "                Traceback (most recent call last):\n",
      "                  File \"/opt/conda/lib/python3.11/doctest.py\", line 1351, in __run\n",
      "                    exec(compile(example.source, filename, \"single\",\n",
      "                  File \"<doctest q5_1_1 0[0]>\", line 1, in <module>\n",
      "                    assert isinstance(dif_de_longitud_min, float) == True\n",
      "                           ^^^^^^^^^^^^^^^^^^^^^^^^^^^^^^^^^^^^^^^^^^^^^^\n",
      "                AssertionError\n",
      "\n",
      "        q5_1_1 - 2 result:\n",
      "            ❌ Test case failed\n",
      "            Trying:\n",
      "                assert np.isclose(dif_de_longitud_min, 3.89, rtol=0.01) == True\n",
      "            Expecting nothing\n",
      "            **********************************************************************\n",
      "            Line 1, in q5_1_1 1\n",
      "            Failed example:\n",
      "                assert np.isclose(dif_de_longitud_min, 3.89, rtol=0.01) == True\n",
      "            Exception raised:\n",
      "                Traceback (most recent call last):\n",
      "                  File \"/opt/conda/lib/python3.11/doctest.py\", line 1351, in __run\n",
      "                    exec(compile(example.source, filename, \"single\",\n",
      "                  File \"<doctest q5_1_1 1[0]>\", line 1, in <module>\n",
      "                    assert np.isclose(dif_de_longitud_min, 3.89, rtol=0.01) == True\n",
      "                           ^^^^^^^^^^^^^^^^^^^^^^^^^^^^^^^^^^^^^^^^^^^^^^^^\n",
      "                  File \"<__array_function__ internals>\", line 200, in isclose\n",
      "                  File \"/opt/conda/lib/python3.11/site-packages/numpy/core/numeric.py\", line 2377, in isclose\n",
      "                    xfin = isfinite(x)\n",
      "                           ^^^^^^^^^^^\n",
      "                TypeError: ufunc 'isfinite' not supported for the input types, and the inputs could not be safely coerced to any supported types according to the casting rule ''safe''\n"
     ]
    },
    {
     "data": {
      "text/html": [
       "\n",
       "                    <p>\n",
       "                        Your submission has been exported. Click\n",
       "                        <a href=\"lab01_2025_04_25T20_37_20_462060.zip\" download=\"lab01_2025_04_25T20_37_20_462060.zip\" target=\"_blank\">here</a> to download\n",
       "                        the zip file.\n",
       "                    </p>\n",
       "                "
      ],
      "text/plain": [
       "<IPython.core.display.HTML object>"
      ]
     },
     "metadata": {},
     "output_type": "display_data"
    }
   ],
   "source": [
    "# Save your notebook first, then run this cell to export your submission.\n",
    "grader.export(run_tests=True)"
   ]
  },
  {
   "cell_type": "markdown",
   "id": "fd905935",
   "metadata": {},
   "source": [
    " "
   ]
  }
 ],
 "metadata": {
  "kernelspec": {
   "display_name": "Python 3 (ipykernel)",
   "language": "python",
   "name": "python3"
  },
  "language_info": {
   "codemirror_mode": {
    "name": "ipython",
    "version": 3
   },
   "file_extension": ".py",
   "mimetype": "text/x-python",
   "name": "python",
   "nbconvert_exporter": "python",
   "pygments_lexer": "ipython3",
   "version": "3.11.6"
  },
  "otter": {
   "OK_FORMAT": true,
   "assignment_name": "lab01",
   "tests": {
    "q0": {
     "name": "q0",
     "points": 0,
     "suites": [
      {
       "cases": [
        {
         "code": ">>> assert isinstance(secret_word, str)\n",
         "hidden": false,
         "locked": false
        },
        {
         "code": ">>> word = ['Bienvenida', 'Bienvenido']\n>>> assert secret_word in word\n",
         "hidden": false,
         "locked": false
        }
       ],
       "scored": true,
       "setup": "",
       "teardown": "",
       "type": "doctest"
      }
     ]
    },
    "q2": {
     "name": "q2",
     "points": 1,
     "suites": [
      {
       "cases": [
        {
         "code": ">>> assert isinstance(equation, (int, float))\n>>> assert np.isclose(equation / np.pi, 2024.0 / np.pi, 0.01)\n",
         "hidden": false,
         "locked": false
        }
       ],
       "scored": true,
       "setup": "",
       "teardown": "",
       "type": "doctest"
      }
     ]
    },
    "q3_1_2": {
     "name": "q3_1_2",
     "points": 1,
     "suites": [
      {
       "cases": [
        {
         "code": ">>> assert isinstance(segundos_en_una_decada, (int, float))\n>>> assert np.isclose(segundos_en_una_decada / np.pi, 315360002 / np.pi, 0.01)\n",
         "hidden": false,
         "locked": false
        }
       ],
       "scored": true,
       "setup": "",
       "teardown": "",
       "type": "doctest"
      }
     ]
    },
    "q3_3_1": {
     "name": "q3_3_1",
     "points": 1,
     "suites": [
      {
       "cases": [
        {
         "code": ">>> assert time != '....'\n",
         "hidden": false,
         "locked": false
        },
        {
         "code": ">>> assert isinstance(estimated_distance_m, float) == True\n",
         "hidden": false,
         "locked": false
        },
        {
         "code": ">>> assert np.isclose(estimated_distance_m, 1.13, rtol=100.0) == True\n",
         "hidden": false,
         "locked": false
        }
       ],
       "scored": true,
       "setup": "",
       "teardown": "",
       "type": "doctest"
      }
     ]
    },
    "q3_3_2": {
     "name": "q3_3_2",
     "points": 1,
     "suites": [
      {
       "cases": [
        {
         "code": ">>> assert predicted_distance_m != '....'\n",
         "hidden": false,
         "locked": false
        },
        {
         "code": ">>> assert isinstance(difference, float) == True\n",
         "hidden": false,
         "locked": false
        },
        {
         "code": ">>> import numpy as np\n>>> assert np.isclose(difference, 0.040223694659304865, rtol=0.01) == True\n",
         "hidden": false,
         "locked": false
        }
       ],
       "scored": true,
       "setup": "",
       "teardown": "",
       "type": "doctest"
      }
     ]
    },
    "q4_1_1": {
     "name": "q4_1_1",
     "points": 1,
     "suites": [
      {
       "cases": [
        {
         "code": ">>> assert isinstance(num_calles, int) == True\n>>> assert isinstance(distancia_medellin, int) == True\n",
         "hidden": false,
         "locked": false
        },
        {
         "code": ">>> assert np.isclose(num_carreras, 10, 0.01)\n",
         "hidden": false,
         "locked": false
        },
        {
         "code": ">>> assert np.isclose(distancia_medellin, 960.0, 0.01)\n",
         "hidden": false,
         "locked": false
        }
       ],
       "scored": true,
       "setup": "",
       "teardown": "",
       "type": "doctest"
      }
     ]
    },
    "q51": {
     "name": "q51",
     "points": 1,
     "suites": [
      {
       "cases": [
        {
         "code": ">>> assert isinstance(distancia_del_promedio_cm, float) == True\n>>> assert np.isclose(distancia_del_promedio_cm, abs(-3.4000000000000057), 0.002)\n",
         "hidden": false,
         "locked": false
        }
       ],
       "scored": true,
       "setup": "",
       "teardown": "",
       "type": "doctest"
      }
     ]
    },
    "q5_1_1": {
     "name": "q5_1_1",
     "points": 1,
     "suites": [
      {
       "cases": [
        {
         "code": ">>> assert isinstance(dif_de_longitud_min, float) == True\n",
         "hidden": false,
         "locked": false
        },
        {
         "code": ">>> assert np.isclose(dif_de_longitud_min, 3.89, rtol=0.01) == True\n",
         "hidden": false,
         "locked": false
        }
       ],
       "scored": true,
       "setup": "",
       "teardown": "",
       "type": "doctest"
      }
     ]
    },
    "qt": {
     "name": "qt",
     "points": 0,
     "suites": [
      {
       "cases": [
        {
         "code": ">>> assert isinstance(NombreApellidos, str)\n>>> assert isinstance(NumeroCarnet, str)\n>>> assert isinstance(Email, str)\n>>> assert len(NombreApellidos) > 3\n>>> assert len(NumeroCarnet) > 3\n>>> assert len(Email) > 3\n",
         "hidden": false,
         "locked": false
        }
       ],
       "scored": true,
       "setup": "",
       "teardown": "",
       "type": "doctest"
      }
     ]
    }
   }
  }
 },
 "nbformat": 4,
 "nbformat_minor": 5
}
