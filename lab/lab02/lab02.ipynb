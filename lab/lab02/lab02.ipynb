{
 "cells": [
  {
   "cell_type": "code",
   "execution_count": 1,
   "id": "de95d565",
   "metadata": {
    "deletable": false,
    "editable": false
   },
   "outputs": [],
   "source": [
    "# Initialize Otter\n",
    "import otter\n",
    "grader = otter.Notebook(\"lab02.ipynb\")"
   ]
  },
  {
   "cell_type": "markdown",
   "id": "b94c7e67",
   "metadata": {},
   "source": [
    "<!-- <a href=\"https://colab.research.google.com/github/develop_otter/material_20242/blob/main/lab/lab01/lab01_.ipynb\" target=\"_parent\"><img src=\"https://colab.research.google.com/assets/colab-badge.svg\" alt=\"Open In Colab\"/></a> -->"
   ]
  },
  {
   "cell_type": "code",
   "execution_count": 2,
   "id": "33b93643",
   "metadata": {},
   "outputs": [],
   "source": [
    "import otter\n",
    "import pandas as pd\n",
    "import numpy as np\n",
    "import matplotlib.pylab as plt\n",
    "from datascience import *\n",
    "%matplotlib inline"
   ]
  },
  {
   "cell_type": "markdown",
   "id": "qMi-y4rRUIBx",
   "metadata": {
    "id": "qMi-y4rRUIBx"
   },
   "source": [
    "<p><img alt=\"Colaborat\" style=\"height: 220px;\" src=\"Fig_01_Escudo-UdeA.png\" align=\"left\" hspace=\"10px\" vspace=\"0px\"></p>\n",
    "\n",
    "\n",
    "# Fundamentos en ciencias de datos\n",
    "\n",
    "\n",
    "## Laboratorio 2: Operaciones con tablas\n",
    "\n",
    "¡Bienvenidos al Laboratorio 2! Esta semana, aprenderemos cómo importar un módulo y prácticaremos operaciones con tablas. Algunas referencias estan dadas en el siguiente  [enlace](https://www.data8.org/fa23/reference/), el cual tiene información útil para este práctica de laboratorio.\n",
    "\n",
    "**Lectura recomendada**:\n",
    "  * [Introducción a las Tablas](https://www.inferentialthinking.com/chapters/03/4/Introduction_to_Tables)\n",
    "\n",
    "Como recordatorio, estas son las políticas para obtener una nota completa:\n",
    "\n",
    "1. Recuerden que  recibiran el 80% del laboratorio solo con **asistir** a la sección de los viernes laboratorio y lograr un progreso significativo en ```notebook de jupyter```.\n",
    "\n",
    "\n",
    "\n",
    "**Envío**: Una vez que haya terminado, ejecute todas las celdas además de la última, seleccione Archivo > Guardar cuaderno y luego ejecute la celda final. El resultado contendrá un archivo zip que podrá utilizar para enviarlo.\n",
    "\n",
    "Comencemos configurando las pruebas e importaciones ejecutando la siguiente celda."
   ]
  },
  {
   "cell_type": "markdown",
   "id": "a76a2919-e91f-4e84-b6ac-e6d18e5f47b8",
   "metadata": {
    "deletable": false,
    "editable": false
   },
   "source": [
    "<!-- BEGIN QUESTION -->\n",
    "\n",
    "Ingrese su nombre en la siguiente celda:\n",
    "```python\n",
    "Nombre = \"Ala Turing\"\n",
    "Carnet =  \"3.1421\"\n",
    "```"
   ]
  },
  {
   "cell_type": "code",
   "execution_count": 3,
   "id": "2e8ca429-44c7-4f45-8de2-88c5a5f18ec1",
   "metadata": {
    "deletable": false,
    "editable": false
   },
   "outputs": [],
   "source": [
    "Nombre = \"...\"\n",
    "Carnet = \"...\""
   ]
  },
  {
   "cell_type": "code",
   "execution_count": 4,
   "id": "20b9ddc2-cd9c-4d31-8b17-85800a8fbeb3",
   "metadata": {},
   "outputs": [],
   "source": [
    "Nombre = \"Gustavo Castrillon\"\n",
    "Carnet = \"666666666\""
   ]
  },
  {
   "cell_type": "code",
   "execution_count": 5,
   "id": "100c9bfe-421d-4e24-bd2a-5644f1b7b01b",
   "metadata": {},
   "outputs": [],
   "source": [
    "Nombre = \"Gustavo Castrillon\"\n",
    "Carnet = \"66666666666\""
   ]
  },
  {
   "cell_type": "markdown",
   "id": "b-j67N-IUIB1",
   "metadata": {
    "deletable": false,
    "editable": false,
    "id": "b-j67N-IUIB1"
   },
   "source": [
    "<!-- END QUESTION -->\n",
    "\n",
    "# 1. Revisión: Los componentes básicos del código Python\n",
    "\n",
    "Los dos bloques de construcción del código Python son *expresiones* y *declaraciones*. Una **expresión** es un fragmento de código que:\n",
    "\n",
    "-  Es autónomo, lo que significa que tendría sentido escribirlo en una línea por sí solo, y\n",
    "-  generalmente se evalúa como un valor.\n",
    "\n",
    "\n",
    "Aquí hay dos expresiones que se evalúan como 3:\n",
    "\n",
    "     3\n",
    "     5 - 2\n",
    "    \n",
    "Un tipo importante de expresión es : ```call expression``` en inglés o  **expresión de ejecución**. Una expresión de ejecución  se utilizan para describir la acción de llamar o invocar una función o método en programación,  comienza con el nombre de una función y va seguida de los argumentos de esa función entre paréntesis. La función devuelve algún valor, según sus argumentos. Algunas funciones matemáticas importantes se enumeran a continuación.\n",
    "\n",
    "| Función | Descripción |\n",
    "|----------|------------|\n",
    "| `abs` | Devuelve el valor absoluto de su argumento |\n",
    "| `max` | Devuelve el máximo de todos sus argumentos |\n",
    "| `min` | Devuelve el mínimo de todos sus argumentos |\n",
    "| `pow` | Eleva su primer argumento a la potencia de su segundo argumento |\n",
    "| `round` | Redondea su argumento al entero más cercano |\n",
    "\n",
    "Aquí hay dos expresiones de ejecución que se evalúan como 3:\n",
    "\n",
    "     abs(2 - 5)\n",
    "     max(round(2.8), min(pow(2, 10), -1 * pow(2, 10)))\n",
    "\n",
    "La expresión `2 - 5` y las dos llamadas de ejecuciones  anteriores,  son ejemplos de **expresiones compuestas**, lo que significa que en realidad son combinaciones de varias expresiones más pequeñas. `2 - 5` combina las expresiones `2` y `5` mediante resta. En este caso, `2` y `5` se denominan **subexpresiones** porque son expresiones que forman parte de una expresión más grande.\n",
    "\n",
    "Una **declaración** es una línea completa de código. Algunas declaraciones son sólo expresiones. Las expresiones enumeradas anteriormente son ejemplos.\n",
    "\n",
    "Otras declaraciones *hacen que algo suceda* en lugar de *tener un valor*. Por ejemplo, una **declaración de asignación** asigna un valor a un nombre.\n",
    "\n",
    "Una buena forma de pensar en esto es que estamos **evaluando el lado derecho** del signo igual y **asignándolo al lado izquierdo**. Aquí hay algunas declaraciones de asignación:\n",
    "    \n",
    "     altura = 1.3\n",
    "     num_cinco = abs(-5)\n",
    "     dif_altura_abs = abs(altura - 1.688)\n",
    "\n",
    "Una idea importante en programación es que se pueden construir cosas grandes e interesantes combinando muchas cosas simples y poco interesantes. La clave para comprender un código complicado es **dividirlo en sus componentes simples**\n",
    "\n",
    "Por ejemplo, suceden muchas operaciones en la última declaración como combinación operaciones más básicas. La siguiente  imagen describe mejor lo que está pasando (Notese que algunos nombres están en inglés,  para ir familiarizandose con algunos nombres que son de interés en python) \n",
    "\n",
    "<img src=\"Fig_02_Expresiones.png\">"
   ]
  },
  {
   "cell_type": "markdown",
   "id": "9a6e4db9",
   "metadata": {
    "deletable": false,
    "editable": false
   },
   "source": [
    "**Pregunta 1.1.** En la siguiente celda, asigne el nombre `nuevo_anio` al **número mayor** entre los dos números siguientes:\n",
    "\n",
    "-  el **valor absoluto** de $2^{6}-2^{11}-2^{5} - 8$, y\n",
    "-  $5 \\times 13 \\times 31 + 7$.\n",
    "\n",
    "Intente utilizar solo una declaración (una línea de código). Asegúrese de verificar su trabajo ejecutando la celda de prueba después."
   ]
  },
  {
   "cell_type": "code",
   "execution_count": 6,
   "id": "dd509e70",
   "metadata": {
    "tags": []
   },
   "outputs": [
    {
     "data": {
      "text/plain": [
       "2025"
      ]
     },
     "execution_count": 6,
     "metadata": {},
     "output_type": "execute_result"
    }
   ],
   "source": [
    "primer_valor = 2**6 - 2**11 - 2**5 - 9\n",
    "segundo_valor = 5*13*31 + 7\n",
    "nuevo_anio= max(abs(primer_valor),segundo_valor)\n",
    "nuevo_anio"
   ]
  },
  {
   "cell_type": "code",
   "execution_count": 7,
   "id": "0fe9627b",
   "metadata": {
    "deletable": false,
    "editable": false
   },
   "outputs": [
    {
     "data": {
      "text/html": [
       "<p><strong><pre style='display: inline;'>q11</pre></strong> passed! 🎉</p>"
      ],
      "text/plain": [
       "q11 results: All test cases passed!"
      ]
     },
     "execution_count": 7,
     "metadata": {},
     "output_type": "execute_result"
    }
   ],
   "source": [
    "grader.check(\"q11\")"
   ]
  },
  {
   "cell_type": "markdown",
   "id": "AtF2G0DdUIB4",
   "metadata": {
    "id": "AtF2G0DdUIB4"
   },
   "source": [
    "En el ejemplo anterior, creamos una sola línea de código porque solo involucra operaciones matemáticas. Sin embargo, las preguntas de programación más complicadas requerirán más pasos. No siempre es una buena idea agrupar estos pasos en una sola línea porque puede hacer que el código sea más difícil de leer y de depurar.\n",
    "\n",
    "Una buena práctica de programación implica dividir el código en pasos más pequeños y utilizar nombres apropiados. ¡Tendrás mucha práctica en el resto de este curso!"
   ]
  },
  {
   "cell_type": "markdown",
   "id": "Wpet8FHOUIB5",
   "metadata": {
    "id": "Wpet8FHOUIB5"
   },
   "source": [
    "# 2. Importación de código\n",
    "\n",
    "La mayor parte de la programación implica un trabajo muy similar al trabajo que se ha realizado antes. Dado que escribir código lleva mucho tiempo, es bueno confiar en el código publicado por otros cuando sea posible. En lugar de copiar y pegar, Python nos permite **importar módulos**. Un módulo es un archivo con código Python que tiene variables y funciones definidas. Al importar un módulo, podemos usar su código en nuestro propio cuaderno.\n",
    "\n",
    "Python incluye muchos módulos útiles que están a sólo una \"importación\" de distancia. Veremos el módulo \"math\" como primer ejemplo. El módulo \"math\" es extremadamente útil para calcular expresiones matemáticas en Python.\n",
    "\n",
    "Supongamos que queremos calcular con mucha precisión el área de un círculo A con un radio R de 5 metros. Para eso, necesitamos la constante $\\pi$, que es aproximadamente 3.14. Convenientemente, el módulo \"math\" tiene \"pi\" definido para nosotros. Ejecute la siguiente celda para importar el módulo matemático:\n",
    "\n",
    "\\begin{equation}\n",
    "A = \\pi R^2 = \\pi 5^2\\  \\text{m}^2\n",
    "\\end{equation}"
   ]
  },
  {
   "cell_type": "code",
   "execution_count": 8,
   "id": "0a7258a9",
   "metadata": {},
   "outputs": [
    {
     "data": {
      "text/plain": [
       "78.53981633974483"
      ]
     },
     "execution_count": 8,
     "metadata": {},
     "output_type": "execute_result"
    }
   ],
   "source": [
    "import math\n",
    "radio = 5\n",
    "area_del_circulo = radio**2 * math.pi\n",
    "area_del_circulo"
   ]
  },
  {
   "cell_type": "markdown",
   "id": "VR0qyxkKUIB6",
   "metadata": {
    "id": "VR0qyxkKUIB6"
   },
   "source": [
    "En el código anterior, la línea \"import math\" importa el módulo matemático. Esta declaración crea un módulo y luego asigna el nombre \"math\" a ese módulo. Ahora podemos acceder a cualquier variable o función definida en `math` escribiendo el nombre del módulo seguido de un punto, luego seguido del nombre de la variable o función que queremos.\n",
    "\n",
    "     <nombre del módulo>.<nombre>"
   ]
  },
  {
   "cell_type": "markdown",
   "id": "c51c8ba9",
   "metadata": {
    "deletable": false,
    "editable": false
   },
   "source": [
    "**Pregunta 2.1.** El módulo `math` también proporciona el nombre `e` para la base del logaritmo natural, que es aproximadamente 2.71. Calcule $e^{\\pi}-\\pi$, dándole el nombre `cerca_veinte`.\n",
    "\n",
    "*Recuerda: ¡También puedes acceder a `pi` desde el módulo `math`!*"
   ]
  },
  {
   "cell_type": "code",
   "execution_count": 9,
   "id": "8a8e942b",
   "metadata": {
    "tags": []
   },
   "outputs": [
    {
     "data": {
      "text/plain": [
       "19.99909997918947"
      ]
     },
     "execution_count": 9,
     "metadata": {},
     "output_type": "execute_result"
    }
   ],
   "source": [
    "from math import *\n",
    "cerca_veinte= math.e ** math.pi - math.pi \n",
    "cerca_veinte"
   ]
  },
  {
   "cell_type": "code",
   "execution_count": 10,
   "id": "72fdc742",
   "metadata": {
    "deletable": false,
    "editable": false
   },
   "outputs": [
    {
     "data": {
      "text/html": [
       "<p><strong><pre style='display: inline;'>q21</pre></strong> passed! 🚀</p>"
      ],
      "text/plain": [
       "q21 results: All test cases passed!"
      ]
     },
     "execution_count": 10,
     "metadata": {},
     "output_type": "execute_result"
    }
   ],
   "source": [
    "grader.check(\"q21\")"
   ]
  },
  {
   "cell_type": "markdown",
   "id": "WP6fv6QSUIB9",
   "metadata": {
    "id": "WP6fv6QSUIB9"
   },
   "source": [
    "## 2.1. Accediendo a funciones\n",
    "\n",
    "En la pregunta anterior, accedió a variables dentro del módulo \"math\".\n",
    "\n",
    "**Los módulos** también definen **funciones**. Por ejemplo, \"math\" proporciona la función \"floor\" que se utiliza en programación para redondear un número hacia abajo al entero más cercano. Habiendo importado ya \"math\", podemos escribir \"math.floor(7.5)\" para calcular el `floor` de 7.5 que es 7.\n",
    "\n",
    "**Pregunta 2.1.1.** Calcule el `floor` del número  $\\pi$ usando el módulo `math`. Asigne al resultado el nombre `floor_de_pi`."
   ]
  },
  {
   "cell_type": "code",
   "execution_count": 11,
   "id": "0d320b3a",
   "metadata": {
    "tags": []
   },
   "outputs": [
    {
     "data": {
      "text/plain": [
       "3"
      ]
     },
     "execution_count": 11,
     "metadata": {},
     "output_type": "execute_result"
    }
   ],
   "source": [
    "\n",
    "floor_de_pi=math.floor(math.pi)\n",
    "floor_de_pi"
   ]
  },
  {
   "cell_type": "code",
   "execution_count": 12,
   "id": "0d218dce",
   "metadata": {
    "deletable": false,
    "editable": false
   },
   "outputs": [
    {
     "data": {
      "text/html": [
       "<p><strong><pre style='display: inline;'>q211</pre></strong> passed! 🎉</p>"
      ],
      "text/plain": [
       "q211 results: All test cases passed!"
      ]
     },
     "execution_count": 12,
     "metadata": {},
     "output_type": "execute_result"
    }
   ],
   "source": [
    "grader.check(\"q211\")"
   ]
  },
  {
   "cell_type": "markdown",
   "id": "hZwiymnrUIB-",
   "metadata": {
    "id": "hZwiymnrUIB-"
   },
   "source": [
    "Para que tengas como referencia, a continuación se muestran algunos ejemplos más de funciones del módulo \"math\".\n",
    "\n",
    "Observe cómo diferentes funciones toman diferentes números de argumentos. A menudo, la [documentación](https://docs.python.org/3/library/math.html) del módulo proporcionará información sobre cuántos argumentos se requieren para cada función.\n",
    "\n",
    "*Sugerencia: si presiona `shift+tab` mientras está al lado de la llamada de función, aparecerá la documentación para esa función.*"
   ]
  },
  {
   "cell_type": "code",
   "execution_count": 13,
   "id": "4f71348b",
   "metadata": {},
   "outputs": [
    {
     "data": {
      "text/plain": [
       "3.0"
      ]
     },
     "execution_count": 13,
     "metadata": {},
     "output_type": "execute_result"
    }
   ],
   "source": [
    "# Calcular logaritmos (el logaritmo de 8 en base 2).\n",
    "# El resultado es 3 porque 2 elevado a 3 es 8.\n",
    "math.log(8, 2)"
   ]
  },
  {
   "cell_type": "code",
   "execution_count": 14,
   "id": "ff7d103c",
   "metadata": {},
   "outputs": [
    {
     "data": {
      "text/plain": [
       "2.23606797749979"
      ]
     },
     "execution_count": 14,
     "metadata": {},
     "output_type": "execute_result"
    }
   ],
   "source": [
    "# Calcular raíces cuadradas.\n",
    "math.sqrt(5)"
   ]
  },
  {
   "cell_type": "markdown",
   "id": "GFhHP38NUICA",
   "metadata": {
    "id": "GFhHP38NUICA"
   },
   "source": [
    "Hay varias formas de importar y acceder a código desde fuentes externas. El método que usamos anteriormente, `<importar>.<nombre_módulo>`, importa el módulo completo,  requiere que usemos `<nombre_módulo>.<nombre>` para acceder a su código.\n",
    "\n",
    "También podemos importar una constante o función específica en lugar del módulo completo. Tenga en cuenta que no es necesario utilizar el nombre del módulo de antemano para hacer referencia a ese valor en particular. Sin embargo, debe tener cuidado al reasignar los nombres de las constantes o funciones a otros valores."
   ]
  },
  {
   "cell_type": "code",
   "execution_count": 15,
   "id": "f632e790",
   "metadata": {},
   "outputs": [
    {
     "name": "stdout",
     "output_type": "stream",
     "text": [
      "-1.0\n"
     ]
    },
    {
     "data": {
      "text/plain": [
       "1.1447298858494002"
      ]
     },
     "execution_count": 15,
     "metadata": {},
     "output_type": "execute_result"
    }
   ],
   "source": [
    "# Importando solo cos y pi desde matemáticas.\n",
    "# No tenemos que usar \"matemáticas\" delante de cos o pi\n",
    "from math import cos, pi\n",
    "print(cos(pi))\n",
    "\n",
    "# Sin embargo, tenemos que usarlo delante de otras funciones matemáticas.\n",
    "math.log(pi)"
   ]
  },
  {
   "cell_type": "markdown",
   "id": "2oNPgEeoUICB",
   "metadata": {
    "id": "2oNPgEeoUICB"
   },
   "source": [
    "O podemos importar cada función y valor de todo el módulo."
   ]
  },
  {
   "cell_type": "code",
   "execution_count": 16,
   "id": "a7d5bc8b",
   "metadata": {},
   "outputs": [
    {
     "data": {
      "text/plain": [
       "1.1447298858494002"
      ]
     },
     "execution_count": 16,
     "metadata": {},
     "output_type": "execute_result"
    }
   ],
   "source": [
    "# Por último, podemos importar todo desde matemáticas usando el *\n",
    "# Una vez más, no tenemos que usar \"matemáticas\". antemano\n",
    "from math import *\n",
    "log(pi)"
   ]
  },
  {
   "cell_type": "markdown",
   "id": "e5ks-kyNUICC",
   "metadata": {
    "id": "e5ks-kyNUICC"
   },
   "source": [
    "No se preocupe demasiado por qué tipo de importación utilizar. A menudo es una elección de estilo de codificación que queda en manos de cada programador. En este curso, siempre importará los módulos necesarios cuando ejecute la celda de configuración (como la primera celda de código en esta práctica de laboratorio).\n",
    "\n",
    "¡Pasemos a practicar algunas de las operaciones en tablas que aprendiste en las clases!"
   ]
  },
  {
   "cell_type": "markdown",
   "id": "1kOBuv_2UICC",
   "metadata": {
    "id": "1kOBuv_2UICC"
   },
   "source": [
    "# 3. Operaciones con tablas.\n",
    "\n",
    "\n",
    "\n",
    "La tabla `Lab02_poblacion_proyeccion_201.csv` contiene datos sobre el estimado de la  población de las ciudades de Bogotá y Medellín  desde 2018-2035 a nivel de comunas y corregimientos, estimados a junio 30 de cada año, con ultima actualizacion al 2024-07-25 (según los [datos abiertos de medellin](https://www.medellin.gov.co/geomedellin/datosAbiertos/263) y [dane](https://www.dane.gov.co/index.php/estadisticas-por-tema/demografia-y-poblacion/proyecciones-de-poblacion/proyecciones-de-poblacion-bogota))\n",
    "\n",
    "\n",
    "Ejecute la siguiente celda para cargar la tabla `poblacion`. No habrá resultados; no se espera ningún resultado ya que la celda contiene una declaración de asignación. Una declaración de asignación no produce ningún resultado (no produce ningún valor).\n"
   ]
  },
  {
   "cell_type": "code",
   "execution_count": 17,
   "id": "bf4c360c-ccc4-4580-b39d-0948f7e1acb1",
   "metadata": {},
   "outputs": [
    {
     "data": {
      "text/html": [
       "<table border=\"1\" class=\"dataframe\">\n",
       "    <thead>\n",
       "        <tr>\n",
       "            <th>Unnamed: 0</th> <th>LOCALIDAD</th> <th>Ciudad</th> <th>LATITUD</th> <th>LONGITUD</th> <th>2018</th> <th>2019</th> <th>2020</th> <th>2021</th> <th>2022</th> <th>2023</th> <th>2024</th> <th>2025</th> <th>2026</th> <th>2027</th> <th>2028</th> <th>2029</th> <th>2030</th> <th>2031</th> <th>2032</th> <th>2033</th> <th>2034</th> <th>2035</th>\n",
       "        </tr>\n",
       "    </thead>\n",
       "    <tbody>\n",
       "        <tr>\n",
       "            <td>0         </td> <td>Popular        </td> <td>Medellín</td> <td>6.29334</td> <td>-75.5448</td> <td>136986</td> <td>140218</td> <td>143039</td> <td>145235</td> <td>147382</td> <td>149586</td> <td>152365</td> <td>154823</td> <td>157097</td> <td>159185</td> <td>161056</td> <td>162647</td> <td>164029</td> <td>nan </td> <td>nan </td> <td>nan </td> <td>nan </td> <td>nan </td>\n",
       "        </tr>\n",
       "        <tr>\n",
       "            <td>1         </td> <td>Santa Cruz     </td> <td>Medellín</td> <td>6.29696</td> <td>-75.5549</td> <td>113064</td> <td>115588</td> <td>117744</td> <td>119374</td> <td>120959</td> <td>122573</td> <td>124610</td> <td>126425</td> <td>128072</td> <td>129542</td> <td>130835</td> <td>131961</td> <td>132892</td> <td>nan </td> <td>nan </td> <td>nan </td> <td>nan </td> <td>nan </td>\n",
       "        </tr>\n",
       "        <tr>\n",
       "            <td>2         </td> <td>Manrique       </td> <td>Medellín</td> <td>6.27506</td> <td>-75.5459</td> <td>164858</td> <td>168724</td> <td>172090</td> <td>174692</td> <td>177232</td> <td>179793</td> <td>182988</td> <td>185895</td> <td>188577</td> <td>190985</td> <td>193138</td> <td>195105</td> <td>196795</td> <td>nan </td> <td>nan </td> <td>nan </td> <td>nan </td> <td>nan </td>\n",
       "        </tr>\n",
       "        <tr>\n",
       "            <td>3         </td> <td>Aranjuez       </td> <td>Medellín</td> <td>6.27772</td> <td>-75.5626</td> <td>141312</td> <td>142990</td> <td>144233</td> <td>144815</td> <td>145325</td> <td>145837</td> <td>146611</td> <td>147250</td> <td>147680</td> <td>147905</td> <td>147885</td> <td>147721</td> <td>147337</td> <td>nan </td> <td>nan </td> <td>nan </td> <td>nan </td> <td>nan </td>\n",
       "        </tr>\n",
       "        <tr>\n",
       "            <td>4         </td> <td>Castilla       </td> <td>Medellín</td> <td>6.2937 </td> <td>-75.5683</td> <td>123992</td> <td>125276</td> <td>126200</td> <td>126587</td> <td>126939</td> <td>127289</td> <td>127722</td> <td>128067</td> <td>128261</td> <td>128292</td> <td>128147</td> <td>127765</td> <td>127202</td> <td>nan </td> <td>nan </td> <td>nan </td> <td>nan </td> <td>nan </td>\n",
       "        </tr>\n",
       "        <tr>\n",
       "            <td>5         </td> <td>Doce de Octubre</td> <td>Medellín</td> <td>6.29756</td> <td>-75.5776</td> <td>177190</td> <td>179493</td> <td>181235</td> <td>182165</td> <td>183012</td> <td>183889</td> <td>185191</td> <td>186227</td> <td>187015</td> <td>187521</td> <td>187763</td> <td>187738</td> <td>187428</td> <td>nan </td> <td>nan </td> <td>nan </td> <td>nan </td> <td>nan </td>\n",
       "        </tr>\n",
       "        <tr>\n",
       "            <td>6         </td> <td>Robledo        </td> <td>Medellín</td> <td>6.27907</td> <td>-75.5888</td> <td>189238</td> <td>194042</td> <td>198274</td> <td>201656</td> <td>204954</td> <td>208305</td> <td>212453</td> <td>216194</td> <td>219669</td> <td>222840</td> <td>225717</td> <td>228344</td> <td>230614</td> <td>nan </td> <td>nan </td> <td>nan </td> <td>nan </td> <td>nan </td>\n",
       "        </tr>\n",
       "        <tr>\n",
       "            <td>7         </td> <td>Villa Hermosa  </td> <td>Medellín</td> <td>6.25853</td> <td>-75.5513</td> <td>153216</td> <td>157668</td> <td>161728</td> <td>165061</td> <td>168399</td> <td>171776</td> <td>175756</td> <td>179508</td> <td>183078</td> <td>186425</td> <td>189545</td> <td>192463</td> <td>195149</td> <td>nan </td> <td>nan </td> <td>nan </td> <td>nan </td> <td>nan </td>\n",
       "        </tr>\n",
       "        <tr>\n",
       "            <td>8         </td> <td>Buenos Aires   </td> <td>Medellín</td> <td>6.24379</td> <td>-75.5568</td> <td>155391</td> <td>160045</td> <td>164279</td> <td>167860</td> <td>171416</td> <td>175014</td> <td>179159</td> <td>183086</td> <td>186832</td> <td>190341</td> <td>193632</td> <td>196755</td> <td>199606</td> <td>nan </td> <td>nan </td> <td>nan </td> <td>nan </td> <td>nan </td>\n",
       "        </tr>\n",
       "        <tr>\n",
       "            <td>9         </td> <td>La Candelaria  </td> <td>Medellín</td> <td>6.2501 </td> <td>-75.568 </td> <td>75913 </td> <td>77053 </td> <td>77926 </td> <td>78478 </td> <td>78937 </td> <td>79404 </td> <td>79892 </td> <td>80444 </td> <td>80892 </td> <td>81199 </td> <td>81409 </td> <td>81582 </td> <td>81671 </td> <td>nan </td> <td>nan </td> <td>nan </td> <td>nan </td> <td>nan </td>\n",
       "        </tr>\n",
       "    </tbody>\n",
       "</table>\n",
       "<p>... (31 rows omitted)</p>"
      ],
      "text/plain": [
       "Unnamed: 0 | LOCALIDAD       | Ciudad   | LATITUD | LONGITUD | 2018   | 2019   | 2020   | 2021   | 2022   | 2023   | 2024   | 2025   | 2026   | 2027   | 2028   | 2029   | 2030   | 2031 | 2032 | 2033 | 2034 | 2035\n",
       "0          | Popular         | Medellín | 6.29334 | -75.5448 | 136986 | 140218 | 143039 | 145235 | 147382 | 149586 | 152365 | 154823 | 157097 | 159185 | 161056 | 162647 | 164029 | nan  | nan  | nan  | nan  | nan\n",
       "1          | Santa Cruz      | Medellín | 6.29696 | -75.5549 | 113064 | 115588 | 117744 | 119374 | 120959 | 122573 | 124610 | 126425 | 128072 | 129542 | 130835 | 131961 | 132892 | nan  | nan  | nan  | nan  | nan\n",
       "2          | Manrique        | Medellín | 6.27506 | -75.5459 | 164858 | 168724 | 172090 | 174692 | 177232 | 179793 | 182988 | 185895 | 188577 | 190985 | 193138 | 195105 | 196795 | nan  | nan  | nan  | nan  | nan\n",
       "3          | Aranjuez        | Medellín | 6.27772 | -75.5626 | 141312 | 142990 | 144233 | 144815 | 145325 | 145837 | 146611 | 147250 | 147680 | 147905 | 147885 | 147721 | 147337 | nan  | nan  | nan  | nan  | nan\n",
       "4          | Castilla        | Medellín | 6.2937  | -75.5683 | 123992 | 125276 | 126200 | 126587 | 126939 | 127289 | 127722 | 128067 | 128261 | 128292 | 128147 | 127765 | 127202 | nan  | nan  | nan  | nan  | nan\n",
       "5          | Doce de Octubre | Medellín | 6.29756 | -75.5776 | 177190 | 179493 | 181235 | 182165 | 183012 | 183889 | 185191 | 186227 | 187015 | 187521 | 187763 | 187738 | 187428 | nan  | nan  | nan  | nan  | nan\n",
       "6          | Robledo         | Medellín | 6.27907 | -75.5888 | 189238 | 194042 | 198274 | 201656 | 204954 | 208305 | 212453 | 216194 | 219669 | 222840 | 225717 | 228344 | 230614 | nan  | nan  | nan  | nan  | nan\n",
       "7          | Villa Hermosa   | Medellín | 6.25853 | -75.5513 | 153216 | 157668 | 161728 | 165061 | 168399 | 171776 | 175756 | 179508 | 183078 | 186425 | 189545 | 192463 | 195149 | nan  | nan  | nan  | nan  | nan\n",
       "8          | Buenos Aires    | Medellín | 6.24379 | -75.5568 | 155391 | 160045 | 164279 | 167860 | 171416 | 175014 | 179159 | 183086 | 186832 | 190341 | 193632 | 196755 | 199606 | nan  | nan  | nan  | nan  | nan\n",
       "9          | La Candelaria   | Medellín | 6.2501  | -75.568  | 75913  | 77053  | 77926  | 78478  | 78937  | 79404  | 79892  | 80444  | 80892  | 81199  | 81409  | 81582  | 81671  | nan  | nan  | nan  | nan  | nan\n",
       "... (31 rows omitted)"
      ]
     },
     "execution_count": 17,
     "metadata": {},
     "output_type": "execute_result"
    }
   ],
   "source": [
    "datos = Table.read_table('Lab02_poblacion_proyeccion_201.csv')\n",
    "datos"
   ]
  },
  {
   "cell_type": "code",
   "execution_count": 18,
   "id": "27d89222",
   "metadata": {},
   "outputs": [],
   "source": [
    "# Simplemente ejecuta esta celda\n",
    "poblacion = Table.read_table('Lab02_poblacion_proyeccion_201.csv')"
   ]
  },
  {
   "cell_type": "markdown",
   "id": "dffa8302",
   "metadata": {},
   "source": [
    "Examinemos nuestra tabla para ver qué datos contiene.\n",
    "\n",
    "**Pregunta 3.1.** Utilice el método `show` para mostrar las primeras 5 filas de `poblacion`.\n",
    "\n",
    "*Nota:* Los términos \"método\" y \"función\" técnicamente no son lo mismo, pero para los propósitos de este curso, los usaremos indistintamente.\n",
    "\n",
    "**Pista:** `tbl.show(3)` mostrará las primeras 3 filas de la tabla denominada `tbl`. Además, asegúrese de no llamar a `.show()` sin un argumento, ya que esto bloqueará su kernel.\n"
   ]
  },
  {
   "cell_type": "code",
   "execution_count": 19,
   "id": "76a50cda-25fb-4a9e-8122-a2ae26566bb8",
   "metadata": {},
   "outputs": [
    {
     "data": {
      "text/html": [
       "<table border=\"1\" class=\"dataframe\">\n",
       "    <thead>\n",
       "        <tr>\n",
       "            <th>Unnamed: 0</th> <th>LOCALIDAD</th> <th>Ciudad</th> <th>LATITUD</th> <th>LONGITUD</th> <th>2018</th> <th>2019</th> <th>2020</th> <th>2021</th> <th>2022</th> <th>2023</th> <th>2024</th> <th>2025</th> <th>2026</th> <th>2027</th> <th>2028</th> <th>2029</th> <th>2030</th> <th>2031</th> <th>2032</th> <th>2033</th> <th>2034</th> <th>2035</th>\n",
       "        </tr>\n",
       "    </thead>\n",
       "    <tbody>\n",
       "        <tr>\n",
       "            <td>0         </td> <td>Popular   </td> <td>Medellín</td> <td>6.29334</td> <td>-75.5448</td> <td>136986</td> <td>140218</td> <td>143039</td> <td>145235</td> <td>147382</td> <td>149586</td> <td>152365</td> <td>154823</td> <td>157097</td> <td>159185</td> <td>161056</td> <td>162647</td> <td>164029</td> <td>nan </td> <td>nan </td> <td>nan </td> <td>nan </td> <td>nan </td>\n",
       "        </tr>\n",
       "        <tr>\n",
       "            <td>1         </td> <td>Santa Cruz</td> <td>Medellín</td> <td>6.29696</td> <td>-75.5549</td> <td>113064</td> <td>115588</td> <td>117744</td> <td>119374</td> <td>120959</td> <td>122573</td> <td>124610</td> <td>126425</td> <td>128072</td> <td>129542</td> <td>130835</td> <td>131961</td> <td>132892</td> <td>nan </td> <td>nan </td> <td>nan </td> <td>nan </td> <td>nan </td>\n",
       "        </tr>\n",
       "        <tr>\n",
       "            <td>2         </td> <td>Manrique  </td> <td>Medellín</td> <td>6.27506</td> <td>-75.5459</td> <td>164858</td> <td>168724</td> <td>172090</td> <td>174692</td> <td>177232</td> <td>179793</td> <td>182988</td> <td>185895</td> <td>188577</td> <td>190985</td> <td>193138</td> <td>195105</td> <td>196795</td> <td>nan </td> <td>nan </td> <td>nan </td> <td>nan </td> <td>nan </td>\n",
       "        </tr>\n",
       "        <tr>\n",
       "            <td>3         </td> <td>Aranjuez  </td> <td>Medellín</td> <td>6.27772</td> <td>-75.5626</td> <td>141312</td> <td>142990</td> <td>144233</td> <td>144815</td> <td>145325</td> <td>145837</td> <td>146611</td> <td>147250</td> <td>147680</td> <td>147905</td> <td>147885</td> <td>147721</td> <td>147337</td> <td>nan </td> <td>nan </td> <td>nan </td> <td>nan </td> <td>nan </td>\n",
       "        </tr>\n",
       "        <tr>\n",
       "            <td>4         </td> <td>Castilla  </td> <td>Medellín</td> <td>6.2937 </td> <td>-75.5683</td> <td>123992</td> <td>125276</td> <td>126200</td> <td>126587</td> <td>126939</td> <td>127289</td> <td>127722</td> <td>128067</td> <td>128261</td> <td>128292</td> <td>128147</td> <td>127765</td> <td>127202</td> <td>nan </td> <td>nan </td> <td>nan </td> <td>nan </td> <td>nan </td>\n",
       "        </tr>\n",
       "    </tbody>\n",
       "</table>\n",
       "<p>... (36 rows omitted)</p>"
      ],
      "text/plain": [
       "<IPython.core.display.HTML object>"
      ]
     },
     "metadata": {},
     "output_type": "display_data"
    }
   ],
   "source": [
    "poblacion.show(5)"
   ]
  },
  {
   "cell_type": "markdown",
   "id": "wwr6JkbPUICD",
   "metadata": {
    "id": "wwr6JkbPUICD"
   },
   "source": [
    "Observe que faltan algunos de los valores en esta tabla, como se indica con \"nan\". Esto significa que el valor no está disponible o no es aplicable (como es el caso de las últimas columnas de la tabla), eso no significa que todas la columnas tengan valores \"nan\". ¡Note también la cantidad de filas y columna en el `dataset`!\n",
    "\n",
    "### Número de columnas:  `num_columns `\n",
    "\n",
    "La propiedad de la tabla `num_columns` devuelve el número de columnas de una tabla. (Una \"propiedad\" es solo un método al que no es necesario llamar agregando paréntesis).\n",
    "\n",
    "Llamada de ejemplo: `tbl.num_columns` devolverá el número de columnas en una tabla llamada `tbl`\n",
    "\n",
    "**Pregunta 3.2.** Utilice `num_columns` para encontrar el número de columnas en nuestro conjunto de datos de mercados de agricultores.\n",
    "\n",
    "Asigne el número de columnas a `poblacion_columns`.\n"
   ]
  },
  {
   "cell_type": "code",
   "execution_count": 20,
   "id": "f4b2f80b",
   "metadata": {
    "scrolled": true,
    "tags": []
   },
   "outputs": [
    {
     "name": "stdout",
     "output_type": "stream",
     "text": [
      "La tabla tiene  23 columnas!\n"
     ]
    }
   ],
   "source": [
    "\n",
    "poblacion_columns= poblacion.num_columns\n",
    "print(\"La tabla tiene \", poblacion_columns, \"columnas!\")"
   ]
  },
  {
   "cell_type": "code",
   "execution_count": 21,
   "id": "26bea6d3",
   "metadata": {
    "deletable": false,
    "editable": false
   },
   "outputs": [
    {
     "data": {
      "text/html": [
       "<p><strong><pre style='display: inline;'>q32</pre></strong> passed! 💯</p>"
      ],
      "text/plain": [
       "q32 results: All test cases passed!"
      ]
     },
     "execution_count": 21,
     "metadata": {},
     "output_type": "execute_result"
    }
   ],
   "source": [
    "grader.check(\"q32\")"
   ]
  },
  {
   "cell_type": "markdown",
   "id": "RR3FoqiEUICF",
   "metadata": {
    "id": "RR3FoqiEUICF"
   },
   "source": [
    "### Número de filas:  `num_rows`\n",
    "\n",
    "De manera similar, la propiedad `num_rows` te indica cuántas filas hay en una tabla."
   ]
  },
  {
   "cell_type": "code",
   "execution_count": 22,
   "id": "737df7e0",
   "metadata": {},
   "outputs": [
    {
     "name": "stdout",
     "output_type": "stream",
     "text": [
      "la tabla tiene 41 filas!\n"
     ]
    }
   ],
   "source": [
    "# Ejecuta la siguiente celda\n",
    "poblacion_rows = poblacion.num_rows\n",
    "print(\"la tabla tiene\", poblacion_rows, \"filas!\")"
   ]
  },
  {
   "cell_type": "markdown",
   "id": "afb36a31",
   "metadata": {},
   "source": [
    "La tabla anterior solo tiene 41 filas o registros, sin embargo,  el potencial de trabajar desde python es que podemos procesar muchos más datos como lo veremos más adelante en el curso. la cantidad de datos que podemos procesar, depende de nuestra capacidad de memoria y disco duro, tu servidor actual cuenta con: 2Gb Ram y 10 Gb de disco duro.\n",
    "\n",
    "\n",
    "`Nota`: Es importante que poco a poco, se vaya  familarizando con las palabras del inglés, por ejemplo, rows y columns traducen como filas y columnas. Toda la sintaxis de python y sus librerias debe ser escrito en el lenguaje estricto de python, a diferencia de las variables o expresiones que tu puedes crear con el nombre que desees."
   ]
  },
  {
   "cell_type": "code",
   "execution_count": 23,
   "id": "30365ce4",
   "metadata": {},
   "outputs": [
    {
     "data": {
      "text/html": [
       "<table border=\"1\" class=\"dataframe\">\n",
       "    <thead>\n",
       "        <tr>\n",
       "            <th>Unnamed: 0</th> <th>LOCALIDAD</th> <th>Ciudad</th> <th>LATITUD</th> <th>LONGITUD</th> <th>2018</th> <th>2019</th> <th>2020</th> <th>2021</th> <th>2022</th> <th>2023</th> <th>2024</th> <th>2025</th> <th>2026</th> <th>2027</th> <th>2028</th> <th>2029</th> <th>2030</th> <th>2031</th> <th>2032</th> <th>2033</th> <th>2034</th> <th>2035</th>\n",
       "        </tr>\n",
       "    </thead>\n",
       "    <tbody>\n",
       "        <tr>\n",
       "            <td>0         </td> <td>Popular        </td> <td>Medellín</td> <td>6.29334</td> <td>-75.5448</td> <td>136986</td> <td>140218</td> <td>143039</td> <td>145235</td> <td>147382</td> <td>149586</td> <td>152365</td> <td>154823</td> <td>157097</td> <td>159185</td> <td>161056</td> <td>162647</td> <td>164029</td> <td>nan </td> <td>nan </td> <td>nan </td> <td>nan </td> <td>nan </td>\n",
       "        </tr>\n",
       "        <tr>\n",
       "            <td>1         </td> <td>Santa Cruz     </td> <td>Medellín</td> <td>6.29696</td> <td>-75.5549</td> <td>113064</td> <td>115588</td> <td>117744</td> <td>119374</td> <td>120959</td> <td>122573</td> <td>124610</td> <td>126425</td> <td>128072</td> <td>129542</td> <td>130835</td> <td>131961</td> <td>132892</td> <td>nan </td> <td>nan </td> <td>nan </td> <td>nan </td> <td>nan </td>\n",
       "        </tr>\n",
       "        <tr>\n",
       "            <td>2         </td> <td>Manrique       </td> <td>Medellín</td> <td>6.27506</td> <td>-75.5459</td> <td>164858</td> <td>168724</td> <td>172090</td> <td>174692</td> <td>177232</td> <td>179793</td> <td>182988</td> <td>185895</td> <td>188577</td> <td>190985</td> <td>193138</td> <td>195105</td> <td>196795</td> <td>nan </td> <td>nan </td> <td>nan </td> <td>nan </td> <td>nan </td>\n",
       "        </tr>\n",
       "        <tr>\n",
       "            <td>3         </td> <td>Aranjuez       </td> <td>Medellín</td> <td>6.27772</td> <td>-75.5626</td> <td>141312</td> <td>142990</td> <td>144233</td> <td>144815</td> <td>145325</td> <td>145837</td> <td>146611</td> <td>147250</td> <td>147680</td> <td>147905</td> <td>147885</td> <td>147721</td> <td>147337</td> <td>nan </td> <td>nan </td> <td>nan </td> <td>nan </td> <td>nan </td>\n",
       "        </tr>\n",
       "        <tr>\n",
       "            <td>4         </td> <td>Castilla       </td> <td>Medellín</td> <td>6.2937 </td> <td>-75.5683</td> <td>123992</td> <td>125276</td> <td>126200</td> <td>126587</td> <td>126939</td> <td>127289</td> <td>127722</td> <td>128067</td> <td>128261</td> <td>128292</td> <td>128147</td> <td>127765</td> <td>127202</td> <td>nan </td> <td>nan </td> <td>nan </td> <td>nan </td> <td>nan </td>\n",
       "        </tr>\n",
       "        <tr>\n",
       "            <td>5         </td> <td>Doce de Octubre</td> <td>Medellín</td> <td>6.29756</td> <td>-75.5776</td> <td>177190</td> <td>179493</td> <td>181235</td> <td>182165</td> <td>183012</td> <td>183889</td> <td>185191</td> <td>186227</td> <td>187015</td> <td>187521</td> <td>187763</td> <td>187738</td> <td>187428</td> <td>nan </td> <td>nan </td> <td>nan </td> <td>nan </td> <td>nan </td>\n",
       "        </tr>\n",
       "        <tr>\n",
       "            <td>6         </td> <td>Robledo        </td> <td>Medellín</td> <td>6.27907</td> <td>-75.5888</td> <td>189238</td> <td>194042</td> <td>198274</td> <td>201656</td> <td>204954</td> <td>208305</td> <td>212453</td> <td>216194</td> <td>219669</td> <td>222840</td> <td>225717</td> <td>228344</td> <td>230614</td> <td>nan </td> <td>nan </td> <td>nan </td> <td>nan </td> <td>nan </td>\n",
       "        </tr>\n",
       "        <tr>\n",
       "            <td>7         </td> <td>Villa Hermosa  </td> <td>Medellín</td> <td>6.25853</td> <td>-75.5513</td> <td>153216</td> <td>157668</td> <td>161728</td> <td>165061</td> <td>168399</td> <td>171776</td> <td>175756</td> <td>179508</td> <td>183078</td> <td>186425</td> <td>189545</td> <td>192463</td> <td>195149</td> <td>nan </td> <td>nan </td> <td>nan </td> <td>nan </td> <td>nan </td>\n",
       "        </tr>\n",
       "        <tr>\n",
       "            <td>8         </td> <td>Buenos Aires   </td> <td>Medellín</td> <td>6.24379</td> <td>-75.5568</td> <td>155391</td> <td>160045</td> <td>164279</td> <td>167860</td> <td>171416</td> <td>175014</td> <td>179159</td> <td>183086</td> <td>186832</td> <td>190341</td> <td>193632</td> <td>196755</td> <td>199606</td> <td>nan </td> <td>nan </td> <td>nan </td> <td>nan </td> <td>nan </td>\n",
       "        </tr>\n",
       "        <tr>\n",
       "            <td>9         </td> <td>La Candelaria  </td> <td>Medellín</td> <td>6.2501 </td> <td>-75.568 </td> <td>75913 </td> <td>77053 </td> <td>77926 </td> <td>78478 </td> <td>78937 </td> <td>79404 </td> <td>79892 </td> <td>80444 </td> <td>80892 </td> <td>81199 </td> <td>81409 </td> <td>81582 </td> <td>81671 </td> <td>nan </td> <td>nan </td> <td>nan </td> <td>nan </td> <td>nan </td>\n",
       "        </tr>\n",
       "    </tbody>\n",
       "</table>\n",
       "<p>... (31 rows omitted)</p>"
      ],
      "text/plain": [
       "Unnamed: 0 | LOCALIDAD       | Ciudad   | LATITUD | LONGITUD | 2018   | 2019   | 2020   | 2021   | 2022   | 2023   | 2024   | 2025   | 2026   | 2027   | 2028   | 2029   | 2030   | 2031 | 2032 | 2033 | 2034 | 2035\n",
       "0          | Popular         | Medellín | 6.29334 | -75.5448 | 136986 | 140218 | 143039 | 145235 | 147382 | 149586 | 152365 | 154823 | 157097 | 159185 | 161056 | 162647 | 164029 | nan  | nan  | nan  | nan  | nan\n",
       "1          | Santa Cruz      | Medellín | 6.29696 | -75.5549 | 113064 | 115588 | 117744 | 119374 | 120959 | 122573 | 124610 | 126425 | 128072 | 129542 | 130835 | 131961 | 132892 | nan  | nan  | nan  | nan  | nan\n",
       "2          | Manrique        | Medellín | 6.27506 | -75.5459 | 164858 | 168724 | 172090 | 174692 | 177232 | 179793 | 182988 | 185895 | 188577 | 190985 | 193138 | 195105 | 196795 | nan  | nan  | nan  | nan  | nan\n",
       "3          | Aranjuez        | Medellín | 6.27772 | -75.5626 | 141312 | 142990 | 144233 | 144815 | 145325 | 145837 | 146611 | 147250 | 147680 | 147905 | 147885 | 147721 | 147337 | nan  | nan  | nan  | nan  | nan\n",
       "4          | Castilla        | Medellín | 6.2937  | -75.5683 | 123992 | 125276 | 126200 | 126587 | 126939 | 127289 | 127722 | 128067 | 128261 | 128292 | 128147 | 127765 | 127202 | nan  | nan  | nan  | nan  | nan\n",
       "5          | Doce de Octubre | Medellín | 6.29756 | -75.5776 | 177190 | 179493 | 181235 | 182165 | 183012 | 183889 | 185191 | 186227 | 187015 | 187521 | 187763 | 187738 | 187428 | nan  | nan  | nan  | nan  | nan\n",
       "6          | Robledo         | Medellín | 6.27907 | -75.5888 | 189238 | 194042 | 198274 | 201656 | 204954 | 208305 | 212453 | 216194 | 219669 | 222840 | 225717 | 228344 | 230614 | nan  | nan  | nan  | nan  | nan\n",
       "7          | Villa Hermosa   | Medellín | 6.25853 | -75.5513 | 153216 | 157668 | 161728 | 165061 | 168399 | 171776 | 175756 | 179508 | 183078 | 186425 | 189545 | 192463 | 195149 | nan  | nan  | nan  | nan  | nan\n",
       "8          | Buenos Aires    | Medellín | 6.24379 | -75.5568 | 155391 | 160045 | 164279 | 167860 | 171416 | 175014 | 179159 | 183086 | 186832 | 190341 | 193632 | 196755 | 199606 | nan  | nan  | nan  | nan  | nan\n",
       "9          | La Candelaria   | Medellín | 6.2501  | -75.568  | 75913  | 77053  | 77926  | 78478  | 78937  | 79404  | 79892  | 80444  | 80892  | 81199  | 81409  | 81582  | 81671  | nan  | nan  | nan  | nan  | nan\n",
       "... (31 rows omitted)"
      ]
     },
     "execution_count": 23,
     "metadata": {},
     "output_type": "execute_result"
    }
   ],
   "source": [
    "poblacion"
   ]
  },
  {
   "cell_type": "markdown",
   "id": "ODNN8Q1GUICF",
   "metadata": {
    "id": "ODNN8Q1GUICF"
   },
   "source": [
    "### `select`\n",
    "\n",
    "La mayoría de las columnas tratan sobre las poblaciones de la ciudad de Medellín y Bogotá en un año especifico, con información sobre las coordenadas y nombre de la comuna o localidad. Si no estamos interesados en todos los detalles, la tabla puede volverse difícil de leer. \n",
    "\n",
    "En tales situaciones, podemos usar el método de tabla `select` para elegir solo las columnas que queremos en una tabla en particular. Este método toma varios argumentos, y cada uno debe ser el nombre de una columna, el cual devuelve una nueva tabla con solo esas columnas que se presentan en el ordén en el que fueron enumeradas.\n",
    "\n",
    "Por ejemplo, si queremos seleccionar solo el nombre de la comuna o localidad, las coordenadas de latitud, longitud y la población en el año 2018  de nuestra tabla `poblacion`, usaríamos el siguiente código:\n",
    "\n",
    "```python\n",
    "poblacion_2018 = data[['LOCALIDAD', 'LATITUD', 'LONGITUD', '2018']]\n",
    "```\n",
    "\n",
    "**Pregunta 3.3.** Utilice `select` para crear una tabla con solo el LOCALIDAD, CIUDAD, LATITUD, LONGITUD y 2018. Llame a esa nueva tabla \"poblacion_pos_2018\". (La latitud y la longitud hacen referencia a las [coordendas geográficas]( https://es.wikipedia.org/wiki/Coordenadas_geogr%C3%A1ficas#/media/Archivo:Latitud_y_Longitud_en_la_Tierra.svg) de las comunas)\n",
    "\n",
    "*Sugerencia:* Asegúrese de ser exacto al usar nombres de columnas con `select`; ¡Compruebe  la escritura de las mayúsculas hasta dos o tres veces!"
   ]
  },
  {
   "cell_type": "code",
   "execution_count": 24,
   "id": "bdeb778c",
   "metadata": {
    "tags": []
   },
   "outputs": [
    {
     "data": {
      "text/html": [
       "<table border=\"1\" class=\"dataframe\">\n",
       "    <thead>\n",
       "        <tr>\n",
       "            <th>LOCALIDAD</th> <th>Ciudad</th> <th>LATITUD</th> <th>LONGITUD</th> <th>2018</th>\n",
       "        </tr>\n",
       "    </thead>\n",
       "    <tbody>\n",
       "        <tr>\n",
       "            <td>Popular        </td> <td>Medellín</td> <td>6.29334</td> <td>-75.5448</td> <td>136986</td>\n",
       "        </tr>\n",
       "        <tr>\n",
       "            <td>Santa Cruz     </td> <td>Medellín</td> <td>6.29696</td> <td>-75.5549</td> <td>113064</td>\n",
       "        </tr>\n",
       "        <tr>\n",
       "            <td>Manrique       </td> <td>Medellín</td> <td>6.27506</td> <td>-75.5459</td> <td>164858</td>\n",
       "        </tr>\n",
       "        <tr>\n",
       "            <td>Aranjuez       </td> <td>Medellín</td> <td>6.27772</td> <td>-75.5626</td> <td>141312</td>\n",
       "        </tr>\n",
       "        <tr>\n",
       "            <td>Castilla       </td> <td>Medellín</td> <td>6.2937 </td> <td>-75.5683</td> <td>123992</td>\n",
       "        </tr>\n",
       "        <tr>\n",
       "            <td>Doce de Octubre</td> <td>Medellín</td> <td>6.29756</td> <td>-75.5776</td> <td>177190</td>\n",
       "        </tr>\n",
       "        <tr>\n",
       "            <td>Robledo        </td> <td>Medellín</td> <td>6.27907</td> <td>-75.5888</td> <td>189238</td>\n",
       "        </tr>\n",
       "        <tr>\n",
       "            <td>Villa Hermosa  </td> <td>Medellín</td> <td>6.25853</td> <td>-75.5513</td> <td>153216</td>\n",
       "        </tr>\n",
       "        <tr>\n",
       "            <td>Buenos Aires   </td> <td>Medellín</td> <td>6.24379</td> <td>-75.5568</td> <td>155391</td>\n",
       "        </tr>\n",
       "        <tr>\n",
       "            <td>La Candelaria  </td> <td>Medellín</td> <td>6.2501 </td> <td>-75.568 </td> <td>75913 </td>\n",
       "        </tr>\n",
       "    </tbody>\n",
       "</table>\n",
       "<p>... (31 rows omitted)</p>"
      ],
      "text/plain": [
       "LOCALIDAD       | Ciudad   | LATITUD | LONGITUD | 2018\n",
       "Popular         | Medellín | 6.29334 | -75.5448 | 136986\n",
       "Santa Cruz      | Medellín | 6.29696 | -75.5549 | 113064\n",
       "Manrique        | Medellín | 6.27506 | -75.5459 | 164858\n",
       "Aranjuez        | Medellín | 6.27772 | -75.5626 | 141312\n",
       "Castilla        | Medellín | 6.2937  | -75.5683 | 123992\n",
       "Doce de Octubre | Medellín | 6.29756 | -75.5776 | 177190\n",
       "Robledo         | Medellín | 6.27907 | -75.5888 | 189238\n",
       "Villa Hermosa   | Medellín | 6.25853 | -75.5513 | 153216\n",
       "Buenos Aires    | Medellín | 6.24379 | -75.5568 | 155391\n",
       "La Candelaria   | Medellín | 6.2501  | -75.568  | 75913\n",
       "... (31 rows omitted)"
      ]
     },
     "execution_count": 24,
     "metadata": {},
     "output_type": "execute_result"
    }
   ],
   "source": [
    "poblacion = Table.read_table('Lab02_poblacion_proyeccion_201.csv')\n",
    "\n",
    "\n",
    "poblacion_2018= poblacion.select(['LOCALIDAD','Ciudad', 'LATITUD', 'LONGITUD', '2018'])\n",
    "poblacion_2018"
   ]
  },
  {
   "cell_type": "code",
   "execution_count": 25,
   "id": "24ad1327",
   "metadata": {
    "deletable": false,
    "editable": false
   },
   "outputs": [
    {
     "data": {
      "text/html": [
       "<p><strong><pre style='display: inline;'>q33</pre></strong> passed! 🍀</p>"
      ],
      "text/plain": [
       "q33 results: All test cases passed!"
      ]
     },
     "execution_count": 25,
     "metadata": {},
     "output_type": "execute_result"
    }
   ],
   "source": [
    "grader.check(\"q33\")"
   ]
  },
  {
   "cell_type": "markdown",
   "id": "loRWY1RVUICG",
   "metadata": {
    "id": "loRWY1RVUICG"
   },
   "source": [
    "### `drop`\n",
    "\n",
    "`drop` tiene el mismo propósito que `select`, pero elimina las columnas que usted proporciona en lugar de las que no proporciona. Al igual que \"seleccionar\", \"soltar\" devuelve una nueva tabla.\n",
    "\n",
    "**Pregunta 3.4.** Supongamos que simplemente no desea las columnas `Unnamed: 0` y `2031` en `poblacion`. Cree una tabla que sea una copia de `poblacion` pero que no incluya esas columnas. Llame a esa tabla `poblacion_ sin_2031`.\n"
   ]
  },
  {
   "cell_type": "code",
   "execution_count": 26,
   "id": "72bedf99",
   "metadata": {
    "tags": []
   },
   "outputs": [
    {
     "data": {
      "text/html": [
       "<table border=\"1\" class=\"dataframe\">\n",
       "    <thead>\n",
       "        <tr>\n",
       "            <th>LOCALIDAD</th> <th>Ciudad</th> <th>LATITUD</th> <th>LONGITUD</th> <th>2018</th> <th>2019</th> <th>2020</th> <th>2021</th> <th>2022</th> <th>2023</th> <th>2024</th> <th>2025</th> <th>2026</th> <th>2027</th> <th>2028</th> <th>2029</th> <th>2030</th> <th>2032</th> <th>2033</th> <th>2034</th> <th>2035</th>\n",
       "        </tr>\n",
       "    </thead>\n",
       "    <tbody>\n",
       "        <tr>\n",
       "            <td>Popular        </td> <td>Medellín</td> <td>6.29334</td> <td>-75.5448</td> <td>136986</td> <td>140218</td> <td>143039</td> <td>145235</td> <td>147382</td> <td>149586</td> <td>152365</td> <td>154823</td> <td>157097</td> <td>159185</td> <td>161056</td> <td>162647</td> <td>164029</td> <td>nan </td> <td>nan </td> <td>nan </td> <td>nan </td>\n",
       "        </tr>\n",
       "        <tr>\n",
       "            <td>Santa Cruz     </td> <td>Medellín</td> <td>6.29696</td> <td>-75.5549</td> <td>113064</td> <td>115588</td> <td>117744</td> <td>119374</td> <td>120959</td> <td>122573</td> <td>124610</td> <td>126425</td> <td>128072</td> <td>129542</td> <td>130835</td> <td>131961</td> <td>132892</td> <td>nan </td> <td>nan </td> <td>nan </td> <td>nan </td>\n",
       "        </tr>\n",
       "        <tr>\n",
       "            <td>Manrique       </td> <td>Medellín</td> <td>6.27506</td> <td>-75.5459</td> <td>164858</td> <td>168724</td> <td>172090</td> <td>174692</td> <td>177232</td> <td>179793</td> <td>182988</td> <td>185895</td> <td>188577</td> <td>190985</td> <td>193138</td> <td>195105</td> <td>196795</td> <td>nan </td> <td>nan </td> <td>nan </td> <td>nan </td>\n",
       "        </tr>\n",
       "        <tr>\n",
       "            <td>Aranjuez       </td> <td>Medellín</td> <td>6.27772</td> <td>-75.5626</td> <td>141312</td> <td>142990</td> <td>144233</td> <td>144815</td> <td>145325</td> <td>145837</td> <td>146611</td> <td>147250</td> <td>147680</td> <td>147905</td> <td>147885</td> <td>147721</td> <td>147337</td> <td>nan </td> <td>nan </td> <td>nan </td> <td>nan </td>\n",
       "        </tr>\n",
       "        <tr>\n",
       "            <td>Castilla       </td> <td>Medellín</td> <td>6.2937 </td> <td>-75.5683</td> <td>123992</td> <td>125276</td> <td>126200</td> <td>126587</td> <td>126939</td> <td>127289</td> <td>127722</td> <td>128067</td> <td>128261</td> <td>128292</td> <td>128147</td> <td>127765</td> <td>127202</td> <td>nan </td> <td>nan </td> <td>nan </td> <td>nan </td>\n",
       "        </tr>\n",
       "        <tr>\n",
       "            <td>Doce de Octubre</td> <td>Medellín</td> <td>6.29756</td> <td>-75.5776</td> <td>177190</td> <td>179493</td> <td>181235</td> <td>182165</td> <td>183012</td> <td>183889</td> <td>185191</td> <td>186227</td> <td>187015</td> <td>187521</td> <td>187763</td> <td>187738</td> <td>187428</td> <td>nan </td> <td>nan </td> <td>nan </td> <td>nan </td>\n",
       "        </tr>\n",
       "        <tr>\n",
       "            <td>Robledo        </td> <td>Medellín</td> <td>6.27907</td> <td>-75.5888</td> <td>189238</td> <td>194042</td> <td>198274</td> <td>201656</td> <td>204954</td> <td>208305</td> <td>212453</td> <td>216194</td> <td>219669</td> <td>222840</td> <td>225717</td> <td>228344</td> <td>230614</td> <td>nan </td> <td>nan </td> <td>nan </td> <td>nan </td>\n",
       "        </tr>\n",
       "        <tr>\n",
       "            <td>Villa Hermosa  </td> <td>Medellín</td> <td>6.25853</td> <td>-75.5513</td> <td>153216</td> <td>157668</td> <td>161728</td> <td>165061</td> <td>168399</td> <td>171776</td> <td>175756</td> <td>179508</td> <td>183078</td> <td>186425</td> <td>189545</td> <td>192463</td> <td>195149</td> <td>nan </td> <td>nan </td> <td>nan </td> <td>nan </td>\n",
       "        </tr>\n",
       "        <tr>\n",
       "            <td>Buenos Aires   </td> <td>Medellín</td> <td>6.24379</td> <td>-75.5568</td> <td>155391</td> <td>160045</td> <td>164279</td> <td>167860</td> <td>171416</td> <td>175014</td> <td>179159</td> <td>183086</td> <td>186832</td> <td>190341</td> <td>193632</td> <td>196755</td> <td>199606</td> <td>nan </td> <td>nan </td> <td>nan </td> <td>nan </td>\n",
       "        </tr>\n",
       "        <tr>\n",
       "            <td>La Candelaria  </td> <td>Medellín</td> <td>6.2501 </td> <td>-75.568 </td> <td>75913 </td> <td>77053 </td> <td>77926 </td> <td>78478 </td> <td>78937 </td> <td>79404 </td> <td>79892 </td> <td>80444 </td> <td>80892 </td> <td>81199 </td> <td>81409 </td> <td>81582 </td> <td>81671 </td> <td>nan </td> <td>nan </td> <td>nan </td> <td>nan </td>\n",
       "        </tr>\n",
       "    </tbody>\n",
       "</table>\n",
       "<p>... (31 rows omitted)</p>"
      ],
      "text/plain": [
       "LOCALIDAD       | Ciudad   | LATITUD | LONGITUD | 2018   | 2019   | 2020   | 2021   | 2022   | 2023   | 2024   | 2025   | 2026   | 2027   | 2028   | 2029   | 2030   | 2032 | 2033 | 2034 | 2035\n",
       "Popular         | Medellín | 6.29334 | -75.5448 | 136986 | 140218 | 143039 | 145235 | 147382 | 149586 | 152365 | 154823 | 157097 | 159185 | 161056 | 162647 | 164029 | nan  | nan  | nan  | nan\n",
       "Santa Cruz      | Medellín | 6.29696 | -75.5549 | 113064 | 115588 | 117744 | 119374 | 120959 | 122573 | 124610 | 126425 | 128072 | 129542 | 130835 | 131961 | 132892 | nan  | nan  | nan  | nan\n",
       "Manrique        | Medellín | 6.27506 | -75.5459 | 164858 | 168724 | 172090 | 174692 | 177232 | 179793 | 182988 | 185895 | 188577 | 190985 | 193138 | 195105 | 196795 | nan  | nan  | nan  | nan\n",
       "Aranjuez        | Medellín | 6.27772 | -75.5626 | 141312 | 142990 | 144233 | 144815 | 145325 | 145837 | 146611 | 147250 | 147680 | 147905 | 147885 | 147721 | 147337 | nan  | nan  | nan  | nan\n",
       "Castilla        | Medellín | 6.2937  | -75.5683 | 123992 | 125276 | 126200 | 126587 | 126939 | 127289 | 127722 | 128067 | 128261 | 128292 | 128147 | 127765 | 127202 | nan  | nan  | nan  | nan\n",
       "Doce de Octubre | Medellín | 6.29756 | -75.5776 | 177190 | 179493 | 181235 | 182165 | 183012 | 183889 | 185191 | 186227 | 187015 | 187521 | 187763 | 187738 | 187428 | nan  | nan  | nan  | nan\n",
       "Robledo         | Medellín | 6.27907 | -75.5888 | 189238 | 194042 | 198274 | 201656 | 204954 | 208305 | 212453 | 216194 | 219669 | 222840 | 225717 | 228344 | 230614 | nan  | nan  | nan  | nan\n",
       "Villa Hermosa   | Medellín | 6.25853 | -75.5513 | 153216 | 157668 | 161728 | 165061 | 168399 | 171776 | 175756 | 179508 | 183078 | 186425 | 189545 | 192463 | 195149 | nan  | nan  | nan  | nan\n",
       "Buenos Aires    | Medellín | 6.24379 | -75.5568 | 155391 | 160045 | 164279 | 167860 | 171416 | 175014 | 179159 | 183086 | 186832 | 190341 | 193632 | 196755 | 199606 | nan  | nan  | nan  | nan\n",
       "La Candelaria   | Medellín | 6.2501  | -75.568  | 75913  | 77053  | 77926  | 78478  | 78937  | 79404  | 79892  | 80444  | 80892  | 81199  | 81409  | 81582  | 81671  | nan  | nan  | nan  | nan\n",
       "... (31 rows omitted)"
      ]
     },
     "execution_count": 26,
     "metadata": {},
     "output_type": "execute_result"
    }
   ],
   "source": [
    "poblacion = Table.read_table(\"Lab02_poblacion_proyeccion_201.csv\")\n",
    "\n",
    "\n",
    "poblacion_sin_2031 = poblacion.drop(['Unnamed: 0', '2031'])\n",
    "poblacion_sin_2031"
   ]
  },
  {
   "cell_type": "code",
   "execution_count": 27,
   "id": "35e79dcc",
   "metadata": {
    "deletable": false,
    "editable": false
   },
   "outputs": [
    {
     "data": {
      "text/html": [
       "<p><strong><pre style='display: inline;'>q34</pre></strong> passed! 🍀</p>"
      ],
      "text/plain": [
       "q34 results: All test cases passed!"
      ]
     },
     "execution_count": 27,
     "metadata": {},
     "output_type": "execute_result"
    }
   ],
   "source": [
    "grader.check(\"q34\")"
   ]
  },
  {
   "cell_type": "markdown",
   "id": "WqW_RNv4UICr",
   "metadata": {
    "id": "WqW_RNv4UICr"
   },
   "source": [
    "Ahora supongamos que queremos responder algunas preguntas sobre la poblacion. Por ejemplo, ¿qué comuna o localidad entre Medellín y Bogotá tuvo la mayor población en el 2018?\n",
    "\n",
    "Para responder a esto, ordenaremos `poblacion_2018` en el año 2018."
   ]
  },
  {
   "cell_type": "code",
   "execution_count": 28,
   "id": "97009c23",
   "metadata": {},
   "outputs": [
    {
     "data": {
      "text/html": [
       "<table border=\"1\" class=\"dataframe\">\n",
       "    <thead>\n",
       "        <tr>\n",
       "            <th>LOCALIDAD</th> <th>Ciudad</th> <th>LATITUD</th> <th>LONGITUD</th> <th>2018</th>\n",
       "        </tr>\n",
       "    </thead>\n",
       "    <tbody>\n",
       "        <tr>\n",
       "            <td>San Sebastián de Palmitas</td> <td>Medellín</td> <td>6.22922</td> <td>-75.5649</td> <td>5474 </td>\n",
       "        </tr>\n",
       "        <tr>\n",
       "            <td>SUMAPAZ                  </td> <td>Bogotá  </td> <td>4.03475</td> <td>-74.3152</td> <td>6276 </td>\n",
       "        </tr>\n",
       "        <tr>\n",
       "            <td>Santa Elena              </td> <td>Medellín</td> <td>6.25381</td> <td>-75.5385</td> <td>23468</td>\n",
       "        </tr>\n",
       "        <tr>\n",
       "            <td>LA CANDELARIA            </td> <td>Bogotá  </td> <td>4.5939 </td> <td>-74.0739</td> <td>34150</td>\n",
       "        </tr>\n",
       "        <tr>\n",
       "            <td>Altavista                </td> <td>Medellín</td> <td>6.22796</td> <td>-75.607 </td> <td>38856</td>\n",
       "        </tr>\n",
       "        <tr>\n",
       "            <td>Guayabal                 </td> <td>Medellín</td> <td>6.20614</td> <td>-75.5879</td> <td>64651</td>\n",
       "        </tr>\n",
       "        <tr>\n",
       "            <td>La Candelaria            </td> <td>Medellín</td> <td>6.2501 </td> <td>-75.568 </td> <td>75913</td>\n",
       "        </tr>\n",
       "        <tr>\n",
       "            <td>La América               </td> <td>Medellín</td> <td>6.2507 </td> <td>-75.6079</td> <td>85416</td>\n",
       "        </tr>\n",
       "        <tr>\n",
       "            <td>San Antonio de Prado     </td> <td>Medellín</td> <td>6.18333</td> <td>-75.6667</td> <td>94801</td>\n",
       "        </tr>\n",
       "        <tr>\n",
       "            <td>Laureles Estadio         </td> <td>Medellín</td> <td>6.25604</td> <td>-75.5811</td> <td>99904</td>\n",
       "        </tr>\n",
       "    </tbody>\n",
       "</table>\n",
       "<p>... (31 rows omitted)</p>"
      ],
      "text/plain": [
       "LOCALIDAD                 | Ciudad   | LATITUD | LONGITUD | 2018\n",
       "San Sebastián de Palmitas | Medellín | 6.22922 | -75.5649 | 5474\n",
       "SUMAPAZ                   | Bogotá   | 4.03475 | -74.3152 | 6276\n",
       "Santa Elena               | Medellín | 6.25381 | -75.5385 | 23468\n",
       "LA CANDELARIA             | Bogotá   | 4.5939  | -74.0739 | 34150\n",
       "Altavista                 | Medellín | 6.22796 | -75.607  | 38856\n",
       "Guayabal                  | Medellín | 6.20614 | -75.5879 | 64651\n",
       "La Candelaria             | Medellín | 6.2501  | -75.568  | 75913\n",
       "La América                | Medellín | 6.2507  | -75.6079 | 85416\n",
       "San Antonio de Prado      | Medellín | 6.18333 | -75.6667 | 94801\n",
       "Laureles Estadio          | Medellín | 6.25604 | -75.5811 | 99904\n",
       "... (31 rows omitted)"
      ]
     },
     "execution_count": 28,
     "metadata": {},
     "output_type": "execute_result"
    }
   ],
   "source": [
    "poblacion_2018.sort('2018')"
   ]
  },
  {
   "cell_type": "markdown",
   "id": "-0HoDdZPUICr",
   "metadata": {
    "id": "-0HoDdZPUICr"
   },
   "source": [
    "Lo anterior no respondió a nuestra pregunta porque ordenamos de menor a mayor la columna 2018. Para ver las longitudes más grandes,  tendremos que ordenar en orden inverso."
   ]
  },
  {
   "cell_type": "code",
   "execution_count": 29,
   "id": "8cdd7a98",
   "metadata": {},
   "outputs": [
    {
     "data": {
      "text/html": [
       "<table border=\"1\" class=\"dataframe\">\n",
       "    <thead>\n",
       "        <tr>\n",
       "            <th>LOCALIDAD</th> <th>Ciudad</th> <th>LATITUD</th> <th>LONGITUD</th> <th>2018</th>\n",
       "        </tr>\n",
       "    </thead>\n",
       "    <tbody>\n",
       "        <tr>\n",
       "            <td>SUBA              </td> <td>Bogotá</td> <td>4.7652 </td> <td>-74.0824</td> <td>2304774</td>\n",
       "        </tr>\n",
       "        <tr>\n",
       "            <td>KENNEDY           </td> <td>Bogotá</td> <td>4.6268 </td> <td>-74.1573</td> <td>2039496</td>\n",
       "        </tr>\n",
       "        <tr>\n",
       "            <td>ENGATIVÁ          </td> <td>Bogotá</td> <td>4.7071 </td> <td>-74.1072</td> <td>1585036</td>\n",
       "        </tr>\n",
       "        <tr>\n",
       "            <td>BOSA              </td> <td>Bogotá</td> <td>4.6305 </td> <td>-74.1945</td> <td>1388794</td>\n",
       "        </tr>\n",
       "        <tr>\n",
       "            <td>CIUDAD BOLÍVAR    </td> <td>Bogotá</td> <td>4.5066 </td> <td>-74.1539</td> <td>1226254</td>\n",
       "        </tr>\n",
       "        <tr>\n",
       "            <td>USAQUÉN           </td> <td>Bogotá</td> <td>4.7485 </td> <td>-74.0312</td> <td>1071386</td>\n",
       "        </tr>\n",
       "        <tr>\n",
       "            <td>SAN CRISTOBAL     </td> <td>Bogotá</td> <td>4.5463 </td> <td>-74.0883</td> <td>771028 </td>\n",
       "        </tr>\n",
       "        <tr>\n",
       "            <td>FONTIBÓN          </td> <td>Bogotá</td> <td>4.6832 </td> <td>-74.1479</td> <td>731768 </td>\n",
       "        </tr>\n",
       "        <tr>\n",
       "            <td>RAFAEL URIBE URIBE</td> <td>Bogotá</td> <td>4.5653 </td> <td>-74.1164</td> <td>729064 </td>\n",
       "        </tr>\n",
       "        <tr>\n",
       "            <td>USME              </td> <td>Bogotá</td> <td>4.4766 </td> <td>-74.1033</td> <td>726788 </td>\n",
       "        </tr>\n",
       "    </tbody>\n",
       "</table>\n",
       "<p>... (31 rows omitted)</p>"
      ],
      "text/plain": [
       "LOCALIDAD          | Ciudad | LATITUD | LONGITUD | 2018\n",
       "SUBA               | Bogotá | 4.7652  | -74.0824 | 2304774\n",
       "KENNEDY            | Bogotá | 4.6268  | -74.1573 | 2039496\n",
       "ENGATIVÁ           | Bogotá | 4.7071  | -74.1072 | 1585036\n",
       "BOSA               | Bogotá | 4.6305  | -74.1945 | 1388794\n",
       "CIUDAD BOLÍVAR     | Bogotá | 4.5066  | -74.1539 | 1226254\n",
       "USAQUÉN            | Bogotá | 4.7485  | -74.0312 | 1071386\n",
       "SAN CRISTOBAL      | Bogotá | 4.5463  | -74.0883 | 771028\n",
       "FONTIBÓN           | Bogotá | 4.6832  | -74.1479 | 731768\n",
       "RAFAEL URIBE URIBE | Bogotá | 4.5653  | -74.1164 | 729064\n",
       "USME               | Bogotá | 4.4766  | -74.1033 | 726788\n",
       "... (31 rows omitted)"
      ]
     },
     "execution_count": 29,
     "metadata": {},
     "output_type": "execute_result"
    }
   ],
   "source": [
    "poblacion_2018.sort('2018', descending=True)"
   ]
  },
  {
   "cell_type": "markdown",
   "id": "tbeUeH6dUICs",
   "metadata": {
    "id": "tbeUeH6dUICs"
   },
   "source": [
    "(El valor de  `descending=True` se llama *argumento opcional*. Tiene un valor predeterminado( `default`) de `False`, cuando se hace explicito en la función `descending=True`, la función ordenará en orden descendente).\n",
    "\n",
    "### `sort` (ordenamiento)\n",
    "\n",
    "Algunos detalles sobre el método `sort`:\n",
    "\n",
    "1. El primer argumento para realizar el ordenamiento \"sort\" es el nombre de una columna por la que ordenar.\n",
    "2. Si la columna tiene texto, \"sort\" ordenará alfabéticamente; si la columna tiene números, se ordenará numéricamente, ambos en orden ascendente de forma predeterminada.\n",
    "3. El valor de `poblacion_2018.sort(\"2018\")` es una *copia* de `poblacion_2018`; la tabla `poblacion_2018` no se modifica. Por ejemplo, si llamamos a `poblacion_2018.sort(\"x\")`, ejecutar `poblacion_2018` por sí solo aún devolvería la tabla sin clasificar.\n",
    "4. Las filas siempre permanecen juntas cuando se ordena una tabla. No tendría sentido ordenar solo una columna y dejar las otras columnas como están. Por ejemplo, en este caso, si ordenáramos solo la columna \"2018\", todos las poblaciones terminarían con las nombres del barrio incorrectas.\n",
    "\n",
    "\n",
    "**Pregunta 3.5.** Cree una versión de `poblacion_2018` que esté ordenada por la coordenada **(latitud)**, con las latitudes más grandes primero. Llámelo `poblacion_2018_por_latitud`."
   ]
  },
  {
   "cell_type": "code",
   "execution_count": 30,
   "id": "bd2b8849",
   "metadata": {
    "tags": []
   },
   "outputs": [
    {
     "data": {
      "text/html": [
       "<table border=\"1\" class=\"dataframe\">\n",
       "    <thead>\n",
       "        <tr>\n",
       "            <th>LOCALIDAD</th> <th>Ciudad</th> <th>LATITUD</th> <th>LONGITUD</th> <th>2018</th>\n",
       "        </tr>\n",
       "    </thead>\n",
       "    <tbody>\n",
       "        <tr>\n",
       "            <td>Doce de Octubre</td> <td>Medellín</td> <td>6.29756</td> <td>-75.5776</td> <td>177190</td>\n",
       "        </tr>\n",
       "        <tr>\n",
       "            <td>Santa Cruz     </td> <td>Medellín</td> <td>6.29696</td> <td>-75.5549</td> <td>113064</td>\n",
       "        </tr>\n",
       "        <tr>\n",
       "            <td>Castilla       </td> <td>Medellín</td> <td>6.2937 </td> <td>-75.5683</td> <td>123992</td>\n",
       "        </tr>\n",
       "        <tr>\n",
       "            <td>Popular        </td> <td>Medellín</td> <td>6.29334</td> <td>-75.5448</td> <td>136986</td>\n",
       "        </tr>\n",
       "        <tr>\n",
       "            <td>San Cristóbal  </td> <td>Medellín</td> <td>6.27951</td> <td>-75.6186</td> <td>116420</td>\n",
       "        </tr>\n",
       "        <tr>\n",
       "            <td>Robledo        </td> <td>Medellín</td> <td>6.27907</td> <td>-75.5888</td> <td>189238</td>\n",
       "        </tr>\n",
       "        <tr>\n",
       "            <td>Aranjuez       </td> <td>Medellín</td> <td>6.27772</td> <td>-75.5626</td> <td>141312</td>\n",
       "        </tr>\n",
       "        <tr>\n",
       "            <td>Manrique       </td> <td>Medellín</td> <td>6.27506</td> <td>-75.5459</td> <td>164858</td>\n",
       "        </tr>\n",
       "        <tr>\n",
       "            <td>Villa Hermosa  </td> <td>Medellín</td> <td>6.25853</td> <td>-75.5513</td> <td>153216</td>\n",
       "        </tr>\n",
       "        <tr>\n",
       "            <td>San Javier     </td> <td>Medellín</td> <td>6.25627</td> <td>-75.6215</td> <td>157243</td>\n",
       "        </tr>\n",
       "    </tbody>\n",
       "</table>\n",
       "<p>... (31 rows omitted)</p>"
      ],
      "text/plain": [
       "LOCALIDAD       | Ciudad   | LATITUD | LONGITUD | 2018\n",
       "Doce de Octubre | Medellín | 6.29756 | -75.5776 | 177190\n",
       "Santa Cruz      | Medellín | 6.29696 | -75.5549 | 113064\n",
       "Castilla        | Medellín | 6.2937  | -75.5683 | 123992\n",
       "Popular         | Medellín | 6.29334 | -75.5448 | 136986\n",
       "San Cristóbal   | Medellín | 6.27951 | -75.6186 | 116420\n",
       "Robledo         | Medellín | 6.27907 | -75.5888 | 189238\n",
       "Aranjuez        | Medellín | 6.27772 | -75.5626 | 141312\n",
       "Manrique        | Medellín | 6.27506 | -75.5459 | 164858\n",
       "Villa Hermosa   | Medellín | 6.25853 | -75.5513 | 153216\n",
       "San Javier      | Medellín | 6.25627 | -75.6215 | 157243\n",
       "... (31 rows omitted)"
      ]
     },
     "execution_count": 30,
     "metadata": {},
     "output_type": "execute_result"
    }
   ],
   "source": [
    "\n",
    "poblacion = Table.read_table(\"Lab02_poblacion_proyeccion_201.csv\")\n",
    "\n",
    "\n",
    "poblacion_2018_por_latitud= poblacion_2018.sort('LATITUD', descending=True)\n",
    "\n",
    "poblacion_2018_por_latitud"
   ]
  },
  {
   "cell_type": "code",
   "execution_count": 31,
   "id": "ebe78b4a",
   "metadata": {
    "deletable": false,
    "editable": false
   },
   "outputs": [
    {
     "data": {
      "text/html": [
       "<p><strong><pre style='display: inline;'>q35</pre></strong> passed! 🎉</p>"
      ],
      "text/plain": [
       "q35 results: All test cases passed!"
      ]
     },
     "execution_count": 31,
     "metadata": {},
     "output_type": "execute_result"
    }
   ],
   "source": [
    "grader.check(\"q35\")"
   ]
  },
  {
   "cell_type": "markdown",
   "id": "oVFv9PilUICt",
   "metadata": {
    "deletable": false,
    "editable": false,
    "id": "oVFv9PilUICt"
   },
   "source": [
    "Ahora queremos una tabla de todos las poblaciones solo de Medellín. ¿Cómo lo podemos hacer?, vamos a usar el método `where`."
   ]
  },
  {
   "cell_type": "code",
   "execution_count": 32,
   "id": "d7ec6722",
   "metadata": {
    "deletable": false,
    "editable": false
   },
   "outputs": [
    {
     "data": {
      "text/html": [
       "<table border=\"1\" class=\"dataframe\">\n",
       "    <thead>\n",
       "        <tr>\n",
       "            <th>LOCALIDAD</th> <th>Ciudad</th> <th>LATITUD</th> <th>LONGITUD</th> <th>2018</th>\n",
       "        </tr>\n",
       "    </thead>\n",
       "    <tbody>\n",
       "        <tr>\n",
       "            <td>SUBA          </td> <td>Bogotá</td> <td>4.7652 </td> <td>-74.0824</td> <td>2304774</td>\n",
       "        </tr>\n",
       "        <tr>\n",
       "            <td>USAQUÉN       </td> <td>Bogotá</td> <td>4.7485 </td> <td>-74.0312</td> <td>1071386</td>\n",
       "        </tr>\n",
       "        <tr>\n",
       "            <td>ENGATIVÁ      </td> <td>Bogotá</td> <td>4.7071 </td> <td>-74.1072</td> <td>1585036</td>\n",
       "        </tr>\n",
       "        <tr>\n",
       "            <td>FONTIBÓN      </td> <td>Bogotá</td> <td>4.6832 </td> <td>-74.1479</td> <td>731768 </td>\n",
       "        </tr>\n",
       "        <tr>\n",
       "            <td>BARRIOS UNIDOS</td> <td>Bogotá</td> <td>4.6664 </td> <td>-74.084 </td> <td>266252 </td>\n",
       "        </tr>\n",
       "        <tr>\n",
       "            <td>CHAPINERO     </td> <td>Bogotá</td> <td>4.6569 </td> <td>-74.0467</td> <td>312958 </td>\n",
       "        </tr>\n",
       "        <tr>\n",
       "            <td>TEUSAQUILLO   </td> <td>Bogotá</td> <td>4.6448 </td> <td>-74.0938</td> <td>289052 </td>\n",
       "        </tr>\n",
       "        <tr>\n",
       "            <td>BOSA          </td> <td>Bogotá</td> <td>4.6305 </td> <td>-74.1945</td> <td>1388794</td>\n",
       "        </tr>\n",
       "        <tr>\n",
       "            <td>KENNEDY       </td> <td>Bogotá</td> <td>4.6268 </td> <td>-74.1573</td> <td>2039496</td>\n",
       "        </tr>\n",
       "        <tr>\n",
       "            <td>PUENTE ARANDA </td> <td>Bogotá</td> <td>4.6149 </td> <td>-74.1227</td> <td>485810 </td>\n",
       "        </tr>\n",
       "    </tbody>\n",
       "</table>\n",
       "<p>... (10 rows omitted)</p>"
      ],
      "text/plain": [
       "LOCALIDAD      | Ciudad | LATITUD | LONGITUD | 2018\n",
       "SUBA           | Bogotá | 4.7652  | -74.0824 | 2304774\n",
       "USAQUÉN        | Bogotá | 4.7485  | -74.0312 | 1071386\n",
       "ENGATIVÁ       | Bogotá | 4.7071  | -74.1072 | 1585036\n",
       "FONTIBÓN       | Bogotá | 4.6832  | -74.1479 | 731768\n",
       "BARRIOS UNIDOS | Bogotá | 4.6664  | -74.084  | 266252\n",
       "CHAPINERO      | Bogotá | 4.6569  | -74.0467 | 312958\n",
       "TEUSAQUILLO    | Bogotá | 4.6448  | -74.0938 | 289052\n",
       "BOSA           | Bogotá | 4.6305  | -74.1945 | 1388794\n",
       "KENNEDY        | Bogotá | 4.6268  | -74.1573 | 2039496\n",
       "PUENTE ARANDA  | Bogotá | 4.6149  | -74.1227 | 485810\n",
       "... (10 rows omitted)"
      ]
     },
     "execution_count": 32,
     "metadata": {},
     "output_type": "execute_result"
    }
   ],
   "source": [
    "poblacion_bogota = poblacion_2018_por_latitud.where('Ciudad', are.equal_to('Bogotá'))\n",
    "poblacion_bogota"
   ]
  },
  {
   "cell_type": "code",
   "execution_count": 33,
   "id": "2cf25b9d-c691-4f37-9456-b2261a0a03ee",
   "metadata": {},
   "outputs": [
    {
     "data": {
      "text/html": [
       "<table border=\"1\" class=\"dataframe\">\n",
       "    <thead>\n",
       "        <tr>\n",
       "            <th>LOCALIDAD</th> <th>Ciudad</th> <th>LATITUD</th> <th>LONGITUD</th> <th>2018</th>\n",
       "        </tr>\n",
       "    </thead>\n",
       "    <tbody>\n",
       "        <tr>\n",
       "            <td>SUBA          </td> <td>Bogotá</td> <td>4.7652 </td> <td>-74.0824</td> <td>2304774</td>\n",
       "        </tr>\n",
       "        <tr>\n",
       "            <td>USAQUÉN       </td> <td>Bogotá</td> <td>4.7485 </td> <td>-74.0312</td> <td>1071386</td>\n",
       "        </tr>\n",
       "        <tr>\n",
       "            <td>ENGATIVÁ      </td> <td>Bogotá</td> <td>4.7071 </td> <td>-74.1072</td> <td>1585036</td>\n",
       "        </tr>\n",
       "        <tr>\n",
       "            <td>FONTIBÓN      </td> <td>Bogotá</td> <td>4.6832 </td> <td>-74.1479</td> <td>731768 </td>\n",
       "        </tr>\n",
       "        <tr>\n",
       "            <td>BARRIOS UNIDOS</td> <td>Bogotá</td> <td>4.6664 </td> <td>-74.084 </td> <td>266252 </td>\n",
       "        </tr>\n",
       "        <tr>\n",
       "            <td>CHAPINERO     </td> <td>Bogotá</td> <td>4.6569 </td> <td>-74.0467</td> <td>312958 </td>\n",
       "        </tr>\n",
       "        <tr>\n",
       "            <td>TEUSAQUILLO   </td> <td>Bogotá</td> <td>4.6448 </td> <td>-74.0938</td> <td>289052 </td>\n",
       "        </tr>\n",
       "        <tr>\n",
       "            <td>BOSA          </td> <td>Bogotá</td> <td>4.6305 </td> <td>-74.1945</td> <td>1388794</td>\n",
       "        </tr>\n",
       "        <tr>\n",
       "            <td>KENNEDY       </td> <td>Bogotá</td> <td>4.6268 </td> <td>-74.1573</td> <td>2039496</td>\n",
       "        </tr>\n",
       "        <tr>\n",
       "            <td>PUENTE ARANDA </td> <td>Bogotá</td> <td>4.6149 </td> <td>-74.1227</td> <td>485810 </td>\n",
       "        </tr>\n",
       "    </tbody>\n",
       "</table>\n",
       "<p>... (10 rows omitted)</p>"
      ],
      "text/plain": [
       "LOCALIDAD      | Ciudad | LATITUD | LONGITUD | 2018\n",
       "SUBA           | Bogotá | 4.7652  | -74.0824 | 2304774\n",
       "USAQUÉN        | Bogotá | 4.7485  | -74.0312 | 1071386\n",
       "ENGATIVÁ       | Bogotá | 4.7071  | -74.1072 | 1585036\n",
       "FONTIBÓN       | Bogotá | 4.6832  | -74.1479 | 731768\n",
       "BARRIOS UNIDOS | Bogotá | 4.6664  | -74.084  | 266252\n",
       "CHAPINERO      | Bogotá | 4.6569  | -74.0467 | 312958\n",
       "TEUSAQUILLO    | Bogotá | 4.6448  | -74.0938 | 289052\n",
       "BOSA           | Bogotá | 4.6305  | -74.1945 | 1388794\n",
       "KENNEDY        | Bogotá | 4.6268  | -74.1573 | 2039496\n",
       "PUENTE ARANDA  | Bogotá | 4.6149  | -74.1227 | 485810\n",
       "... (10 rows omitted)"
      ]
     },
     "execution_count": 33,
     "metadata": {},
     "output_type": "execute_result"
    }
   ],
   "source": [
    "poblacion_bogota = poblacion_2018_por_latitud.where('Ciudad', are.equal_to('Bogotá'))\n",
    "poblacion_bogota"
   ]
  },
  {
   "cell_type": "markdown",
   "id": "AwU0rq1gUICt",
   "metadata": {
    "deletable": false,
    "editable": false,
    "id": "AwU0rq1gUICt"
   },
   "source": [
    "Ignora la sintaxis por el momento. En su lugar, intenta leer esa línea así:\n",
    "\n",
    "> Asigne el nombre **`poblacion_medellin`** a una tabla cuyas filas son las filas de la tabla **`poblacion_2018_por_latitud`** **`donde`**  la **`\"Ciudad\"`** es igual a Medellín (**` are equal to` `\"Bogotá\"`**)"
   ]
  },
  {
   "cell_type": "markdown",
   "id": "NPMV2Tl6UICu",
   "metadata": {
    "deletable": false,
    "editable": false,
    "id": "NPMV2Tl6UICu"
   },
   "source": [
    "### `where`\n",
    "\n",
    "Ahora profundicemos un poco más en los detalles. `where` toma 2 argumentos:\n",
    "\n",
    "1. El nombre de una columna. `where` busca filas donde los valores de esa columna cumplen algún criterio.\n",
    "2. Un predicado que describe el criterio que debe cumplir la columna.\n",
    "\n",
    "El predicado en el ejemplo anterior llamó a la función `are.equal_to` con el valor que queríamos, 'Bogotá'. Pronto veremos otros predicados.\n",
    "\n",
    "`where` devuelve una tabla que es una copia de la tabla original, pero **con solo las filas que cumplen el predicado dado**."
   ]
  },
  {
   "cell_type": "markdown",
   "id": "c66d18fd",
   "metadata": {
    "deletable": false,
    "editable": false
   },
   "source": [
    "**Pregunta 3.6.** Utilice la tabla `poblacion` para crear una tabla llamada `poblacion_medellin` que contenga  la población de Medellín, ordenada de menor a mayor en año `2018`"
   ]
  },
  {
   "cell_type": "code",
   "execution_count": 34,
   "id": "cba80e6d",
   "metadata": {
    "tags": []
   },
   "outputs": [
    {
     "data": {
      "text/html": [
       "<table border=\"1\" class=\"dataframe\">\n",
       "    <thead>\n",
       "        <tr>\n",
       "            <th>Unnamed: 0</th> <th>LOCALIDAD</th> <th>Ciudad</th> <th>LATITUD</th> <th>LONGITUD</th> <th>2018</th> <th>2019</th> <th>2020</th> <th>2021</th> <th>2022</th> <th>2023</th> <th>2024</th> <th>2025</th> <th>2026</th> <th>2027</th> <th>2028</th> <th>2029</th> <th>2030</th> <th>2031</th> <th>2032</th> <th>2033</th> <th>2034</th> <th>2035</th>\n",
       "        </tr>\n",
       "    </thead>\n",
       "    <tbody>\n",
       "        <tr>\n",
       "            <td>16        </td> <td>San Sebastián de Palmitas</td> <td>Medellín</td> <td>6.22922</td> <td>-75.5649</td> <td>5474  </td> <td>5689  </td> <td>5885  </td> <td>6073  </td> <td>6281  </td> <td>6485  </td> <td>6712  </td> <td>6936  </td> <td>7151  </td> <td>7365  </td> <td>7577  </td> <td>7787  </td> <td>7989  </td> <td>nan </td> <td>nan </td> <td>nan </td> <td>nan </td> <td>nan </td>\n",
       "        </tr>\n",
       "        <tr>\n",
       "            <td>20        </td> <td>Santa Elena              </td> <td>Medellín</td> <td>6.25381</td> <td>-75.5385</td> <td>23468 </td> <td>24953 </td> <td>26464 </td> <td>27916 </td> <td>29413 </td> <td>31002 </td> <td>32855 </td> <td>34715 </td> <td>36606 </td> <td>38536 </td> <td>40509 </td> <td>42551 </td> <td>44644 </td> <td>nan </td> <td>nan </td> <td>nan </td> <td>nan </td> <td>nan </td>\n",
       "        </tr>\n",
       "        <tr>\n",
       "            <td>18        </td> <td>Altavista                </td> <td>Medellín</td> <td>6.22796</td> <td>-75.607 </td> <td>38856 </td> <td>40150 </td> <td>41350 </td> <td>42442 </td> <td>43556 </td> <td>44665 </td> <td>45978 </td> <td>47189 </td> <td>48379 </td> <td>49542 </td> <td>50641 </td> <td>51659 </td> <td>52627 </td> <td>nan </td> <td>nan </td> <td>nan </td> <td>nan </td> <td>nan </td>\n",
       "        </tr>\n",
       "        <tr>\n",
       "            <td>14        </td> <td>Guayabal                 </td> <td>Medellín</td> <td>6.20614</td> <td>-75.5879</td> <td>64651 </td> <td>65011 </td> <td>65146 </td> <td>65024 </td> <td>64856 </td> <td>64713 </td> <td>64509 </td> <td>64320 </td> <td>64052 </td> <td>63691 </td> <td>63261 </td> <td>62714 </td> <td>62086 </td> <td>nan </td> <td>nan </td> <td>nan </td> <td>nan </td> <td>nan </td>\n",
       "        </tr>\n",
       "        <tr>\n",
       "            <td>9         </td> <td>La Candelaria            </td> <td>Medellín</td> <td>6.2501 </td> <td>-75.568 </td> <td>75913 </td> <td>77053 </td> <td>77926 </td> <td>78478 </td> <td>78937 </td> <td>79404 </td> <td>79892 </td> <td>80444 </td> <td>80892 </td> <td>81199 </td> <td>81409 </td> <td>81582 </td> <td>81671 </td> <td>nan </td> <td>nan </td> <td>nan </td> <td>nan </td> <td>nan </td>\n",
       "        </tr>\n",
       "        <tr>\n",
       "            <td>11        </td> <td>La América               </td> <td>Medellín</td> <td>6.2507 </td> <td>-75.6079</td> <td>85416 </td> <td>86403 </td> <td>87128 </td> <td>87489 </td> <td>87849 </td> <td>88207 </td> <td>88382 </td> <td>88714 </td> <td>88925 </td> <td>89020 </td> <td>89028 </td> <td>88931 </td> <td>88710 </td> <td>nan </td> <td>nan </td> <td>nan </td> <td>nan </td> <td>nan </td>\n",
       "        </tr>\n",
       "        <tr>\n",
       "            <td>19        </td> <td>San Antonio de Prado     </td> <td>Medellín</td> <td>6.18333</td> <td>-75.6667</td> <td>94801 </td> <td>99358 </td> <td>103822</td> <td>107996</td> <td>112336</td> <td>116838</td> <td>121944</td> <td>126953</td> <td>131958</td> <td>137011</td> <td>142026</td> <td>146934</td> <td>151793</td> <td>nan </td> <td>nan </td> <td>nan </td> <td>nan </td> <td>nan </td>\n",
       "        </tr>\n",
       "        <tr>\n",
       "            <td>10        </td> <td>Laureles Estadio         </td> <td>Medellín</td> <td>6.25604</td> <td>-75.5811</td> <td>99904 </td> <td>100749</td> <td>101316</td> <td>101473</td> <td>101632</td> <td>101796</td> <td>101396</td> <td>101487</td> <td>101456</td> <td>101296</td> <td>101045</td> <td>100710</td> <td>100257</td> <td>nan </td> <td>nan </td> <td>nan </td> <td>nan </td> <td>nan </td>\n",
       "        </tr>\n",
       "        <tr>\n",
       "            <td>13        </td> <td>El Poblado               </td> <td>Medellín</td> <td>6.20062</td> <td>-75.5637</td> <td>106805</td> <td>108345</td> <td>109600</td> <td>110479</td> <td>111343</td> <td>112257</td> <td>112850</td> <td>113594</td> <td>114223</td> <td>114730</td> <td>115127</td> <td>115272</td> <td>115267</td> <td>nan </td> <td>nan </td> <td>nan </td> <td>nan </td> <td>nan </td>\n",
       "        </tr>\n",
       "        <tr>\n",
       "            <td>1         </td> <td>Santa Cruz               </td> <td>Medellín</td> <td>6.29696</td> <td>-75.5549</td> <td>113064</td> <td>115588</td> <td>117744</td> <td>119374</td> <td>120959</td> <td>122573</td> <td>124610</td> <td>126425</td> <td>128072</td> <td>129542</td> <td>130835</td> <td>131961</td> <td>132892</td> <td>nan </td> <td>nan </td> <td>nan </td> <td>nan </td> <td>nan </td>\n",
       "        </tr>\n",
       "    </tbody>\n",
       "</table>\n",
       "<p>... (11 rows omitted)</p>"
      ],
      "text/plain": [
       "Unnamed: 0 | LOCALIDAD                 | Ciudad   | LATITUD | LONGITUD | 2018   | 2019   | 2020   | 2021   | 2022   | 2023   | 2024   | 2025   | 2026   | 2027   | 2028   | 2029   | 2030   | 2031 | 2032 | 2033 | 2034 | 2035\n",
       "16         | San Sebastián de Palmitas | Medellín | 6.22922 | -75.5649 | 5474   | 5689   | 5885   | 6073   | 6281   | 6485   | 6712   | 6936   | 7151   | 7365   | 7577   | 7787   | 7989   | nan  | nan  | nan  | nan  | nan\n",
       "20         | Santa Elena               | Medellín | 6.25381 | -75.5385 | 23468  | 24953  | 26464  | 27916  | 29413  | 31002  | 32855  | 34715  | 36606  | 38536  | 40509  | 42551  | 44644  | nan  | nan  | nan  | nan  | nan\n",
       "18         | Altavista                 | Medellín | 6.22796 | -75.607  | 38856  | 40150  | 41350  | 42442  | 43556  | 44665  | 45978  | 47189  | 48379  | 49542  | 50641  | 51659  | 52627  | nan  | nan  | nan  | nan  | nan\n",
       "14         | Guayabal                  | Medellín | 6.20614 | -75.5879 | 64651  | 65011  | 65146  | 65024  | 64856  | 64713  | 64509  | 64320  | 64052  | 63691  | 63261  | 62714  | 62086  | nan  | nan  | nan  | nan  | nan\n",
       "9          | La Candelaria             | Medellín | 6.2501  | -75.568  | 75913  | 77053  | 77926  | 78478  | 78937  | 79404  | 79892  | 80444  | 80892  | 81199  | 81409  | 81582  | 81671  | nan  | nan  | nan  | nan  | nan\n",
       "11         | La América                | Medellín | 6.2507  | -75.6079 | 85416  | 86403  | 87128  | 87489  | 87849  | 88207  | 88382  | 88714  | 88925  | 89020  | 89028  | 88931  | 88710  | nan  | nan  | nan  | nan  | nan\n",
       "19         | San Antonio de Prado      | Medellín | 6.18333 | -75.6667 | 94801  | 99358  | 103822 | 107996 | 112336 | 116838 | 121944 | 126953 | 131958 | 137011 | 142026 | 146934 | 151793 | nan  | nan  | nan  | nan  | nan\n",
       "10         | Laureles Estadio          | Medellín | 6.25604 | -75.5811 | 99904  | 100749 | 101316 | 101473 | 101632 | 101796 | 101396 | 101487 | 101456 | 101296 | 101045 | 100710 | 100257 | nan  | nan  | nan  | nan  | nan\n",
       "13         | El Poblado                | Medellín | 6.20062 | -75.5637 | 106805 | 108345 | 109600 | 110479 | 111343 | 112257 | 112850 | 113594 | 114223 | 114730 | 115127 | 115272 | 115267 | nan  | nan  | nan  | nan  | nan\n",
       "1          | Santa Cruz                | Medellín | 6.29696 | -75.5549 | 113064 | 115588 | 117744 | 119374 | 120959 | 122573 | 124610 | 126425 | 128072 | 129542 | 130835 | 131961 | 132892 | nan  | nan  | nan  | nan  | nan\n",
       "... (11 rows omitted)"
      ]
     },
     "execution_count": 34,
     "metadata": {},
     "output_type": "execute_result"
    }
   ],
   "source": [
    "\n",
    "poblacion_medellin= poblacion.where('Ciudad', are.equal_to('Medellín')).sort('2018')\n",
    "\n",
    "poblacion_medellin"
   ]
  },
  {
   "cell_type": "code",
   "execution_count": 35,
   "id": "dd66c5f1",
   "metadata": {
    "deletable": false,
    "editable": false
   },
   "outputs": [
    {
     "data": {
      "text/html": [
       "<p><strong><pre style='display: inline;'>q36</pre></strong> passed! 🍀</p>"
      ],
      "text/plain": [
       "q36 results: All test cases passed!"
      ]
     },
     "execution_count": 35,
     "metadata": {},
     "output_type": "execute_result"
    }
   ],
   "source": [
    "grader.check(\"q36\")"
   ]
  },
  {
   "cell_type": "markdown",
   "id": "FwK7pV3oUICv",
   "metadata": {
    "id": "FwK7pV3oUICv"
   },
   "source": [
    "Hasta ahora solo hemos estado usando `where` con el criterio o condición que requiere encontrar que los valores en una columna sean *exactamente* iguales a un cierto valor. Sin embargo, hay muchos otros criterios. Hemos enumerado algunos de los más comunes a continuación, pero si desea una lista más completa, consulte la sección de predicados en la [hoja de referencia de Python](https://www.data8.org/fa23/reference/#tablewhere-predicates).\n",
    "\n",
    "\n",
    "|Predicado|Ejemplo|Resultado|\n",
    "|-|-|-|\n",
    "|`are.equal_to`|`are.equal_to(50)`|Encuentra las filas con valores iguales a 50|\n",
    "|`are.not_equal_to`|`are.not_equal_to(50)`|Encuentra las filas con valores diferentes a 50|\n",
    "|`are.above`|`are.above(50)`|Encuentra las filas con valores mayores (y no iguales) a 50|\n",
    "|`are.above_or_equal_to`|`are.above_or_equal_to(50)`|Encuentra las filas con valores mayores o iguales a 50|\n",
    "|`are.below`|`are.below(50)`|Encuentra las filas con valores menores a 50|\n",
    "|`are.between`|`are.between(2, 10)`|Encuentra las filas con valores mayores o iguales a 2 y menores a 10|\n",
    "|`are.between_or_equal_to`|`are.between_or_equal_to(2, 10)`|Encuentra las filas con valores mayores o iguales a 2 y menores o iguales a 10|\n"
   ]
  },
  {
   "cell_type": "markdown",
   "id": "r4gvIJDUUICv",
   "metadata": {
    "id": "r4gvIJDUUICv"
   },
   "source": [
    "## 4. Analizando un conjunto de datos\n",
    "\n",
    "Ahora que está familiarizado con las operaciones de tablas, ¡respondamos una pregunta interesante sobre un conjunto de datos!\n",
    "\n",
    "Ejecute la siguiente celda para cargar la tabla `imdb`. Contiene información sobre las 250 películas mejor calificadas en IMDb."
   ]
  },
  {
   "cell_type": "code",
   "execution_count": 36,
   "id": "41b855d2",
   "metadata": {},
   "outputs": [
    {
     "data": {
      "text/html": [
       "<table border=\"1\" class=\"dataframe\">\n",
       "    <thead>\n",
       "        <tr>\n",
       "            <th>Votes</th> <th>Rating</th> <th>Title</th> <th>Year</th> <th>Decade</th>\n",
       "        </tr>\n",
       "    </thead>\n",
       "    <tbody>\n",
       "        <tr>\n",
       "            <td>88355 </td> <td>8.4   </td> <td>M                    </td> <td>1931</td> <td>1930  </td>\n",
       "        </tr>\n",
       "        <tr>\n",
       "            <td>132823</td> <td>8.3   </td> <td>Singin' in the Rain  </td> <td>1952</td> <td>1950  </td>\n",
       "        </tr>\n",
       "        <tr>\n",
       "            <td>74178 </td> <td>8.3   </td> <td>All About Eve        </td> <td>1950</td> <td>1950  </td>\n",
       "        </tr>\n",
       "        <tr>\n",
       "            <td>635139</td> <td>8.6   </td> <td>Léon                 </td> <td>1994</td> <td>1990  </td>\n",
       "        </tr>\n",
       "        <tr>\n",
       "            <td>145514</td> <td>8.2   </td> <td>The Elephant Man     </td> <td>1980</td> <td>1980  </td>\n",
       "        </tr>\n",
       "        <tr>\n",
       "            <td>425461</td> <td>8.3   </td> <td>Full Metal Jacket    </td> <td>1987</td> <td>1980  </td>\n",
       "        </tr>\n",
       "        <tr>\n",
       "            <td>441174</td> <td>8.1   </td> <td>Gone Girl            </td> <td>2014</td> <td>2010  </td>\n",
       "        </tr>\n",
       "        <tr>\n",
       "            <td>850601</td> <td>8.3   </td> <td>Batman Begins        </td> <td>2005</td> <td>2000  </td>\n",
       "        </tr>\n",
       "        <tr>\n",
       "            <td>37664 </td> <td>8.2   </td> <td>Judgment at Nuremberg</td> <td>1961</td> <td>1960  </td>\n",
       "        </tr>\n",
       "        <tr>\n",
       "            <td>46987 </td> <td>8     </td> <td>Relatos salvajes     </td> <td>2014</td> <td>2010  </td>\n",
       "        </tr>\n",
       "    </tbody>\n",
       "</table>\n",
       "<p>... (240 rows omitted)</p>"
      ],
      "text/plain": [
       "Votes  | Rating | Title                 | Year | Decade\n",
       "88355  | 8.4    | M                     | 1931 | 1930\n",
       "132823 | 8.3    | Singin' in the Rain   | 1952 | 1950\n",
       "74178  | 8.3    | All About Eve         | 1950 | 1950\n",
       "635139 | 8.6    | Léon                  | 1994 | 1990\n",
       "145514 | 8.2    | The Elephant Man      | 1980 | 1980\n",
       "425461 | 8.3    | Full Metal Jacket     | 1987 | 1980\n",
       "441174 | 8.1    | Gone Girl             | 2014 | 2010\n",
       "850601 | 8.3    | Batman Begins         | 2005 | 2000\n",
       "37664  | 8.2    | Judgment at Nuremberg | 1961 | 1960\n",
       "46987  | 8      | Relatos salvajes      | 2014 | 2010\n",
       "... (240 rows omitted)"
      ]
     },
     "execution_count": 36,
     "metadata": {},
     "output_type": "execute_result"
    }
   ],
   "source": [
    "# Simplemente ejecuta esta celda\n",
    "imdb = Table.read_table(f'imdb.csv')\n",
    "imdb"
   ]
  },
  {
   "cell_type": "markdown",
   "id": "CXywp8mFUICv",
   "metadata": {
    "id": "CXywp8mFUICv"
   },
   "source": [
    "A menudo, queremos realizar múltiples operaciones (clasificar, filtrar u otras) para convertir una tabla que tenemos en algo más útil. Puede realizar estas operaciones una por una, por ejemplo.\n",
    "\n",
    "```\n",
    "first_step = original_tbl.where(“col1”, are.equal_to(12))\n",
    "second_step = first_step.sort(‘col2’, descending=True)\n",
    "```\n",
    "Sin embargo, dado que el valor de la expresión `original_tbl.where(“col1”, are.equal_to(12))` es en sí mismo una tabla, puedes simplemente llamar a un método de tabla en él:\n",
    "```\n",
    "original_tbl.where(“col1”, are.equal_to(12)).sort(‘col2’, descending=True)\n",
    "```\n",
    "Debe organizar su trabajo de la manera que tenga más sentido para usted, utilizando nombres informativos para las tablas intermedias que cree."
   ]
  },
  {
   "cell_type": "markdown",
   "id": "2de490af",
   "metadata": {
    "deletable": false,
    "editable": false
   },
   "source": [
    "**Pregunta 4.1.** Cree una tabla de películas estrenadas entre 2010 y 2015 (inclusive) con calificaciones superiores a 8. La tabla solo debe contener las columnas `Title` and `Rating`, **en ese orden**.\n",
    "\n",
    "Asigne la tabla al nombre `above_eight`.\n",
    "\n",
    "*Pista:* Piensa en los pasos que debes seguir e intenta ordenarlos en un orden que tenga sentido. ¡Siéntete libre de crear tablas intermedias para cada paso, pero asegúrate de asignar a tu tabla final el nombre \"above_eight\"!\n"
   ]
  },
  {
   "cell_type": "code",
   "execution_count": 37,
   "id": "22853c0b",
   "metadata": {
    "tags": []
   },
   "outputs": [
    {
     "data": {
      "text/html": [
       "<table border=\"1\" class=\"dataframe\">\n",
       "    <thead>\n",
       "        <tr>\n",
       "            <th>Title</th> <th>Rating</th>\n",
       "        </tr>\n",
       "    </thead>\n",
       "    <tbody>\n",
       "        <tr>\n",
       "            <td>Gone Girl               </td> <td>8.1   </td>\n",
       "        </tr>\n",
       "        <tr>\n",
       "            <td>Warrior                 </td> <td>8.2   </td>\n",
       "        </tr>\n",
       "        <tr>\n",
       "            <td>Intouchables            </td> <td>8.5   </td>\n",
       "        </tr>\n",
       "        <tr>\n",
       "            <td>Shutter Island          </td> <td>8.1   </td>\n",
       "        </tr>\n",
       "        <tr>\n",
       "            <td>12 Years a Slave        </td> <td>8.1   </td>\n",
       "        </tr>\n",
       "        <tr>\n",
       "            <td>Inside Out (2015/I)     </td> <td>8.5   </td>\n",
       "        </tr>\n",
       "        <tr>\n",
       "            <td>Jagten                  </td> <td>8.2   </td>\n",
       "        </tr>\n",
       "        <tr>\n",
       "            <td>Toy Story 3             </td> <td>8.3   </td>\n",
       "        </tr>\n",
       "        <tr>\n",
       "            <td>How to Train Your Dragon</td> <td>8.1   </td>\n",
       "        </tr>\n",
       "        <tr>\n",
       "            <td>Interstellar            </td> <td>8.6   </td>\n",
       "        </tr>\n",
       "    </tbody>\n",
       "</table>\n",
       "<p>... (10 rows omitted)</p>"
      ],
      "text/plain": [
       "Title                    | Rating\n",
       "Gone Girl                | 8.1\n",
       "Warrior                  | 8.2\n",
       "Intouchables             | 8.5\n",
       "Shutter Island           | 8.1\n",
       "12 Years a Slave         | 8.1\n",
       "Inside Out (2015/I)      | 8.5\n",
       "Jagten                   | 8.2\n",
       "Toy Story 3              | 8.3\n",
       "How to Train Your Dragon | 8.1\n",
       "Interstellar             | 8.6\n",
       "... (10 rows omitted)"
      ]
     },
     "execution_count": 37,
     "metadata": {},
     "output_type": "execute_result"
    }
   ],
   "source": [
    "imdb = Table.read_table('imdb.csv')\n",
    "\n",
    "\n",
    "peliculas_2010_2015 = imdb.where('Year', are.between_or_equal_to(2010,2015))\n",
    "above_eight =  peliculas_2010_2015.where('Rating', are.above(8)).select(['Title', 'Rating'])\n",
    "above_eight"
   ]
  },
  {
   "cell_type": "code",
   "execution_count": 38,
   "id": "a5fb81be",
   "metadata": {
    "deletable": false,
    "editable": false
   },
   "outputs": [
    {
     "data": {
      "text/html": [
       "<p><strong><pre style='display: inline;'>q41</pre></strong> passed! 🙌</p>"
      ],
      "text/plain": [
       "q41 results: All test cases passed!"
      ]
     },
     "execution_count": 38,
     "metadata": {},
     "output_type": "execute_result"
    }
   ],
   "source": [
    "grader.check(\"q41\")"
   ]
  },
  {
   "cell_type": "markdown",
   "id": "0f1920fb",
   "metadata": {
    "deletable": false,
    "editable": false
   },
   "source": [
    "**Pregunta 4.2.** Utilice el método `num_rows` (y aritmética) para encontrar la *proporción* de películas en el `dataset` que se estrenaron entre 1900 y 1999, y la *proporción* de películas en el `dataset` que se estrenaron en el año 2000 ó después.\n",
    "\n",
    "Asigne una tabla \"proporcion_en_siglo_20\" a el número de películas en el `dataset` que se estrenaron entre 1900 y 1999, y \"proporcion_en_siglo_21\" a el número de películas en el `dataset` que se estrenaron en el año 2000 o después.\n",
    "\n",
    "*Pista:* La *proporción* de películas estrenadas en el siglo XX es la *proporción* de películas estrenadas en el siglo XX, dividida por el *número total* de películas."
   ]
  },
  {
   "cell_type": "code",
   "execution_count": 39,
   "id": "edb671d0",
   "metadata": {
    "tags": []
   },
   "outputs": [
    {
     "name": "stdout",
     "output_type": "stream",
     "text": [
      "Proporcion en el siglo  20 : 0.684\n",
      "Proporcion en el siglo  21 : 0.316\n"
     ]
    }
   ],
   "source": [
    "imdb = Table.read_table('imdb.csv')\n",
    "\n",
    "\n",
    "num_peliculas_en_dataset = imdb.num_rows\n",
    "num_en_siglo_20 = imdb.where('Year', are.between_or_equal_to(1900,1999)).num_rows\n",
    "num_en_siglo_21 = imdb.where('Year', are.above(1999)).num_rows\n",
    "proporcion_siglo_20 = num_en_siglo_20 / num_peliculas_en_dataset\n",
    "proporcion_siglo_21 = num_en_siglo_21 / num_peliculas_en_dataset\n",
    "\n",
    "\n",
    "print(\"Proporcion en el siglo  20 :\", proporcion_siglo_20)\n",
    "print(\"Proporcion en el siglo  21 :\", proporcion_siglo_21)"
   ]
  },
  {
   "cell_type": "code",
   "execution_count": 40,
   "id": "872848b7",
   "metadata": {
    "deletable": false,
    "editable": false
   },
   "outputs": [
    {
     "data": {
      "text/html": [
       "<p><strong><pre style='display: inline;'>q42</pre></strong> passed! 🌟</p>"
      ],
      "text/plain": [
       "q42 results: All test cases passed!"
      ]
     },
     "execution_count": 40,
     "metadata": {},
     "output_type": "execute_result"
    }
   ],
   "source": [
    "grader.check(\"q42\")"
   ]
  },
  {
   "cell_type": "markdown",
   "id": "m7HgCZxeUICx",
   "metadata": {
    "id": "m7HgCZxeUICx"
   },
   "source": [
    "## 5. Resumen\n",
    "\n",
    "Para su referencia, aquí hay una tabla de todas las funciones y métodos que vimos en esta práctica de laboratorio. ¡Aprenderemos más métodos para agregar a esta tabla la próxima semana!\n",
    "\n",
    "|Nombre|Ejemplo|Propósito|\n",
    "|-|-|-|\n",
    "|`sort`|`tbl.sort(\"N\")`|Crear una copia de una tabla ordenada por los valores de una columna|\n",
    "|`where`|`tbl.where(\"N\", are.above(2))`|Crea una copia de una tabla con solo las filas que coinciden con algún *predicado*|\n",
    "|`num_rows`|`tbl.num_rows`|Calcular el número de filas en una tabla|\n",
    "|`num_columns`|`tbl.num_columns`|Calcular el número de columnas en una tabla|\n",
    "|`select`|`tbl.select(\"N\")`|Crear una copia de una tabla con solo algunas de las columnas|\n",
    "|`drop`|`tbl.drop(\"N\")`|Crear una copia de una tabla sin algunas de las columnas|"
   ]
  },
  {
   "cell_type": "markdown",
   "id": "uWXNbgoiUICx",
   "metadata": {
    "id": "uWXNbgoiUICx"
   },
   "source": [
    "**¡Lego** quiere felicitarte por terminar el Laboratorio 2!\n",
    "\n",
    "<img src=\"Fig_03_lego.png\" alt=\"Picture of brown cavalier poodle dog\" width=\"300\"/>"
   ]
  },
  {
   "cell_type": "markdown",
   "id": "wBHG9VEeUICy",
   "metadata": {
    "id": "wBHG9VEeUICy"
   },
   "source": [
    "\n",
    "---\n",
    "\n",
    "¡Terminaste con el laboratorio!\n",
    "\n",
    "**Información importante sobre el envío:**\n",
    "- **Ejecuta todas las pruebas** y verifica que todas pasan\n",
    "- **Guardar** desde el menú **Archivo**\n",
    "- **Ejecute la celda final **\n",
    "- Luego, ve a este [enlace](https://cienciadatosudea.github.io/001_SitioWebFundCienciaDatos/04entregas.html) y envía el archivo ipynb a la tarea correspondiente. El nombre de esta tarea es \"Lab XX Autograder\", donde XX es el número de laboratorio: 01, 02, 03, etc.\n",
    "\n",
    "- Si terminas temprano en el laboratorio regular, **registra tu asistencia con el instructor**.\n",
    "\n",
    "**Es su responsabilidad asegurarse de que su trabajo esté guardado antes de ejecutar la última celda.**\n",
    "\n",
    "`Referencia`: Este material esta basado en [Data 8: The Foundations of Data Science](https://www.data8.org/) - University of California, Berkeley.\n"
   ]
  },
  {
   "cell_type": "markdown",
   "id": "NdRaZVDhUICy",
   "metadata": {
    "deletable": false,
    "editable": false,
    "id": "NdRaZVDhUICy"
   },
   "source": [
    "## Envío\n",
    "\n",
    "Asegúrese de haber ejecutado todas las celdas de su cuaderno en orden antes de ejecutar la siguiente celda, para que todas las imágenes/gráficos aparezcan en el resultado. La siguiente celda generará un archivo zip para que lo envíe. **¡Guarde antes de exportar!**"
   ]
  },
  {
   "cell_type": "markdown",
   "id": "ec559030",
   "metadata": {
    "deletable": false,
    "editable": false
   },
   "source": [
    "## Submission\n",
    "\n",
    "Make sure you have run all cells in your notebook in order before running the cell below, so that all images/graphs appear in the output. The cell below will generate a zip file for you to submit. **Please save before exporting!**\n",
    "\n",
    "These are some submission instructions."
   ]
  },
  {
   "cell_type": "code",
   "execution_count": 41,
   "id": "cc3443a8",
   "metadata": {
    "deletable": false,
    "editable": false
   },
   "outputs": [
    {
     "name": "stdout",
     "output_type": "stream",
     "text": [
      "Running your submission against local test cases...\n",
      "\n",
      "\n",
      "Your submission received the following results when run against available test cases:\n",
      "\n",
      "    q11 results: All test cases passed!\n",
      "\n",
      "    q21 results: All test cases passed!\n",
      "\n",
      "    q211 results: All test cases passed!\n",
      "\n",
      "    q32 results: All test cases passed!\n",
      "\n",
      "    q33 results: All test cases passed!\n",
      "\n",
      "    q34 results: All test cases passed!\n",
      "\n",
      "    q35 results: All test cases passed!\n",
      "\n",
      "    q36 results: All test cases passed!\n",
      "\n",
      "    q41 results: All test cases passed!\n",
      "\n",
      "    q42 results: All test cases passed!\n"
     ]
    },
    {
     "data": {
      "text/html": [
       "\n",
       "                    <p>\n",
       "                        Your submission has been exported. Click\n",
       "                        <a href=\"lab02_2025_05_02T20_49_38_710621.zip\" download=\"lab02_2025_05_02T20_49_38_710621.zip\" target=\"_blank\">here</a> to download\n",
       "                        the zip file.\n",
       "                    </p>\n",
       "                "
      ],
      "text/plain": [
       "<IPython.core.display.HTML object>"
      ]
     },
     "metadata": {},
     "output_type": "display_data"
    }
   ],
   "source": [
    "# Save your notebook first, then run this cell to export your submission.\n",
    "grader.export(run_tests=True)"
   ]
  },
  {
   "cell_type": "markdown",
   "id": "f467cff9",
   "metadata": {},
   "source": [
    " "
   ]
  }
 ],
 "metadata": {
  "kernelspec": {
   "display_name": "Python 3 (ipykernel)",
   "language": "python",
   "name": "python3"
  },
  "language_info": {
   "codemirror_mode": {
    "name": "ipython",
    "version": 3
   },
   "file_extension": ".py",
   "mimetype": "text/x-python",
   "name": "python",
   "nbconvert_exporter": "python",
   "pygments_lexer": "ipython3",
   "version": "3.11.6"
  },
  "otter": {
   "OK_FORMAT": true,
   "assignment_name": "lab02",
   "tests": {
    "q11": {
     "name": "q11",
     "points": 1,
     "suites": [
      {
       "cases": [
        {
         "code": ">>> assert isinstance(nuevo_anio, int)\n>>> assert np.isclose(nuevo_anio, 2025, rtol=1e-08)\n",
         "hidden": false,
         "locked": false
        }
       ],
       "scored": true,
       "setup": "",
       "teardown": "",
       "type": "doctest"
      }
     ]
    },
    "q21": {
     "name": "q21",
     "points": 1,
     "suites": [
      {
       "cases": [
        {
         "code": ">>> assert isinstance(cerca_veinte, float)\n>>> assert np.isclose(cerca_veinte * math.pi, 19.999 * math.pi, rtol=0.01)\n",
         "hidden": false,
         "locked": false
        }
       ],
       "scored": true,
       "setup": "",
       "teardown": "",
       "type": "doctest"
      }
     ]
    },
    "q211": {
     "name": "q211",
     "points": 1,
     "suites": [
      {
       "cases": [
        {
         "code": ">>> assert isinstance(floor_de_pi, int)\n>>> assert np.isclose(floor_de_pi * np.pi, 3 * np.pi, rtol=1e-08)\n",
         "hidden": false,
         "locked": false
        }
       ],
       "scored": true,
       "setup": "",
       "teardown": "",
       "type": "doctest"
      }
     ]
    },
    "q32": {
     "name": "q32",
     "points": 1,
     "suites": [
      {
       "cases": [
        {
         "code": ">>> assert isinstance(poblacion_columns, int)\n>>> assert np.isclose(poblacion_columns, 23)\n",
         "hidden": false,
         "locked": false
        }
       ],
       "scored": true,
       "setup": "",
       "teardown": "",
       "type": "doctest"
      }
     ]
    },
    "q33": {
     "name": "q33",
     "points": 1,
     "suites": [
      {
       "cases": [
        {
         "code": ">>> assert isinstance(poblacion_2018, tables.Table) == True\n>>> assert (poblacion is poblacion_2018) == False\n>>> assert np.isclose(poblacion_2018.column('2018').mean(), 420786.8, 0.1)\n",
         "hidden": false,
         "locked": false
        }
       ],
       "scored": true,
       "setup": "",
       "teardown": "",
       "type": "doctest"
      }
     ]
    },
    "q34": {
     "name": "q34",
     "points": 1,
     "suites": [
      {
       "cases": [
        {
         "code": ">>> assert isinstance(poblacion_sin_2031, tables.Table) == True\n>>> assert (poblacion_sin_2031 is poblacion) == False\n>>> assert poblacion_sin_2031.labels == ('LOCALIDAD', 'Ciudad', 'LATITUD', 'LONGITUD', '2018', '2019', '2020', '2021', '2022', '2023', '2024', '2025', '2026', '2027', '2028', '2029', '2030', '2032', '2033', '2034', '2035')\n",
         "hidden": false,
         "locked": false
        }
       ],
       "scored": true,
       "setup": "",
       "teardown": "",
       "type": "doctest"
      }
     ]
    },
    "q35": {
     "name": "q35",
     "points": 1,
     "suites": [
      {
       "cases": [
        {
         "code": ">>> assert isinstance(poblacion_2018_por_latitud, tables.Table) == True\n>>> assert poblacion_2018_por_latitud['LOCALIDAD'][0] == 'Doce de Octubre'\n>>> assert poblacion_2018_por_latitud['LOCALIDAD'][1] == 'Santa Cruz'\n>>> assert poblacion_2018_por_latitud['LOCALIDAD'][-1] == 'SUMAPAZ'\n",
         "hidden": false,
         "locked": false
        }
       ],
       "scored": true,
       "setup": "",
       "teardown": "",
       "type": "doctest"
      }
     ]
    },
    "q36": {
     "name": "q36",
     "points": 1,
     "suites": [
      {
       "cases": [
        {
         "code": ">>> assert isinstance(poblacion_medellin, tables.Table) == True\n>>> assert (poblacion_medellin is poblacion_2018_por_latitud) == False\n>>> assert np.isclose(poblacion_medellin.column('LONGITUD').mean(), -75.579, 0.01)\n",
         "hidden": false,
         "locked": false
        }
       ],
       "scored": true,
       "setup": "",
       "teardown": "",
       "type": "doctest"
      }
     ]
    },
    "q41": {
     "name": "q41",
     "points": null,
     "suites": [
      {
       "cases": [
        {
         "code": ">>> assert (above_eight is imdb) == False\n>>> assert np.isclose(above_eight.num_columns, 2, rtol=0.001) == True\n>>> assert np.isclose(above_eight.num_rows, 20, rtol=0.001) == True\n>>> assert np.isclose(above_eight.column('Rating').mean(), 8.29, rtol=0.001) == True\n",
         "hidden": false,
         "locked": false
        }
       ],
       "scored": true,
       "setup": "",
       "teardown": "",
       "type": "doctest"
      }
     ]
    },
    "q42": {
     "name": "q42",
     "points": 1,
     "suites": [
      {
       "cases": [
        {
         "code": ">>> assert isinstance(proporcion_siglo_20, float) == True\n>>> assert isinstance(proporcion_siglo_21, float) == True\n>>> assert np.isclose(proporcion_siglo_20 * 4, 0.684 * 4, rtol=0.1) == True\n>>> assert np.isclose(proporcion_siglo_21 * 2.5, 0.316 * 2.5, rtol=0.1) == True\n",
         "hidden": false,
         "locked": false
        }
       ],
       "scored": true,
       "setup": "",
       "teardown": "",
       "type": "doctest"
      }
     ]
    }
   }
  }
 },
 "nbformat": 4,
 "nbformat_minor": 5
}
