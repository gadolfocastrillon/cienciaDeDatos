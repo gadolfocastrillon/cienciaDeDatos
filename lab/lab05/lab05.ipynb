{
 "cells": [
  {
   "cell_type": "code",
   "execution_count": null,
   "id": "f44cc074",
   "metadata": {
    "deletable": false,
    "editable": false
   },
   "outputs": [],
   "source": [
    "# Initialize Otter\n",
    "import otter\n",
    "grader = otter.Notebook(\"lab05.ipynb\")"
   ]
  },
  {
   "cell_type": "markdown",
   "id": "65509495",
   "metadata": {
    "deletable": true,
    "editable": true
   },
   "source": [
    "\n",
    "<p><img alt=\"Colaborat\" style=\"height: 220px;\" src=\"https://github.com/CienciaDatosUdea/001_DataSetFundCienciaDatos/blob/main/semestre2024-2/lab/lab02/Escudo-UdeA.svg.png?raw=true\" align=\"left\" hspace=\"10px\" vspace=\"0px\"></p>\n",
    "\n",
    "\n",
    "# Fundamentos en ciencias de datos\n",
    "\n",
    "\n",
    "\n",
    "# Laboratorio 5: Simulaciones\n",
    "\n",
    "¡Bienvenido al Laboratorio 5!\n",
    "\n",
    "Revisaremos la [iteración](https://www.inferentialthinking.com/chapters/09/2/Iteration.html) y las [simulaciones](https://www.inferentialthinking.com/chapters/09/3/Simulation.html), así como introduciremos el concepto de [aleatoriedad](https://www.inferentialthinking.com/chapters/09/Randomness.html).\n",
    "\n"
   ]
  },
  {
   "cell_type": "code",
   "execution_count": null,
   "id": "b3bf339b",
   "metadata": {
    "deletable": true,
    "editable": true
   },
   "outputs": [],
   "source": [
    "# These lines import the Numpy and Datascience modules.\n",
    "import numpy as np\n",
    "from datascience import *\n",
    "\n",
    "# These lines do some fancy plotting magic\n",
    "import matplotlib\n",
    "%matplotlib inline\n",
    "import matplotlib.pyplot as plt\n",
    "plt.style.use('fivethirtyeight')"
   ]
  },
  {
   "cell_type": "markdown",
   "id": "b3557071-7afc-4f7c-b34f-b57ed44bc0be",
   "metadata": {
    "deletable": false,
    "editable": false
   },
   "source": [
    "<!-- BEGIN QUESTION -->\n",
    "\n",
    "Ingresa tu nombre  con apellido y número de carnet en las variables dadas en la celda siguiente:\n",
    "Ejemplo:\n",
    "```python\n",
    "NombreApellidos=\"Ada Lovelace\"\n",
    "NumeroCarnet=\"3141592\"\n",
    "Email=\"Ada.Lovelace@udea.edu.co\"\n",
    "```"
   ]
  },
  {
   "cell_type": "code",
   "execution_count": null,
   "id": "89c4f9b6-fa73-4444-80f5-67f2c6829d9b",
   "metadata": {
    "tags": []
   },
   "outputs": [],
   "source": [
    "Nombre = \"...\"\n",
    "Carnet = \"...\""
   ]
  },
  {
   "cell_type": "markdown",
   "id": "e8371830",
   "metadata": {
    "deletable": false,
    "editable": false
   },
   "source": [
    "<!-- END QUESTION -->\n",
    "\n",
    "## 1. Nachos y Condicionales\n",
    "\n",
    "En esta sección, nos centraremos en el concepto de condicionales, que es esencialmente cómo tomamos decisiones en los programas utilizando estructuras como \"if...else\". Imagínate que tienes un plato de nachos y estás decidiendo si agregar más salsa o queso. Usarías un condicional para \"decidir\" qué acción tomar dependiendo de si hay suficiente salsa o queso. Este tipo de lógica es lo que intentaremos aplicar en nuestros ejercicios."
   ]
  },
  {
   "cell_type": "markdown",
   "id": "11d7d82f",
   "metadata": {
    "deletable": true,
    "editable": true
   },
   "source": [
    "En Python, el booleano es un tipo de dato con solo dos valores posibles: `True` y `False`. Las expresiones que contienen operadores de comparación como `<` (menor que), `>` (mayor que) y `==` (igual a) se evalúan en valores booleanos. ¡A continuación puedes encontrar una lista de operadores de comparación comunes!\n",
    "\n",
    "| Comparación            | Operador | Ejemplo verdadero | Ejemplo falso |\n",
    "|------------------------|----------|-------------------|---------------|\n",
    "| Menor que              | `<`      | `2 < 3`           | `2 < 2`       |\n",
    "| Mayor que              | `>`      | `3 > 2`           | `3 > 3`       |\n",
    "| Menor o igual que      | `<=`     | `2 <= 2`          | `3 <= 2`      |\n",
    "| Mayor o igual que      | `>=`     | `3 >= 3`          | `2 >= 3`      |\n",
    "| Igual                  | `==`     | `3 == 3`          | `3 == 2`      |\n",
    "| No igual               | `!=`     | `3 != 2`          | `2 != 2`      |"
   ]
  },
  {
   "cell_type": "markdown",
   "id": "5fb72665",
   "metadata": {
    "deletable": true,
    "editable": true
   },
   "source": [
    "Ejecuta la celda a continuación para ver un ejemplo de un operador de comparación en acción."
   ]
  },
  {
   "cell_type": "code",
   "execution_count": null,
   "id": "767ef102",
   "metadata": {
    "deletable": true,
    "editable": true
   },
   "outputs": [],
   "source": [
    "3 > (1 + 1)"
   ]
  },
  {
   "cell_type": "markdown",
   "id": "9bf6b1d9",
   "metadata": {
    "deletable": true,
    "editable": true
   },
   "source": [
    "Podemos incluso asignar el resultado de una operación de comparación a una variable. Nota que `==` y `=` **no** son lo mismo."
   ]
  },
  {
   "cell_type": "code",
   "execution_count": null,
   "id": "1d20feb5",
   "metadata": {
    "deletable": true,
    "editable": true
   },
   "outputs": [],
   "source": [
    "result = 10 / 2 == 5\n",
    "result"
   ]
  },
  {
   "cell_type": "markdown",
   "id": "75a902aa",
   "metadata": {
    "deletable": true,
    "editable": true
   },
   "source": [
    "Así como los operadores aritméticos pueden aplicarse a cada elemento de un arreglo, los operadores de comparación también pueden utilizarse en arreglos para comparar todo un arreglo con algún valor. El resultado de esta comparación es un arreglo de valores booleanos."
   ]
  },
  {
   "cell_type": "code",
   "execution_count": null,
   "id": "bfdc4ff2",
   "metadata": {
    "deletable": true,
    "editable": true
   },
   "outputs": [],
   "source": [
    "make_array(1, 5, 7, 8, 3, -1) > 3"
   ]
  },
  {
   "cell_type": "markdown",
   "id": "76299a45",
   "metadata": {
    "deletable": true,
    "editable": true
   },
   "source": [
    "Spongamos que ves un plato de nachos esperando en la mesa del comedor. Supongamos que cada vez que tomas un nacho del plato, puede tener solo **queso**, solo **guacamole**, **ambos** queso y guacamole, o **ninguno** de los dos. \n",
    "\n",
    "Intentemos simular sacar nachos del cuenco al azar usando la función `np.random.choice(...)`."
   ]
  },
  {
   "cell_type": "markdown",
   "id": "f886867f",
   "metadata": {
    "deletable": true,
    "editable": true
   },
   "source": [
    "### `np.random.choice`\n",
    "\n",
    "`np.random.choice` elige un elemento al azar del arreglo dado. Es igualmente probable elegir cualquiera de los elementos. Ejecuta la celda a continuación varias veces y observa cómo cambian los resultados. _Consejo:_ Para ejecutar una celda varias veces, puedes usar el atajo de teclado `ctrl` + `return`."
   ]
  },
  {
   "cell_type": "code",
   "execution_count": null,
   "id": "e759d64b",
   "metadata": {
    "deletable": true,
    "editable": true
   },
   "outputs": [],
   "source": [
    "nachos = make_array('queso', 'gucamole', 'ambos', 'ninguno')\n",
    "np.random.choice(nachos)"
   ]
  },
  {
   "cell_type": "markdown",
   "id": "01e21c06",
   "metadata": {
    "deletable": true,
    "editable": true
   },
   "source": [
    "Para repetir este proceso múltiples veces, pasa un entero `n` como segundo argumento para devolver `n` elecciones aleatorias diferentes. Por defecto, `np.random.choice` realiza muestras **con reemplazo** y devuelve un *array* de elementos. Tomar muestras **con reemplazo** significa que, después de elegir un elemento, este se devuelve al lugar de donde se está muestreando y puede ser elegido nuevamente en el futuro. Si tomamos `n` muestras con reemplazo, cada vez, cada elemento tiene la misma probabilidad de ser seleccionado.\n",
    "\n",
    "Ejecuta la siguiente celda para ver un ejemplo de muestreo con reemplazo 10 veces del array `nachos`."
   ]
  },
  {
   "cell_type": "code",
   "execution_count": null,
   "id": "daa203d6",
   "metadata": {
    "deletable": true,
    "editable": true
   },
   "outputs": [],
   "source": [
    "np.random.choice(nachos, 10)"
   ]
  },
  {
   "cell_type": "markdown",
   "id": "838c7243",
   "metadata": {
    "deletable": true,
    "editable": true
   },
   "source": [
    "Para contar la cantidad de veces que un cierto tipo de nacho es elegido aleatoriamente, podemos usar `np.count_nonzero`."
   ]
  },
  {
   "cell_type": "markdown",
   "id": "bf40feba",
   "metadata": {
    "deletable": true,
    "editable": true
   },
   "source": [
    "### `np.count_nonzero`\n",
    "\n",
    "`np.count_nonzero` cuenta el número de valores diferentes de cero que aparecen en un arreglo. Cuando se pasa un arreglo de valores booleanos a través de la función, contará el número de valores `True` (recuerda que en Python, **`True` se codifica como 1 y `False` se codifica como 0.**)\n",
    "\n",
    "Ejecuta la siguiente celda para ver un ejemplo que utiliza `np.count_nonzero`."
   ]
  },
  {
   "cell_type": "code",
   "execution_count": null,
   "id": "7b9cfe99",
   "metadata": {
    "deletable": true,
    "editable": true
   },
   "outputs": [],
   "source": [
    "np.count_nonzero(make_array(True, False, False, True, True))"
   ]
  },
  {
   "cell_type": "markdown",
   "id": "ad0b4c5b",
   "metadata": {
    "deletable": false,
    "editable": false
   },
   "source": [
    "**Pregunta 1.1** Supongamos que seleccionamos diez nachos al azar y almacenamos los resultados en un arreglo llamado `diez_nachos`.\n",
    "\n",
    "**Usando código, encuentra cuántos de esos nachos tienen solo queso.**  Almacena el resultado en una variable  llamada `numero_quesos`\n",
    "No ingreses la respuesta manualmente.\n",
    "\n",
    "*Pista:* Utiliza un operador de comparación (como `==`, `<`, etc.) junto con el método `np.count_nonzero`."
   ]
  },
  {
   "cell_type": "code",
   "execution_count": null,
   "id": "64f90251",
   "metadata": {
    "tags": []
   },
   "outputs": [],
   "source": [
    "diez_nachos = np.random.choice(nachos, 10)\n",
    "numero_quesos=...\n"
   ]
  },
  {
   "cell_type": "code",
   "execution_count": null,
   "id": "2968f839",
   "metadata": {
    "deletable": false,
    "editable": false
   },
   "outputs": [],
   "source": [
    "grader.check(\"q0\")"
   ]
  },
  {
   "cell_type": "markdown",
   "id": "084abf51",
   "metadata": {
    "deletable": true,
    "editable": true
   },
   "source": [
    "**Instrucciones Condicionales**\n",
    "\n",
    "Una instrucción condicional es una declaración de varias líneas que permite a Python elegir entre diferentes alternativas basadas en el valor de verdad de una expresión.\n",
    "\n",
    "Aquí tienes un ejemplo básico.\n",
    "\n",
    "```python\n",
    "def sign(x):\n",
    "    if x > 0:\n",
    "        return 'Positive'\n",
    "    else:\n",
    "        return 'Negative'\n",
    "```\n",
    "\n",
    "Si la entrada `x` es mayor que `0`, devolvemos la cadena `'Positive'`. De lo contrario, devolvemos `'Negative'`.\n",
    "\n",
    "Si queremos probar múltiples condiciones a la vez, utilizamos el siguiente formato general.\n",
    "\n",
    "```python\n",
    "if <if expression>:\n",
    "    <if body>\n",
    "elif <elif expression 0>:\n",
    "    <elif body 0>\n",
    "elif <elif expression 1>:\n",
    "    <elif body 1>\n",
    "...\n",
    "else:\n",
    "    <else body>\n",
    "```\n",
    "\n",
    "Solo se evaluará el cuerpo de la primera expresión condicional que sea verdadera. Cada expresión `if` y `elif` se evalúa y considera en orden, comenzando desde la parte superior. `elif` solo se puede usar si le precede una cláusula `if`. Tan pronto como se encuentre un valor verdadero, se ejecuta el cuerpo correspondiente, y el resto de la instrucción condicional se omite. Si ninguna de las expresiones `if` o `elif` es verdadera, entonces se ejecuta el `else body`.\n",
    "\n",
    "Para más ejemplos y explicaciones, consulta la sección sobre instrucciones condicionales [aquí](https://inferentialthinking.com/chapters/09/1/Conditional_Statements.html)."
   ]
  },
  {
   "cell_type": "markdown",
   "id": "060556b3",
   "metadata": {
    "deletable": false,
    "editable": false
   },
   "source": [
    "**Pregunta 1.2** Completa la siguiente declaración condicional.  Si la cantidad de nachos con queso en `diez_nachos` es menor que `5`, asigne a la variable `mas`  la cadena `'mas por favor'`.  Usa la declaración if para hacerlo.\n",
    "\n",
    "*Pista*: Deberías estar utilizando `numero_quesos` de la Pregunta 1."
   ]
  },
  {
   "cell_type": "code",
   "execution_count": null,
   "id": "bdd59bf5",
   "metadata": {
    "tags": []
   },
   "outputs": [],
   "source": [
    "\n",
    "if ...:\n",
    "    mas = 'mas por favor'\n",
    "mas\n"
   ]
  },
  {
   "cell_type": "code",
   "execution_count": null,
   "id": "3076056e",
   "metadata": {
    "deletable": false,
    "editable": false
   },
   "outputs": [],
   "source": [
    "grader.check(\"q1\")"
   ]
  },
  {
   "cell_type": "markdown",
   "id": "3c036af8",
   "metadata": {
    "deletable": false,
    "editable": false
   },
   "source": [
    "**Pregunta 1.3** Escribe una función llamada `nacho_reaccion` que devuelva una reacción (como una cadena de texto) basada en el tipo de nacho que se pase como argumento. Usa la tabla a continuación para hacer coincidir el tipo de nacho con la reacción correspondiente.\n",
    "\n",
    "\n",
    "| Tipo de Nacho | Reacción  |\n",
    "|----------------|-----------|\n",
    "| queso          | ¡quesudo! |\n",
    "| gucamole          | ¡cremosito! |\n",
    "| ambos          | ¡wow!    |\n",
    "| ninguno        | ¡meh!      |\n",
    "\n",
    "\n",
    "*Pista:* Si no pasa la prueba, verifica la ortografía de tus reacciones."
   ]
  },
  {
   "cell_type": "code",
   "execution_count": null,
   "id": "3f963e1e-9045-42ce-8b37-d9fee363cb1b",
   "metadata": {
    "tags": []
   },
   "outputs": [],
   "source": []
  },
  {
   "cell_type": "code",
   "execution_count": null,
   "id": "1df62a0d",
   "metadata": {
    "tags": []
   },
   "outputs": [],
   "source": [
    "def nacho_reaccion(nacho):\n",
    "    if nacho == \"queso\":\n",
    "        return ...\n",
    "    elif ...\n",
    "    \n",
    "nacho_quesudo = nacho_reaccion('guacamole')\n",
    "nacho_quesudo"
   ]
  },
  {
   "cell_type": "code",
   "execution_count": null,
   "id": "14ed0226",
   "metadata": {
    "deletable": false,
    "editable": false
   },
   "outputs": [],
   "source": [
    "grader.check(\"q2\")"
   ]
  },
  {
   "cell_type": "markdown",
   "id": "9e9f8eca",
   "metadata": {
    "deletable": false,
    "editable": false
   },
   "source": [
    "**Pregunta 1.4** Crea una tabla `diez_nachos_reaccions` que consista en los nachos de `diez_nachos` así como las reacciones para cada uno de esos nachos. Las columnas deben llamarse `Nachos` y `Reacciones`.\n",
    "\n",
    "*Pista:* Considera usar el método `apply`, que retorna un arreglo."
   ]
  },
  {
   "cell_type": "code",
   "execution_count": null,
   "id": "bd48b1e3",
   "metadata": {
    "tags": []
   },
   "outputs": [],
   "source": [
    "diez_nachos_tbl = Table().with_column('Nachos', diez_nachos)\n",
    "diez_nachos_reacciones = ...\n",
    "diez_nachos_reacciones\n",
    "\n"
   ]
  },
  {
   "cell_type": "code",
   "execution_count": null,
   "id": "3e758cd7",
   "metadata": {
    "deletable": false,
    "editable": false
   },
   "outputs": [],
   "source": [
    "grader.check(\"q14\")"
   ]
  },
  {
   "cell_type": "markdown",
   "id": "9a5d2749",
   "metadata": {
    "deletable": false,
    "editable": false
   },
   "source": [
    "**Pregunta 1.5** Utilizando código, encuentra el número de reacciones 'wow!' para los nachos en `diez_nachos_reactions`."
   ]
  },
  {
   "cell_type": "code",
   "execution_count": null,
   "id": "ff7fd797",
   "metadata": {
    "tags": []
   },
   "outputs": [],
   "source": [
    "numero_wow_reacciones = ...\n",
    "numero_wow_reacciones\n"
   ]
  },
  {
   "cell_type": "code",
   "execution_count": null,
   "id": "019c74d4",
   "metadata": {
    "deletable": false,
    "editable": false
   },
   "outputs": [],
   "source": [
    "grader.check(\"q15\")"
   ]
  },
  {
   "cell_type": "markdown",
   "id": "ed9dc0b4",
   "metadata": {
    "deletable": true,
    "editable": true
   },
   "source": [
    "## 2. Simulaciones y Ciclos For\n",
    "\n",
    "Usando una declaración `for`, podemos realizar una tarea varias veces. Esto se conoce como iteración. La estructura general de un ciclo for es:\n",
    "\n",
    "`for <placeholder> in <array>:` \n",
    "\n",
    "seguido por líneas de código indentadas que se repiten para cada elemento del `array` que se está iterando. Puedes leer más sobre ciclos for [aquí](https://www.inferentialthinking.com/chapters/09/2/Iteration.html).\n",
    "\n",
    "\n",
    "**NOTA:** A menudo usamos `i` como el `placeholder`(Marcador de posición) en nuestros ejemplos de clase, ¡pero podrías nombrarlo de cualquier forma! Algunos ejemplos se pueden encontrar a continuación."
   ]
  },
  {
   "cell_type": "markdown",
   "id": "0af005f8",
   "metadata": {
    "deletable": true,
    "editable": true
   },
   "source": [
    "Un uso de la iteración es recorrer un conjunto de valores. Por ejemplo, podemos imprimir todos los colores del arcoíris."
   ]
  },
  {
   "cell_type": "code",
   "execution_count": null,
   "id": "73c0e7ab",
   "metadata": {
    "deletable": true,
    "editable": true
   },
   "outputs": [],
   "source": [
    "arcoiris = make_array(\"rojo\", \"naranja\", \"amarillo\", \"verde\", \"azul\", \"índigo\", \"violeta\")\n",
    "\n",
    "for color in arcoiris:\n",
    "    print(color)"
   ]
  },
  {
   "cell_type": "markdown",
   "id": "030b9f98",
   "metadata": {
    "deletable": true,
    "editable": true
   },
   "source": [
    "Podemos ver que la parte indentada del ciclo `for`, conocida como el cuerpo, se ejecuta una vez por cada elemento en `arcoiris`. El nombre `color` se le asigna al siguiente valor en `arcoiris` al inicio de cada iteración. Nota que el nombre `color` es arbitrario; podríamos fácilmente haberlo nombrado de otra manera. Sea cual sea el nombre que elijamos, necesitamos usarlo de manera consistente a lo largo del ciclo `for`."
   ]
  },
  {
   "cell_type": "code",
   "execution_count": null,
   "id": "f03b076a",
   "metadata": {
    "deletable": true,
    "editable": true
   },
   "outputs": [],
   "source": [
    "for otro_nombre in arcoiris:\n",
    "    print(otro_nombre)"
   ]
  },
  {
   "cell_type": "markdown",
   "id": "d50e7ff2",
   "metadata": {
    "deletable": true,
    "editable": true
   },
   "source": [
    "En general, sin embargo, nos gustaría que el nombre de la variable sea algo informativo."
   ]
  },
  {
   "cell_type": "markdown",
   "id": "9ef26579",
   "metadata": {
    "deletable": false,
    "editable": false
   },
   "source": [
    "**Pregunta 2.1** \n",
    "\n",
    "En la siguiente celda, hemos cargado el texto de _las mil y una noche_, lo hemos separado en palabras individuales y hemos almacenado estas palabras en un arreglo llamado `palabras`.\n",
    "Usando un ciclo for, asigna a `mas_de_cinco` el número de palabras en la novela que tienen más de 5 letras.\n",
    "\n",
    "Sugerencia: Puedes encontrar el número de letras en una palabra con la función len.\n",
    "\n",
    "Sugerencia: ¿Cómo puedes utilizar mas_de_cinco para llevar un registro del número de palabras que tienen más de cinco letras?\n",
    "\n"
   ]
  },
  {
   "cell_type": "code",
   "execution_count": null,
   "id": "74fc10b2",
   "metadata": {
    "tags": []
   },
   "outputs": [],
   "source": [
    "import urllib.request\n",
    "url = \"https://www.gutenberg.org/cache/epub/47287/pg47287.txt\"\n",
    "respuesta = urllib.request.urlopen(url)\n",
    "texto = respuesta.read().decode(\"utf-8\")\n",
    "\n",
    "# Separar en palabras individuales\n",
    "palabras = np.array(texto.split())\n"
   ]
  },
  {
   "cell_type": "code",
   "execution_count": null,
   "id": "ad7052a5",
   "metadata": {
    "deletable": false,
    "editable": false
   },
   "outputs": [],
   "source": [
    "grader.check(\"q5\")"
   ]
  },
  {
   "cell_type": "markdown",
   "id": "9248d405",
   "metadata": {
    "deletable": true,
    "editable": true
   },
   "source": [
    "Otra forma en la que podemos usar los bucles `for` es repitiendo líneas de código muchas veces. Recordemos la estructura de un bucle `for`:\n",
    "\n",
    "`for <placeholder> in <array>:` seguido por líneas de código indentadas que se repiten para cada elemento del arreglo sobre el que se está iterando.\n",
    "\n",
    "A veces, no nos interesa cuál es el valor del marcador de posición. En cambio, aprovechamos el hecho de que el bucle `for` se repetirá tantas veces como la longitud de nuestro arreglo. En la siguiente celda, iteramos a través de un arreglo de longitud 5 e imprimimos \"Hello, world!\" en cada iteración, pero no necesitamos usar el marcador de posición `i` en el cuerpo de nuestro bucle `for`.\n"
   ]
  },
  {
   "cell_type": "code",
   "execution_count": null,
   "id": "404f075f",
   "metadata": {
    "deletable": true,
    "editable": true
   },
   "outputs": [],
   "source": [
    "for i in np.arange(5):\n",
    "    print(\"Hola mundo !\")"
   ]
  },
  {
   "cell_type": "markdown",
   "id": "b5b6a96d",
   "metadata": {
    "deletable": false,
    "editable": false
   },
   "source": [
    "**Pregunta 2.2** \n",
    "\n",
    "Utilizando una simulación con 10,000 experimentos, asigna a la variable `num_diferentes` el número de veces que dos palabras, seleccionadas al azar con reemplazo del texto \"Las mil y una noches\", no son iguales.\n",
    "\n",
    "*Pista 1*: ¿Qué función usamos en la sección 1 para muestrear al azar con reemplazo de un arreglo?\n",
    "\n",
    "*Pista 2*: Recuerda que `!=` verifica la desigualdad entre dos elementos."
   ]
  },
  {
   "cell_type": "code",
   "execution_count": null,
   "id": "653b8085",
   "metadata": {
    "tags": []
   },
   "outputs": [],
   "source": [
    "numero_repeticiones = 10_000\n",
    "numero_diferentes = 0\n",
    "\n",
    "for ... in ...:\n",
    "    ...\n",
    "numero_diferentes\n"
   ]
  },
  {
   "cell_type": "code",
   "execution_count": null,
   "id": "12d14ebe",
   "metadata": {
    "deletable": false,
    "editable": false
   },
   "outputs": [],
   "source": [
    "grader.check(\"q6\")"
   ]
  },
  {
   "cell_type": "markdown",
   "id": "72502504",
   "metadata": {
    "deletable": true,
    "editable": true
   },
   "source": [
    "# Muestreo en datos biológicos\n",
    "\n",
    "En esta sección introduciremos el concepto de muestreo, una herramienta fundamental en estudios biológicos. En la práctica, rara vez podemos medir toda una población de organismos (plantas, animales, células, etc.). Por ello, tomamos muestras y usamos sus propiedades para estimar parámetros poblacionales.\n",
    "Trabajaremos con un conjunto de datos clásico en biología: el dataset Iris. Este contiene mediciones morfológicas de tres especies de flores del género Iris:\n",
    "\n",
    "- Iris setosa\n",
    "- Iris versicolor\n",
    "- Iris virginica\n",
    "\n",
    "Cada flor tiene medidas de:\n",
    "\n",
    "- Longitud y ancho del sépalo\n",
    "- Longitud y ancho del pétalo\n",
    "\n",
    "Si deseas repasar los distintos tipos de muestreo (aleatorio, estratificado, sistemático), puedes consultar la Sección 10 del libro de texto.\n"
   ]
  },
  {
   "cell_type": "code",
   "execution_count": null,
   "id": "7454c6ba",
   "metadata": {
    "deletable": true,
    "editable": true
   },
   "outputs": [],
   "source": [
    "datos_iris = Table.read_table(\"https://raw.githubusercontent.com/uiuc-cse/data-fa14/gh-pages/data/iris.csv\")\n",
    "\n",
    "# Mostrar las primeras 3 filas\n",
    "print(\"Datos de flores Iris:\")\n",
    "datos_iris.show(3)"
   ]
  },
  {
   "cell_type": "markdown",
   "id": "f9cb8c2d",
   "metadata": {
    "deletable": true,
    "editable": true
   },
   "source": [
    "En lugar de contar con información completa de cada flor del conjunto de datos Iris, imaginemos que solo tenemos acceso a un subconjunto más pequeño de muestras.\n",
    "Este conjunto contiene datos morfológicos de 150 flores, y aunque no es una cantidad abrumadora, en estudios reales de campo o laboratorio no siempre es posible medir todos los ejemplares de una población biológica. A menudo debemos trabajar solo con una muestra parcial.\n",
    "\n",
    "\n",
    "Si queremos hacer estimaciones sobre alguna propiedad numérica de la población —como la longitud promedio del pétalo o del sépalo— es probable que tengamos que basarnos únicamente en esta muestra.\n",
    "\n",
    "\n",
    "La propiedad numérica real de toda la población (por ejemplo, la media de la longitud del pétalo considerando todas las flores) se llama un parámetro.\n",
    "La estimación obtenida a partir de una muestra (como la media de esa propiedad en una muestra aleatoria de 30 flores) se llama un estadístico.\n",
    "\n",
    "La utilidad de estos estadísticos dependerá de cómo se seleccionó la muestra. ¿Fue aleatoria? ¿Representa bien la diversidad de especies en el conjunto completo?\n",
    "\n",
    "\n",
    "Hemos preparado algunos ejemplos de subconjuntos de muestra para que observes cómo se comparan con los valores reales del conjunto completo de datos Iris. Más adelante, te pediremos que generes tus propias muestras y analices cómo varían los estadísticos obtenidos."
   ]
  },
  {
   "cell_type": "markdown",
   "id": "6015917a",
   "metadata": {
    "deletable": true,
    "editable": true
   },
   "source": [
    "Para ahorrar escritura y aumentar la claridad de tu código, empaquetaremos el código de análisis en unas pocas funciones. Esto será útil en el resto del laboratorio, ya que necesitaremos repetidamente crear histogramas y recopilar estadísticas resumidas de esos datos."
   ]
  },
  {
   "cell_type": "code",
   "execution_count": null,
   "id": "9d608c75",
   "metadata": {
    "deletable": true,
    "editable": true,
    "scrolled": true
   },
   "outputs": [],
   "source": [
    "def histogramas_iris(tabla):\n",
    "    # Definir los bins (intervalos) para cada variable\n",
    "    bins_longitud_petalo = np.arange(0, 8.1, 0.5)      # Longitudes de pétalo entre 0 y 8 cm\n",
    "    bins_ancho_sepalo = np.arange(2.0, 4.6, 0.2)       # Anchos de sépalo entre 2 y 4.5 cm\n",
    "\n",
    "    # Histograma para la longitud del pétalo\n",
    "    tabla.hist(\"petal_length\", bins=bins_longitud_petalo, unit=\"cm\")\n",
    "    \n",
    "    # Histograma para el ancho del sépalo\n",
    "    tabla.hist(\"sepal_width\", bins=bins_ancho_sepalo, unit=\"cm\")\n",
    "\n",
    "# Ejecutar la función con los datos completos\n",
    "histogramas_iris(datos_iris)\n"
   ]
  },
  {
   "cell_type": "markdown",
   "id": "9f97fde0",
   "metadata": {
    "deletable": false,
    "editable": false
   },
   "source": [
    "**Pregunta 3.1**. \n",
    "\n",
    "Crea una función llamada `calcular_estadisticos` que tome una tabla que contenga una columna \"petal_length\" (longitud del pétalo) y una columna \"sepal_width\" (ancho del sépalo), y que:\n",
    "\n",
    "- Dibuje un histograma de la longitud del pétalo.\n",
    "- Dibuje un histograma del ancho del sépalo.\n",
    "- Devuelva un arreglo de dos elementos que contenga:\n",
    "    - La longitud promedio del pétalo.\n",
    "    - El ancho promedio del sépalo.\n",
    "\n",
    "Puedes utilizar la función histogramas_iris para graficar los histogramas. "
   ]
  },
  {
   "cell_type": "code",
   "execution_count": null,
   "id": "d5c4c14d",
   "metadata": {
    "tags": []
   },
   "outputs": [],
   "source": [
    "def calcular_estadisticos(tabla):\n",
    "    histogramas_iris(tabla)\n",
    "    longitud_promedio_petalo = ...\n",
    "    ancho_promedio_sepalo =...\n",
    "\n",
    "    \n",
    "    return ...\n",
    "estadisticos = calcular_estadisticos(datos_iris)\n",
    "estadisticos = calcular_estadisticos(datos_iris)"
   ]
  },
  {
   "cell_type": "code",
   "execution_count": null,
   "id": "523fb873-c2e8-4558-ba40-9185d8569b3b",
   "metadata": {
    "tags": []
   },
   "outputs": [],
   "source": [
    "estadisticos"
   ]
  },
  {
   "cell_type": "code",
   "execution_count": null,
   "id": "9a501711",
   "metadata": {
    "deletable": false,
    "editable": false
   },
   "outputs": [],
   "source": [
    "grader.check(\"q7\")"
   ]
  },
  {
   "cell_type": "markdown",
   "id": "62698240",
   "metadata": {
    "deletable": true,
    "editable": true
   },
   "source": [
    "### Muestra aleatoria simple\n",
    "\n",
    "Un enfoque  consiste en tomar muestras de forma uniforme y aleatoria de los individuos en estudio. En una muestra aleatoria simple (SRS) sin reemplazo, nos aseguramos de que cada individuo tenga la misma probabilidad de ser seleccionado, y que ningún individuo sea elegido más de una vez.\n",
    "Imagina escribir el nombre de cada flor (o individuo) en una tarjeta, colocar todas las tarjetas en una caja, y mezclarla bien. Luego, sacas las tarjetas una por una sin devolverlas a la caja, hasta alcanzar el tamaño de muestra deseado."
   ]
  },
  {
   "cell_type": "markdown",
   "id": "bdf75c15",
   "metadata": {
    "deletable": true,
    "editable": true
   },
   "source": [
    "### Produciendo muestras aleatorias simples\n",
    "\n",
    "A veces, es útil tomar muestras aleatorias incluso cuando tenemos los datos de toda la población. Esto nos ayuda a comprender la precisión del muestreo.\n",
    "\n",
    "### `sample`\n",
    "\n",
    "El método de la tabla `sample` produce una muestra aleatoria de la tabla. Por defecto, selecciona al azar **con reemplazo** de las filas de una tabla. Muestrear con reemplazo significa que para cualquier fila seleccionada al azar, existe la posibilidad de que pueda ser seleccionada nuevamente si muestreamos múltiples veces. `Sample` toma como argumento el tamaño de la muestra y devuelve una **tabla** con solo las filas que fueron seleccionadas. Esto difiere de `np.random.choice`, que toma un arreglo y produce un valor aleatorio del mismo.\n",
    "\n",
    "Ejecuta la celda a continuación para ver un ejemplo de llamada a `sample()` con un tamaño de muestra de 5, con reemplazo."
   ]
  },
  {
   "cell_type": "code",
   "execution_count": null,
   "id": "aea69245",
   "metadata": {
    "deletable": true,
    "editable": true
   },
   "outputs": [],
   "source": [
    "# Just run this cell\n",
    "muestra_aleatoria = datos_iris.sample(5)\n",
    "muestra_aleatoria.show()"
   ]
  },
  {
   "cell_type": "markdown",
   "id": "8e35c7fa",
   "metadata": {
    "deletable": true,
    "editable": true
   },
   "source": [
    "El argumento opcional `with_replacement=False` se puede pasar a través de `sample()` para especificar que la muestra debe extraerse sin reemplazo.\n",
    "\n",
    "Ejecuta la siguiente celda para ver un ejemplo de llamada a `sample()` con un tamaño de muestra de 5, sin reemplazo."
   ]
  },
  {
   "cell_type": "code",
   "execution_count": null,
   "id": "0dee61d7",
   "metadata": {
    "deletable": true,
    "editable": true
   },
   "outputs": [],
   "source": [
    "# Just run this cell\n",
    "\n",
    "datos_iris.sample(5, with_replacement=False)\n"
   ]
  },
  {
   "cell_type": "markdown",
   "id": "d4f10e35",
   "metadata": {
    "deletable": false,
    "editable": false
   },
   "source": [
    "**Pregunta 3.2** Genera una muestra aleatoria simple sin reemplazo de tamaño 44 a partir de la tabla datos_iris. Luego, realiza nuevamente tu análisis utilizando la función calcular_estadisticos que definiste anteriormente.\n",
    "\n",
    "Ejecuta la celda varias veces para observar cómo cambian los histogramas y las estadísticas a medida que varía la muestra seleccionada.\n",
    "\n",
    "- ¿Cuánto cambia la longitud promedio del pétalo entre muestras?\n",
    "- ¿Y qué sucede con el ancho promedio del sépalo?\n",
    "\n",
    "💡 Nota: \"srs\" significa muestra aleatoria simple (simple random sample) y \"wor\" significa sin reemplazo (without replacement)."
   ]
  },
  {
   "cell_type": "code",
   "execution_count": null,
   "id": "de1fa65e",
   "metadata": {
    "tags": []
   },
   "outputs": [],
   "source": [
    "mi_muestra_aleatoria =...\n",
    "# Calcular los estadísticos (longitud del pétalo y ancho del sépalo)\n",
    "mis_estadisticos = ...\n",
    "mis_estadisticos\n"
   ]
  },
  {
   "cell_type": "code",
   "execution_count": null,
   "id": "7ba09ad0",
   "metadata": {
    "deletable": false,
    "editable": false
   },
   "outputs": [],
   "source": [
    "grader.check(\"q8\")"
   ]
  },
  {
   "cell_type": "markdown",
   "id": "a8c34eff",
   "metadata": {
    "deletable": true,
    "editable": true
   },
   "source": [
    "## 4. Más práctica con muestreo aleatorio\n",
    "\n",
    "Más práctica para el muestreo aleatorio utilizando `np.random.choice`."
   ]
  },
  {
   "cell_type": "markdown",
   "id": "2078457b",
   "metadata": {
    "deletable": true,
    "editable": true
   },
   "source": [
    "### Simulaciones y Ciclos For (cont.)\n"
   ]
  },
  {
   "cell_type": "markdown",
   "id": "9d3d3567",
   "metadata": {
    "deletable": false,
    "editable": false
   },
   "source": [
    "\n",
    "**Pregunta 4.1** Podemos utilizar `np.random.choice` para simular múltiples ensayos.\n",
    "\n",
    "Ana decide jugar un juego lanzando un dado estándar de seis caras, donde su puntuación en cada lanzamiento está determinada por la cara que aparece. Ella quiere saber cuál sería su puntuación total si lanzara el dado 1000 veces. Escribe un código que simule su puntuación total después de 1000 lanzamientos.\n",
    "\n",
    "*Pista:* Primero decide los valores posibles que puedes tomar en el experimento (valores de puntos en este caso). Luego utiliza `np.random.choice` para simular los lanzamientos de Ana. Finalmente, suma los lanzamientos para obtener la puntuación total de Ana."
   ]
  },
  {
   "cell_type": "code",
   "execution_count": null,
   "id": "ffd27fd8",
   "metadata": {
    "tags": []
   },
   "outputs": [],
   "source": [
    "caras_dado=...\n",
    "lanzamientos_ana=...\n",
    "puntuacion_total_ana=...\n",
    "puntuacion_total_ana"
   ]
  },
  {
   "cell_type": "code",
   "execution_count": null,
   "id": "c545a90c",
   "metadata": {
    "deletable": false,
    "editable": false
   },
   "outputs": [],
   "source": [
    "grader.check(\"q9\")"
   ]
  },
  {
   "cell_type": "markdown",
   "id": "00ffc2a5",
   "metadata": {
    "deletable": true,
    "editable": true
   },
   "source": [
    "### Muestreo aleatorio simple (cont.)\n",
    "\n",
    "El muestreo aleatorio simple es un método fundamental en estadística y análisis de datos donde cada elemento de la población tiene la misma probabilidad de ser seleccionado. Esto implica que no hay sesgo en la selección de muestras, asegurando que los resultados obtenidos sean representativos de la población completa. Este método es útil para extrapolar conclusiones a partir de una muestra sin introducir distorsiones por selección preferencial. Además, es una técnica clave empleada para garantizar la validez de los resultados en experimentos y estudios de investigación."
   ]
  },
  {
   "cell_type": "markdown",
   "id": "1d44c980",
   "metadata": {
    "deletable": true,
    "editable": true
   },
   "source": [
    "\n",
    "<img src=\"sarita.jpg\" alt=\"Imagen de un adorable gato llamado Winston\" width=\"300\"/>\n",
    "\n",
    "**Sarita** está muy feliz de que hayas terminado el laboratorio."
   ]
  },
  {
   "attachments": {},
   "cell_type": "markdown",
   "id": "cb78e1d2",
   "metadata": {
    "deletable": true,
    "editable": true
   },
   "source": [
    "¡Has terminado el laboratorio!\n"
   ]
  },
  {
   "cell_type": "markdown",
   "id": "b3cbb29e",
   "metadata": {
    "deletable": true,
    "editable": true
   },
   "source": [
    "## Envío\n",
    "\n",
    "Asegúrate de haber ejecutado todas las celdas en tu cuaderno en orden antes de ejecutar la celda de abajo, de modo que todas las imágenes/gráficas aparezcan en el resultado. La celda de abajo generará un archivo zip para que lo envíes. **¡Por favor, guarda antes de exportar!**"
   ]
  },
  {
   "cell_type": "markdown",
   "id": "6a1a076b",
   "metadata": {
    "deletable": false,
    "editable": false
   },
   "source": [
    "## Submission\n",
    "\n",
    "Make sure you have run all cells in your notebook in order before running the cell below, so that all images/graphs appear in the output. The cell below will generate a zip file for you to submit. **Please save before exporting!**\n",
    "\n",
    "These are some submission instructions."
   ]
  },
  {
   "cell_type": "code",
   "execution_count": null,
   "id": "9a1c8dc3",
   "metadata": {
    "deletable": false,
    "editable": false
   },
   "outputs": [],
   "source": [
    "# Save your notebook first, then run this cell to export your submission.\n",
    "grader.export(run_tests=True)"
   ]
  },
  {
   "cell_type": "markdown",
   "id": "56a5fc97",
   "metadata": {},
   "source": [
    " "
   ]
  }
 ],
 "metadata": {
  "kernelspec": {
   "display_name": "Python 3 (ipykernel)",
   "language": "python",
   "name": "python3"
  },
  "language_info": {
   "codemirror_mode": {
    "name": "ipython",
    "version": 3
   },
   "file_extension": ".py",
   "mimetype": "text/x-python",
   "name": "python",
   "nbconvert_exporter": "python",
   "pygments_lexer": "ipython3",
   "version": "3.11.6"
  },
  "otter": {
   "OK_FORMAT": true,
   "assignment_name": "lab05",
   "tests": {
    "q0": {
     "name": "q0",
     "points": 1,
     "suites": [
      {
       "cases": [
        {
         "code": ">>> numero_quesos = 4\n>>> assert type(numero_quesos) == int\n>>> assert np.isclose(numero_quesos, 2.5, 1.38 * 2)\n",
         "hidden": false,
         "locked": false
        }
       ],
       "scored": true,
       "setup": "",
       "teardown": "",
       "type": "doctest"
      }
     ]
    },
    "q1": {
     "name": "q1",
     "points": 1,
     "suites": [
      {
       "cases": [
        {
         "code": ">>> assert np.count_nonzero(numero_quesos == 'queso') < 5 and mas == 'mas por favor' or (np.count_nonzero(number_cheese == 'quesos') >= 5 and 'mas' not in locals())\n",
         "hidden": false,
         "locked": false
        }
       ],
       "scored": true,
       "setup": "",
       "teardown": "",
       "type": "doctest"
      }
     ]
    },
    "q14": {
     "name": "q14",
     "points": 1,
     "suites": [
      {
       "cases": [
        {
         "code": ">>> assert diez_nachos_reacciones.num_rows == 10\n>>> assert all((col in diez_nachos_reacciones.labels for col in ['Nachos', 'Reacciones']))\n",
         "hidden": false,
         "locked": false
        }
       ],
       "scored": true,
       "setup": "",
       "teardown": "",
       "type": "doctest"
      }
     ]
    },
    "q15": {
     "name": "q15",
     "points": 1,
     "suites": [
      {
       "cases": [
        {
         "code": ">>> assert diez_nachos_reacciones.labels[1] == 'Reacciones'\n>>> assert type(numero_wow_reacciones) == int\n",
         "hidden": false,
         "locked": false
        }
       ],
       "scored": true,
       "setup": "",
       "teardown": "",
       "type": "doctest"
      }
     ]
    },
    "q2": {
     "name": "q2",
     "points": 1,
     "suites": [
      {
       "cases": [
        {
         "code": ">>> assert nacho_reaccion('guacamole') == '¡cremosito!'\n>>> assert nacho_reaccion('queso') == '¡quesudo!'\n>>> assert nacho_reaccion('ninguno') == '¡meh!'\n>>> assert nacho_reaccion('ambos') == '¡wow!'\n",
         "hidden": false,
         "locked": false
        }
       ],
       "scored": true,
       "setup": "",
       "teardown": "",
       "type": "doctest"
      }
     ]
    },
    "q5": {
     "name": "q5",
     "points": 1,
     "suites": [
      {
       "cases": [
        {
         "code": ">>> assert isinstance(mas_de_cinco, int), 'mas_de_cinco debe ser un entero'\n>>> assert mas_de_cinco > 0, 'mas_de_cinco debe ser positivo'\n>>> assert mas_de_cinco < len(palabras), 'mas_de_cinco no puede ser mayor que el total de palabras'\n",
         "hidden": false,
         "locked": false
        }
       ],
       "scored": true,
       "setup": "",
       "teardown": "",
       "type": "doctest"
      }
     ]
    },
    "q6": {
     "name": "q6",
     "points": 1,
     "suites": [
      {
       "cases": [
        {
         "code": ">>> assert 8000 <= numero_diferentes <= 10000, f'Resultado fuera de lo esperado: {numero_diferentes}'\n",
         "hidden": false,
         "locked": false
        }
       ],
       "scored": true,
       "setup": "",
       "teardown": "",
       "type": "doctest"
      }
     ]
    },
    "q7": {
     "name": "q7",
     "points": 1,
     "suites": [
      {
       "cases": [
        {
         "code": ">>> assert len(estadisticos) == 2, 'El resultado debe contener exactamente 2 elementos.'\n>>> assert 1.0 < estadisticos[0] < 6.5, 'La longitud promedio del pétalo parece fuera de rango.'\n>>> assert 2.0 < estadisticos[1] < 4.5, 'El ancho promedio del sépalo parece fuera de rango.'\n",
         "hidden": false,
         "locked": false
        }
       ],
       "scored": true,
       "setup": "",
       "teardown": "",
       "type": "doctest"
      }
     ]
    },
    "q8": {
     "name": "q8",
     "points": 1,
     "suites": [
      {
       "cases": [
        {
         "code": ">>> resultado = mis_estadisticos\n>>> assert len(resultado) == 2, 'El arreglo debe tener exactamente dos elementos.'\n>>> assert 1.0 < resultado[0] < 6.5, 'La longitud promedio del pétalo está fuera de rango esperado.'\n>>> assert 2.0 < resultado[1] < 4.5, 'El ancho promedio del sépalo está fuera de rango esperado.'\n",
         "hidden": false,
         "locked": false
        }
       ],
       "scored": true,
       "setup": "",
       "teardown": "",
       "type": "doctest"
      }
     ]
    },
    "q9": {
     "name": "q9",
     "points": 1,
     "suites": [
      {
       "cases": [
        {
         "code": ">>> assert 1000 <= puntuacion_total_ana <= 6000\n",
         "hidden": false,
         "locked": false
        }
       ],
       "scored": true,
       "setup": "",
       "teardown": "",
       "type": "doctest"
      }
     ]
    }
   }
  }
 },
 "nbformat": 4,
 "nbformat_minor": 5
}
