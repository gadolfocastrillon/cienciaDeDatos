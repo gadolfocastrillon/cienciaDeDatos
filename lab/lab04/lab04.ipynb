{
 "cells": [
  {
   "cell_type": "code",
   "execution_count": 1,
   "id": "8f222cbd",
   "metadata": {
    "deletable": false,
    "editable": false
   },
   "outputs": [],
   "source": [
    "# Initialize Otter\n",
    "import otter\n",
    "grader = otter.Notebook(\"lab04.ipynb\")"
   ]
  },
  {
   "cell_type": "code",
   "execution_count": 2,
   "id": "eXWXTxh3LewD",
   "metadata": {
    "deletable": true,
    "editable": true,
    "id": "eXWXTxh3LewD"
   },
   "outputs": [],
   "source": [
    "import numpy as np\n",
    "from datascience import *\n",
    "import warnings\n",
    "import matplotlib.pyplot as plt\n",
    "\n",
    "plt.style.use('fivethirtyeight')\n",
    "%matplotlib inline\n",
    "warnings.simplefilter('ignore', FutureWarning)"
   ]
  },
  {
   "cell_type": "markdown",
   "id": "6f039eb4-f428-4dc2-8fbf-2ed14ef8c500",
   "metadata": {},
   "source": [
    "<p><img alt=\"Colaborat\" style=\"height: 220px;\" src=\"https://github.com/CienciaDatosUdea/001_DataSetFundCienciaDatos/blob/main/semestre2024-2/lab/lab02/Escudo-UdeA.svg.png?raw=true\" align=\"left\" hspace=\"10px\" vspace=\"0px\"></p>\n",
    "\n",
    "\n",
    "# Fundamentos en ciencias de datos\n",
    "\n",
    "\n",
    "## Laboratorio 4: Funciones y visualizacion\n",
    "\n",
    "¡Bienvenidos al Laboratorio 4! Esta semana, aprenderemos cómo importar un módulo y prácticaremos operaciones con tablas. Algunas referencias estan dadas en el siguiente  [enlace](https://www.data8.org/fa23/reference/), el cual tiene información útil para este práctica de laboratorio.\n",
    "\n",
    "**Lectura recomendada**:\n",
    "  * [Introducción a las Tablas](https://www.inferentialthinking.com/chapters/03/4/Introduction_to_Tables)\n",
    "\n",
    "¡Bienvenidos al Laboratorio 4! ¡Esta semana aprenderemos sobre funciones, métodos de tablas como \"apply\" y cómo generar visualizaciones!\n",
    "\n",
    "Lectura recomendada:\n",
    "\n",
    "* [Aplicar una función a una columna](https://inferentialthinking.com/chapters/08/1/Applying_a_Function_to_a_Column.html)\n",
    "* [Visualizaciones](https://inferentialthinking.com/chapters/07/Visualization.html)\n",
    "* [Referencia de Python](https://www.data8.org/fa23/reference/)\n"
   ]
  },
  {
   "cell_type": "markdown",
   "id": "mnRtTmEVLewC",
   "metadata": {
    "deletable": true,
    "editable": true,
    "id": "mnRtTmEVLewC"
   },
   "source": [
    "Como recordatorio, estas son las políticas para obtener una nota completa:\n",
    "\n",
    "1. Recuerden que  recibiran el 80% del laboratorio solo con **asistir** a la sección de los viernes laboratorio y lograr un progreso significativo en ```notebook de jupyter```.\n",
    "\n",
    "\n",
    "\n",
    "**Envío**: Una vez que haya terminado, ejecute todas las celdas además de la última, seleccione Archivo > Guardar cuaderno y luego ejecute la celda final. El resultado contendrá un archivo zip que podrá utilizar para enviarlo.\n",
    "\n",
    "Comencemos configurando las pruebas e importaciones ejecutando la siguiente celda."
   ]
  },
  {
   "cell_type": "markdown",
   "id": "92056ee7",
   "metadata": {
    "deletable": false,
    "editable": false
   },
   "source": [
    "<!-- BEGIN QUESTION -->\n",
    "\n"
   ]
  },
  {
   "cell_type": "code",
   "execution_count": 3,
   "id": "cafd02e7-8f54-4dff-b55f-4cbb01452998",
   "metadata": {
    "tags": []
   },
   "outputs": [],
   "source": [
    "Nombre = \"Gustavo Castrillon\"\n",
    "Carnet = \"666666666666\""
   ]
  },
  {
   "cell_type": "markdown",
   "id": "KeLo6hRrLewE",
   "metadata": {
    "deletable": false,
    "editable": false,
    "id": "KeLo6hRrLewE"
   },
   "source": [
    "<!-- END QUESTION -->\n",
    "\n",
    "\n",
    "## 1. Definición de funciones\n",
    "\n",
    "Empecemos escribiendo una función que convierta una proporción en un porcentaje, multiplicándola por 100. Por ejemplo, al llamar a `a_porcentaje(.5)`, el resultado debe ser el número 50 (sin el signo de porcentaje).\n",
    "\n",
    "Una definición de función incluye varios componentes clave.\n"
   ]
  },
  {
   "cell_type": "markdown",
   "id": "Rp_hVTrALewE",
   "metadata": {
    "deletable": true,
    "editable": true,
    "id": "Rp_hVTrALewE"
   },
   "source": [
    "##### def\n",
    "Creamos una función con una declaración `def` (abreviatura de **def**ine en inglés):\n",
    "<br>\n",
    "<pre style=\"margin-left: 40px; font-family: 'Courier New';\"><code><span style=\"font-weight: bold; color: green\">def</span></code>\n",
    "</pre>"
   ]
  },
  {
   "cell_type": "markdown",
   "id": "6cUkzEN6LewF",
   "metadata": {
    "deletable": true,
    "editable": true,
    "id": "6cUkzEN6LewF"
   },
   "source": [
    "##### Nombre\n",
    "Luego viene el nombre de la función. Al igual que otros nombres que hemos definido, no puede comenzar con un número ni contener espacios. Llamemos a nuestra función `a_porcentaje`:\n",
    "    \n",
    "<br>\n",
    "<pre style=\"margin-left: 40px; font-family: 'Courier New';\"><code><span style=\"font-weight: bold; color: green\">def</span> <span style=\"color: blue\">a_porcentaje(...):</span></code>\n",
    "</pre>"
   ]
  },
  {
   "cell_type": "markdown",
   "id": "r6MUZ0NeLewG",
   "metadata": {
    "deletable": true,
    "editable": true,
    "id": "r6MUZ0NeLewG"
   },
   "source": [
    "##### Encabezado de la función\n",
    "\n",
    "A continuación, viene la **cabecera** de la función. Esta le indica a Python el número de **argumentos** que recibe la función y los nombres de esos argumentos. Un argumento es un valor que se _pasa_ a la función cuando se llama. Una función puede tener cualquier número de argumentos (¡incluyendo 0!).\n",
    "\n",
    "La función `a_porcentaje` debe tomar un argumento, el cual llamaremos `proporcion`, ya que representa una proporción.\n",
    "\n",
    "\n",
    "<br>\n",
    "<pre style=\"margin-left: 40px; font-family: 'Courier New';\"><code><span style=\"font-weight: bold; color: green\">def</span> <span style=\"color: blue\">a_porcentaje</span>(proporcion):</code>\n",
    "</pre>\n",
    "    \n",
    "Si queremos que nuestra función reciba más de un argumento, simplemente agregamos una coma entre los nombres de cada uno. Por ejemplo, `a_porcentaje(proporción, decimales)`. Ten en cuenta que, si la función no toma ningún argumento, de todos modos se colocan los paréntesis vacíos `()` después del nombre de la función.\n",
    "\n",
    "\n",
    "Ponemos **dos puntos** después de la asignación para indicarle a Python que las siguientes líneas identadas son el cuerpo de la función. ¡Asegúrate de recordar los dos puntos!\n",
    "\n",
    "<br>\n",
    "<pre style=\"margin-left: 40px; font-family: 'Courier New';\"><code><span style=\"font-weight: bold; color: green\">def</span> <span style=\"color: blue\">a_porcentaje</span>(proportion):</code>\n",
    "</pre>"
   ]
  },
  {
   "cell_type": "markdown",
   "id": "PqAQ9LpLLewG",
   "metadata": {
    "deletable": true,
    "editable": true,
    "id": "PqAQ9LpLLewG"
   },
   "source": [
    "##### Documentación\n",
    "Las funciones pueden hacer cosas complicadas, por lo que debes escribir una explicación de lo que hace tu función. Para funciones pequeñas, esto es menos importante, pero es un buen hábito aprender desde el principio (aunque la documentación no es estrictamente necesaria). Convencionalmente, las funciones de Python se documentan escribiendo una cadena **indentada** entre comillas triples:\n",
    "\n",
    "<br>\n",
    "<pre style=\"margin-left: 40px; font-family: 'Courier New';\"><code><span style=\"font-weight: bold; color: green\">def</span> <span style=\"color: blue\">a_porcentaje</span>(proportion):<br><span style=\"padding-left: 40px\"><span style=\"color: red\">\"\"\"Convierte una proporción a un porcentaje.\"\"\"</span></span></code>\n",
    "</pre>"
   ]
  },
  {
   "cell_type": "markdown",
   "id": "daFgG65YLewH",
   "metadata": {
    "deletable": true,
    "editable": true,
    "id": "daFgG65YLewH"
   },
   "source": [
    "\n",
    "##### Cuerpo de la función (Body)\n",
    "\n",
    "A continuación, comenzamos a escribir el código que se ejecuta cuando se llama a la función. Esto se denomina el *cuerpo* de la función, y cada línea **debe estar indentada con una tabulación**. Cualquier línea que *no* tenga sangría y esté alineada a la izquierda con la declaración `def` se considerará fuera de la función.\n",
    "\n",
    "Algunas notas sobre el cuerpo de la función:\n",
    "\n",
    "- Podemos escribir cualquier código que utilizaríamos en otras partes del programa.\n",
    "- Usamos los argumentos definidos en la cabecera de la función. Esto es posible porque esos argumentos reciben valores cuando llamamos a la función.\n",
    "- Generalmente evitamos hacer referencia a variables definidas *fuera* de la función. Si se necesita usar variables externas, es mejor pasarlas como argumentos.\n",
    "\n",
    "Ahora, asignemos un nombre al número por el cual multiplicamos una proporción para convertirla en porcentaje:\n",
    "\n",
    "```python\n",
    "def a_porcentaje(proporcion):\n",
    "    \"\"\"Convierte una proporción a un porcentaje.\"\"\"\n",
    "    factor=100\n",
    "```\n"
   ]
  },
  {
   "cell_type": "markdown",
   "id": "UUPj-LrJLewH",
   "metadata": {
    "deletable": true,
    "editable": true,
    "id": "UUPj-LrJLewH"
   },
   "source": [
    "##### `return`\n",
    "La instrucción especial \"return\" es parte del cuerpo de la función y le dice a Python que haga que el valor de la llamada a la función sea igual a lo que viene justo después de \"return\". Queremos que el valor de `a_porcentaje(.5)` sea la proporción .5 veces el factor 100, así que escribimos:\n",
    "\n",
    "```python\n",
    "def a_porcentaje(proporcion):\n",
    "    \"\"\"Convierte una proporción a un porcentaje.\"\"\"\n",
    "    factor=100\n",
    "    return proporcion *  factor \n",
    "```\n",
    "\n",
    "        \n",
    "`return` solo tiene sentido en el contexto de una función y **nunca se puede usar fuera de una función**. `return` es siempre la última línea de la función porque Python deja de ejecutar el cuerpo de una función una vez que llega a una declaración `return`. Asegúrese de incluir una declaración de devolución a menos que no espere que la función devuelva nada.\n",
    "\n",
    "*Nota:* `return` dentro de una función le dice a Python a qué valor se evalúa la función. Sin embargo, hay otras funciones, como \"print\", que no tienen valor de retorno \"(return)\". Por ejemplo, \"print\" simplemente **imprime un valor determinado en la consola**.\n",
    "\n",
    "En resumen, \"return\" se usa cuando quieres decirle a la *computadora* cuál es el valor de alguna variable, mientras que \"print\" se usa para decirte a ti, un *humano*, su valor."
   ]
  },
  {
   "cell_type": "markdown",
   "id": "wdKmf-3vLewH",
   "metadata": {
    "deletable": false,
    "editable": false,
    "id": "wdKmf-3vLewH"
   },
   "source": [
    "**Pregunta 1.1.** Define `a_porcentaje` en la celda de abajo. Llama a tu función para convertir la cantidad de 0.2 en un porcentaje. Nombra ese porcentaje `veinte_por_ciento`"
   ]
  },
  {
   "cell_type": "code",
   "execution_count": 4,
   "id": "eBjGxT7eLewI",
   "metadata": {
    "deletable": true,
    "editable": true,
    "id": "eBjGxT7eLewI",
    "tags": []
   },
   "outputs": [
    {
     "data": {
      "text/plain": [
       "20.0"
      ]
     },
     "execution_count": 4,
     "metadata": {},
     "output_type": "execute_result"
    }
   ],
   "source": [
    "def a_porcentaje(valor):\n",
    "    ''' (Remplazar por tu documetacion de la funcion) '''\n",
    "    factor = 100\n",
    "    return valor*factor\n",
    "\n",
    "veinte_por_ciento = a_porcentaje(0.2)\n",
    "veinte_por_ciento"
   ]
  },
  {
   "cell_type": "code",
   "execution_count": 5,
   "id": "3f5c2f7f",
   "metadata": {
    "deletable": false,
    "editable": false
   },
   "outputs": [
    {
     "data": {
      "text/html": [
       "<p><strong><pre style='display: inline;'>q0</pre></strong> passed! 🚀</p>"
      ],
      "text/plain": [
       "q0 results: All test cases passed!"
      ]
     },
     "execution_count": 5,
     "metadata": {},
     "output_type": "execute_result"
    }
   ],
   "source": [
    "grader.check(\"q0\")"
   ]
  },
  {
   "cell_type": "markdown",
   "id": "e5eC6ARgLewI",
   "metadata": {
    "deletable": true,
    "editable": true,
    "id": "e5eC6ARgLewI"
   },
   "source": [
    "Aquí hay algo importante sobre las funciones: **los nombres asignados *dentro* del cuerpo de una función solo son accesibles dentro del cuerpo de la función**. Una vez que la función ha devuelto un valor, esos nombres desaparecen. Entonces, incluso si creaste una variable llamada `factor` y definiste `factor = 100` dentro del cuerpo de la función `a_porcentaje`, y luego llamaste a `a_porcentaje`, `factor` no tendría un valor asignado fuera del cuerpo de `a_porcentaje`.\n",
    "\n",
    "**Nota**: A continuación, deberías ver un mensaje de error \"NameError\" que indica que el \"nombre `factor` no está definido\". Python arroja este error porque `factor` no se ha definido fuera del cuerpo de la función `a_porcentaje`.\n"
   ]
  },
  {
   "cell_type": "code",
   "execution_count": 6,
   "id": "wLRqXKvcLewJ",
   "metadata": {
    "deletable": true,
    "editable": true,
    "id": "wLRqXKvcLewJ",
    "tags": [
     "raises-exception"
    ]
   },
   "outputs": [
    {
     "ename": "NameError",
     "evalue": "name 'factor' is not defined",
     "output_type": "error",
     "traceback": [
      "\u001b[0;31m---------------------------------------------------------------------------\u001b[0m",
      "\u001b[0;31mNameError\u001b[0m                                 Traceback (most recent call last)",
      "Cell \u001b[0;32mIn[6], line 3\u001b[0m\n\u001b[1;32m      1\u001b[0m \u001b[38;5;66;03m# Deberías recibir un error al ejecutar esto. (Si no lo haces,\u001b[39;00m\n\u001b[1;32m      2\u001b[0m \u001b[38;5;66;03m# es posible que haya definido el factor en algún lugar arriba).\u001b[39;00m\n\u001b[0;32m----> 3\u001b[0m \u001b[43mfactor\u001b[49m\n",
      "\u001b[0;31mNameError\u001b[0m: name 'factor' is not defined"
     ]
    }
   ],
   "source": [
    "# Deberías recibir un error al ejecutar esto. (Si no lo haces,\n",
    "# es posible que haya definido el factor en algún lugar arriba).\n",
    "factor"
   ]
  },
  {
   "cell_type": "markdown",
   "id": "W6OquseILewJ",
   "metadata": {
    "deletable": false,
    "editable": false,
    "id": "W6OquseILewJ"
   },
   "source": [
    "Como lo hizo con las funciones integradas en laboratorios anteriores (`max`, `abs`, etc.), puede pasar valores con nombre como argumentos a su función.\n",
    "\n",
    "**Pregunta 1.2.** Utilice `a_porcentaje` nuevamente para convertir la proporción denominada `a_propocion` (definida a continuación) en un porcentaje llamado `calculo_porcentaje`.\n",
    "\n",
    "*Nota:* ¡No es necesario volver a definir `a_porcentaje`! Al igual que otros valores con nombre, las funciones permanecen después de que las defines."
   ]
  },
  {
   "cell_type": "code",
   "execution_count": 7,
   "id": "2fc0ca75",
   "metadata": {
    "tags": []
   },
   "outputs": [
    {
     "data": {
      "text/plain": [
       "70.71067811865476"
      ]
     },
     "execution_count": 7,
     "metadata": {},
     "output_type": "execute_result"
    }
   ],
   "source": [
    "a_proporcion = 2**(0.5) / 2\n",
    "calculo_porcentaje = a_porcentaje(a_proporcion)\n",
    "calculo_porcentaje"
   ]
  },
  {
   "cell_type": "code",
   "execution_count": 8,
   "id": "59cef8d7",
   "metadata": {
    "deletable": false,
    "editable": false
   },
   "outputs": [
    {
     "data": {
      "text/html": [
       "<p><strong><pre style='display: inline;'>q1</pre></strong> passed! 🌈</p>"
      ],
      "text/plain": [
       "q1 results: All test cases passed!"
      ]
     },
     "execution_count": 8,
     "metadata": {},
     "output_type": "execute_result"
    }
   ],
   "source": [
    "grader.check(\"q1\")"
   ]
  },
  {
   "cell_type": "markdown",
   "id": "s2szoFZxLewK",
   "metadata": {
    "deletable": true,
    "editable": true,
    "id": "s2szoFZxLewK"
   },
   "source": [
    "En la siguiente celda, definiremos una función llamada `sin_vocales`. Toma una sola cadena como argumento. Devuelve una copia de esa cadena, sin las vocales. \n",
    "\n",
    "Para eliminar todas las \"a\" de una cadena, usamos `a_string.replace(\"a\", \"\")`. El método `.replace` para cadenas devuelve una nueva cadena, por lo que podemos llamar a `replace` varias veces, una tras otra."
   ]
  },
  {
   "cell_type": "code",
   "execution_count": 9,
   "id": "H5NsXdSKLewK",
   "metadata": {
    "deletable": true,
    "editable": true,
    "id": "H5NsXdSKLewK"
   },
   "outputs": [
    {
     "data": {
      "text/plain": [
       "'¿Pds lr st sn vcls?'"
      ]
     },
     "execution_count": 9,
     "metadata": {},
     "output_type": "execute_result"
    }
   ],
   "source": [
    "def sin_vocales(a_string):\n",
    "    \"\"\"Remover todas las vocales de un string.\"\"\"\n",
    "    return a_string.replace(\"a\", \"\").replace(\"e\", \"\").replace(\"i\", \"\").replace(\"o\", \"\").replace(\"u\", \"\")\n",
    "\n",
    "# Un ejemplo de llamada a la función. (A menudo es útil ejecutar\n",
    "# una llamada de ejemplo de vez en cuando mientras escribimos una función,\n",
    "# para ver cómo funciona actualmente).\n",
    "sin_vocales(\"¿Puedes leer esto sin vocales?\")"
   ]
  },
  {
   "cell_type": "code",
   "execution_count": 10,
   "id": "637feb6f-d0de-4cf1-b730-7dd4c203b70c",
   "metadata": {},
   "outputs": [
    {
     "data": {
      "text/plain": [
       "'Hl ¿Cóm sts?'"
      ]
     },
     "execution_count": 10,
     "metadata": {},
     "output_type": "execute_result"
    }
   ],
   "source": [
    "sin_vocales('Hola ¿Cómo estas?')"
   ]
  },
  {
   "cell_type": "markdown",
   "id": "BFIC0yReLewK",
   "metadata": {
    "deletable": false,
    "editable": false,
    "id": "BFIC0yReLewK"
   },
   "source": [
    "##### Llamadas sobre llamadas sobre llamadas\n",
    "Así como escribes una serie de líneas para construir un cálculo complejo, es útil definir una serie de pequeñas funciones que se complementan entre sí. Como puedes escribir cualquier código dentro del cuerpo de una función, puedes llamar a otras funciones que hayas escrito.\n",
    "\n",
    "Si una función es como una receta, definir una función en términos de otras funciones es como tener una receta de pastel que te dice que sigas otra receta para hacer el glaseado y otra para hacer el relleno de mermelada. Esto hace que la receta del pastel sea más corta y clara, y evita tener un montón de recetas de glaseado duplicadas. Es la base de la programación productiva.\n",
    "\n",
    "Por ejemplo, supongamos que desea contar el número de caracteres *que no son vocales* en un fragmento de texto. Una forma de hacerlo es eliminar todas las vocales y contar el tamaño de la cadena restante.\n",
    "\n",
    "**Pregunta 1.3.** Escribe una función llamada `num_sin_vocales`. Debería tomar una cadena como argumento y devolver un número. Ese número debe ser el número de caracteres en la cadena del argumento que no sean vocales. Debes usar la función `sin_vocales`, que proporcionamos arriba dentro de la función `num_sin_vocales`.\n",
    "\n",
    "*Pista:* La función `len` toma una cadena como argumento y devuelve el número de caracteres que contiene.\n"
   ]
  },
  {
   "cell_type": "code",
   "execution_count": 11,
   "id": "3b0bdf3e",
   "metadata": {
    "tags": []
   },
   "outputs": [
    {
     "name": "stdout",
     "output_type": "stream",
     "text": [
      "Hl\n"
     ]
    },
    {
     "data": {
      "text/plain": [
       "2"
      ]
     },
     "execution_count": 11,
     "metadata": {},
     "output_type": "execute_result"
    }
   ],
   "source": [
    "\n",
    "def num_sin_vocales(un_string):\n",
    "    #Recuerda escribir aqui la documentación entre comillas\n",
    "    sin_vocal = sin_vocales(un_string)\n",
    "    print(sin_vocal)\n",
    "    return len(sin_vocal)\n",
    "\n",
    "# Intenta llamar su propia funcion  para combrobar que la funcion esta bien definida\n",
    "val = num_sin_vocales('Hola')\n",
    "val"
   ]
  },
  {
   "cell_type": "code",
   "execution_count": 12,
   "id": "c0b07719",
   "metadata": {
    "deletable": false,
    "editable": false
   },
   "outputs": [
    {
     "data": {
      "text/html": [
       "<p><strong style='color: red;'><pre style='display: inline;'>q2</pre> results:</strong></p><p><strong><pre style='display: inline;'>q2 - 1</pre> result:</strong></p><pre>    ❌ Test case failed\n",
       "    Trying:\n",
       "        def test_num_sin_vocales():\n",
       "            assert num_sin_vocales('prueba de funcion') == 10, 'Error: El número de caracteres sin vocales no es correcto.'\n",
       "            assert num_sin_vocales('hola') == 2, 'Error: El número de caracteres sin vocales no es correcto.'\n",
       "            assert num_sin_vocales('aeiou') == 0, 'Error: El número de caracteres sin vocales no es correcto.'\n",
       "            assert num_sin_vocales('') == 0, 'Error: El número de caracteres sin vocales en una cadena vacía debe ser 0.'\n",
       "    Expecting nothing\n",
       "    ok\n",
       "    Trying:\n",
       "        test_num_sin_vocales()\n",
       "    Expecting nothing\n",
       "    **********************************************************************\n",
       "    Line 6, in q2 0\n",
       "    Failed example:\n",
       "        test_num_sin_vocales()\n",
       "    Expected nothing\n",
       "    Got:\n",
       "        prb d fncn\n",
       "        hl\n",
       "        <BLANKLINE>\n",
       "        <BLANKLINE>\n",
       "</pre>"
      ],
      "text/plain": [
       "q2 results:\n",
       "    q2 - 1 result:\n",
       "        ❌ Test case failed\n",
       "        Trying:\n",
       "            def test_num_sin_vocales():\n",
       "                assert num_sin_vocales('prueba de funcion') == 10, 'Error: El número de caracteres sin vocales no es correcto.'\n",
       "                assert num_sin_vocales('hola') == 2, 'Error: El número de caracteres sin vocales no es correcto.'\n",
       "                assert num_sin_vocales('aeiou') == 0, 'Error: El número de caracteres sin vocales no es correcto.'\n",
       "                assert num_sin_vocales('') == 0, 'Error: El número de caracteres sin vocales en una cadena vacía debe ser 0.'\n",
       "        Expecting nothing\n",
       "        ok\n",
       "        Trying:\n",
       "            test_num_sin_vocales()\n",
       "        Expecting nothing\n",
       "        **********************************************************************\n",
       "        Line 6, in q2 0\n",
       "        Failed example:\n",
       "            test_num_sin_vocales()\n",
       "        Expected nothing\n",
       "        Got:\n",
       "            prb d fncn\n",
       "            hl\n",
       "            <BLANKLINE>\n",
       "            <BLANKLINE>"
      ]
     },
     "execution_count": 12,
     "metadata": {},
     "output_type": "execute_result"
    }
   ],
   "source": [
    "grader.check(\"q2\")"
   ]
  },
  {
   "cell_type": "markdown",
   "id": "Q1NBbpgdLewL",
   "metadata": {
    "deletable": true,
    "editable": true,
    "id": "Q1NBbpgdLewL"
   },
   "source": [
    "Las funciones también pueden encapsular código que *muestra una salida* en lugar de calcular un valor. Por ejemplo, si llamas a `print` dentro de una función, y luego llamas a esa función, se imprimirá algo.\n",
    "\n",
    "El conjunto de datos `peliculas_por_anio`, de la tabla de la celda siguiente celda, contiene información sobre las ventas de películas en los últimos años. Supongamos que te gustaría mostrar el año con el quinto mayor total de ventas brutas de películas, impreso dentro de una oración. Podrías hacer lo siguiente:"
   ]
  },
  {
   "cell_type": "code",
   "execution_count": 13,
   "id": "5kqPvAaXLewL",
   "metadata": {
    "deletable": true,
    "editable": true,
    "id": "5kqPvAaXLewL"
   },
   "outputs": [
    {
     "name": "stdout",
     "output_type": "stream",
     "text": [
      "El año con el puesto número 5 en ventas brutas totales de películas es: 2010\n"
     ]
    }
   ],
   "source": [
    "peliculas_por_anio = Table.read_table(\"movies_by_year.csv\")\n",
    "ranking = 5\n",
    "anio_quinta_mayor_taquilla = peliculas_por_anio.sort(\"Total Gross\", descending=True).column(\"Year\").item(ranking-1)\n",
    "print(\"El año con el puesto número\", ranking, \"en ventas brutas totales de películas es:\", anio_quinta_mayor_taquilla)"
   ]
  },
  {
   "cell_type": "markdown",
   "id": "IPtHASqSLewL",
   "metadata": {
    "deletable": false,
    "editable": false,
    "id": "IPtHASqSLewL"
   },
   "source": [
    "Después de escribir esto, te das cuenta de que también querías imprimir el segundo y tercer año con mayor puntuación. En lugar de copiar tu código, decides ponerlo en una función. Dado que el rango varía, lo convierte en un argumento para su función.\n",
    "\n",
    "**Pregunta 1.4.** Escribe una función llamada `imprimir_anio_k_mayor_taquilla`. Debería tomar un único argumento, la posición del año (como 2, 3 o 5 en los ejemplos anteriores) y debería utilizar la tabla `peliculas_por_anio`. Además se debe imprimir un mensaje similar al anterior.\n",
    "\n",
    "*Nota:* Tu función no debería tener una declaración de \"return\".\n"
   ]
  },
  {
   "cell_type": "code",
   "execution_count": 14,
   "id": "3445e3d5",
   "metadata": {
    "tags": []
   },
   "outputs": [
    {
     "name": "stdout",
     "output_type": "stream",
     "text": [
      "El año con el puesto número 1 en venta brutas totales de películas es: 2015\n",
      "El año con el puesto número 2 en venta brutas totales de películas es: 2013\n"
     ]
    }
   ],
   "source": [
    "\n",
    "def imprimir_anio_k_mayor_taquilla(posicion):\n",
    "    anio_k_mayor_maquilla = peliculas_por_anio.sort(\"Total Gross\", descending=True).column(\"Year\").item(posicion-1)\n",
    "    print(\"El año con el puesto número\", posicion , \"en venta brutas totales de películas es:\", anio_k_mayor_maquilla)\n",
    "    \n",
    "\n",
    "imprimir_anio_k_mayor_taquilla(1)\n",
    "imprimir_anio_k_mayor_taquilla(2)"
   ]
  },
  {
   "cell_type": "code",
   "execution_count": 15,
   "id": "2c69e925",
   "metadata": {
    "deletable": false,
    "editable": false
   },
   "outputs": [
    {
     "data": {
      "text/html": [
       "<p><strong><pre style='display: inline;'>q3</pre></strong> passed! ✨</p>"
      ],
      "text/plain": [
       "q3 results: All test cases passed!"
      ]
     },
     "execution_count": 15,
     "metadata": {},
     "output_type": "execute_result"
    }
   ],
   "source": [
    "grader.check(\"q3\")"
   ]
  },
  {
   "cell_type": "markdown",
   "id": "JH9NW1mKLewM",
   "metadata": {
    "deletable": true,
    "editable": true,
    "id": "JH9NW1mKLewM"
   },
   "source": [
    "### `print` no es lo mismo que `return`\n",
    "La función `imprimir_anio_k_mayor_taquilla(k)` imprime las ventas brutas totales de películas para el año proporcionado! Sin embargo, como no devolvimos ningún valor en esta función, no podemos usarla después de llamarla. Veamos un ejemplo de otra función que imprime un valor pero no lo devuelve."
   ]
  },
  {
   "cell_type": "code",
   "execution_count": 16,
   "id": "LMwT_z1iLewM",
   "metadata": {
    "deletable": true,
    "editable": true,
    "id": "LMwT_z1iLewM"
   },
   "outputs": [],
   "source": [
    "def mostrar_numero_cinco():\n",
    "    print(5)"
   ]
  },
  {
   "cell_type": "code",
   "execution_count": 17,
   "id": "QOP6NO_hLewM",
   "metadata": {
    "deletable": true,
    "editable": true,
    "id": "QOP6NO_hLewM"
   },
   "outputs": [
    {
     "name": "stdout",
     "output_type": "stream",
     "text": [
      "5\n"
     ]
    }
   ],
   "source": [
    "mostrar_numero_cinco()"
   ]
  },
  {
   "cell_type": "markdown",
   "id": "LkuaLRTnLewM",
   "metadata": {
    "deletable": true,
    "editable": true,
    "id": "LkuaLRTnLewM"
   },
   "source": [
    "Sin embargo, si intentamos utilizar la salida de `mostrar_numero_cinco()`, vemos que se imprime el valor `5` pero obtenemos un TypeError cuando intentamos agregarle el número 2."
   ]
  },
  {
   "cell_type": "code",
   "execution_count": 18,
   "id": "R00EOygjLewM",
   "metadata": {
    "deletable": true,
    "editable": true,
    "id": "R00EOygjLewM",
    "tags": [
     "raises-exception"
    ]
   },
   "outputs": [
    {
     "name": "stdout",
     "output_type": "stream",
     "text": [
      "5\n"
     ]
    },
    {
     "ename": "TypeError",
     "evalue": "unsupported operand type(s) for +: 'NoneType' and 'int'",
     "output_type": "error",
     "traceback": [
      "\u001b[0;31m---------------------------------------------------------------------------\u001b[0m",
      "\u001b[0;31mTypeError\u001b[0m                                 Traceback (most recent call last)",
      "Cell \u001b[0;32mIn[18], line 2\u001b[0m\n\u001b[1;32m      1\u001b[0m mostrar_numero_cinco_salida \u001b[38;5;241m=\u001b[39m mostrar_numero_cinco()\n\u001b[0;32m----> 2\u001b[0m \u001b[43mmostrar_numero_cinco_salida\u001b[49m\u001b[43m \u001b[49m\u001b[38;5;241;43m+\u001b[39;49m\u001b[43m \u001b[49m\u001b[38;5;241;43m2\u001b[39;49m\n",
      "\u001b[0;31mTypeError\u001b[0m: unsupported operand type(s) for +: 'NoneType' and 'int'"
     ]
    }
   ],
   "source": [
    "mostrar_numero_cinco_salida = mostrar_numero_cinco()\n",
    "mostrar_numero_cinco_salida + 2"
   ]
  },
  {
   "cell_type": "markdown",
   "id": "l5LG84d5LewN",
   "metadata": {
    "deletable": true,
    "editable": true,
    "id": "l5LG84d5LewN"
   },
   "source": [
    "Puede parecer que `mostrar_numero_cinco()` está devolviendo un valor, 5. En realidad, ¡solo te muestra el número 5 sin darte el valor real! Si su función imprime un valor **sin devolverlo** e intenta utilizar ese valor, se encontrará con errores, ¡así que tenga cuidado!\n",
    "\n",
    "Piensa en cómo podrías agregar una línea de código a la función `mostrar_numero_cinco` (después de `print(5)`) para que el código `mostrar_numero_cinco_salida + 5` dé como resultado el valor `10`, en lugar de un error."
   ]
  },
  {
   "cell_type": "markdown",
   "id": "h6Qkgd-xLewN",
   "metadata": {
    "deletable": true,
    "editable": true,
    "id": "h6Qkgd-xLewN"
   },
   "source": [
    "## 2. Funciones e ingresos de CEO\n",
    "\n",
    "En esta pregunta, veremos la remuneración de los directores ejecutivos de las 100 empresas más grandes de California en 2015. Los datos se compilaron a partir de un [análisis de Los Angeles Times](http://spreadsheets.latimes.com/california-ceo-compensation/) y, en última instancia, provinieron de [presentaciones](https://www.sec.gov/answers/proxyhtf.htm) exigido por la SEC para todas las empresas que cotizan en bolsa. Dos empresas tienen dos directores ejecutivos, por lo que hay 102 directores ejecutivos en el conjunto de datos.\n",
    "\n",
    "Copiamos los datos sin procesar de la página del LA Times en un archivo llamado `raw_compensation.csv`. (La página señala que todos los montos en dólares están en **millones de dólares**).\n"
   ]
  },
  {
   "cell_type": "code",
   "execution_count": 19,
   "id": "QAEKo8q1LewN",
   "metadata": {
    "deletable": true,
    "editable": true,
    "id": "QAEKo8q1LewN"
   },
   "outputs": [
    {
     "data": {
      "text/html": [
       "<table border=\"1\" class=\"dataframe\">\n",
       "    <thead>\n",
       "        <tr>\n",
       "            <th>Rank</th> <th>Name</th> <th>Company (Headquarters)</th> <th>Total Pay</th> <th>% Change</th> <th>Cash Pay</th> <th>Equity Pay</th> <th>Other Pay</th> <th>Ratio of CEO pay to average industry worker pay</th>\n",
       "        </tr>\n",
       "    </thead>\n",
       "    <tbody>\n",
       "        <tr>\n",
       "            <td>1   </td> <td>Mark V. Hurd*   </td> <td>Oracle (Redwood City)         </td> <td>$53.25   </td> <td>(No previous year)</td> <td>$0.95   </td> <td>$52.27    </td> <td>$0.02    </td> <td>362                                            </td>\n",
       "        </tr>\n",
       "        <tr>\n",
       "            <td>2   </td> <td>Safra A. Catz*  </td> <td>Oracle (Redwood City)         </td> <td>$53.24   </td> <td>(No previous year)</td> <td>$0.95   </td> <td>$52.27    </td> <td>$0.02    </td> <td>362                                            </td>\n",
       "        </tr>\n",
       "        <tr>\n",
       "            <td>3   </td> <td>Robert A. Iger  </td> <td>Walt Disney (Burbank)         </td> <td>$44.91   </td> <td>-3%               </td> <td>$24.89  </td> <td>$17.28    </td> <td>$2.74    </td> <td>477                                            </td>\n",
       "        </tr>\n",
       "        <tr>\n",
       "            <td>4   </td> <td>Marissa A. Mayer</td> <td>Yahoo! (Sunnyvale)            </td> <td>$35.98   </td> <td>-15%              </td> <td>$1.00   </td> <td>$34.43    </td> <td>$0.55    </td> <td>342                                            </td>\n",
       "        </tr>\n",
       "        <tr>\n",
       "            <td>5   </td> <td>Marc Benioff    </td> <td>salesforce.com (San Francisco)</td> <td>$33.36   </td> <td>-16%              </td> <td>$4.65   </td> <td>$27.26    </td> <td>$1.45    </td> <td>338                                            </td>\n",
       "        </tr>\n",
       "    </tbody>\n",
       "</table>\n",
       "<p>... (96 rows omitted)</p>"
      ],
      "text/plain": [
       "<IPython.core.display.HTML object>"
      ]
     },
     "metadata": {},
     "output_type": "display_data"
    }
   ],
   "source": [
    "raw_compensation = Table.read_table('raw_compensation.csv')\n",
    "raw_compensation.show(5)"
   ]
  },
  {
   "cell_type": "markdown",
   "id": "cZZPNOSDLewN",
   "metadata": {
    "deletable": true,
    "editable": true,
    "id": "cZZPNOSDLewN"
   },
   "source": [
    "Queremos calcular el promedio del salario de los directores ejecutivos. Intente ejecutar la celda a continuación."
   ]
  },
  {
   "cell_type": "code",
   "execution_count": 20,
   "id": "J96JQF62LewV",
   "metadata": {
    "deletable": true,
    "editable": true,
    "id": "J96JQF62LewV",
    "tags": [
     "raises-exception"
    ]
   },
   "outputs": [
    {
     "ename": "UFuncTypeError",
     "evalue": "ufunc 'add' did not contain a loop with signature matching types (dtype('<U7'), dtype('<U7')) -> None",
     "output_type": "error",
     "traceback": [
      "\u001b[0;31m---------------------------------------------------------------------------\u001b[0m",
      "\u001b[0;31mUFuncTypeError\u001b[0m                            Traceback (most recent call last)",
      "Cell \u001b[0;32mIn[20], line 1\u001b[0m\n\u001b[0;32m----> 1\u001b[0m \u001b[43mnp\u001b[49m\u001b[38;5;241;43m.\u001b[39;49m\u001b[43mmean\u001b[49m\u001b[43m(\u001b[49m\u001b[43mraw_compensation\u001b[49m\u001b[38;5;241;43m.\u001b[39;49m\u001b[43mcolumn\u001b[49m\u001b[43m(\u001b[49m\u001b[38;5;124;43m\"\u001b[39;49m\u001b[38;5;124;43mTotal Pay\u001b[39;49m\u001b[38;5;124;43m\"\u001b[39;49m\u001b[43m)\u001b[49m\u001b[43m)\u001b[49m\n",
      "File \u001b[0;32m<__array_function__ internals>:200\u001b[0m, in \u001b[0;36mmean\u001b[0;34m(*args, **kwargs)\u001b[0m\n",
      "File \u001b[0;32m/opt/conda/lib/python3.11/site-packages/numpy/core/fromnumeric.py:3464\u001b[0m, in \u001b[0;36mmean\u001b[0;34m(a, axis, dtype, out, keepdims, where)\u001b[0m\n\u001b[1;32m   3461\u001b[0m     \u001b[38;5;28;01melse\u001b[39;00m:\n\u001b[1;32m   3462\u001b[0m         \u001b[38;5;28;01mreturn\u001b[39;00m mean(axis\u001b[38;5;241m=\u001b[39maxis, dtype\u001b[38;5;241m=\u001b[39mdtype, out\u001b[38;5;241m=\u001b[39mout, \u001b[38;5;241m*\u001b[39m\u001b[38;5;241m*\u001b[39mkwargs)\n\u001b[0;32m-> 3464\u001b[0m \u001b[38;5;28;01mreturn\u001b[39;00m \u001b[43m_methods\u001b[49m\u001b[38;5;241;43m.\u001b[39;49m\u001b[43m_mean\u001b[49m\u001b[43m(\u001b[49m\u001b[43ma\u001b[49m\u001b[43m,\u001b[49m\u001b[43m \u001b[49m\u001b[43maxis\u001b[49m\u001b[38;5;241;43m=\u001b[39;49m\u001b[43maxis\u001b[49m\u001b[43m,\u001b[49m\u001b[43m \u001b[49m\u001b[43mdtype\u001b[49m\u001b[38;5;241;43m=\u001b[39;49m\u001b[43mdtype\u001b[49m\u001b[43m,\u001b[49m\n\u001b[1;32m   3465\u001b[0m \u001b[43m                      \u001b[49m\u001b[43mout\u001b[49m\u001b[38;5;241;43m=\u001b[39;49m\u001b[43mout\u001b[49m\u001b[43m,\u001b[49m\u001b[43m \u001b[49m\u001b[38;5;241;43m*\u001b[39;49m\u001b[38;5;241;43m*\u001b[39;49m\u001b[43mkwargs\u001b[49m\u001b[43m)\u001b[49m\n",
      "File \u001b[0;32m/opt/conda/lib/python3.11/site-packages/numpy/core/_methods.py:181\u001b[0m, in \u001b[0;36m_mean\u001b[0;34m(a, axis, dtype, out, keepdims, where)\u001b[0m\n\u001b[1;32m    178\u001b[0m         dtype \u001b[38;5;241m=\u001b[39m mu\u001b[38;5;241m.\u001b[39mdtype(\u001b[38;5;124m'\u001b[39m\u001b[38;5;124mf4\u001b[39m\u001b[38;5;124m'\u001b[39m)\n\u001b[1;32m    179\u001b[0m         is_float16_result \u001b[38;5;241m=\u001b[39m \u001b[38;5;28;01mTrue\u001b[39;00m\n\u001b[0;32m--> 181\u001b[0m ret \u001b[38;5;241m=\u001b[39m \u001b[43mumr_sum\u001b[49m\u001b[43m(\u001b[49m\u001b[43marr\u001b[49m\u001b[43m,\u001b[49m\u001b[43m \u001b[49m\u001b[43maxis\u001b[49m\u001b[43m,\u001b[49m\u001b[43m \u001b[49m\u001b[43mdtype\u001b[49m\u001b[43m,\u001b[49m\u001b[43m \u001b[49m\u001b[43mout\u001b[49m\u001b[43m,\u001b[49m\u001b[43m \u001b[49m\u001b[43mkeepdims\u001b[49m\u001b[43m,\u001b[49m\u001b[43m \u001b[49m\u001b[43mwhere\u001b[49m\u001b[38;5;241;43m=\u001b[39;49m\u001b[43mwhere\u001b[49m\u001b[43m)\u001b[49m\n\u001b[1;32m    182\u001b[0m \u001b[38;5;28;01mif\u001b[39;00m \u001b[38;5;28misinstance\u001b[39m(ret, mu\u001b[38;5;241m.\u001b[39mndarray):\n\u001b[1;32m    183\u001b[0m     \u001b[38;5;28;01mwith\u001b[39;00m _no_nep50_warning():\n",
      "\u001b[0;31mUFuncTypeError\u001b[0m: ufunc 'add' did not contain a loop with signature matching types (dtype('<U7'), dtype('<U7')) -> None"
     ]
    }
   ],
   "source": [
    "np.mean(raw_compensation.column(\"Total Pay\"))"
   ]
  },
  {
   "cell_type": "markdown",
   "id": "5at7_7vcLewW",
   "metadata": {
    "deletable": true,
    "editable": true,
    "id": "5at7_7vcLewW"
   },
   "source": [
    "Deberías ver un \"TypeError\". Examinemos por qué ocurrió este error observando los valores en la columna \"Total Pay\". Para hacerlo, podemos usar la función `type`. Esta función nos dice el tipo de datos del objeto que le pasamos. Ejecute las siguientes celdas para ver qué sucede cuando pasamos `23`, `3.5` y `\"Hello\"` a la función `type`. ¿Tienen sentido sus resultados?"
   ]
  },
  {
   "cell_type": "code",
   "execution_count": 21,
   "id": "a-nBOnjLLewW",
   "metadata": {
    "deletable": true,
    "editable": true,
    "id": "a-nBOnjLLewW"
   },
   "outputs": [
    {
     "data": {
      "text/plain": [
       "int"
      ]
     },
     "execution_count": 21,
     "metadata": {},
     "output_type": "execute_result"
    }
   ],
   "source": [
    "type(23)"
   ]
  },
  {
   "cell_type": "code",
   "execution_count": 22,
   "id": "bOjQrL-8LewW",
   "metadata": {
    "deletable": true,
    "editable": true,
    "id": "bOjQrL-8LewW"
   },
   "outputs": [
    {
     "data": {
      "text/plain": [
       "float"
      ]
     },
     "execution_count": 22,
     "metadata": {},
     "output_type": "execute_result"
    }
   ],
   "source": [
    "type(3.5)"
   ]
  },
  {
   "cell_type": "code",
   "execution_count": 23,
   "id": "k_dsxLyXLewW",
   "metadata": {
    "deletable": true,
    "editable": true,
    "id": "k_dsxLyXLewW"
   },
   "outputs": [
    {
     "data": {
      "text/plain": [
       "str"
      ]
     },
     "execution_count": 23,
     "metadata": {},
     "output_type": "execute_result"
    }
   ],
   "source": [
    "type(\"Hello\")"
   ]
  },
  {
   "cell_type": "code",
   "execution_count": 24,
   "id": "0e606c88-486e-44b3-a9ee-bda07d069a69",
   "metadata": {},
   "outputs": [
    {
     "data": {
      "text/plain": [
       "bool"
      ]
     },
     "execution_count": 24,
     "metadata": {},
     "output_type": "execute_result"
    }
   ],
   "source": [
    "type(True)"
   ]
  },
  {
   "cell_type": "markdown",
   "id": "ziyve7zLLewW",
   "metadata": {
    "deletable": false,
    "editable": false,
    "id": "ziyve7zLLewW"
   },
   "source": [
    "**Pregunta 2.1.** Utilice la función `type` y establezca en la variable `tipo_pago_total`  a el tipo de variable asociada a el primer valor en la columna `Total Pay`.\n"
   ]
  },
  {
   "cell_type": "code",
   "execution_count": 25,
   "id": "4737c0d0",
   "metadata": {
    "tags": []
   },
   "outputs": [
    {
     "data": {
      "text/plain": [
       "str"
      ]
     },
     "execution_count": 25,
     "metadata": {},
     "output_type": "execute_result"
    }
   ],
   "source": [
    "tipo_pago_total = type(raw_compensation.column('Total Pay').item(0))\n",
    "tipo_pago_total"
   ]
  },
  {
   "cell_type": "code",
   "execution_count": 26,
   "id": "0d27b4ad",
   "metadata": {
    "deletable": false,
    "editable": false
   },
   "outputs": [
    {
     "data": {
      "text/html": [
       "<p><strong><pre style='display: inline;'>q4</pre></strong> passed! 🙌</p>"
      ],
      "text/plain": [
       "q4 results: All test cases passed!"
      ]
     },
     "execution_count": 26,
     "metadata": {},
     "output_type": "execute_result"
    }
   ],
   "source": [
    "grader.check(\"q4\")"
   ]
  },
  {
   "cell_type": "markdown",
   "id": "TMRMXSoyLewX",
   "metadata": {
    "deletable": false,
    "editable": false,
    "id": "TMRMXSoyLewX"
   },
   "source": [
    "**Pregunta 2.2.** Deberías haber descubierto que los valores en la columna \"Total Pay\" son cadenas de texto. No tiene sentido tomar el promedio de los valores de una cadena, por lo que debemos convertirlos a números. Extraiga el primer valor en \"Total Pay\". Es el salario de Mark Hurd en 2015, en *millones* de dólares. Llámelo `mark_hurd_pago_string`.\n"
   ]
  },
  {
   "cell_type": "code",
   "execution_count": 27,
   "id": "6b37a7f0",
   "metadata": {
    "tags": []
   },
   "outputs": [
    {
     "data": {
      "text/plain": [
       "'$53.25 '"
      ]
     },
     "execution_count": 27,
     "metadata": {},
     "output_type": "execute_result"
    }
   ],
   "source": [
    "mark_hurd_pago_string=raw_compensation.column('Total Pay').item(0)\n",
    "mark_hurd_pago_string"
   ]
  },
  {
   "cell_type": "code",
   "execution_count": 28,
   "id": "cccdc8bd",
   "metadata": {
    "deletable": false,
    "editable": false
   },
   "outputs": [
    {
     "data": {
      "text/html": [
       "<p><strong><pre style='display: inline;'>q5</pre></strong> passed! 🍀</p>"
      ],
      "text/plain": [
       "q5 results: All test cases passed!"
      ]
     },
     "execution_count": 28,
     "metadata": {},
     "output_type": "execute_result"
    }
   ],
   "source": [
    "grader.check(\"q5\")"
   ]
  },
  {
   "cell_type": "markdown",
   "id": "j2EmudhvLewY",
   "metadata": {
    "deletable": false,
    "editable": false,
    "id": "j2EmudhvLewY"
   },
   "source": [
    "**Pregunta 2.3.** Convierta `mark_hurd_pago_string` a una cantidad de *dólares*, llame a esa variable `mark_hurd_pago`\n",
    "\n",
    "Algunas sugerencias, ya que esta pregunta requiere varios pasos:\n",
    "\n",
    "- El método de cadena `strip` será útil para eliminar el signo de dólar; elimina un carácter específico del inicio o final de una cadena. Por ejemplo, el valor de `\"100 %\".strip(\"%\")` es la cadena `\"100 \"`.\n",
    "\n",
    "- El método de cadena `strip` será útil para eliminar el signo de dólar; elimina un carácter específico del inicio o final de una cadena. Por ejemplo, el valor de `\"100 %\".strip().strip(\"%\")` es la cadena `\"100\"`, **sin el espacio.**\n",
    "\n",
    "- También necesitarás la función `float`, que convierte una cadena que parece un número en un número real. No te preocupes por el espacio en blanco al final de la cadena; la función `float` ignorará esto.\n",
    "- Por último, recuerda que la respuesta debe ser en dólares, no en millones de dólares."
   ]
  },
  {
   "cell_type": "code",
   "execution_count": 29,
   "id": "d86789b3",
   "metadata": {
    "tags": []
   },
   "outputs": [
    {
     "data": {
      "text/plain": [
       "53250000.0"
      ]
     },
     "execution_count": 29,
     "metadata": {},
     "output_type": "execute_result"
    }
   ],
   "source": [
    "dato = mark_hurd_pago_string.strip('$').strip()\n",
    "mark_hurd_pago = float(dato) * 1e6 #1x10^6\n",
    "mark_hurd_pago"
   ]
  },
  {
   "cell_type": "code",
   "execution_count": 30,
   "id": "8739c943",
   "metadata": {
    "deletable": false,
    "editable": false
   },
   "outputs": [
    {
     "data": {
      "text/html": [
       "<p><strong><pre style='display: inline;'>q6</pre></strong> passed! 🎉</p>"
      ],
      "text/plain": [
       "q6 results: All test cases passed!"
      ]
     },
     "execution_count": 30,
     "metadata": {},
     "output_type": "execute_result"
    }
   ],
   "source": [
    "grader.check(\"q6\")"
   ]
  },
  {
   "cell_type": "markdown",
   "id": "k4C6YKZ2LewY",
   "metadata": {
    "deletable": false,
    "editable": false,
    "id": "k4C6YKZ2LewY"
   },
   "source": [
    "Para calcular el salario promedio, debemos hacer esto para cada director ejecutivo. Pero parece que eso implicaría copiar este código 102 veces.\n",
    "\n",
    "En su lugar, usaremos funciones para realizar este cálculo. Más adelante en esta práctica de laboratorio, veremos el beneficio: podemos llamar a esa función para aplicar en un conjunto de datos a la vez.\n",
    "\n",
    "**Pregunta 2.4.** Copie la expresión que utilizó para calcular `mark_hurd_pago` y utilícela como expresión de retorno de la siguiente función. Pero asegúrese de reemplazar el `mark_hurd_pago_string` específico con el nombre genérico `pago_string`, especificado en la primera línea de la declaración `def`.\n",
    "\n",
    "*Sugerencia*: Cuando se trata de funciones, generalmente no se debe hacer referencia a ninguna variable fuera de la función. Por lo general, desea trabajar con los argumentos que se le pasan, como `pago_string` para esta función. Si estás usando `mark_hurd_pago_string` dentro de tu función, ¡estás haciendo referencia a una variable externa!"
   ]
  },
  {
   "cell_type": "code",
   "execution_count": 31,
   "id": "00ca5f5a",
   "metadata": {
    "tags": []
   },
   "outputs": [
    {
     "data": {
      "text/plain": [
       "75500000.0"
      ]
     },
     "execution_count": 31,
     "metadata": {},
     "output_type": "execute_result"
    }
   ],
   "source": [
    "def convertir_pago_string_en_numero(pago_string):\n",
    "    #Convertir string a float \n",
    "    #Toma un variable string con caracteres de espacio y $ incluido y devuelve un valor float.\n",
    "    dato = pago_string.strip().strip('$') #Elimina espacio y $.\n",
    "    mark_hurd_pago = float(dato) * 1e6 #1x10^6\n",
    "    return mark_hurd_pago\n",
    "    \n",
    "convertir_pago_string_en_numero(' $75.50 ')"
   ]
  },
  {
   "cell_type": "code",
   "execution_count": 32,
   "id": "d08d5f6b",
   "metadata": {
    "deletable": false,
    "editable": false
   },
   "outputs": [
    {
     "data": {
      "text/html": [
       "<p><strong><pre style='display: inline;'>q7</pre></strong> passed! 🍀</p>"
      ],
      "text/plain": [
       "q7 results: All test cases passed!"
      ]
     },
     "execution_count": 32,
     "metadata": {},
     "output_type": "execute_result"
    }
   ],
   "source": [
    "grader.check(\"q7\")"
   ]
  },
  {
   "cell_type": "markdown",
   "id": "UQFnmv6-LewZ",
   "metadata": {
    "deletable": true,
    "editable": true,
    "id": "UQFnmv6-LewZ"
   },
   "source": [
    "Definir la función llamada `convertir_pago_string_en_numero`, puede convertir cualquier cadena con el formato adecuado en un número que represente millones de dólares.\n",
    "\n",
    "Podemos llamar a nuestra función tal como llamamos a las funciones integradas que hemos visto. En nuestro caso, tomamos un argumento tipo  string, y devuelve un flotante."
   ]
  },
  {
   "cell_type": "code",
   "execution_count": 33,
   "id": "2ZnjzqJ9LewZ",
   "metadata": {
    "deletable": true,
    "editable": true,
    "id": "2ZnjzqJ9LewZ"
   },
   "outputs": [
    {
     "data": {
      "text/plain": [
       "42000000.0"
      ]
     },
     "execution_count": 33,
     "metadata": {},
     "output_type": "execute_result"
    }
   ],
   "source": [
    "convertir_pago_string_en_numero('$42')"
   ]
  },
  {
   "cell_type": "code",
   "execution_count": 34,
   "id": "aaYeBTPKLewZ",
   "metadata": {
    "deletable": true,
    "editable": true,
    "id": "aaYeBTPKLewZ"
   },
   "outputs": [
    {
     "data": {
      "text/plain": [
       "53250000.0"
      ]
     },
     "execution_count": 34,
     "metadata": {},
     "output_type": "execute_result"
    }
   ],
   "source": [
    "convertir_pago_string_en_numero(mark_hurd_pago_string)"
   ]
  },
  {
   "cell_type": "code",
   "execution_count": 35,
   "id": "VfDI5fw8LewZ",
   "metadata": {
    "deletable": true,
    "editable": true,
    "id": "VfDI5fw8LewZ"
   },
   "outputs": [
    {
     "data": {
      "text/plain": [
       "53240000.0"
      ]
     },
     "execution_count": 35,
     "metadata": {},
     "output_type": "execute_result"
    }
   ],
   "source": [
    "# También podemos calcular el salario de Safra Catz de la misma manera:\n",
    "convertir_pago_string_en_numero(raw_compensation.where(\"Name\", are.containing(\"Safra\")).column(\"Total Pay\").item(0))"
   ]
  },
  {
   "cell_type": "markdown",
   "id": "vOupxAPhLewa",
   "metadata": {
    "deletable": true,
    "editable": true,
    "id": "vOupxAPhLewa"
   },
   "source": [
    "Con esta función, no tenemos que copiar el código que convierte una cadena de pago en un número cada vez que queremos convertir una cadena de pago. Ahora simplemente llamamos a una función cuyo nombre dice exactamente lo que está haciendo."
   ]
  },
  {
   "cell_type": "markdown",
   "id": "YCw8_DLMLewa",
   "metadata": {
    "deletable": true,
    "editable": true,
    "id": "YCw8_DLMLewa"
   },
   "source": [
    "## 3. `apply` funciones\n",
    "\n",
    "Definir una función es similar a asignar un valor utilizando `=`. En realidad, una función es un valor, al igual que un número como la definicion del numero en `1` en python,  o la definicion de una  cadena de texto, como el string  \"datos\".\n",
    "\n",
    "Por ejemplo, podemos crear un nuevo nombre para la función incorporada `max` si queremos:"
   ]
  },
  {
   "cell_type": "code",
   "execution_count": 36,
   "id": "Ue6IVLjfLewa",
   "metadata": {
    "deletable": true,
    "editable": true,
    "id": "Ue6IVLjfLewa"
   },
   "outputs": [
    {
     "data": {
      "text/plain": [
       "6"
      ]
     },
     "execution_count": 36,
     "metadata": {},
     "output_type": "execute_result"
    }
   ],
   "source": [
    "otro_nombre_para_max = max\n",
    "otro_nombre_para_max(2, 6)"
   ]
  },
  {
   "cell_type": "code",
   "execution_count": 37,
   "id": "89a302c5-ca49-449e-86ab-0d89191184f8",
   "metadata": {},
   "outputs": [
    {
     "data": {
      "text/plain": [
       "54300000.0"
      ]
     },
     "execution_count": 37,
     "metadata": {},
     "output_type": "execute_result"
    }
   ],
   "source": [
    "convertir = convertir_pago_string_en_numero\n",
    "convertir('$54.3')"
   ]
  },
  {
   "cell_type": "code",
   "execution_count": 38,
   "id": "6f8fbcc5-a1b3-4a8c-b5d3-2a2bfbb0aefa",
   "metadata": {},
   "outputs": [
    {
     "data": {
      "text/plain": [
       "6"
      ]
     },
     "execution_count": 38,
     "metadata": {},
     "output_type": "execute_result"
    }
   ],
   "source": [
    "max(2,6)"
   ]
  },
  {
   "cell_type": "markdown",
   "id": "gDLry9bYLewa",
   "metadata": {
    "deletable": true,
    "editable": true,
    "id": "gDLry9bYLewa"
   },
   "source": [
    "El antiguo nombre de \"max\" todavía existe:"
   ]
  },
  {
   "cell_type": "code",
   "execution_count": 39,
   "id": "wVu2qySkLewa",
   "metadata": {
    "deletable": true,
    "editable": true,
    "id": "wVu2qySkLewa"
   },
   "outputs": [
    {
     "data": {
      "text/plain": [
       "6"
      ]
     },
     "execution_count": 39,
     "metadata": {},
     "output_type": "execute_result"
    }
   ],
   "source": [
    "max(2, 6)"
   ]
  },
  {
   "cell_type": "markdown",
   "id": "5nKecATTLewa",
   "metadata": {
    "deletable": true,
    "editable": true,
    "id": "5nKecATTLewa"
   },
   "source": [
    "Intente simplemente escribir `max` o `otro_nombre_para_max` (o el nombre de cualquier otra función) en una celda y ejecute esa celda. Python imprimirá una descripción (muy breve) de la función."
   ]
  },
  {
   "cell_type": "code",
   "execution_count": 40,
   "id": "HHprPikbLewb",
   "metadata": {
    "deletable": true,
    "editable": true,
    "id": "HHprPikbLewb"
   },
   "outputs": [
    {
     "data": {
      "text/plain": [
       "<function max>"
      ]
     },
     "execution_count": 40,
     "metadata": {},
     "output_type": "execute_result"
    }
   ],
   "source": [
    "max"
   ]
  },
  {
   "cell_type": "markdown",
   "id": "AnURn73tLewb",
   "metadata": {
    "deletable": true,
    "editable": true,
    "id": "AnURn73tLewb"
   },
   "source": [
    "Ahora intenta escribir `max?` o `otro_nombre_para_max?` (o el nombre de cualquier otra función) en una celda y ejecuta esa celda. Debería aparecer un cuadro de información en la parte inferior de la pantalla con una descripción más larga de la función.\n",
    "\n",
    "*Nota: ¡También puedes presionar Shift+Tab después de hacer clic en un nombre para ver información similar!*"
   ]
  },
  {
   "cell_type": "code",
   "execution_count": 41,
   "id": "felRg5mqLewb",
   "metadata": {
    "deletable": true,
    "editable": true,
    "id": "felRg5mqLewb"
   },
   "outputs": [
    {
     "data": {
      "text/plain": [
       "\u001b[0;31mDocstring:\u001b[0m\n",
       "max(iterable, *[, default=obj, key=func]) -> value\n",
       "max(arg1, arg2, *args, *[, key=func]) -> value\n",
       "\n",
       "With a single iterable argument, return its biggest item. The\n",
       "default keyword-only argument specifies an object to return if\n",
       "the provided iterable is empty.\n",
       "With two or more arguments, return the largest argument.\n",
       "\u001b[0;31mType:\u001b[0m      builtin_function_or_method"
      ]
     },
     "metadata": {},
     "output_type": "display_data"
    }
   ],
   "source": [
    "otro_nombre_para_max?"
   ]
  },
  {
   "cell_type": "code",
   "execution_count": 42,
   "id": "a6f23a7c-7b0f-45ca-8d64-9ddb4e899635",
   "metadata": {},
   "outputs": [
    {
     "data": {
      "text/plain": [
       "\u001b[0;31mDocstring:\u001b[0m\n",
       "max(iterable, *[, default=obj, key=func]) -> value\n",
       "max(arg1, arg2, *args, *[, key=func]) -> value\n",
       "\n",
       "With a single iterable argument, return its biggest item. The\n",
       "default keyword-only argument specifies an object to return if\n",
       "the provided iterable is empty.\n",
       "With two or more arguments, return the largest argument.\n",
       "\u001b[0;31mType:\u001b[0m      builtin_function_or_method"
      ]
     },
     "metadata": {},
     "output_type": "display_data"
    }
   ],
   "source": [
    "max?"
   ]
  },
  {
   "cell_type": "code",
   "execution_count": 43,
   "id": "d52359f2-a875-472b-ad38-fdc75ea2f820",
   "metadata": {},
   "outputs": [
    {
     "data": {
      "text/plain": [
       "\u001b[0;31mSignature:\u001b[0m \u001b[0mconvertir\u001b[0m\u001b[0;34m(\u001b[0m\u001b[0mpago_string\u001b[0m\u001b[0;34m)\u001b[0m\u001b[0;34m\u001b[0m\u001b[0;34m\u001b[0m\u001b[0m\n",
       "\u001b[0;31mDocstring:\u001b[0m <no docstring>\n",
       "\u001b[0;31mFile:\u001b[0m      /tmp/ipykernel_129/3957720686.py\n",
       "\u001b[0;31mType:\u001b[0m      function"
      ]
     },
     "metadata": {},
     "output_type": "display_data"
    }
   ],
   "source": [
    "convertir?"
   ]
  },
  {
   "cell_type": "markdown",
   "id": "2qXfEr2jLewb",
   "metadata": {
    "deletable": true,
    "editable": true,
    "id": "2qXfEr2jLewb"
   },
   "source": [
    "Veamos qué sucede cuando configuramos \"max\" en un valor que no es función. Python ahora cree que estás intentando utilizar un número como una función, lo que provoca un error. Esté atento a las funciones a las que se les haya cambiado el nombre cuando encuentre este tipo de error."
   ]
  },
  {
   "cell_type": "code",
   "execution_count": 44,
   "id": "AO2olHwALewb",
   "metadata": {
    "deletable": true,
    "editable": true,
    "id": "AO2olHwALewb",
    "tags": [
     "raises-exception"
    ]
   },
   "outputs": [
    {
     "ename": "TypeError",
     "evalue": "'int' object is not callable",
     "output_type": "error",
     "traceback": [
      "\u001b[0;31m---------------------------------------------------------------------------\u001b[0m",
      "\u001b[0;31mTypeError\u001b[0m                                 Traceback (most recent call last)",
      "Cell \u001b[0;32mIn[44], line 2\u001b[0m\n\u001b[1;32m      1\u001b[0m \u001b[38;5;28mmax\u001b[39m \u001b[38;5;241m=\u001b[39m \u001b[38;5;241m6\u001b[39m\n\u001b[0;32m----> 2\u001b[0m \u001b[38;5;28;43mmax\u001b[39;49m\u001b[43m(\u001b[49m\u001b[38;5;241;43m2\u001b[39;49m\u001b[43m,\u001b[49m\u001b[43m \u001b[49m\u001b[38;5;241;43m6\u001b[39;49m\u001b[43m)\u001b[49m\n",
      "\u001b[0;31mTypeError\u001b[0m: 'int' object is not callable"
     ]
    }
   ],
   "source": [
    "max = 6\n",
    "max(2, 6)"
   ]
  },
  {
   "cell_type": "code",
   "execution_count": 45,
   "id": "2P9NICKJLewb",
   "metadata": {
    "deletable": true,
    "editable": true,
    "id": "2P9NICKJLewb"
   },
   "outputs": [],
   "source": [
    "# Esta celda restablece max a la función incorporada. Simplemente ejecuta esta celda, no cambies su contenido.\n",
    "import builtins\n",
    "max = builtins.max"
   ]
  },
  {
   "cell_type": "markdown",
   "id": "u_v66_S3Lewb",
   "metadata": {
    "deletable": true,
    "editable": true,
    "id": "u_v66_S3Lewb"
   },
   "source": [
    "¿Por qué es esto útil? Como las funciones son sólo valores, es posible pasarlas como argumentos a otras funciones. Aquí hay un ejemplo simple pero no tan práctico: podemos crear una serie de funciones."
   ]
  },
  {
   "cell_type": "code",
   "execution_count": 46,
   "id": "7HyQpQ0gLewc",
   "metadata": {
    "deletable": true,
    "editable": true,
    "id": "7HyQpQ0gLewc"
   },
   "outputs": [
    {
     "data": {
      "text/plain": [
       "array([<built-in function max>, <function average at 0x7c30483bccc0>,\n",
       "       <function are.equal_to at 0x7c301611e520>], dtype=object)"
      ]
     },
     "execution_count": 46,
     "metadata": {},
     "output_type": "execute_result"
    }
   ],
   "source": [
    "make_array(max, np.average, are.equal_to)"
   ]
  },
  {
   "cell_type": "markdown",
   "id": "U6SToOdfLewc",
   "metadata": {
    "deletable": false,
    "editable": false,
    "id": "U6SToOdfLewc"
   },
   "source": [
    "**Pregunta 3.1.** Crea una arreglo que contenga otras 3 funciones cualesquiera que hayas visto. Llámelo \"algunas_funciones\", la longitud de este arreglo deberá ser seis"
   ]
  },
  {
   "cell_type": "code",
   "execution_count": 47,
   "id": "a2108859",
   "metadata": {
    "tags": []
   },
   "outputs": [],
   "source": [
    "algunas_funciones = make_array(abs, min, np.mean)"
   ]
  },
  {
   "cell_type": "code",
   "execution_count": 48,
   "id": "d32e6146-8e4a-447b-8c6e-9298417bd8c3",
   "metadata": {},
   "outputs": [
    {
     "data": {
      "text/plain": [
       "2"
      ]
     },
     "execution_count": 48,
     "metadata": {},
     "output_type": "execute_result"
    }
   ],
   "source": [
    "algunas_funciones[0](-2)"
   ]
  },
  {
   "cell_type": "code",
   "execution_count": 71,
   "id": "308b3054-04c3-467a-a643-a6e18c6e7d3c",
   "metadata": {},
   "outputs": [
    {
     "data": {
      "text/plain": [
       "3"
      ]
     },
     "execution_count": 71,
     "metadata": {},
     "output_type": "execute_result"
    }
   ],
   "source": [
    "algunas_funciones[1](3,4)"
   ]
  },
  {
   "cell_type": "code",
   "execution_count": 73,
   "id": "857f6d78-30c1-4c42-825a-491d8c2f2bd4",
   "metadata": {},
   "outputs": [
    {
     "data": {
      "text/plain": [
       "2.0"
      ]
     },
     "execution_count": 73,
     "metadata": {},
     "output_type": "execute_result"
    }
   ],
   "source": [
    "algunas_funciones[2](make_array(1,2,3))"
   ]
  },
  {
   "cell_type": "code",
   "execution_count": 49,
   "id": "35c83b09",
   "metadata": {
    "deletable": false,
    "editable": false
   },
   "outputs": [
    {
     "data": {
      "text/html": [
       "<p><strong><pre style='display: inline;'>q8</pre></strong> passed! 🚀</p>"
      ],
      "text/plain": [
       "q8 results: All test cases passed!"
      ]
     },
     "execution_count": 49,
     "metadata": {},
     "output_type": "execute_result"
    }
   ],
   "source": [
    "grader.check(\"q8\")"
   ]
  },
  {
   "cell_type": "markdown",
   "id": "gE2JIiE6Lewc",
   "metadata": {
    "deletable": true,
    "editable": true,
    "id": "gE2JIiE6Lewc"
   },
   "source": [
    "Trabajar con funciones como valores puede generar un código de aspecto extraño. Por ejemplo, vea si puede descubrir por qué funciona el siguiente código."
   ]
  },
  {
   "cell_type": "code",
   "execution_count": 50,
   "id": "AXQ9m2AhLewc",
   "metadata": {
    "deletable": true,
    "editable": true,
    "id": "AXQ9m2AhLewc"
   },
   "outputs": [
    {
     "data": {
      "text/plain": [
       "7"
      ]
     },
     "execution_count": 50,
     "metadata": {},
     "output_type": "execute_result"
    }
   ],
   "source": [
    "make_array(max, np.average, are.equal_to).item(0)(4, -2, 7)"
   ]
  },
  {
   "cell_type": "markdown",
   "id": "Y-WyhnG6Lewd",
   "metadata": {
    "deletable": true,
    "editable": true,
    "id": "Y-WyhnG6Lewd"
   },
   "source": [
    "Un ejemplo más útil de pasar funciones a otras funciones como argumentos es el método de tabla \"apply\".\n",
    "\n",
    "`apply` llama a una función muchas veces, una vez en *cada* elemento en una columna de una tabla. Produce un *arreglo* de los resultados. Aquí usamos \"apply\" para convertir el pago de cada CEO a un número, usando la función que definiste:\n",
    "\n",
    "*Nota:* Verá una serie de números como `5.325e+07`. Esta es la forma en que Python representa la **notación científica**. Interpretamos \"5.325e+07\" como \"5.325 * 10**7\", o \"53.250.000\"."
   ]
  },
  {
   "cell_type": "code",
   "execution_count": 51,
   "id": "a810d1af-9232-4a68-9c1d-21d6a1e81bd9",
   "metadata": {},
   "outputs": [
    {
     "data": {
      "text/html": [
       "<table border=\"1\" class=\"dataframe\">\n",
       "    <thead>\n",
       "        <tr>\n",
       "            <th>Rank</th> <th>Name</th> <th>Company (Headquarters)</th> <th>Total Pay</th> <th>% Change</th> <th>Cash Pay</th> <th>Equity Pay</th> <th>Other Pay</th> <th>Ratio of CEO pay to average industry worker pay</th>\n",
       "        </tr>\n",
       "    </thead>\n",
       "    <tbody>\n",
       "        <tr>\n",
       "            <td>1   </td> <td>Mark V. Hurd*     </td> <td>Oracle (Redwood City)         </td> <td>$53.25   </td> <td>(No previous year)</td> <td>$0.95   </td> <td>$52.27    </td> <td>$0.02    </td> <td>362                                            </td>\n",
       "        </tr>\n",
       "        <tr>\n",
       "            <td>2   </td> <td>Safra A. Catz*    </td> <td>Oracle (Redwood City)         </td> <td>$53.24   </td> <td>(No previous year)</td> <td>$0.95   </td> <td>$52.27    </td> <td>$0.02    </td> <td>362                                            </td>\n",
       "        </tr>\n",
       "        <tr>\n",
       "            <td>3   </td> <td>Robert A. Iger    </td> <td>Walt Disney (Burbank)         </td> <td>$44.91   </td> <td>-3%               </td> <td>$24.89  </td> <td>$17.28    </td> <td>$2.74    </td> <td>477                                            </td>\n",
       "        </tr>\n",
       "        <tr>\n",
       "            <td>4   </td> <td>Marissa A. Mayer  </td> <td>Yahoo! (Sunnyvale)            </td> <td>$35.98   </td> <td>-15%              </td> <td>$1.00   </td> <td>$34.43    </td> <td>$0.55    </td> <td>342                                            </td>\n",
       "        </tr>\n",
       "        <tr>\n",
       "            <td>5   </td> <td>Marc Benioff      </td> <td>salesforce.com (San Francisco)</td> <td>$33.36   </td> <td>-16%              </td> <td>$4.65   </td> <td>$27.26    </td> <td>$1.45    </td> <td>338                                            </td>\n",
       "        </tr>\n",
       "        <tr>\n",
       "            <td>6   </td> <td>John H. Hammergren</td> <td>McKesson (San Francisco)      </td> <td>$24.84   </td> <td>-4%               </td> <td>$12.10  </td> <td>$12.37    </td> <td>$0.37    </td> <td>222                                            </td>\n",
       "        </tr>\n",
       "        <tr>\n",
       "            <td>7   </td> <td>John S. Watson    </td> <td>Chevron (San Ramon)           </td> <td>$22.04   </td> <td>-15%              </td> <td>$4.31   </td> <td>$14.68    </td> <td>$3.05    </td> <td>183                                            </td>\n",
       "        </tr>\n",
       "        <tr>\n",
       "            <td>8   </td> <td>Jeffrey Weiner    </td> <td>LinkedIn (Mountain View)      </td> <td>$19.86   </td> <td>27%               </td> <td>$2.47   </td> <td>$17.26    </td> <td>$0.13    </td> <td>182                                            </td>\n",
       "        </tr>\n",
       "        <tr>\n",
       "            <td>9   </td> <td>John T. Chambers**</td> <td>Cisco Systems (San Jose)      </td> <td>$19.62   </td> <td>19%               </td> <td>$5.10   </td> <td>$14.51    </td> <td>$0.01    </td> <td>170                                            </td>\n",
       "        </tr>\n",
       "        <tr>\n",
       "            <td>10  </td> <td>John G. Stumpf    </td> <td>Wells Fargo  (San Francisco)  </td> <td>$19.32   </td> <td>-10%              </td> <td>$6.80   </td> <td>$12.50    </td> <td>$0.02    </td> <td>256                                            </td>\n",
       "        </tr>\n",
       "    </tbody>\n",
       "</table>\n",
       "<p>... (91 rows omitted)</p>"
      ],
      "text/plain": [
       "Rank | Name               | Company (Headquarters)         | Total Pay | % Change           | Cash Pay | Equity Pay | Other Pay | Ratio of CEO pay to average industry worker pay\n",
       "1    | Mark V. Hurd*      | Oracle (Redwood City)          | $53.25    | (No previous year) | $0.95    | $52.27     | $0.02     | 362\n",
       "2    | Safra A. Catz*     | Oracle (Redwood City)          | $53.24    | (No previous year) | $0.95    | $52.27     | $0.02     | 362\n",
       "3    | Robert A. Iger     | Walt Disney (Burbank)          | $44.91    | -3%                | $24.89   | $17.28     | $2.74     | 477\n",
       "4    | Marissa A. Mayer   | Yahoo! (Sunnyvale)             | $35.98    | -15%               | $1.00    | $34.43     | $0.55     | 342\n",
       "5    | Marc Benioff       | salesforce.com (San Francisco) | $33.36    | -16%               | $4.65    | $27.26     | $1.45     | 338\n",
       "6    | John H. Hammergren | McKesson (San Francisco)       | $24.84    | -4%                | $12.10   | $12.37     | $0.37     | 222\n",
       "7    | John S. Watson     | Chevron (San Ramon)            | $22.04    | -15%               | $4.31    | $14.68     | $3.05     | 183\n",
       "8    | Jeffrey Weiner     | LinkedIn (Mountain View)       | $19.86    | 27%                | $2.47    | $17.26     | $0.13     | 182\n",
       "9    | John T. Chambers** | Cisco Systems (San Jose)       | $19.62    | 19%                | $5.10    | $14.51     | $0.01     | 170\n",
       "10   | John G. Stumpf     | Wells Fargo  (San Francisco)   | $19.32    | -10%               | $6.80    | $12.50     | $0.02     | 256\n",
       "... (91 rows omitted)"
      ]
     },
     "execution_count": 51,
     "metadata": {},
     "output_type": "execute_result"
    }
   ],
   "source": [
    "raw_compensation"
   ]
  },
  {
   "cell_type": "code",
   "execution_count": 52,
   "id": "a72a0c28-4e9f-459e-bce7-12a1556e7dd7",
   "metadata": {},
   "outputs": [
    {
     "data": {
      "text/plain": [
       "array([  3.62000000e+04,   3.62000000e+04,   4.77000000e+04,\n",
       "         3.42000000e+04,   3.38000000e+04,   2.22000000e+04,\n",
       "         1.83000000e+04,   1.82000000e+04,   1.70000000e+04,\n",
       "         2.56000000e+04,   1.17000000e+04,   1.99000000e+04,\n",
       "         1.25000000e+04,   1.31000000e+04,   8.90000000e+03,\n",
       "         1.61000000e+04,   1.78000000e+04,   1.52000000e+04,\n",
       "         1.52000000e+04,   1.50000000e+04,   9.20000000e+03,\n",
       "         1.96000000e+04,   1.06000000e+04,   2.95000000e+04,\n",
       "         1.78000000e+04,   9.80000000e+03,   1.73000000e+04,\n",
       "         3.60000000e+04,   2.23000000e+04,   1.32000000e+04,\n",
       "         4.70000000e+03,   1.47000000e+04,   8.30000000e+03,\n",
       "         1.73000000e+04,   1.82000000e+04,   1.57000000e+04,\n",
       "         8.50000000e+03,   7.90000000e+03,   8.10000000e+03,\n",
       "         1.07000000e+04,   1.02000000e+04,   7.80000000e+03,\n",
       "         2.56000000e+04,   1.90000000e+04,   9.50000000e+03,\n",
       "         5.40000000e+03,   1.24000000e+04,   1.44000000e+04,\n",
       "         5.54000000e+04,   7.20000000e+03,   2.80000000e+04,\n",
       "         3.24000000e+04,   1.39000000e+04,   8.20000000e+03,\n",
       "         6.80000000e+03,   7.00000000e+03,   1.19000000e+04,\n",
       "         7.20000000e+03,   1.65000000e+04,   1.09000000e+04,\n",
       "         1.15000000e+04,   1.14000000e+04,   1.30000000e+04,\n",
       "         6.10000000e+03,   2.26000000e+04,   9.60000000e+03,\n",
       "         1.35000000e+04,   2.50000000e+04,   7.20000000e+03,\n",
       "         4.90000000e+03,   7.60000000e+03,   1.82000000e+04,\n",
       "         1.52000000e+04,   4.60000000e+03,   4.10000000e+03,\n",
       "         4.80000000e+03,   3.35000000e+04,   3.03000000e+04,\n",
       "         4.30000000e+03,   4.30000000e+03,   6.80000000e+03,\n",
       "         5.80000000e+03,   4.60000000e+03,   5.40000000e+03,\n",
       "         5.40000000e+03,   8.30000000e+03,   4.90000000e+03,\n",
       "         3.70000000e+03,   3.10000000e+03,   4.90000000e+03,\n",
       "         3.70000000e+03,   4.00000000e+03,   4.30000000e+03,\n",
       "         2.80000000e+03,   3.10000000e+03,   2.80000000e+03,\n",
       "         2.60000000e+03,   1.70000000e+03,   3.20000000e+03,\n",
       "         6.30000000e+01,   4.60000000e+01])"
      ]
     },
     "execution_count": 52,
     "metadata": {},
     "output_type": "execute_result"
    }
   ],
   "source": [
    "def convertir(valor):\n",
    "    return valor*100\n",
    "\n",
    "raw_compensation.apply(convertir, \"Ratio of CEO pay to average industry worker pay\")"
   ]
  },
  {
   "cell_type": "code",
   "execution_count": 53,
   "id": "rwhYm0_GLewd",
   "metadata": {
    "deletable": true,
    "editable": true,
    "id": "rwhYm0_GLewd"
   },
   "outputs": [
    {
     "data": {
      "text/plain": [
       "array([  5.32500000e+07,   5.32400000e+07,   4.49100000e+07,\n",
       "         3.59800000e+07,   3.33600000e+07,   2.48400000e+07,\n",
       "         2.20400000e+07,   1.98600000e+07,   1.96200000e+07,\n",
       "         1.93200000e+07,   1.87600000e+07,   1.86100000e+07,\n",
       "         1.83600000e+07,   1.80900000e+07,   1.71000000e+07,\n",
       "         1.66300000e+07,   1.63300000e+07,   1.61400000e+07,\n",
       "         1.61000000e+07,   1.60200000e+07,   1.51000000e+07,\n",
       "         1.49800000e+07,   1.46300000e+07,   1.45100000e+07,\n",
       "         1.44400000e+07,   1.43600000e+07,   1.43100000e+07,\n",
       "         1.40900000e+07,   1.40000000e+07,   1.36700000e+07,\n",
       "         1.23400000e+07,   1.22000000e+07,   1.21800000e+07,\n",
       "         1.21300000e+07,   1.20500000e+07,   1.18400000e+07,\n",
       "         1.17100000e+07,   1.16300000e+07,   1.11600000e+07,\n",
       "         1.11100000e+07,   1.11100000e+07,   1.07300000e+07,\n",
       "         1.05000000e+07,   1.04300000e+07,   1.03700000e+07,\n",
       "         1.02800000e+07,   1.02700000e+07,   1.01800000e+07,\n",
       "         1.01600000e+07,   9.97000000e+06,   9.96000000e+06,\n",
       "         9.86000000e+06,   9.74000000e+06,   9.42000000e+06,\n",
       "         9.39000000e+06,   9.22000000e+06,   9.06000000e+06,\n",
       "         9.03000000e+06,   8.86000000e+06,   8.76000000e+06,\n",
       "         8.57000000e+06,   8.38000000e+06,   8.36000000e+06,\n",
       "         8.35000000e+06,   8.23000000e+06,   7.86000000e+06,\n",
       "         7.70000000e+06,   7.58000000e+06,   7.51000000e+06,\n",
       "         7.23000000e+06,   7.21000000e+06,   7.12000000e+06,\n",
       "         6.88000000e+06,   6.77000000e+06,   6.64000000e+06,\n",
       "         6.56000000e+06,   6.14000000e+06,   5.92000000e+06,\n",
       "         5.90000000e+06,   5.89000000e+06,   5.73000000e+06,\n",
       "         5.42000000e+06,   5.04000000e+06,   4.92000000e+06,\n",
       "         4.92000000e+06,   4.47000000e+06,   4.25000000e+06,\n",
       "         4.08000000e+06,   3.93000000e+06,   3.72000000e+06,\n",
       "         2.88000000e+06,   2.83000000e+06,   2.82000000e+06,\n",
       "         2.45000000e+06,   1.79000000e+06,   1.68000000e+06,\n",
       "         1.53000000e+06,   9.40000000e+05,   8.10000000e+05,\n",
       "         7.00000000e+04,   4.00000000e+04])"
      ]
     },
     "execution_count": 53,
     "metadata": {},
     "output_type": "execute_result"
    }
   ],
   "source": [
    "raw_compensation.apply(convertir_pago_string_en_numero, \"Total Pay\")"
   ]
  },
  {
   "cell_type": "code",
   "execution_count": 54,
   "id": "f5aa85f3-3015-446d-aba2-dd8b1a3ff431",
   "metadata": {},
   "outputs": [],
   "source": [
    "raw_compensation.to_csv(\"figure.xlsx\")"
   ]
  },
  {
   "cell_type": "markdown",
   "id": "Z-QBa8GkLewd",
   "metadata": {
    "deletable": false,
    "editable": false,
    "id": "Z-QBa8GkLewd"
   },
   "source": [
    "Aquí hay una ilustración de lo que eso hizo:\n",
    "\n",
    "<img src=\"apply_v1.png\"/>\n",
    "\n",
    "Tenga en cuenta que no escribimos `raw_compensation.apply(convertir_pago_string_en_numero(), “Total Pay”)` o `raw_compensation.apply(convertir_pago_string_en_numero(“Total Pay”))`. Simplemente pasamos el nombre de la función, sin paréntesis, a \"aplicar\", porque todo lo que queremos hacer es que \"aplicar\" sepa el nombre de la función que nos gustaría usar y el nombre de la columna que Me gusta usarlo. ¡`apply` luego llamará a la función `convertir_pago_string_en_numero` en cada valor de la columna por nosotros! También tenga en cuenta que llamar a `tbl.apply` ___no___ altera la tabla original de ninguna manera.\n",
    "\n",
    "\n",
    "\n",
    "**Pregunta 3.2.** Usando `apply`, cree una tabla que sea una copia de `raw_compensation` con una columna adicional llamada `Total Pay ($)`. Esa columna debe contener el resultado de aplicar `convertir_pago_string_en_numero` a la columna `Total Pay` (como hicimos anteriormente). Llame a la nueva tabla \"remuneracion\".\n"
   ]
  },
  {
   "cell_type": "code",
   "execution_count": 55,
   "id": "71b94ea5",
   "metadata": {
    "tags": []
   },
   "outputs": [
    {
     "data": {
      "text/html": [
       "<table border=\"1\" class=\"dataframe\">\n",
       "    <thead>\n",
       "        <tr>\n",
       "            <th>Rank</th> <th>Name</th> <th>Company (Headquarters)</th> <th>Total Pay</th> <th>% Change</th> <th>Cash Pay</th> <th>Equity Pay</th> <th>Other Pay</th> <th>Ratio of CEO pay to average industry worker pay</th> <th>Total Pay ($)</th>\n",
       "        </tr>\n",
       "    </thead>\n",
       "    <tbody>\n",
       "        <tr>\n",
       "            <td>1   </td> <td>Mark V. Hurd*     </td> <td>Oracle (Redwood City)         </td> <td>$53.25   </td> <td>(No previous year)</td> <td>$0.95   </td> <td>$52.27    </td> <td>$0.02    </td> <td>362                                            </td> <td>5.325e+07    </td>\n",
       "        </tr>\n",
       "        <tr>\n",
       "            <td>2   </td> <td>Safra A. Catz*    </td> <td>Oracle (Redwood City)         </td> <td>$53.24   </td> <td>(No previous year)</td> <td>$0.95   </td> <td>$52.27    </td> <td>$0.02    </td> <td>362                                            </td> <td>5.324e+07    </td>\n",
       "        </tr>\n",
       "        <tr>\n",
       "            <td>3   </td> <td>Robert A. Iger    </td> <td>Walt Disney (Burbank)         </td> <td>$44.91   </td> <td>-3%               </td> <td>$24.89  </td> <td>$17.28    </td> <td>$2.74    </td> <td>477                                            </td> <td>4.491e+07    </td>\n",
       "        </tr>\n",
       "        <tr>\n",
       "            <td>4   </td> <td>Marissa A. Mayer  </td> <td>Yahoo! (Sunnyvale)            </td> <td>$35.98   </td> <td>-15%              </td> <td>$1.00   </td> <td>$34.43    </td> <td>$0.55    </td> <td>342                                            </td> <td>3.598e+07    </td>\n",
       "        </tr>\n",
       "        <tr>\n",
       "            <td>5   </td> <td>Marc Benioff      </td> <td>salesforce.com (San Francisco)</td> <td>$33.36   </td> <td>-16%              </td> <td>$4.65   </td> <td>$27.26    </td> <td>$1.45    </td> <td>338                                            </td> <td>3.336e+07    </td>\n",
       "        </tr>\n",
       "        <tr>\n",
       "            <td>6   </td> <td>John H. Hammergren</td> <td>McKesson (San Francisco)      </td> <td>$24.84   </td> <td>-4%               </td> <td>$12.10  </td> <td>$12.37    </td> <td>$0.37    </td> <td>222                                            </td> <td>2.484e+07    </td>\n",
       "        </tr>\n",
       "        <tr>\n",
       "            <td>7   </td> <td>John S. Watson    </td> <td>Chevron (San Ramon)           </td> <td>$22.04   </td> <td>-15%              </td> <td>$4.31   </td> <td>$14.68    </td> <td>$3.05    </td> <td>183                                            </td> <td>2.204e+07    </td>\n",
       "        </tr>\n",
       "        <tr>\n",
       "            <td>8   </td> <td>Jeffrey Weiner    </td> <td>LinkedIn (Mountain View)      </td> <td>$19.86   </td> <td>27%               </td> <td>$2.47   </td> <td>$17.26    </td> <td>$0.13    </td> <td>182                                            </td> <td>1.986e+07    </td>\n",
       "        </tr>\n",
       "        <tr>\n",
       "            <td>9   </td> <td>John T. Chambers**</td> <td>Cisco Systems (San Jose)      </td> <td>$19.62   </td> <td>19%               </td> <td>$5.10   </td> <td>$14.51    </td> <td>$0.01    </td> <td>170                                            </td> <td>1.962e+07    </td>\n",
       "        </tr>\n",
       "        <tr>\n",
       "            <td>10  </td> <td>John G. Stumpf    </td> <td>Wells Fargo  (San Francisco)  </td> <td>$19.32   </td> <td>-10%              </td> <td>$6.80   </td> <td>$12.50    </td> <td>$0.02    </td> <td>256                                            </td> <td>1.932e+07    </td>\n",
       "        </tr>\n",
       "    </tbody>\n",
       "</table>\n",
       "<p>... (91 rows omitted)</p>"
      ],
      "text/plain": [
       "Rank | Name               | Company (Headquarters)         | Total Pay | % Change           | Cash Pay | Equity Pay | Other Pay | Ratio of CEO pay to average industry worker pay | Total Pay ($)\n",
       "1    | Mark V. Hurd*      | Oracle (Redwood City)          | $53.25    | (No previous year) | $0.95    | $52.27     | $0.02     | 362                                             | 5.325e+07\n",
       "2    | Safra A. Catz*     | Oracle (Redwood City)          | $53.24    | (No previous year) | $0.95    | $52.27     | $0.02     | 362                                             | 5.324e+07\n",
       "3    | Robert A. Iger     | Walt Disney (Burbank)          | $44.91    | -3%                | $24.89   | $17.28     | $2.74     | 477                                             | 4.491e+07\n",
       "4    | Marissa A. Mayer   | Yahoo! (Sunnyvale)             | $35.98    | -15%               | $1.00    | $34.43     | $0.55     | 342                                             | 3.598e+07\n",
       "5    | Marc Benioff       | salesforce.com (San Francisco) | $33.36    | -16%               | $4.65    | $27.26     | $1.45     | 338                                             | 3.336e+07\n",
       "6    | John H. Hammergren | McKesson (San Francisco)       | $24.84    | -4%                | $12.10   | $12.37     | $0.37     | 222                                             | 2.484e+07\n",
       "7    | John S. Watson     | Chevron (San Ramon)            | $22.04    | -15%               | $4.31    | $14.68     | $3.05     | 183                                             | 2.204e+07\n",
       "8    | Jeffrey Weiner     | LinkedIn (Mountain View)       | $19.86    | 27%                | $2.47    | $17.26     | $0.13     | 182                                             | 1.986e+07\n",
       "9    | John T. Chambers** | Cisco Systems (San Jose)       | $19.62    | 19%                | $5.10    | $14.51     | $0.01     | 170                                             | 1.962e+07\n",
       "10   | John G. Stumpf     | Wells Fargo  (San Francisco)   | $19.32    | -10%               | $6.80    | $12.50     | $0.02     | 256                                             | 1.932e+07\n",
       "... (91 rows omitted)"
      ]
     },
     "execution_count": 55,
     "metadata": {},
     "output_type": "execute_result"
    }
   ],
   "source": [
    "datos = raw_compensation.apply(convertir_pago_string_en_numero, \"Total Pay\")\n",
    "remuneracion = raw_compensation.with_column('Total Pay ($)', datos)\n",
    "remuneracion"
   ]
  },
  {
   "cell_type": "code",
   "execution_count": 75,
   "id": "188a8ae8-b03d-4117-b4b8-097615049503",
   "metadata": {},
   "outputs": [
    {
     "data": {
      "text/plain": [
       "array([  5.32500000e+07,   5.32400000e+07,   4.49100000e+07,\n",
       "         3.59800000e+07,   3.33600000e+07,   2.48400000e+07,\n",
       "         2.20400000e+07,   1.98600000e+07,   1.96200000e+07,\n",
       "         1.93200000e+07,   1.87600000e+07,   1.86100000e+07,\n",
       "         1.83600000e+07,   1.80900000e+07,   1.71000000e+07,\n",
       "         1.66300000e+07,   1.63300000e+07,   1.61400000e+07,\n",
       "         1.61000000e+07,   1.60200000e+07,   1.51000000e+07,\n",
       "         1.49800000e+07,   1.46300000e+07,   1.45100000e+07,\n",
       "         1.44400000e+07,   1.43600000e+07,   1.43100000e+07,\n",
       "         1.40900000e+07,   1.40000000e+07,   1.36700000e+07,\n",
       "         1.23400000e+07,   1.22000000e+07,   1.21800000e+07,\n",
       "         1.21300000e+07,   1.20500000e+07,   1.18400000e+07,\n",
       "         1.17100000e+07,   1.16300000e+07,   1.11600000e+07,\n",
       "         1.11100000e+07,   1.11100000e+07,   1.07300000e+07,\n",
       "         1.05000000e+07,   1.04300000e+07,   1.03700000e+07,\n",
       "         1.02800000e+07,   1.02700000e+07,   1.01800000e+07,\n",
       "         1.01600000e+07,   9.97000000e+06,   9.96000000e+06,\n",
       "         9.86000000e+06,   9.74000000e+06,   9.42000000e+06,\n",
       "         9.39000000e+06,   9.22000000e+06,   9.06000000e+06,\n",
       "         9.03000000e+06,   8.86000000e+06,   8.76000000e+06,\n",
       "         8.57000000e+06,   8.38000000e+06,   8.36000000e+06,\n",
       "         8.35000000e+06,   8.23000000e+06,   7.86000000e+06,\n",
       "         7.70000000e+06,   7.58000000e+06,   7.51000000e+06,\n",
       "         7.23000000e+06,   7.21000000e+06,   7.12000000e+06,\n",
       "         6.88000000e+06,   6.77000000e+06,   6.64000000e+06,\n",
       "         6.56000000e+06,   6.14000000e+06,   5.92000000e+06,\n",
       "         5.90000000e+06,   5.89000000e+06,   5.73000000e+06,\n",
       "         5.42000000e+06,   5.04000000e+06,   4.92000000e+06,\n",
       "         4.92000000e+06,   4.47000000e+06,   4.25000000e+06,\n",
       "         4.08000000e+06,   3.93000000e+06,   3.72000000e+06,\n",
       "         2.88000000e+06,   2.83000000e+06,   2.82000000e+06,\n",
       "         2.45000000e+06,   1.79000000e+06,   1.68000000e+06,\n",
       "         1.53000000e+06,   9.40000000e+05,   8.10000000e+05,\n",
       "         7.00000000e+04,   4.00000000e+04])"
      ]
     },
     "execution_count": 75,
     "metadata": {},
     "output_type": "execute_result"
    }
   ],
   "source": [
    "datos = raw_compensation.apply(convertir_pago_string_en_numero, \"Total Pay\")\n",
    "datos"
   ]
  },
  {
   "cell_type": "code",
   "execution_count": 56,
   "id": "6fa59d99",
   "metadata": {
    "deletable": false,
    "editable": false
   },
   "outputs": [
    {
     "data": {
      "text/html": [
       "<p><strong><pre style='display: inline;'>q9</pre></strong> passed! 🚀</p>"
      ],
      "text/plain": [
       "q9 results: All test cases passed!"
      ]
     },
     "execution_count": 56,
     "metadata": {},
     "output_type": "execute_result"
    }
   ],
   "source": [
    "grader.check(\"q9\")"
   ]
  },
  {
   "cell_type": "markdown",
   "id": "MrLyYoEWLewe",
   "metadata": {
    "deletable": true,
    "editable": true,
    "id": "MrLyYoEWLewe"
   },
   "source": [
    "Ahora que tenemos todos los pagos como números, podemos aprender más sobre ellos mediante el cálculo."
   ]
  },
  {
   "cell_type": "markdown",
   "id": "Cg9U3JjjLewe",
   "metadata": {
    "deletable": false,
    "editable": false,
    "id": "Cg9U3JjjLewe"
   },
   "source": [
    "**Pregunta 3.3.** Calcule el salario total promedio de los directores ejecutivos en el conjunto de datos, llama esta variable `salario_promedio`\n"
   ]
  },
  {
   "cell_type": "code",
   "execution_count": 57,
   "id": "81ddfc03",
   "metadata": {
    "tags": []
   },
   "outputs": [
    {
     "data": {
      "text/plain": [
       "11558613.861386139"
      ]
     },
     "execution_count": 57,
     "metadata": {},
     "output_type": "execute_result"
    }
   ],
   "source": [
    "salario_promedio = remuneracion.column('Total Pay ($)').mean()\n",
    "salario_promedio"
   ]
  },
  {
   "cell_type": "code",
   "execution_count": 77,
   "id": "b403cd35-761d-4de8-b222-5c120802e318",
   "metadata": {},
   "outputs": [
    {
     "data": {
      "text/plain": [
       "11558613.861386139"
      ]
     },
     "execution_count": 77,
     "metadata": {},
     "output_type": "execute_result"
    }
   ],
   "source": [
    "salario_promedio = np.mean(remuneracion.column('Total Pay ($)'))\n",
    "salario_promedio"
   ]
  },
  {
   "cell_type": "code",
   "execution_count": 78,
   "id": "12fbef5d",
   "metadata": {
    "deletable": false,
    "editable": false
   },
   "outputs": [
    {
     "data": {
      "text/html": [
       "<p><strong><pre style='display: inline;'>q10</pre></strong> passed! 💯</p>"
      ],
      "text/plain": [
       "q10 results: All test cases passed!"
      ]
     },
     "execution_count": 78,
     "metadata": {},
     "output_type": "execute_result"
    }
   ],
   "source": [
    "grader.check(\"q10\")"
   ]
  },
  {
   "cell_type": "markdown",
   "id": "kLfI1F7yLewf",
   "metadata": {
    "deletable": false,
    "editable": false,
    "id": "kLfI1F7yLewf"
   },
   "source": [
    "**Pregunta 3.4** Las empresas pagan a los ejecutivos de diversas formas: en efectivo, otorgándoles acciones u otro capital de la empresa, o con beneficios auxiliares (como jets privados). Calcule la proporción del pago de cada director ejecutivo que fue en efectivo (ver columna \"Cash Pay\"). (Su respuesta debería ser una serie de números tipo arreglo de numpy, uno para cada director ejecutivo en el conjunto de datos). Llame este arreglo `col_prop`\n",
    "\n",
    "A partir de la tabla raw_compensation, calcular un arreglo que contenga, para cada director ejecutivo, la proporción de su compensación que fue pagada en efectivo. Esta proporción se calcula como:\n",
    "\\begin{equation}\n",
    "\\mathrm{Proporcion\\ en\\ Efectivo} =\\frac{\\mathrm{Cash\\ Pay}}{\\mathrm{Total\\  Pay}}\n",
    "\\end{equation}\n",
    " \n",
    "Tu resultado final debe ser un arreglo de NumPy llamado col_prop.\n",
    "\n",
    "*Pista:* ¿Qué función has definido que puede convertir una cadena en un número?\n"
   ]
  },
  {
   "cell_type": "code",
   "execution_count": 59,
   "id": "787897ff",
   "metadata": {
    "tags": []
   },
   "outputs": [
    {
     "data": {
      "text/plain": [
       "array([ 0.01784038,  0.01784373,  0.55421955,  0.02779322,  0.13938849,\n",
       "        0.48711755,  0.19555354,  0.12437059,  0.25993884,  0.35196687,\n",
       "        0.3075693 ,  0.22138635,  0.13126362,  0.1708126 ,  0.23099415,\n",
       "        0.06734817,  0.13043478,  0.28004957,  0.33229814,  0.15355805,\n",
       "        0.29337748,  0.21829105,  0.31100478,  0.25086147,  0.2299169 ,\n",
       "        0.16991643,  0.31795947,  0.26188786,  0.28357143,  0.15654718,\n",
       "        0.38168558,  0.28934426,  0.20361248,  0.47650453,  0.45643154,\n",
       "        0.36402027,  0.2177626 ,  0.24763543,  0.42562724,  0.2610261 ,\n",
       "        0.18361836,  0.1444548 ,  0.33333333,  0.10834132,  0.20925747,\n",
       "        0.97276265,  0.22979552,  0.22789784,  0.37893701,  0.25175527,\n",
       "        0.73895582,  0.37018256,  0.2412731 ,  0.2133758 ,  0.20553781,\n",
       "        0.23318872,  0.33664459,  0.3875969 ,  0.56094808,  0.11757991,\n",
       "        0.35239207,  0.24463007,  0.25      ,  0.23712575,  0.43377886,\n",
       "        0.31424936,  0.46363636,  0.32585752,  0.24766977,  0.98755187,\n",
       "        0.27184466,  0.96207865,  0.31831395,  0.81979321,  0.23795181,\n",
       "        0.17530488,  0.21172638,  0.37162162,  0.27288136,  0.26994907,\n",
       "        0.55148342,  0.3597786 ,  0.        ,  0.47154472,  0.47154472,\n",
       "        0.29753915,  0.16235294,  0.48529412,  0.46819338,  0.32526882,\n",
       "        0.98958333,  0.61130742,  0.67021277,  0.75510204,  0.50837989,\n",
       "        0.98809524,  0.98039216,  0.9893617 ,  0.87654321,  0.        ,\n",
       "        1.        ])"
      ]
     },
     "execution_count": 59,
     "metadata": {},
     "output_type": "execute_result"
    }
   ],
   "source": [
    "cash_pay = raw_compensation.apply(convertir_pago_string_en_numero, \"Cash Pay\")\n",
    "total_pay = raw_compensation.apply(convertir_pago_string_en_numero, \"Total Pay\")\n",
    "col_prop = cash_pay / total_pay\n",
    "col_prop"
   ]
  },
  {
   "cell_type": "code",
   "execution_count": 60,
   "id": "44833cf3",
   "metadata": {
    "deletable": false,
    "editable": false
   },
   "outputs": [
    {
     "data": {
      "text/html": [
       "<p><strong><pre style='display: inline;'>q11</pre></strong> passed! 💯</p>"
      ],
      "text/plain": [
       "q11 results: All test cases passed!"
      ]
     },
     "execution_count": 60,
     "metadata": {},
     "output_type": "execute_result"
    }
   ],
   "source": [
    "grader.check(\"q11\")"
   ]
  },
  {
   "cell_type": "markdown",
   "id": "mDHG5fJVLewf",
   "metadata": {
    "deletable": true,
    "editable": true,
    "for_assignment_type": "solution",
    "id": "mDHG5fJVLewf"
   },
   "source": [
    "**¿Por qué es útil `apply`?**\n",
    "\n",
    "Para operaciones como aritmética o las funciones en la biblioteca de NumPy, no necesitas usar `apply`, ya que estas funcionan automáticamente en cada elemento de un arreglo. Sin embargo, hay muchas otras operaciones que no lo hacen. La manipulación de cadenas que hicimos en el laboratorio de hoy es un ejemplo. Como puedes escribir cualquier código que desees dentro de una función, `apply` te da un mayor control sobre cómo operas con los datos."
   ]
  },
  {
   "cell_type": "code",
   "execution_count": 61,
   "id": "3be03227-f676-435b-9d20-15f966e93065",
   "metadata": {
    "deletable": false,
    "editable": false
   },
   "outputs": [
    {
     "data": {
      "text/html": [
       "<table border=\"1\" class=\"dataframe\">\n",
       "    <thead>\n",
       "        <tr>\n",
       "            <th>Rank</th> <th>Name</th> <th>Company (Headquarters)</th> <th>Total Pay</th> <th>% Change</th> <th>Cash Pay</th> <th>Equity Pay</th> <th>Other Pay</th> <th>Ratio of CEO pay to average industry worker pay</th> <th>Total Pay ($)</th>\n",
       "        </tr>\n",
       "    </thead>\n",
       "    <tbody>\n",
       "        <tr>\n",
       "            <td>1   </td> <td>Mark V. Hurd*     </td> <td>Oracle (Redwood City)         </td> <td>$53.25   </td> <td>(No previous year)</td> <td>$0.95   </td> <td>$52.27    </td> <td>$0.02    </td> <td>362                                            </td> <td>5.325e+07    </td>\n",
       "        </tr>\n",
       "        <tr>\n",
       "            <td>2   </td> <td>Safra A. Catz*    </td> <td>Oracle (Redwood City)         </td> <td>$53.24   </td> <td>(No previous year)</td> <td>$0.95   </td> <td>$52.27    </td> <td>$0.02    </td> <td>362                                            </td> <td>5.324e+07    </td>\n",
       "        </tr>\n",
       "        <tr>\n",
       "            <td>3   </td> <td>Robert A. Iger    </td> <td>Walt Disney (Burbank)         </td> <td>$44.91   </td> <td>-3%               </td> <td>$24.89  </td> <td>$17.28    </td> <td>$2.74    </td> <td>477                                            </td> <td>4.491e+07    </td>\n",
       "        </tr>\n",
       "        <tr>\n",
       "            <td>4   </td> <td>Marissa A. Mayer  </td> <td>Yahoo! (Sunnyvale)            </td> <td>$35.98   </td> <td>-15%              </td> <td>$1.00   </td> <td>$34.43    </td> <td>$0.55    </td> <td>342                                            </td> <td>3.598e+07    </td>\n",
       "        </tr>\n",
       "        <tr>\n",
       "            <td>5   </td> <td>Marc Benioff      </td> <td>salesforce.com (San Francisco)</td> <td>$33.36   </td> <td>-16%              </td> <td>$4.65   </td> <td>$27.26    </td> <td>$1.45    </td> <td>338                                            </td> <td>3.336e+07    </td>\n",
       "        </tr>\n",
       "        <tr>\n",
       "            <td>6   </td> <td>John H. Hammergren</td> <td>McKesson (San Francisco)      </td> <td>$24.84   </td> <td>-4%               </td> <td>$12.10  </td> <td>$12.37    </td> <td>$0.37    </td> <td>222                                            </td> <td>2.484e+07    </td>\n",
       "        </tr>\n",
       "        <tr>\n",
       "            <td>7   </td> <td>John S. Watson    </td> <td>Chevron (San Ramon)           </td> <td>$22.04   </td> <td>-15%              </td> <td>$4.31   </td> <td>$14.68    </td> <td>$3.05    </td> <td>183                                            </td> <td>2.204e+07    </td>\n",
       "        </tr>\n",
       "        <tr>\n",
       "            <td>8   </td> <td>Jeffrey Weiner    </td> <td>LinkedIn (Mountain View)      </td> <td>$19.86   </td> <td>27%               </td> <td>$2.47   </td> <td>$17.26    </td> <td>$0.13    </td> <td>182                                            </td> <td>1.986e+07    </td>\n",
       "        </tr>\n",
       "        <tr>\n",
       "            <td>9   </td> <td>John T. Chambers**</td> <td>Cisco Systems (San Jose)      </td> <td>$19.62   </td> <td>19%               </td> <td>$5.10   </td> <td>$14.51    </td> <td>$0.01    </td> <td>170                                            </td> <td>1.962e+07    </td>\n",
       "        </tr>\n",
       "        <tr>\n",
       "            <td>10  </td> <td>John G. Stumpf    </td> <td>Wells Fargo  (San Francisco)  </td> <td>$19.32   </td> <td>-10%              </td> <td>$6.80   </td> <td>$12.50    </td> <td>$0.02    </td> <td>256                                            </td> <td>1.932e+07    </td>\n",
       "        </tr>\n",
       "    </tbody>\n",
       "</table>\n",
       "<p>... (91 rows omitted)</p>"
      ],
      "text/plain": [
       "Rank | Name               | Company (Headquarters)         | Total Pay | % Change           | Cash Pay | Equity Pay | Other Pay | Ratio of CEO pay to average industry worker pay | Total Pay ($)\n",
       "1    | Mark V. Hurd*      | Oracle (Redwood City)          | $53.25    | (No previous year) | $0.95    | $52.27     | $0.02     | 362                                             | 5.325e+07\n",
       "2    | Safra A. Catz*     | Oracle (Redwood City)          | $53.24    | (No previous year) | $0.95    | $52.27     | $0.02     | 362                                             | 5.324e+07\n",
       "3    | Robert A. Iger     | Walt Disney (Burbank)          | $44.91    | -3%                | $24.89   | $17.28     | $2.74     | 477                                             | 4.491e+07\n",
       "4    | Marissa A. Mayer   | Yahoo! (Sunnyvale)             | $35.98    | -15%               | $1.00    | $34.43     | $0.55     | 342                                             | 3.598e+07\n",
       "5    | Marc Benioff       | salesforce.com (San Francisco) | $33.36    | -16%               | $4.65    | $27.26     | $1.45     | 338                                             | 3.336e+07\n",
       "6    | John H. Hammergren | McKesson (San Francisco)       | $24.84    | -4%                | $12.10   | $12.37     | $0.37     | 222                                             | 2.484e+07\n",
       "7    | John S. Watson     | Chevron (San Ramon)            | $22.04    | -15%               | $4.31    | $14.68     | $3.05     | 183                                             | 2.204e+07\n",
       "8    | Jeffrey Weiner     | LinkedIn (Mountain View)       | $19.86    | 27%                | $2.47    | $17.26     | $0.13     | 182                                             | 1.986e+07\n",
       "9    | John T. Chambers** | Cisco Systems (San Jose)       | $19.62    | 19%                | $5.10    | $14.51     | $0.01     | 170                                             | 1.962e+07\n",
       "10   | John G. Stumpf     | Wells Fargo  (San Francisco)   | $19.32    | -10%               | $6.80    | $12.50     | $0.02     | 256                                             | 1.932e+07\n",
       "... (91 rows omitted)"
      ]
     },
     "execution_count": 61,
     "metadata": {},
     "output_type": "execute_result"
    }
   ],
   "source": [
    "remuneracion"
   ]
  },
  {
   "cell_type": "markdown",
   "id": "ImY6bT0MLewf",
   "metadata": {
    "deletable": false,
    "editable": false,
    "id": "ImY6bT0MLewf"
   },
   "source": [
    "Consulta la columna \"% Change\" en la tabla `remuneracion`. Esta columna muestra el aumento porcentual en la remuneración del director ejecutivo con respecto al año anterior. Para los directores ejecutivos que no tienen ningún año anterior registrado, en su lugar aparece \"(No previous year)\". Los valores en esta columna son *strings*, no números, por lo que, al igual que la columna \"Total Pay\", no se pueden utilizar directamente sin un poco de procesamiento adicional.\n",
    "\n",
    "Dado el salario actual y el aumento porcentual del año anterior, es posible calcular el salario del año anterior. Por ejemplo, si el salario actual es \\$120, y este representa un aumento del 50 % respecto al año anterior, entonces el salario del año anterior sería:\n",
    "\n",
    "\\begin{equation}\n",
    "\\frac{\\$120}{1 + \\frac{50}{100}} = \\$80\n",
    "\\end{equation}\n",
    "\n",
    "**Pregunta 3.5**\n",
    "\n",
    "Crea una nueva tabla llamada `con_remuneracion_anterior`. Esta tabla debe ser una copia de `remuneracion`, pero con los directores ejecutivos que no tienen un año anterior registrado (\"(No previous year)\") filtrados. Además, debe incluir una columna adicional llamada **\"Total Pay 2014 ($)\"**, que contenga la remuneración de cada director ejecutivo en 2014.\n",
    "\n",
    "*Pista 1:* \n",
    "Imprime tus resultados después de cada paso para verificar que estés en el camino correcto.\n",
    "\n",
    "*Pista 2:* \n",
    "Te hemos proporcionado una estructura que puedes utilizar para llegar a la respuesta. Sin embargo, si te resulta confusa, no dudes en modificarla o abordarla de una manera diferente.\n"
   ]
  },
  {
   "cell_type": "code",
   "execution_count": 62,
   "id": "89bde0c9",
   "metadata": {
    "tags": []
   },
   "outputs": [
    {
     "data": {
      "text/html": [
       "<table border=\"1\" class=\"dataframe\">\n",
       "    <thead>\n",
       "        <tr>\n",
       "            <th>Rank</th> <th>Name</th> <th>Company (Headquarters)</th> <th>Total Pay</th> <th>% Change</th> <th>Cash Pay</th> <th>Equity Pay</th> <th>Other Pay</th> <th>Ratio of CEO pay to average industry worker pay</th> <th>Total Pay ($)</th> <th>Total Pay 2014 ($)</th>\n",
       "        </tr>\n",
       "    </thead>\n",
       "    <tbody>\n",
       "        <tr>\n",
       "            <td>3   </td> <td>Robert A. Iger    </td> <td>Walt Disney (Burbank)         </td> <td>$44.91   </td> <td>-3%     </td> <td>$24.89  </td> <td>$17.28    </td> <td>$2.74    </td> <td>477                                            </td> <td>4.491e+07    </td> <td>4.6299e+07        </td>\n",
       "        </tr>\n",
       "        <tr>\n",
       "            <td>4   </td> <td>Marissa A. Mayer  </td> <td>Yahoo! (Sunnyvale)            </td> <td>$35.98   </td> <td>-15%    </td> <td>$1.00   </td> <td>$34.43    </td> <td>$0.55    </td> <td>342                                            </td> <td>3.598e+07    </td> <td>4.23294e+07       </td>\n",
       "        </tr>\n",
       "        <tr>\n",
       "            <td>5   </td> <td>Marc Benioff      </td> <td>salesforce.com (San Francisco)</td> <td>$33.36   </td> <td>-16%    </td> <td>$4.65   </td> <td>$27.26    </td> <td>$1.45    </td> <td>338                                            </td> <td>3.336e+07    </td> <td>3.97143e+07       </td>\n",
       "        </tr>\n",
       "        <tr>\n",
       "            <td>6   </td> <td>John H. Hammergren</td> <td>McKesson (San Francisco)      </td> <td>$24.84   </td> <td>-4%     </td> <td>$12.10  </td> <td>$12.37    </td> <td>$0.37    </td> <td>222                                            </td> <td>2.484e+07    </td> <td>2.5875e+07        </td>\n",
       "        </tr>\n",
       "        <tr>\n",
       "            <td>7   </td> <td>John S. Watson    </td> <td>Chevron (San Ramon)           </td> <td>$22.04   </td> <td>-15%    </td> <td>$4.31   </td> <td>$14.68    </td> <td>$3.05    </td> <td>183                                            </td> <td>2.204e+07    </td> <td>2.59294e+07       </td>\n",
       "        </tr>\n",
       "        <tr>\n",
       "            <td>8   </td> <td>Jeffrey Weiner    </td> <td>LinkedIn (Mountain View)      </td> <td>$19.86   </td> <td>27%     </td> <td>$2.47   </td> <td>$17.26    </td> <td>$0.13    </td> <td>182                                            </td> <td>1.986e+07    </td> <td>1.56378e+07       </td>\n",
       "        </tr>\n",
       "        <tr>\n",
       "            <td>9   </td> <td>John T. Chambers**</td> <td>Cisco Systems (San Jose)      </td> <td>$19.62   </td> <td>19%     </td> <td>$5.10   </td> <td>$14.51    </td> <td>$0.01    </td> <td>170                                            </td> <td>1.962e+07    </td> <td>1.64874e+07       </td>\n",
       "        </tr>\n",
       "        <tr>\n",
       "            <td>10  </td> <td>John G. Stumpf    </td> <td>Wells Fargo  (San Francisco)  </td> <td>$19.32   </td> <td>-10%    </td> <td>$6.80   </td> <td>$12.50    </td> <td>$0.02    </td> <td>256                                            </td> <td>1.932e+07    </td> <td>2.14667e+07       </td>\n",
       "        </tr>\n",
       "        <tr>\n",
       "            <td>11  </td> <td>John C. Martin**  </td> <td>Gilead Sciences (Foster City) </td> <td>$18.76   </td> <td>-1%     </td> <td>$5.77   </td> <td>$12.98    </td> <td>$0.01    </td> <td>117                                            </td> <td>1.876e+07    </td> <td>1.89495e+07       </td>\n",
       "        </tr>\n",
       "        <tr>\n",
       "            <td>13  </td> <td>Shantanu Narayen  </td> <td>Adobe Systems (San Jose)      </td> <td>$18.36   </td> <td>3%      </td> <td>$2.41   </td> <td>$15.85    </td> <td>$0.09    </td> <td>125                                            </td> <td>1.836e+07    </td> <td>1.78252e+07       </td>\n",
       "        </tr>\n",
       "    </tbody>\n",
       "</table>\n",
       "<p>... (70 rows omitted)</p>"
      ],
      "text/plain": [
       "Rank | Name               | Company (Headquarters)         | Total Pay | % Change | Cash Pay | Equity Pay | Other Pay | Ratio of CEO pay to average industry worker pay | Total Pay ($) | Total Pay 2014 ($)\n",
       "3    | Robert A. Iger     | Walt Disney (Burbank)          | $44.91    | -3%      | $24.89   | $17.28     | $2.74     | 477                                             | 4.491e+07     | 4.6299e+07\n",
       "4    | Marissa A. Mayer   | Yahoo! (Sunnyvale)             | $35.98    | -15%     | $1.00    | $34.43     | $0.55     | 342                                             | 3.598e+07     | 4.23294e+07\n",
       "5    | Marc Benioff       | salesforce.com (San Francisco) | $33.36    | -16%     | $4.65    | $27.26     | $1.45     | 338                                             | 3.336e+07     | 3.97143e+07\n",
       "6    | John H. Hammergren | McKesson (San Francisco)       | $24.84    | -4%      | $12.10   | $12.37     | $0.37     | 222                                             | 2.484e+07     | 2.5875e+07\n",
       "7    | John S. Watson     | Chevron (San Ramon)            | $22.04    | -15%     | $4.31    | $14.68     | $3.05     | 183                                             | 2.204e+07     | 2.59294e+07\n",
       "8    | Jeffrey Weiner     | LinkedIn (Mountain View)       | $19.86    | 27%      | $2.47    | $17.26     | $0.13     | 182                                             | 1.986e+07     | 1.56378e+07\n",
       "9    | John T. Chambers** | Cisco Systems (San Jose)       | $19.62    | 19%      | $5.10    | $14.51     | $0.01     | 170                                             | 1.962e+07     | 1.64874e+07\n",
       "10   | John G. Stumpf     | Wells Fargo  (San Francisco)   | $19.32    | -10%     | $6.80    | $12.50     | $0.02     | 256                                             | 1.932e+07     | 2.14667e+07\n",
       "11   | John C. Martin**   | Gilead Sciences (Foster City)  | $18.76    | -1%      | $5.77    | $12.98     | $0.01     | 117                                             | 1.876e+07     | 1.89495e+07\n",
       "13   | Shantanu Narayen   | Adobe Systems (San Jose)       | $18.36    | 3%       | $2.41    | $15.85     | $0.09     | 125                                             | 1.836e+07     | 1.78252e+07\n",
       "... (70 rows omitted)"
      ]
     },
     "execution_count": 62,
     "metadata": {},
     "output_type": "execute_result"
    }
   ],
   "source": [
    "def porcentaje_a_numero(cadena_porcentaje):\n",
    "    #Convierte una cadena de porcentaje en un número.\n",
    "    #print(cadena_porcentaje)\n",
    "    return float(cadena_porcentaje.strip('%'))\n",
    "\n",
    "# Filtrar la tabla para obtener solo los directores ejecutivos que tienen datos del año anterior\n",
    "con_anio_anterior = remuneracion.where('% Change', are.not_equal_to('(No previous year)'))\n",
    "\n",
    "# Convertir los valores de % Change a números\n",
    "cambios_porcentuales = con_anio_anterior.apply(porcentaje_a_numero, '% Change')\n",
    "\n",
    "# Calcular el salario del año anterior\n",
    "salario_anterior = con_anio_anterior.column(\"Total Pay ($)\") / (1 + (cambios_porcentuales / 100))\n",
    "\n",
    "# Añadir la nueva columna \"Pago total de 2014 ($)\" a la tabla\n",
    "con_remuneracion_anterior = con_anio_anterior.with_column(\"Total Pay 2014 ($)\", salario_anterior)\n",
    "con_remuneracion_anterior"
   ]
  },
  {
   "cell_type": "code",
   "execution_count": 63,
   "id": "66105240",
   "metadata": {
    "deletable": false,
    "editable": false
   },
   "outputs": [
    {
     "data": {
      "text/html": [
       "<p><strong><pre style='display: inline;'>q12</pre></strong> passed! ✨</p>"
      ],
      "text/plain": [
       "q12 results: All test cases passed!"
      ]
     },
     "execution_count": 63,
     "metadata": {},
     "output_type": "execute_result"
    }
   ],
   "source": [
    "grader.check(\"q12\")"
   ]
  },
  {
   "cell_type": "markdown",
   "id": "nYFLcT_DLewg",
   "metadata": {
    "deletable": false,
    "editable": false,
    "id": "nYFLcT_DLewg"
   },
   "source": [
    "**Pregunta 3.6**\n",
    "Determina la remuneración media en 2014 de los CEOs que aparecen en la tabla `con_remuneracion_anterior`. Asigna este valor a la variable `remuneracion_promedio_2014`.\n"
   ]
  },
  {
   "cell_type": "code",
   "execution_count": 64,
   "id": "c598df77",
   "metadata": {
    "tags": []
   },
   "outputs": [
    {
     "data": {
      "text/plain": [
       "11794790.817048479"
      ]
     },
     "execution_count": 64,
     "metadata": {},
     "output_type": "execute_result"
    }
   ],
   "source": [
    "remuneracion_promedio_2014= con_remuneracion_anterior.column('Total Pay 2014 ($)').mean()\n",
    "remuneracion_promedio_2014"
   ]
  },
  {
   "cell_type": "code",
   "execution_count": 65,
   "id": "985adaad",
   "metadata": {
    "deletable": false,
    "editable": false
   },
   "outputs": [
    {
     "data": {
      "text/html": [
       "<p><strong><pre style='display: inline;'>q13</pre></strong> passed! 🎉</p>"
      ],
      "text/plain": [
       "q13 results: All test cases passed!"
      ]
     },
     "execution_count": 65,
     "metadata": {},
     "output_type": "execute_result"
    }
   ],
   "source": [
    "grader.check(\"q13\")"
   ]
  },
  {
   "cell_type": "markdown",
   "id": "z4h7r2zgLewh",
   "metadata": {
    "deletable": false,
    "editable": false,
    "id": "z4h7r2zgLewh"
   },
   "source": [
    "## 4. Histogramas\n",
    "Anteriormente, calculamos el salario promedio entre los directores ejecutivos en nuestro conjunto de datos de 102 directores ejecutivos. Sin embargo, el promedio no nos dice todo sobre las cantidades que se les paga a los directores ejecutivos. Quizás sólo unos pocos directores ejecutivos ganen la mayor parte del dinero, incluso entre estos 102.\n",
    "\n",
    "Podemos usar un método de *histograma* para mostrar la *distribución* de un conjunto de números. El método de tabla `hist` toma un único argumento, el nombre de una columna de números. Produce un histograma de los números en esa columna.\n",
    "\n",
    "**Pregunta 4.1.** Haga un histograma del salario total de los CEO en `remuneracion`. Consulte con un compañero o instructor para asegurarse de tener la instrucción  correcta. *Si recibes una advertencia, ignórala.*\n",
    "\n",
    "*Sugerencia:* Si no está seguro de cómo crear un histograma, consulte la [hoja de referencia de Python](https://www.data8.org/fa23/reference/)."
   ]
  },
  {
   "cell_type": "code",
   "execution_count": 87,
   "id": "cd49a2db",
   "metadata": {
    "tags": []
   },
   "outputs": [
    {
     "data": {
      "text/plain": [
       "<Figure size 1200x1200 with 0 Axes>"
      ]
     },
     "metadata": {},
     "output_type": "display_data"
    },
    {
     "data": {
      "image/png": "[encoded data removed]",
      "text/plain": [
       "<Figure size 600x400 with 1 Axes>"
      ]
     },
     "metadata": {},
     "output_type": "display_data"
    }
   ],
   "source": [
    "plt.figure(figsize=(12,12))\n",
    "remuneracion.hist('Total Pay ($)',bins=50)"
   ]
  },
  {
   "cell_type": "code",
   "execution_count": 92,
   "id": "1ea12b06-7914-4ceb-a40c-8c61358753a4",
   "metadata": {},
   "outputs": [
    {
     "data": {
      "text/plain": [
       "(array([ 2.,  2.,  1.,  2.,  1.,  3.,  1.,  3.,  1.,  3.,  3.,  3.,  4.,\n",
       "         3.,  4.,  4.,  5.,  3.,  4.,  7.,  4.,  2.,  5.,  1.,  0.,  1.,\n",
       "         4.,  3.,  2.,  0.,  4.,  1.,  1.,  1.,  2.,  1.,  2.,  1.,  0.,\n",
       "         0.,  0.,  1.,  0.,  0.,  0.,  0.,  1.,  0.,  0.,  0.,  0.,  0.,\n",
       "         0.,  0.,  0.,  0.,  0.,  0.,  0.,  0.,  0.,  0.,  1.,  0.,  0.,\n",
       "         0.,  0.,  1.,  0.,  0.,  0.,  0.,  0.,  0.,  0.,  0.,  0.,  0.,\n",
       "         0.,  0.,  0.,  0.,  0.,  0.,  1.,  0.,  0.,  0.,  0.,  0.,  0.,\n",
       "         0.,  0.,  0.,  0.,  0.,  0.,  0.,  0.,  2.]),\n",
       " array([  4.00000000e+04,   5.72100000e+05,   1.10420000e+06,\n",
       "          1.63630000e+06,   2.16840000e+06,   2.70050000e+06,\n",
       "          3.23260000e+06,   3.76470000e+06,   4.29680000e+06,\n",
       "          4.82890000e+06,   5.36100000e+06,   5.89310000e+06,\n",
       "          6.42520000e+06,   6.95730000e+06,   7.48940000e+06,\n",
       "          8.02150000e+06,   8.55360000e+06,   9.08570000e+06,\n",
       "          9.61780000e+06,   1.01499000e+07,   1.06820000e+07,\n",
       "          1.12141000e+07,   1.17462000e+07,   1.22783000e+07,\n",
       "          1.28104000e+07,   1.33425000e+07,   1.38746000e+07,\n",
       "          1.44067000e+07,   1.49388000e+07,   1.54709000e+07,\n",
       "          1.60030000e+07,   1.65351000e+07,   1.70672000e+07,\n",
       "          1.75993000e+07,   1.81314000e+07,   1.86635000e+07,\n",
       "          1.91956000e+07,   1.97277000e+07,   2.02598000e+07,\n",
       "          2.07919000e+07,   2.13240000e+07,   2.18561000e+07,\n",
       "          2.23882000e+07,   2.29203000e+07,   2.34524000e+07,\n",
       "          2.39845000e+07,   2.45166000e+07,   2.50487000e+07,\n",
       "          2.55808000e+07,   2.61129000e+07,   2.66450000e+07,\n",
       "          2.71771000e+07,   2.77092000e+07,   2.82413000e+07,\n",
       "          2.87734000e+07,   2.93055000e+07,   2.98376000e+07,\n",
       "          3.03697000e+07,   3.09018000e+07,   3.14339000e+07,\n",
       "          3.19660000e+07,   3.24981000e+07,   3.30302000e+07,\n",
       "          3.35623000e+07,   3.40944000e+07,   3.46265000e+07,\n",
       "          3.51586000e+07,   3.56907000e+07,   3.62228000e+07,\n",
       "          3.67549000e+07,   3.72870000e+07,   3.78191000e+07,\n",
       "          3.83512000e+07,   3.88833000e+07,   3.94154000e+07,\n",
       "          3.99475000e+07,   4.04796000e+07,   4.10117000e+07,\n",
       "          4.15438000e+07,   4.20759000e+07,   4.26080000e+07,\n",
       "          4.31401000e+07,   4.36722000e+07,   4.42043000e+07,\n",
       "          4.47364000e+07,   4.52685000e+07,   4.58006000e+07,\n",
       "          4.63327000e+07,   4.68648000e+07,   4.73969000e+07,\n",
       "          4.79290000e+07,   4.84611000e+07,   4.89932000e+07,\n",
       "          4.95253000e+07,   5.00574000e+07,   5.05895000e+07,\n",
       "          5.11216000e+07,   5.16537000e+07,   5.21858000e+07,\n",
       "          5.27179000e+07,   5.32500000e+07]),\n",
       " <BarContainer object of 100 artists>)"
      ]
     },
     "execution_count": 92,
     "metadata": {},
     "output_type": "execute_result"
    },
    {
     "data": {
      "image/png": "[encoded data removed]",
      "text/plain": [
       "<Figure size 640x480 with 1 Axes>"
      ]
     },
     "metadata": {},
     "output_type": "display_data"
    }
   ],
   "source": [
    "plt.hist(remuneracion.column('Total Pay ($)'),bins=100)"
   ]
  },
  {
   "cell_type": "code",
   "execution_count": 67,
   "id": "eda7cb7a",
   "metadata": {
    "deletable": false,
    "editable": false
   },
   "outputs": [
    {
     "data": {
      "text/html": [
       "<p><strong><pre style='display: inline;'>q14</pre></strong> passed! 🚀</p>"
      ],
      "text/plain": [
       "q14 results: All test cases passed!"
      ]
     },
     "execution_count": 67,
     "metadata": {},
     "output_type": "execute_result"
    }
   ],
   "source": [
    "grader.check(\"q14\")"
   ]
  },
  {
   "cell_type": "markdown",
   "id": "qn54b304Lewh",
   "metadata": {
    "deletable": false,
    "editable": false,
    "id": "qn54b304Lewh"
   },
   "source": [
    "**Pregunta 4.2.** ¿Cuántos directores ejecutivos ganaron más de $30 millones en salario total? Encuentre el valor usando el código, luego verifique que el valor que encontró sea consistente con lo que ve en el histograma."
   ]
  },
  {
   "cell_type": "code",
   "execution_count": 68,
   "id": "8d851bb8",
   "metadata": {
    "tags": []
   },
   "outputs": [
    {
     "data": {
      "text/plain": [
       "5"
      ]
     },
     "execution_count": 68,
     "metadata": {},
     "output_type": "execute_result"
    }
   ],
   "source": [
    "ceos_mas_de_30_millones=remuneracion.where('Total Pay ($)', are.above_or_equal_to(30*1e6)).num_rows\n",
    "ceos_mas_de_30_millones"
   ]
  },
  {
   "cell_type": "code",
   "execution_count": 69,
   "id": "7e7a42a7",
   "metadata": {
    "deletable": false,
    "editable": false
   },
   "outputs": [
    {
     "data": {
      "text/html": [
       "<p><strong><pre style='display: inline;'>q15</pre></strong> passed! 🌟</p>"
      ],
      "text/plain": [
       "q15 results: All test cases passed!"
      ]
     },
     "execution_count": 69,
     "metadata": {},
     "output_type": "execute_result"
    }
   ],
   "source": [
    "grader.check(\"q15\")"
   ]
  },
  {
   "cell_type": "markdown",
   "id": "ewBPzRtlLewh",
   "metadata": {
    "deletable": true,
    "editable": true,
    "id": "ewBPzRtlLewh",
    "tags": []
   },
   "source": [
    "<img src=\"https://github.com/darioblandon/materials-fa23/blob/main/lab/lab04/toby.png?raw=1\" alt=\"Photo of small dog being pet\" width=\"30%\"/>\n",
    "\n",
    "**Toby** está emocionado de que el sol vuelva a brillar. Ahora que has terminado el laboratorio 4, ¡puedes relajarte en el Claro con él!"
   ]
  },
  {
   "cell_type": "markdown",
   "id": "IIiIGWc7Lewi",
   "metadata": {
    "deletable": true,
    "editable": true,
    "id": "IIiIGWc7Lewi"
   },
   "source": [
    "\n",
    "---\n",
    "\n",
    "¡Terminaste con el laboratorio!\n",
    "\n",
    "**Información importante sobre el envío:**\n",
    "- **Ejecuta todas las pruebas** y verifica que todas pasan\n",
    "- **Guardar** desde el menú **Archivo**\n",
    "- **Ejecute la celda final **\n",
    "- Luego, ve a este [enlace](https://cienciadatosudea.github.io/001_SitioWebFundCienciaDatos/04entregas.html) y envía el archivo ipynb a la tarea correspondiente. El nombre de esta tarea es \"Lab XX Autograder\", donde XX es el número de laboratorio: 01, 02, 03, etc.\n",
    "\n",
    "- Si terminas temprano en el laboratorio regular, **registra tu asistencia con el instructor**.\n",
    "\n",
    "**Es su responsabilidad asegurarse de que su trabajo esté guardado antes de ejecutar la última celda.**\n",
    "\n",
    "`Referencia`: Este material esta basado en [Data 8: The Foundations of Data Science](https://www.data8.org/) - University of California, Berkeley.\n"
   ]
  },
  {
   "cell_type": "markdown",
   "id": "7ABzQ61WLewi",
   "metadata": {
    "deletable": true,
    "editable": true,
    "id": "7ABzQ61WLewi"
   },
   "source": [
    "Asegúrese de haber ejecutado todas las celdas de su cuaderno en orden antes de ejecutar la siguiente celda, para que todas las imágenes/gráficos aparezcan en el resultado. La siguiente celda generará un archivo zip para que lo envíe. **¡Guarde antes de exportar!**"
   ]
  },
  {
   "cell_type": "markdown",
   "id": "96a83cc7",
   "metadata": {
    "deletable": false,
    "editable": false
   },
   "source": [
    "## Submission\n",
    "\n",
    "Make sure you have run all cells in your notebook in order before running the cell below, so that all images/graphs appear in the output. The cell below will generate a zip file for you to submit. **Please save before exporting!**\n",
    "\n",
    "These are some submission instructions."
   ]
  },
  {
   "cell_type": "code",
   "execution_count": 70,
   "id": "dfbed283",
   "metadata": {
    "deletable": false,
    "editable": false
   },
   "outputs": [
    {
     "name": "stdout",
     "output_type": "stream",
     "text": [
      "Running your submission against local test cases...\n",
      "\n",
      "\n",
      "Your submission received the following results when run against available test cases:\n",
      "\n",
      "    q0 results: All test cases passed!\n",
      "\n",
      "    q1 results: All test cases passed!\n",
      "\n",
      "    q2 results:\n",
      "        q2 - 1 result:\n",
      "            ❌ Test case failed\n",
      "            Trying:\n",
      "                def test_num_sin_vocales():\n",
      "                    assert num_sin_vocales('prueba de funcion') == 10, 'Error: El número de caracteres sin vocales no es correcto.'\n",
      "                    assert num_sin_vocales('hola') == 2, 'Error: El número de caracteres sin vocales no es correcto.'\n",
      "                    assert num_sin_vocales('aeiou') == 0, 'Error: El número de caracteres sin vocales no es correcto.'\n",
      "                    assert num_sin_vocales('') == 0, 'Error: El número de caracteres sin vocales en una cadena vacía debe ser 0.'\n",
      "            Expecting nothing\n",
      "            ok\n",
      "            Trying:\n",
      "                test_num_sin_vocales()\n",
      "            Expecting nothing\n",
      "            **********************************************************************\n",
      "            Line 6, in q2 0\n",
      "            Failed example:\n",
      "                test_num_sin_vocales()\n",
      "            Expected nothing\n",
      "            Got:\n",
      "                prb d fncn\n",
      "                hl\n",
      "                <BLANKLINE>\n",
      "                <BLANKLINE>\n",
      "\n",
      "    q3 results: All test cases passed!\n",
      "\n",
      "    q4 results: All test cases passed!\n",
      "\n",
      "    q5 results: All test cases passed!\n",
      "\n",
      "    q6 results: All test cases passed!\n",
      "\n",
      "    q7 results: All test cases passed!\n",
      "\n",
      "    q8 results: All test cases passed!\n",
      "\n",
      "    q9 results: All test cases passed!\n",
      "\n",
      "    q10 results: All test cases passed!\n",
      "\n",
      "    q11 results: All test cases passed!\n",
      "\n",
      "    q12 results: All test cases passed!\n",
      "\n",
      "    q13 results: All test cases passed!\n",
      "\n",
      "    q14 results: All test cases passed!\n",
      "\n",
      "    q15 results: All test cases passed!\n"
     ]
    },
    {
     "data": {
      "text/html": [
       "\n",
       "                    <p>\n",
       "                        Your submission has been exported. Click\n",
       "                        <a href=\"lab04_2025_05_23T19_08_03_137175.zip\" download=\"lab04_2025_05_23T19_08_03_137175.zip\" target=\"_blank\">here</a> to download\n",
       "                        the zip file.\n",
       "                    </p>\n",
       "                "
      ],
      "text/plain": [
       "<IPython.core.display.HTML object>"
      ]
     },
     "metadata": {},
     "output_type": "display_data"
    }
   ],
   "source": [
    "# Save your notebook first, then run this cell to export your submission.\n",
    "grader.export(run_tests=True)"
   ]
  },
  {
   "cell_type": "markdown",
   "id": "b3ca47e5",
   "metadata": {},
   "source": [
    " "
   ]
  }
 ],
 "metadata": {
  "colab": {
   "include_colab_link": true,
   "provenance": []
  },
  "kernelspec": {
   "display_name": "Python 3 (ipykernel)",
   "language": "python",
   "name": "python3"
  },
  "language_info": {
   "codemirror_mode": {
    "name": "ipython",
    "version": 3
   },
   "file_extension": ".py",
   "mimetype": "text/x-python",
   "name": "python",
   "nbconvert_exporter": "python",
   "pygments_lexer": "ipython3",
   "version": "3.11.6"
  },
  "otter": {
   "OK_FORMAT": true,
   "assignment_name": "lab04",
   "tests": {
    "q0": {
     "name": "q0",
     "points": 1,
     "suites": [
      {
       "cases": [
        {
         "code": ">>> def test_a_porcentaje():\n...     assert a_porcentaje(0.2) == 20, 'Error: La conversión de 0.2 no dio 20 como resultado.'\n...     assert a_porcentaje(0.5) == 50, 'Error: La conversión de 0.5 no dio 50 como resultado.'\n...     assert a_porcentaje(1) == 100, 'Error: La conversión de 1 no dio 100 como resultado.'\n...     assert isinstance(veinte_por_ciento, (int, float)), \"Error: 'veinte_por_ciento' debe ser un número.\"\n>>> test_a_porcentaje()\n",
         "hidden": false,
         "locked": false
        }
       ],
       "scored": true,
       "setup": "",
       "teardown": "",
       "type": "doctest"
      }
     ]
    },
    "q1": {
     "name": "q1",
     "points": 1,
     "suites": [
      {
       "cases": [
        {
         "code": ">>> def test_calculo_porcentaje():\n...     assert np.isclose(a_porcentaje(2 ** 0.5 / 2), calculo_porcentaje, 0.001)\n...     assert isinstance(calculo_porcentaje, (int, float)), \"Error: 'calculo_porcentaje' debe ser un número.\"\n>>> test_calculo_porcentaje()\n",
         "hidden": false,
         "locked": false
        }
       ],
       "scored": true,
       "setup": "",
       "teardown": "",
       "type": "doctest"
      }
     ]
    },
    "q10": {
     "name": "q10",
     "points": 1,
     "suites": [
      {
       "cases": [
        {
         "code": ">>> def test_salario_total_promedio():\n...     assert abs(salario_promedio - 11558613.861386139) < 1e-06, 'Error: El salario total promedio no es el esperado.'\n>>> test_salario_total_promedio()\n",
         "hidden": false,
         "locked": false
        }
       ],
       "scored": true,
       "setup": "",
       "teardown": "",
       "type": "doctest"
      }
     ]
    },
    "q11": {
     "name": "q11",
     "points": 3,
     "suites": [
      {
       "cases": [
        {
         "code": ">>> def test_proporcion_pago_efectivo():\n...     assert len(col_prop) == 101, \"Error: La longitud de 'col_prop' no es 101.\"\n...     promedio_col_prop = sum(col_prop) / len(col_prop)\n...     assert abs(promedio_col_prop - 0.358) < 0.01, \"Error: El promedio de 'col_prop' no es el esperado.\"\n>>> test_proporcion_pago_efectivo()\n",
         "hidden": false,
         "locked": false
        }
       ],
       "scored": true,
       "setup": "",
       "teardown": "",
       "type": "doctest"
      }
     ]
    },
    "q12": {
     "name": "q12",
     "points": 2,
     "suites": [
      {
       "cases": [
        {
         "code": ">>> def test_promedio_pago_total_2014():\n...     promedio_2014 = np.mean(con_remuneracion_anterior.column('Total Pay 2014 ($)'))\n...     assert abs(promedio_2014 - 11794790.817048479) < 1e-06, \"Error: El promedio de 'Pago total de 2014 ($)' no es el esperado.\"\n>>> test_promedio_pago_total_2014()\n",
         "hidden": false,
         "locked": false
        }
       ],
       "scored": true,
       "setup": "",
       "teardown": "",
       "type": "doctest"
      }
     ]
    },
    "q13": {
     "name": "q13",
     "points": 1,
     "suites": [
      {
       "cases": [
        {
         "code": ">>> def test_promedio_pago_total_2014():\n...     assert abs(remuneracion_promedio_2014 - 11794790.817048479) < 1e-06, \"Error: El promedio de 'Pago total de 2014 ($)' no es el esperado.\"\n>>> test_promedio_pago_total_2014()\n",
         "hidden": false,
         "locked": false
        }
       ],
       "scored": true,
       "setup": "",
       "teardown": "",
       "type": "doctest"
      }
     ]
    },
    "q14": {
     "name": "q14",
     "points": 1,
     "suites": [
      {
       "cases": [
        {
         "code": ">>> def test_histograma_total_pay():\n...     assert 'Total Pay ($)' in remuneracion.labels, \"Error: La columna 'Total Pay ($)' no existe en la tabla.\"\n...     assert remuneracion.num_rows > 0, \"Error: La columna 'Total Pay ($)' no tiene datos.\"\n...     for valor in remuneracion.column('Total Pay ($)'):\n...         assert isinstance(valor, (int, float)), \"Error: La columna 'Total Pay ($)' contiene un valor no numérico.\"\n>>> test_histograma_total_pay()\n",
         "hidden": false,
         "locked": false
        }
       ],
       "scored": true,
       "setup": "",
       "teardown": "",
       "type": "doctest"
      }
     ]
    },
    "q15": {
     "name": "q15",
     "points": 1,
     "suites": [
      {
       "cases": [
        {
         "code": ">>> def test_ceos_mas_de_30_millones():\n...     assert ceos_mas_de_30_millones > 0, 'Error: No se encontraron directores ejecutivos con más de $30 millones en salario.'\n...     assert ceos_mas_de_30_millones == 5, 'Error: No se encontraron directores ejecutivos con más de $30 millones en salario.'\n...     assert isinstance(ceos_mas_de_30_millones, int), 'Error: La cantidad de directores ejecutivos no es un número entero.'\n>>> test_ceos_mas_de_30_millones()\n",
         "hidden": false,
         "locked": false
        }
       ],
       "scored": true,
       "setup": "",
       "teardown": "",
       "type": "doctest"
      }
     ]
    },
    "q2": {
     "name": "q2",
     "points": 1,
     "suites": [
      {
       "cases": [
        {
         "code": ">>> def test_num_sin_vocales():\n...     assert num_sin_vocales('prueba de funcion') == 10, 'Error: El número de caracteres sin vocales no es correcto.'\n...     assert num_sin_vocales('hola') == 2, 'Error: El número de caracteres sin vocales no es correcto.'\n...     assert num_sin_vocales('aeiou') == 0, 'Error: El número de caracteres sin vocales no es correcto.'\n...     assert num_sin_vocales('') == 0, 'Error: El número de caracteres sin vocales en una cadena vacía debe ser 0.'\n>>> test_num_sin_vocales()\n",
         "hidden": false,
         "locked": false
        }
       ],
       "scored": true,
       "setup": "",
       "teardown": "",
       "type": "doctest"
      }
     ]
    },
    "q3": {
     "name": "q3",
     "points": 0,
     "suites": [
      {
       "cases": [
        {
         "code": ">>> assert callable(imprimir_anio_k_mayor_taquilla)\n",
         "hidden": false,
         "locked": false
        }
       ],
       "scored": true,
       "setup": "",
       "teardown": "",
       "type": "doctest"
      }
     ]
    },
    "q4": {
     "name": "q4",
     "points": 1,
     "suites": [
      {
       "cases": [
        {
         "code": ">>> assert tipo_pago_total == str\n",
         "hidden": false,
         "locked": false
        }
       ],
       "scored": true,
       "setup": "",
       "teardown": "",
       "type": "doctest"
      }
     ]
    },
    "q5": {
     "name": "q5",
     "points": 1,
     "suites": [
      {
       "cases": [
        {
         "code": ">>> assert mark_hurd_pago_string == '$53.25 '\n",
         "hidden": false,
         "locked": false
        }
       ],
       "scored": true,
       "setup": "",
       "teardown": "",
       "type": "doctest"
      }
     ]
    },
    "q6": {
     "name": "q6",
     "points": 1,
     "suites": [
      {
       "cases": [
        {
         "code": ">>> assert mark_hurd_pago == 53250000.0\n",
         "hidden": false,
         "locked": false
        }
       ],
       "scored": true,
       "setup": "",
       "teardown": "",
       "type": "doctest"
      }
     ]
    },
    "q7": {
     "name": "q7",
     "points": 1,
     "suites": [
      {
       "cases": [
        {
         "code": ">>> def test_convertir_pago_string_en_numero():\n...     assert convertir_pago_string_en_numero('$53.25 ') == 53250000, \"Error: La conversión no fue correcta para '$53.25 '.\"\n...     assert convertir_pago_string_en_numero('$100.00 ') == 100000000, \"Error: La conversión no fue correcta para '$100.00 '.\"\n...     assert convertir_pago_string_en_numero(' $75.50 ') == 75500000, \"Error: La conversión no fue correcta para ' $75.50 '.\"\n>>> test_convertir_pago_string_en_numero()\n",
         "hidden": false,
         "locked": false
        }
       ],
       "scored": true,
       "setup": "",
       "teardown": "",
       "type": "doctest"
      }
     ]
    },
    "q8": {
     "name": "q8",
     "points": 1,
     "suites": [
      {
       "cases": [
        {
         "code": ">>> def test_algunas_funciones_son_funciones():\n...     for func in algunas_funciones:\n...         assert callable(func), f'Error: El elemento {func} no es una función.'\n>>> test_algunas_funciones_son_funciones()\n",
         "hidden": false,
         "locked": false
        }
       ],
       "scored": true,
       "setup": "",
       "teardown": "",
       "type": "doctest"
      }
     ]
    },
    "q9": {
     "name": "q9",
     "points": 1,
     "suites": [
      {
       "cases": [
        {
         "code": ">>> def test_remuneracion():\n...     assert remuneracion.column('Total Pay ($)').item(0) == 53250000, \"Error: El valor de 'Total Pay ($)' no es correcto para el primer elemento.\"\n...     assert remuneracion.column('Total Pay ($)').item(1) == 53240000, \"Error: El valor de 'Total Pay ($)' no es correcto para el segundo elemento.\"\n...     assert remuneracion.column('Total Pay ($)').item(4) == 33360000, \"Error: El valor de 'Total Pay ($)' no es correcto para el segundo elemento.\"\n...     assert 'Total Pay ($)' in remuneracion.labels, \"Error: La columna 'Total Pay ($)' no está en los labels de la tabla.\"\n>>> test_remuneracion()\n",
         "hidden": false,
         "locked": false
        }
       ],
       "scored": true,
       "setup": "",
       "teardown": "",
       "type": "doctest"
      }
     ]
    }
   }
  }
 },
 "nbformat": 4,
 "nbformat_minor": 5
}
