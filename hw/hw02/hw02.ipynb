{
 "cells": [
  {
   "cell_type": "code",
   "execution_count": null,
   "id": "88b2c61e",
   "metadata": {
    "deletable": false,
    "editable": false
   },
   "outputs": [],
   "source": [
    "# Initialize Otter\n",
    "import otter\n",
    "grader = otter.Notebook(\"hw02.ipynb\")"
   ]
  },
  {
   "cell_type": "markdown",
   "id": "iAWeUnrwHPo5",
   "metadata": {
    "id": "iAWeUnrwHPo5"
   },
   "source": [
    "# Tarea 2: Arreglos y Tablas\n",
    "Por favor complete este notebook llenando las celdas que se piden. Antes de comenzar, ejecute la celda previa para cargar las pruebas dadas.\n",
    "\n"
   ]
  },
  {
   "cell_type": "code",
   "execution_count": null,
   "id": "Mfc2hBcwHPo7",
   "metadata": {
    "id": "Mfc2hBcwHPo7"
   },
   "outputs": [],
   "source": [
    "# Ejecute esta celda e ignore lo que esta arroja. Esto es solo para verificar que ejecutó la primera celda.\n",
    "# Si obtuene un NameError, ¡por favor corra la primera celca de este notebook!\n",
    "grader"
   ]
  },
  {
   "cell_type": "markdown",
   "id": "F7Pmjz_2HPo8",
   "metadata": {
    "id": "F7Pmjz_2HPo8"
   },
   "source": [
    "**Recursos útiles:**\n",
    "- [Referencia de Python](http://data8.org/fa23/reference/): Hoja de referencia de métodos útiles de matrices y tablas utilizados en fundamentos en ciencia de datos.\n",
    "\n",
    "**Lecturas recomendadas:**\n",
    "- [Arreglos](https://inferentialthinking.com/chapters/05/1/Arrays.html)\n",
    "- [Guía de arreglos de FCD](https://drive.google.com/file/d/1vTduvivHyEX7cdpMCq9B2jC4iy6A3Tru/view?usp=sharing)\n",
    "- [¿Qué es la ciencia de datos?](http://www.inferentialthinking.com/chapters/01/what-is-data-science.html)\n",
    "- [Causalidad y experimentos](http://www.inferentialthinking.com/chapters/02/causality-and-experiments.html)\n",
    "- [Programando en Python](http://www.inferentialthinking.com/chapters/03/programming-in-python.html)\n",
    "\n",
    "Para todos los problemas en los que deba escribir explicaciones y oraciones, **deberá** proporcionar la respuesta en el espacio designado. Además, a lo largo de esta tarea y de todas las futuras, ¡asegúrese de no reasignar variables en todo el notebook! Por ejemplo, si usa `temperatura` en su respuesta a una pregunta, no la reasigne más adelante. De lo contrario, ¡reprobará las pruebas que creía que estaba aprobando anteriormente!\n",
    "\n",
    "**Fecha de entrega:**\n",
    "\n",
    "Esta tarea deberá ser entregada ** ___ a las ___**. Trabajo que se entregue por fuera del plazo no será recibido.\n",
    "\n",
    "**Nota: Esta tarea tiene pruebas ocultas. Eso significa que aunque los exámenes indiquen que se aprobó al 100%, no significa que su calificación final será del 100%. Realizaremos más pruebas ocultas de corrección una vez que todos entreguen la tarea.**\n",
    "\n",
    "\n",
    "Evite compartir respuestas o hacer copia con sus compañeros. Establezca en cambio discusiones grupales con otros estudiantes y docentes del curso.\n",
    "\n",
    "Si desea contar con el tiempo necesario para pedir ayuda o asesoría en caso de estar atascado, se recomienda iniciar temprano con la realización de las tareas. Tenga en cuenta el cronograma del curso y de entregas."
   ]
  },
  {
   "cell_type": "markdown",
   "id": "c2d077a1",
   "metadata": {
    "deletable": false,
    "editable": false
   },
   "source": [
    "<!-- BEGIN QUESTION -->\n",
    "\n",
    "Ingrese su nombre en la siguiente celda:\n",
    "```python\n",
    "Nombre = \"Marie Curie\"\n",
    "Carnet =  \"27182818 \"\n",
    "```"
   ]
  },
  {
   "cell_type": "code",
   "execution_count": null,
   "id": "fca697c4",
   "metadata": {
    "tags": []
   },
   "outputs": [],
   "source": [
    "Nombre = \"...\"\n",
    "Carnet = \"...\""
   ]
  },
  {
   "cell_type": "markdown",
   "id": "4M6oux1wHPo9",
   "metadata": {
    "deletable": false,
    "editable": false,
    "id": "4M6oux1wHPo9"
   },
   "source": [
    "<!-- END QUESTION -->\n",
    "\n",
    "## 1. Creando Arreglos"
   ]
  },
  {
   "cell_type": "code",
   "execution_count": null,
   "id": "DYDbO_g1HPo9",
   "metadata": {
    "id": "DYDbO_g1HPo9"
   },
   "outputs": [],
   "source": [
    "# Ejecute esta celda para configurar su notebook, pero por favor no la cambie.\n",
    "import pandas as pd\n",
    "import numpy as np\n",
    "import otter\n",
    "import math\n",
    "import matplotlib.pylab as plt\n",
    "from datascience import *\n",
    "import warnings\n",
    "warnings.simplefilter('ignore', FutureWarning)\n",
    "%matplotlib inline\n",
    "path=\".\""
   ]
  },
  {
   "cell_type": "markdown",
   "id": "6Au05wOAHPo_",
   "metadata": {
    "deletable": false,
    "editable": false,
    "id": "6Au05wOAHPo_"
   },
   "source": [
    "**Pregunta 1.** Cree un arreglo llamado `numeros_extranos` que contenga los siguientes números (en el orden dado) **(4 Points)**:\n",
    "\n",
    "1. -2\n",
    "2. floor de 17.6\n",
    "3. 3\n",
    "4. 5 a la potencia del ceil de 5.3\n",
    "\n",
    "*Hint:* `floor` y `ceil` son funciones en el módulo `math`. Importar módulos se trabaja en el Lab 2.\n",
    "\n",
    "*Nota:* Las listas de Python son y se comportan diferente de los arreglos de NumPy. En este curso usaremos arreglos de NumPy, así que cuando haga un **arreglo**, no haga una lista de Python.\n"
   ]
  },
  {
   "cell_type": "code",
   "execution_count": null,
   "id": "7ae3e89e",
   "metadata": {
    "tags": []
   },
   "outputs": [],
   "source": [
    "# Nuestra solución puede requier una línea extra de código antes de crear numeros_extraños\n",
    "...\n",
    "numeros_extranos = ...\n",
    "numeros_extranos\n",
    "numeros_extranos"
   ]
  },
  {
   "cell_type": "code",
   "execution_count": null,
   "id": "2464ac9f",
   "metadata": {
    "deletable": false,
    "editable": false
   },
   "outputs": [],
   "source": [
    "grader.check(\"q1\")"
   ]
  },
  {
   "cell_type": "markdown",
   "id": "uQls4zTKHPpC",
   "metadata": {
    "deletable": false,
    "editable": false,
    "id": "uQls4zTKHPpC"
   },
   "source": [
    "**Pregunta 2.** Cree un arreglo llamado `expresiones_sin_comas` que contenga las cinco siguientes cadenas de caracteres: \"El juez\", \"dijo\", \"el acusado\", y  \"es inocente\" **(1 Puntos)**"
   ]
  },
  {
   "cell_type": "code",
   "execution_count": null,
   "id": "54c4c7d2",
   "metadata": {
    "tags": []
   },
   "outputs": [],
   "source": [
    "expresiones_sin_comas= ...\n",
    "expresiones_sin_comas"
   ]
  },
  {
   "cell_type": "code",
   "execution_count": null,
   "id": "9984c6cb",
   "metadata": {
    "deletable": false,
    "editable": false
   },
   "outputs": [],
   "source": [
    "grader.check(\"q2\")"
   ]
  },
  {
   "cell_type": "markdown",
   "id": "208Ftw-1HPpE",
   "metadata": {
    "deletable": false,
    "editable": false,
    "id": "208Ftw-1HPpE"
   },
   "source": [
    "Las cadenas de caracteres (strings) tienen un método llamado `join`.   \n",
    "\n",
    "`join` toma como argumento un arreglo de cadenas de caracteres y regresa una cadena de caracteres. Específicamente, el resultado es una sola cadena de caracteres, que es la [concatenación](https://es.wikipedia.org/wiki/Concatenaci%C3%B3n) (\"juntar\") todas las cadenas de caracteres en el arreglo.\n",
    "\n",
    "\n",
    "**Pregunta 3.** Use el array `expresiones_sin_comas` y el método `join` para crear dos arreglos **(1 puntos)**:\n",
    "\n",
    "1. 'El juez, dijo, el acusado, es inocente'(llámelo `usando_comas`, note el espacio después de la coma)\n",
    "2. 'El juez dijo el acusado es inocente'(llámelo `sin_comas`)\n",
    "\n"
   ]
  },
  {
   "cell_type": "code",
   "execution_count": null,
   "id": "c8e52b71",
   "metadata": {
    "tags": []
   },
   "outputs": [],
   "source": [
    "usando_comas = ...\n",
    "sin_comas = ...\n",
    "# Estas líneas son solo para imprimir sus respuestas.\n",
    "print('usando_comas:', usando_comas)\n",
    "print('sin_comas:', sin_comas)"
   ]
  },
  {
   "cell_type": "code",
   "execution_count": null,
   "id": "73224a95",
   "metadata": {
    "deletable": false,
    "editable": false
   },
   "outputs": [],
   "source": [
    "grader.check(\"q3\")"
   ]
  },
  {
   "cell_type": "markdown",
   "id": "NPtbhRazHPpF",
   "metadata": {
    "id": "NPtbhRazHPpF"
   },
   "source": [
    "## 2. Indexando Arreglos"
   ]
  },
  {
   "cell_type": "markdown",
   "id": "GdARKfjDHPpF",
   "metadata": {
    "id": "GdARKfjDHPpF"
   },
   "source": [
    "Estos ejercicios están pensados en dar práctica al momento de acceder a elementos individuales de los arreglos. En Python (y en muchos lenguajes de programación), cada elemento es accesible mediante su  *índice*; por ejemplo, el primer elmento es el elemento con índice 0. Los índices deben ser números **enteros**.\n",
    "\n",
    "\n",
    "***Nota:* Si usted tiene experiencia previa programando, la notación de corchetes le debe ser familiar. NO use la notación de corchetes cuando esté indexando (i.e. `arr[0]`), pues esto puede conducir a un tipo de dato diferente del que estamos esperando. Le puede además hacer fallar en la revisión.**\n",
    "\n",
    "En caso de sentirse atascado, revise la [Referencia de Python](http://data8.org/fa23/reference/)\n"
   ]
  },
  {
   "cell_type": "markdown",
   "id": "VLIS2x9BHPpF",
   "metadata": {
    "deletable": false,
    "editable": false,
    "id": "VLIS2x9BHPpF"
   },
   "source": [
    "**Pregunta 4.** La siguiente celda crea un arreglo llamado  algunos_numeros. Asigne  a la varible `tercer_elemento`  el tercer elemento de `algunos_numeros`. **(1 Puntos)**\n"
   ]
  },
  {
   "cell_type": "code",
   "execution_count": null,
   "id": "a4423ed3",
   "metadata": {
    "tags": []
   },
   "outputs": [],
   "source": [
    "algunos_numeros = make_array(-1, -3, -6, -10, -15)\n",
    "tercer_elemento = ...\n",
    "tercer_elemento\n",
    "tercer_elemento"
   ]
  },
  {
   "cell_type": "code",
   "execution_count": null,
   "id": "6d2da25b",
   "metadata": {
    "deletable": false,
    "editable": false
   },
   "outputs": [],
   "source": [
    "grader.check(\"q4\")"
   ]
  },
  {
   "cell_type": "markdown",
   "id": "NxvA_KTZHPpG",
   "metadata": {
    "deletable": false,
    "editable": false,
    "id": "NxvA_KTZHPpG"
   },
   "source": [
    "**Pregunta 5.** La próxima celda crea una tabla que muestra información sobre los elementos de `algunos_numeros` y su orden. Corra la celda para ver la tabla parcialmente completa y llene la información faltante (las celdas que dicen \"Ellipsis\") mediante la asignación `espacio_a`, `espacio_b`, `espacio_c`, y `espacio_d` para corregir los elementos en la tabla. **(1 Puntos)**\n",
    "\n",
    "*Hint* Reemplace los `...` con cadenas de caracteres o números. Recuerde que los índices deben ser **enteros**.\n"
   ]
  },
  {
   "cell_type": "code",
   "execution_count": null,
   "id": "3b71420d",
   "metadata": {
    "tags": []
   },
   "outputs": [],
   "source": [
    "variable_a = ...\n",
    "variable_b = ...\n",
    "variable_c = ...\n",
    "variable_d = ...\n",
    "elementos_algunos_numeros = Table().with_columns(\n",
    "    \"NombrePosicion\", make_array(\"primera\", \"segunda\", variable_a, variable_b, \"quinto\"),\n",
    "    \"Indice\",                     make_array(variable_c, 1, 2, variable_d, 4),\n",
    "    \"Elemento\",                   algunos_numeros)\n",
    "elementos_algunos_numeros"
   ]
  },
  {
   "cell_type": "code",
   "execution_count": null,
   "id": "05f82ea8",
   "metadata": {
    "deletable": false,
    "editable": false
   },
   "outputs": [],
   "source": [
    "grader.check(\"q5\")"
   ]
  },
  {
   "cell_type": "markdown",
   "id": "0Ko7aOKrHPpH",
   "metadata": {
    "deletable": false,
    "editable": false,
    "id": "0Ko7aOKrHPpH"
   },
   "source": [
    "\n",
    "**Pregunta 6.** En ocasiones usted querrá encontrar el **último** elemento de un arreglo. Suponga que el arreglo tiene 142 elementos. ¿Cuál es el índice del último elemento? **(1 Puntos)**\n",
    "\n",
    "*Nota:* Su respuesta deberá ser un número positivo.\n"
   ]
  },
  {
   "cell_type": "code",
   "execution_count": null,
   "id": "edd87627",
   "metadata": {
    "tags": []
   },
   "outputs": [],
   "source": [
    "indice_ultimo_elemento = ...\n",
    "indice_ultimo_elemento"
   ]
  },
  {
   "cell_type": "code",
   "execution_count": null,
   "id": "416fd6f6",
   "metadata": {
    "deletable": false,
    "editable": false
   },
   "outputs": [],
   "source": [
    "grader.check(\"q6\")"
   ]
  },
  {
   "cell_type": "markdown",
   "id": "bd63d689",
   "metadata": {},
   "source": [
    "Con frecuencia, no se conoce el número de elementos de un arreglo, su *longitud*. La función `len` toma un solo argumento, por ejemplo, en la siguiente celda leemos la tabla `nacimiento_presidentes` y despues analizamos cuantas filas tiene a traves del metodo `len`"
   ]
  },
  {
   "cell_type": "code",
   "execution_count": null,
   "id": "5be5b150",
   "metadata": {},
   "outputs": [],
   "source": [
    "ano_nacimiento_presidentes = Table.read_table(f\"{path}/nacimiento_presidentes.csv\").column('AnioNacimiento')  #Modificar una vez se ajuste la tabla.\n",
    "len(ano_nacimiento_presidentes)"
   ]
  },
  {
   "cell_type": "markdown",
   "id": "sazaM-Z5HPpH",
   "metadata": {
    "deletable": false,
    "editable": false,
    "id": "sazaM-Z5HPpH"
   },
   "source": [
    "También se pueden aplicar otas funciones sobre el arreglo, `max`, `min` ...\n",
    "\n",
    "**Pregunta 7.** La siguiente celda carga un arreglo llamado `anio_nacimiento_presidentes` utilizando el comando `Table.read_table(...).column(...)`, que carga una tabla llamada `nacimiento_presidentes.csv` Este comando devuelve un arreglo con los años de nacimiento de los ex-presidentes de Colombia, específicamente en la columna AnioNacimiento. El año más reciente de nacimiento de ese arreglo,  es el año de nacimiento más grande. Asigne ese año a la variable `anio_nacimiento_mas_reciente` utilizando únicamente métodos de tablas y funciones básicas.\n",
    "\n",
    "Nota: Evite consultar fuentes externas. Usted debería ser capaz de resolver esta pregunta usando únicamente los métodos provistos por la tabla."
   ]
  },
  {
   "cell_type": "code",
   "execution_count": null,
   "id": "b1f3034a",
   "metadata": {
    "tags": []
   },
   "outputs": [],
   "source": [
    "anio_nacimiento_presidentes = Table.read_table(\"nacimiento_presidentes.csv\").column('AnioNacimiento')  \n",
    "anio_nacimiento_mas_reciente =...\n",
    "anio_nacimiento_mas_reciente"
   ]
  },
  {
   "cell_type": "code",
   "execution_count": null,
   "id": "ea836e05",
   "metadata": {
    "deletable": false,
    "editable": false
   },
   "outputs": [],
   "source": [
    "grader.check(\"q7\")"
   ]
  },
  {
   "cell_type": "markdown",
   "id": "pmG7EMI2HPpI",
   "metadata": {
    "deletable": false,
    "editable": false,
    "id": "pmG7EMI2HPpI"
   },
   "source": [
    "**Pregunta 8.** Para finalizar, asigne `min_anio_nacimiento` al mínimo entre el  primer,  decimosexto y ulitmo año de nacimiento  \n",
    "\n",
    "**Nota:** Use la función `min` de Python y métodos de tabla para encontrar la respuesta. Evite calcular manualmente el resultado, recuerda que el contador en python en empieza en cero. \n"
   ]
  },
  {
   "cell_type": "code",
   "execution_count": null,
   "id": "4059cd4e",
   "metadata": {
    "tags": []
   },
   "outputs": [],
   "source": [
    "min_anio_nacimiento = ...  \n",
    "min_anio_nacimiento"
   ]
  },
  {
   "cell_type": "code",
   "execution_count": null,
   "id": "7849b12a",
   "metadata": {
    "deletable": false,
    "editable": false
   },
   "outputs": [],
   "source": [
    "grader.check(\"q8\")"
   ]
  },
  {
   "cell_type": "markdown",
   "id": "ZyM02_d3HPpJ",
   "metadata": {
    "id": "ZyM02_d3HPpJ"
   },
   "source": [
    "## 3. Aritmética Básica de Arreglos"
   ]
  },
  {
   "cell_type": "markdown",
   "id": "XDcAniSlHPpJ",
   "metadata": {
    "deletable": false,
    "editable": false,
    "id": "XDcAniSlHPpJ"
   },
   "source": [
    "**Pregunta 9.** Multiplique los números 2, 32, 0, y 124 por 64. Asigne cada variable en la siguiente celda de tal forma que  `primer_producto` se asigne al resultado de $2 * 64$, `segundo_producto` al resultado de $32 * 64$ y así sucesivamente. **(1 Puntos)**\n",
    "\n",
    "*Nota*: Para esta pregunta, **no** use arreglos."
   ]
  },
  {
   "cell_type": "code",
   "execution_count": null,
   "id": "07338e70",
   "metadata": {
    "tags": []
   },
   "outputs": [],
   "source": [
    "primer_producto = ...\n",
    "segundo_producto = ...\n",
    "tercer_producto = ...\n",
    "cuarto_producto = ...\n",
    "print(\"Primer Producto:\", primer_producto)\n",
    "print(\"Segundo Producto:\", segundo_producto)\n",
    "print(\"Tercer Producto:\", tercer_producto)\n",
    "print(\"Cuarto Producto:\", cuarto_producto)"
   ]
  },
  {
   "cell_type": "code",
   "execution_count": null,
   "id": "2bc72499",
   "metadata": {
    "deletable": false,
    "editable": false
   },
   "outputs": [],
   "source": [
    "grader.check(\"q9\")"
   ]
  },
  {
   "cell_type": "markdown",
   "id": "835UAhjrHPpJ",
   "metadata": {
    "deletable": false,
    "editable": false,
    "id": "835UAhjrHPpJ"
   },
   "source": [
    "**Pregunta 10.** Ahora, realiza los mismos cálculos, pero esta vez usando un arreglo llamado `numeros`y un solo operador de multiplicación (`*`). Almacene los 4 resultados en un arreglo llamado `productos`. **(1 Puntos)**"
   ]
  },
  {
   "cell_type": "code",
   "execution_count": null,
   "id": "494e493c",
   "metadata": {
    "tags": []
   },
   "outputs": [],
   "source": [
    "numeros = ...\n",
    "productos = ...\n",
    "productos\n",
    "productos"
   ]
  },
  {
   "cell_type": "code",
   "execution_count": null,
   "id": "69d26c70",
   "metadata": {
    "deletable": false,
    "editable": false
   },
   "outputs": [],
   "source": [
    "grader.check(\"q10\")"
   ]
  },
  {
   "cell_type": "markdown",
   "id": "oF0MyLkPHPpP",
   "metadata": {
    "deletable": false,
    "editable": false,
    "id": "oF0MyLkPHPpP"
   },
   "source": [
    "**Pregunta 11.** Ups, cometimos un error. En lugar de 64, queremos que multiplique cada número por 128. Calcule los productos correctos en la celda de abajo usando aritmética de arreglos. Note que su trabajo es realmente sencillo si previamente definió un arreglo que contiene los 4 números. **(1 Puntos)**"
   ]
  },
  {
   "cell_type": "code",
   "execution_count": null,
   "id": "d0509ae1",
   "metadata": {
    "tags": []
   },
   "outputs": [],
   "source": [
    "productos_correctos = ...\n",
    "productos_correctos"
   ]
  },
  {
   "cell_type": "code",
   "execution_count": null,
   "id": "ce0132a0",
   "metadata": {
    "deletable": false,
    "editable": false
   },
   "outputs": [],
   "source": [
    "grader.check(\"q11\")"
   ]
  },
  {
   "cell_type": "markdown",
   "id": "0iMmU3kmHPpQ",
   "metadata": {
    "deletable": false,
    "editable": false,
    "id": "0iMmU3kmHPpQ"
   },
   "source": [
    "**Pregunta 12.** Hemos cargado un arreglo de la temperatura promedio por año de la ciudad de Bogotá y Barcelona, desde el año 1995,   todas las temperaturas están en Fahrenheit. Convierta todas las temperaturas a Celsius:\n",
    "\n",
    "$C = (F - 32) * \\frac{5}{9}$. \n",
    "\n",
    "llame esta variable `celsius_temps`. Ahora, asegúrese de **REDONDEAR** el resultado final al entero más cercano usando la función `np.round` llame esta variable `celsius_temps_redondeadas` **(1 Puntos)**"
   ]
  },
  {
   "cell_type": "code",
   "execution_count": null,
   "id": "919787f8",
   "metadata": {
    "tags": []
   },
   "outputs": [],
   "source": [
    "temperatura = Table().read_table(\"TemperaturaBogotaBarcelona.csv\").column(\"AvgTemperature\")\n",
    "celsius_temps = ...\n",
    "celsius_temps_redondeadas = ..."
   ]
  },
  {
   "cell_type": "code",
   "execution_count": null,
   "id": "57a37dab",
   "metadata": {
    "deletable": false,
    "editable": false
   },
   "outputs": [],
   "source": [
    "grader.check(\"q12\")"
   ]
  },
  {
   "cell_type": "markdown",
   "id": "9VvcuG49HPpR",
   "metadata": {
    "deletable": false,
    "editable": false,
    "id": "9VvcuG49HPpR"
   },
   "source": [
    "## 4. Old Faithful"
   ]
  },
  {
   "cell_type": "markdown",
   "id": "kV5WFMsOHPpR",
   "metadata": {
    "deletable": false,
    "editable": false,
    "id": "kV5WFMsOHPpR"
   },
   "source": [
    "*Old* Faithful es un [géiser](https://es.wikipedia.org/wiki/G%C3%A9iser) en Yellowstone que erupciona cada 44-125 minutos (de acuerdo con [Wikipedia](https://es.wikipedia.org/wiki/Old_Faithful#:~:text=El%20Old%20Faithful%2C%20traducido%20al,%2C%20en%20Wyoming%2C%20Estados%20Unidos)). A las personas se les dice con frecuencia que erupciona cada una hora, pero de hecho el tiempo de espera entre erupciones es más variable. Veámoslo."
   ]
  },
  {
   "cell_type": "markdown",
   "id": "oea5HMFxHPpR",
   "metadata": {
    "deletable": false,
    "editable": false,
    "id": "oea5HMFxHPpR"
   },
   "source": [
    "**Pregunta 13.** La primera línea de la celda de abajo asigna `tiempos_espera` a un arreglo con 272 tiempos de espera consecutivos entre erupciones, tomados de un conjunto de datos de 1938. Asigne los nombres `menor`, `mayor` y `promedio`de forma tal que la asignación `print` esté correcta. **(1 Puntos)**, emplee los metodos `np.min`, `np.max`, `np.mean`"
   ]
  },
  {
   "cell_type": "code",
   "execution_count": null,
   "id": "30a76c89",
   "metadata": {
    "tags": []
   },
   "outputs": [],
   "source": [
    "tiempos_espera = Table.read_table('old_faithful.csv').column('espera')\n",
    "\n",
    "menor = ...\n",
    "mayor = ...\n",
    "promedio = ...\n",
    "print(\"Old Faithful erupciona entre\", menor, \"a\", mayor, \"minutos y cada\", promedio, \"minutos en promedio.\")"
   ]
  },
  {
   "cell_type": "code",
   "execution_count": null,
   "id": "7ae4f82d",
   "metadata": {
    "deletable": false,
    "editable": false
   },
   "outputs": [],
   "source": [
    "grader.check(\"q13\")"
   ]
  },
  {
   "cell_type": "markdown",
   "id": "PDA5L2k8HPpS",
   "metadata": {
    "deletable": false,
    "editable": false,
    "id": "PDA5L2k8HPpS"
   },
   "source": [
    "**Pregunta 14.** Asigne a la variable `mayor_diferencia` el  mayor cambio en la espera entre dos erupciones consecutivas. Por ejemplo, la tercera erupción ocurrió luego de 74 minutos y la cuarta luego de 62 minutos, así que la diferencia fue 74 - 62 = 12 minutos. **(1 Puntos)**\n",
    "\n",
    "*Hint*: Queremos el valor absoluto del valor de la mayor diferencia.\n",
    "\n",
    "*Nota*: Emplea `np.diff()` y calcula la diferencia entre valores concecutivos, aplica el valor absoluto y después determina el `max` "
   ]
  },
  {
   "cell_type": "code",
   "execution_count": null,
   "id": "d07e889b",
   "metadata": {
    "tags": []
   },
   "outputs": [],
   "source": [
    "mayor_diferencia=....\n",
    "mayor_diferencia"
   ]
  },
  {
   "cell_type": "code",
   "execution_count": null,
   "id": "4b97c2e2",
   "metadata": {
    "deletable": false,
    "editable": false
   },
   "outputs": [],
   "source": [
    "grader.check(\"q14\")"
   ]
  },
  {
   "cell_type": "markdown",
   "id": "v-vRCPpyHPpS",
   "metadata": {
    "deletable": false,
    "editable": false,
    "id": "v-vRCPpyHPpS"
   },
   "source": [
    "**Pregunta 15.** La tabla `numero_erupciones_espera` contiene dos columnas: `numero_erupcion`, que representa el número de cada erupción, y `espera`, que indica el tiempo (en minutos) que se tuvo que esperar desde el final de esa erupción hasta que ocurrió la siguiente. Por ejemplo, considere las primeras dos filas de la tabla:\n",
    "\n",
    "| NumeroErupcion | Espera  |\n",
    "|--------------------|---------|\n",
    "| 1                  | 79      |\n",
    "| 2                  | 54      |\n",
    "\n",
    "Esto se puede interpretar de la siguiente manera: después de la primera erupción, se espera 79 minutos hasta que ocurre la segunda erupción. Luego, después de la segunda erupción, se espera 54 minutos para la tercera erupción.\n",
    "\n",
    "Ahora, suponga que Oscar y Wendy comenzaron a observar Old Faithful al inicio de la primera erupción. Ellos continúan observando hasta que finaliza la décima erupción.\n",
    "\n",
    "La pregunta es: ¿Cuántos minutos en total pasarán esperando entre erupciones? **(1 Punto)**\n",
    "\n",
    "*Hint #1:* Puede usar el método `take` en la tabla `numero_erupciones_espera` para seleccionar las filas necesarias.\n",
    "\n",
    "*Hint #2:* `tiempo_espera_primeras_nueve` deberá ser un arreglo que contenga los tiempos de espera entre las primeras nueve erupciones.\n"
   ]
  },
  {
   "cell_type": "code",
   "execution_count": null,
   "id": "f03f1446",
   "metadata": {
    "tags": []
   },
   "outputs": [],
   "source": [
    "tabla = Table.read_table('old_faithful.csv')\n",
    "tabla = tabla.with_column('NumeroErupcion', range(1, tabla.num_rows + 1))\n",
    "numero_erupciones_espera = tabla.select(\"NumeroErupcion\", \"espera\")\n",
    "espera = ...\n",
    "tiempo_espera_primeras_nueve = ...\n",
    "tiempo_espera_primeras_nueve"
   ]
  },
  {
   "cell_type": "code",
   "execution_count": null,
   "id": "5feca028",
   "metadata": {
    "deletable": false,
    "editable": false
   },
   "outputs": [],
   "source": [
    "grader.check(\"q15\")"
   ]
  },
  {
   "cell_type": "markdown",
   "id": "md53BpZuHPpT",
   "metadata": {
    "deletable": false,
    "editable": false,
    "id": "md53BpZuHPpT"
   },
   "source": [
    "**Pregunta 16.** Imaginemos que su estimación del siguiente tiempo de espera siempre fue la duración del tiempo de espera anterior. Si siempre adivinara el tiempo de espera anterior, ¿qué tan grande sería, en promedio, el error al adivinar los tiempos de espera?. Emplee toda la tabla: \n",
    "\n",
    "Por ejemplo, dado que los primeros cuatro tiempos de espera son 79, 54, 74 y 62, la diferencia promedio entre su \"predicción\" y el tiempo real solo para la segunda, tercera y cuarta erupciones sería: $\\frac{|79-54|+ |54-74|+ |74-62|}{3} = 19$.\n",
    "\n",
    "En la variable `error` cálcule el promedio.\n",
    "\n",
    "Ayuda: Puede ser de ayuda emplear los metodos  `abs`, `np.sum`, `len` o `np.mean`"
   ]
  },
  {
   "cell_type": "code",
   "execution_count": null,
   "id": "322b1f61",
   "metadata": {
    "tags": []
   },
   "outputs": [],
   "source": [
    "tabla = Table.read_table('old_faithful.csv')\n",
    "tabla = tabla.with_column('NumeroErupcion', range(1, tabla.num_rows + 1))\n",
    "numero_erupciones_espera = tabla.select(\"NumeroErupcion\", \"espera\")\n",
    "espera = numero_erupciones_espera.column(\"espera\")\n",
    "\n",
    "diferencias = np.diff(tiempos_espera)\n",
    "error = ...\n",
    "error"
   ]
  },
  {
   "cell_type": "code",
   "execution_count": null,
   "id": "7535367f",
   "metadata": {
    "deletable": false,
    "editable": false
   },
   "outputs": [],
   "source": [
    "grader.check(\"q16\")"
   ]
  },
  {
   "cell_type": "markdown",
   "id": "u9Dna5iTHPpU",
   "metadata": {
    "id": "u9Dna5iTHPpU"
   },
   "source": [
    "## 5. Tablas"
   ]
  },
  {
   "cell_type": "markdown",
   "id": "lITKGhdXHPpU",
   "metadata": {
    "deletable": false,
    "editable": false,
    "id": "lITKGhdXHPpU"
   },
   "source": [
    "**Pregunta 17.** Suponga que tiene 4 manzanas y 3 piñas. (Quizás esté usando Python para resolver un problema de álgebra del bachillerato). Cree una tabla que contenga esta información, esta deberá contener dos columnas: `nombre_de_la_fruta` y `cantidad`. Asigne la nueva tabla a la variable `frutas`. **(1 Puntos)**\n",
    "\n",
    "*Note:* Use letras minúsculas y una sola palabra para el nombre de cada fruta, por ejemplo `\"manzana\"`.\n",
    "\n",
    "\n",
    "\n",
    "\n",
    "|nombre_de_la_fruta|cantidad|\n",
    "|------------------|-----|\n",
    "|manzana|4|\n",
    "|pina|3|\n"
   ]
  },
  {
   "cell_type": "code",
   "execution_count": null,
   "id": "d163abb9",
   "metadata": {
    "tags": []
   },
   "outputs": [],
   "source": [
    "frutas = Table().with_columns( ...)\n",
    "frutas"
   ]
  },
  {
   "cell_type": "code",
   "execution_count": null,
   "id": "77e92f8a",
   "metadata": {
    "deletable": false,
    "editable": false
   },
   "outputs": [],
   "source": [
    "grader.check(\"q17\")"
   ]
  },
  {
   "cell_type": "markdown",
   "id": "r2Nyivh-HPpV",
   "metadata": {
    "deletable": false,
    "editable": false,
    "id": "r2Nyivh-HPpV"
   },
   "source": [
    "**Pregunta 18.** El archivo `inventario.csv` contiene información sobre el inventario de un puesto de frutas. Cada fila representa el contenido de una caja de fruta. Cargue el archivo como una tabla llamada `inventario` usando la función `Table.read_table()`. `Table.read_table(...)` toma un argumento (el nombre de un archivo en formato cadena de caracteres) y regresa una tabla. **(1 Puntos)**\n",
    "\n",
    "Nota: Un archivo csv puede estar seprado por comas \",\" , punto y coma \";\"  y pip \"|\", en este caso,  esta separado por \";\", por ello debes indicar como esta separadas las columnas del archivo, \n",
    "\n",
    "```python\n",
    "inventario = Table().read_table(nombre_archivo, sep=\";\")\n",
    "\n",
    "```"
   ]
  },
  {
   "cell_type": "code",
   "execution_count": null,
   "id": "XXloJXk-HPpV",
   "metadata": {
    "id": "XXloJXk-HPpV",
    "tags": []
   },
   "outputs": [],
   "source": [
    "inventario = \n",
    "inventario"
   ]
  },
  {
   "cell_type": "code",
   "execution_count": null,
   "id": "952749aa",
   "metadata": {
    "deletable": false,
    "editable": false
   },
   "outputs": [],
   "source": [
    "grader.check(\"q18\")"
   ]
  },
  {
   "cell_type": "markdown",
   "id": "Lg5Z9lOMHPpV",
   "metadata": {
    "deletable": false,
    "editable": false,
    "id": "Lg5Z9lOMHPpV"
   },
   "source": [
    "**Pregunta 19.** Considere los ID de las cajas y las frutas que contienen. ¿Existen cajas con ID diferentes que contengan frutas del mismo tipo?. Asigne a una nueva columna llamada  `todas_diferentes` dentro de la tabla `inventario`con el valor `True` si **todas** las cajas contienen frutas diferentes. Si alguna fruta aparece en más de una caja (aunque los ID de las cajas sean diferentes), asigne `False` a `todas_diferentes`. **(1 Punto)**\n",
    "\n",
    "*Hint:* No es necesario escribir un código para calcular el valor de `todas_diferentes`. Simplemente observe la tabla y asigne el valor de `True` o `False` de acuerdo a las frutas que se repiten.\n",
    "\n",
    "```python\n",
    "inventario.with_column('nueva_columna', [valor1, valor2, ...])\n",
    "```"
   ]
  },
  {
   "cell_type": "code",
   "execution_count": null,
   "id": "c3939afd",
   "metadata": {
    "tags": []
   },
   "outputs": [],
   "source": [
    "inventario=...\n",
    "inventario"
   ]
  },
  {
   "cell_type": "code",
   "execution_count": null,
   "id": "861c5428",
   "metadata": {
    "deletable": false,
    "editable": false
   },
   "outputs": [],
   "source": [
    "grader.check(\"q19\")"
   ]
  },
  {
   "cell_type": "markdown",
   "id": "Lu79jok_HPpW",
   "metadata": {
    "deletable": false,
    "editable": false,
    "id": "Lu79jok_HPpW"
   },
   "source": [
    "**Pregunta 20.** El archivo `ventas.csv` contiene el número de frutas vendidas de cada caja el sábado pasado. Esta tiene una columna extra llamada `PrecioPorFruta`, la cual es el precio *por unidad*  por fruta en dicha caja. Las filas están en el mismo orden que en la tabla `inventario`.Cargue estos datos en una tabla llamada `ventas`. **(5 Puntos)**"
   ]
  },
  {
   "cell_type": "code",
   "execution_count": null,
   "id": "026cff0d",
   "metadata": {
    "tags": []
   },
   "outputs": [],
   "source": [
    "ventas=...\n",
    "ventas"
   ]
  },
  {
   "cell_type": "code",
   "execution_count": null,
   "id": "bf565ed1",
   "metadata": {
    "deletable": false,
    "editable": false
   },
   "outputs": [],
   "source": [
    "grader.check(\"q20\")"
   ]
  },
  {
   "cell_type": "markdown",
   "id": "rfCRYme1HPpW",
   "metadata": {
    "deletable": false,
    "editable": false,
    "id": "rfCRYme1HPpW"
   },
   "source": [
    "**Pregunta 22.** ¿Cuántas frutas se vendieron en total en la tienda ese día? **(1 Puntos)**, guarde el resultado en una variable llamada `total_frutas_vendidas`\n"
   ]
  },
  {
   "cell_type": "code",
   "execution_count": null,
   "id": "6b0d5f4d",
   "metadata": {
    "tags": []
   },
   "outputs": [],
   "source": [
    "total_frutas_vendidas=...\n",
    "total_frutas_vendidas"
   ]
  },
  {
   "cell_type": "code",
   "execution_count": null,
   "id": "1639d30c",
   "metadata": {
    "deletable": false,
    "editable": false
   },
   "outputs": [],
   "source": [
    "grader.check(\"q22\")"
   ]
  },
  {
   "cell_type": "markdown",
   "id": "SbcZ__ifHPpX",
   "metadata": {
    "deletable": false,
    "editable": false,
    "id": "SbcZ__ifHPpX"
   },
   "source": [
    "**Pregunta 21.** ¿Cuál fue la ganancia total de la tienda (el precio total de todas las frutas vendidas) **(1 Puntos)** guarde el resultado en una variable llamada `ganancia_total`\n",
    "\n",
    "\n",
    "*Hint:* Si se atasca, piense primero en cómo podría calcular la ganancia total solo de las ventas de uvas.\n",
    "\n",
    "\n"
   ]
  },
  {
   "cell_type": "code",
   "execution_count": null,
   "id": "fb216c84",
   "metadata": {
    "tags": []
   },
   "outputs": [],
   "source": [
    "ganancia_total=...\n",
    "ganancia_total"
   ]
  },
  {
   "cell_type": "code",
   "execution_count": null,
   "id": "c5981ece",
   "metadata": {
    "deletable": false,
    "editable": false
   },
   "outputs": [],
   "source": [
    "grader.check(\"q21\")"
   ]
  },
  {
   "cell_type": "markdown",
   "id": "_p5LQeuDHPpY",
   "metadata": {
    "id": "_p5LQeuDHPpY"
   },
   "source": [
    "\n",
    "---\n",
    "\n",
    "¡Terminaste con la tarea 2!\n",
    "\n",
    "**Información importante sobre el envío:**\n",
    "- **Ejecuta todas las pruebas** y verifica que todas pasan\n",
    "- **Guardar** desde el menú **Archivo**\n",
    "- **Ejecute la celda final **\n",
    "- Luego, ve a este [enlace](https://cienciadatosudea.github.io/001_SitioWebFundCienciaDatos/04entregas.html) y envía el archivo ipynb a la tarea correspondiente. El nombre de esta tarea es \"Lab XX Autograder\", donde XX es el número de laboratorio: 01, 02, 03, etc.\n",
    "\n",
    "- Si terminas temprano en el laboratorio regular, **registra tu asistencia con el instructor**.\n",
    "\n",
    "**Es su responsabilidad asegurarse de que su trabajo esté guardado antes de ejecutar la última celda.**\n",
    "\n",
    "`Referencia`: Este material esta basado en [Data 8: The Foundations of Data Science](https://www.data8.org/) - University of California, Berkeley.\n"
   ]
  },
  {
   "cell_type": "markdown",
   "id": "E-iJooVRHPpY",
   "metadata": {
    "id": "E-iJooVRHPpY"
   },
   "source": [
    "## Estudiantes de Fundamentos de Ciencia de Datos\n",
    "\n",
    "¡Felicitaciones por terminar la tarea 2!\n",
    "\n",
    "<img src=\"https://raw.githubusercontent.com/CienciaDatosUdea/001_DataSetFundCienciaDatos/refs/heads/main/semestre2024-2/hw/hw02/kim.jpg\" width=\"30%\" alt=\"Close up picture of dog smiling.\"/>\n",
    "\n",
    "Mascota de la semana: **Kim**"
   ]
  },
  {
   "cell_type": "markdown",
   "id": "uJQBPGtgHPpZ",
   "metadata": {
    "id": "uJQBPGtgHPpZ"
   },
   "source": [
    "## Entrega\n",
    "\n",
    "Asegúrese que ha ejecutado todas las celdas en su notebook en orden antes de ejecutar la celda de abajo. De esta forma todas las imágenes/gráficas apareceran en la salida. La celda de abajo va a generar un archivo con extensión .zip para que usted lo entregue. **¡Por favor guarde antes de exportar!**\n"
   ]
  },
  {
   "cell_type": "markdown",
   "id": "6bccd4bb",
   "metadata": {
    "deletable": false,
    "editable": false
   },
   "source": [
    "## Submission\n",
    "\n",
    "Make sure you have run all cells in your notebook in order before running the cell below, so that all images/graphs appear in the output. The cell below will generate a zip file for you to submit. **Please save before exporting!**\n",
    "\n",
    "These are some submission instructions."
   ]
  },
  {
   "cell_type": "code",
   "execution_count": null,
   "id": "7e4c2030",
   "metadata": {
    "deletable": false,
    "editable": false
   },
   "outputs": [],
   "source": [
    "# Save your notebook first, then run this cell to export your submission.\n",
    "grader.export(run_tests=True)"
   ]
  },
  {
   "cell_type": "markdown",
   "id": "ecc0262e",
   "metadata": {},
   "source": [
    " "
   ]
  }
 ],
 "metadata": {
  "colab": {
   "collapsed_sections": [
    "4M6oux1wHPo9",
    "NPtbhRazHPpF",
    "ZyM02_d3HPpJ",
    "9VvcuG49HPpR"
   ],
   "provenance": []
  },
  "kernelspec": {
   "display_name": "Python 3 (ipykernel)",
   "language": "python",
   "name": "python3"
  },
  "language_info": {
   "codemirror_mode": {
    "name": "ipython",
    "version": 3
   },
   "file_extension": ".py",
   "mimetype": "text/x-python",
   "name": "python",
   "nbconvert_exporter": "python",
   "pygments_lexer": "ipython3",
   "version": "3.10.14"
  },
  "otter": {
   "OK_FORMAT": true,
   "assignment_name": "hw02",
   "tests": {
    "q1": {
     "name": "q1",
     "points": 1,
     "suites": [
      {
       "cases": [
        {
         "code": ">>> assert numeros_extranos.size == 4\n>>> esperado = make_array(-2 * np.pi, 17 * np.pi, 3 * np.pi, 15625 * np.pi)\n>>> for i in range(numeros_extranos.size):\n...     valor_real = numeros_extranos.item(i)\n...     valor_esperado = esperado.item(i)\n...     assert np.isclose(valor_real * np.pi, valor_esperado, 0.01)\n",
         "hidden": false,
         "locked": false
        }
       ],
       "scored": true,
       "setup": "",
       "teardown": "",
       "type": "doctest"
      }
     ]
    },
    "q10": {
     "name": "q10",
     "points": 1,
     "suites": [
      {
       "cases": [
        {
         "code": ">>> def test_productos1():\n...     numeros = make_array(2, 32, 0, 124)\n...     factor = 64\n...     productos_esperados = factor * numeros\n...     assert all(productos == productos_esperados)\n>>> test_productos1()\n",
         "hidden": false,
         "locked": false
        }
       ],
       "scored": true,
       "setup": "",
       "teardown": "",
       "type": "doctest"
      }
     ]
    },
    "q11": {
     "name": "q11",
     "points": 1,
     "suites": [
      {
       "cases": [
        {
         "code": ">>> def test_productos2():\n...     numeros = make_array(2, 32, 0, 124)\n...     factor = 128\n...     productos_esperados = factor * numeros\n...     assert all(productos_correctos == productos_esperados)\n>>> test_productos2()\n",
         "hidden": false,
         "locked": false
        }
       ],
       "scored": true,
       "setup": "",
       "teardown": "",
       "type": "doctest"
      }
     ]
    },
    "q12": {
     "name": "q12",
     "points": 1,
     "suites": [
      {
       "cases": [
        {
         "code": ">>> value_a = 14.596153846153847\n>>> value_b = 14.566698067200857\n>>> assert np.isclose(np.mean(celsius_temps_redondeadas), value_a, 0.001)\n>>> assert np.isclose(np.mean(celsius_temps), value_b, 0.001)\n",
         "hidden": false,
         "locked": false
        }
       ],
       "scored": true,
       "setup": "",
       "teardown": "",
       "type": "doctest"
      }
     ]
    },
    "q13": {
     "name": "q13",
     "points": 1,
     "suites": [
      {
       "cases": [
        {
         "code": ">>> assert np.isclose(menor, 7, 0.001)\n>>> assert np.isclose(mayor, 96, 0.001)\n>>> assert np.isclose(promedio, 70.6654411765, 0.001)\n",
         "hidden": false,
         "locked": false
        }
       ],
       "scored": true,
       "setup": "",
       "teardown": "",
       "type": "doctest"
      }
     ]
    },
    "q14": {
     "name": "q14",
     "points": 1,
     "suites": [
      {
       "cases": [
        {
         "code": ">>> assert np.isclose(mayor_diferencia, 74, 0.01)\n",
         "hidden": false,
         "locked": false
        }
       ],
       "scored": true,
       "setup": "",
       "teardown": "",
       "type": "doctest"
      }
     ]
    },
    "q15": {
     "name": "q15",
     "points": 1,
     "suites": [
      {
       "cases": [
        {
         "code": ">>> assert np.isclose(tiempo_espera_primeras_nueve / np.pi, 633 / np.pi, 0.001)\n",
         "hidden": false,
         "locked": false
        }
       ],
       "scored": true,
       "setup": "",
       "teardown": "",
       "type": "doctest"
      }
     ]
    },
    "q16": {
     "name": "q16",
     "points": 1,
     "suites": [
      {
       "cases": [
        {
         "code": ">>> assert np.isclose(error / np.pi, 20.908 / np.pi, 0.01)\n",
         "hidden": false,
         "locked": false
        }
       ],
       "scored": true,
       "setup": "",
       "teardown": "",
       "type": "doctest"
      }
     ]
    },
    "q17": {
     "name": "q17",
     "points": 1,
     "suites": [
      {
       "cases": [
        {
         "code": ">>> def test_frutas_table():\n...     assert 'nombre_de_la_fruta' in frutas.labels\n...     promedio_cantidad = np.mean(frutas.column('cantidad'))\n...     assert promedio_cantidad == 3.5\n>>> test_frutas_table()\n",
         "hidden": false,
         "locked": false
        }
       ],
       "scored": true,
       "setup": "",
       "teardown": "",
       "type": "doctest"
      }
     ]
    },
    "q18": {
     "name": "q18",
     "points": 1,
     "suites": [
      {
       "cases": [
        {
         "code": ">>> assert inventario.labels == ('ID de caja', 'nombre de la fruta', 'cantidad'), 'Las columnas no coinciden con las esperadas.'\n>>> assert inventario.num_rows == 8\n>>> assert inventario.column('nombre de la fruta').item(0) == 'kiwi', \"El primer valor de la columna 'nombre de la fruta' debería ser 'kiwi'.\"\n>>> assert inventario.column('cantidad').item(0) == 45, \"El primer valor de la columna 'cantidad' debería ser 45.\"\n>>> assert inventario.column('nombre de la fruta').item(1) == 'fresa', \"El segundo valor de la columna 'nombre de la fruta' debería ser 'fresa'.\"\n>>> assert inventario.column('cantidad').item(1) == 123, \"El segundo valor de la columna 'cantidad' debería ser 123.\"\n",
         "hidden": false,
         "locked": false
        }
       ],
       "scored": true,
       "setup": "",
       "teardown": "",
       "type": "doctest"
      }
     ]
    },
    "q19": {
     "name": "q19",
     "points": 1,
     "suites": [
      {
       "cases": [
        {
         "code": ">>> valores_esperados = [True, False, True, True, False, True, False, True]\n>>> assert inventario.column('todas_diferentes').tolist() == valores_esperados\n",
         "hidden": false,
         "locked": false
        }
       ],
       "scored": true,
       "setup": "",
       "teardown": "",
       "type": "doctest"
      }
     ]
    },
    "q2": {
     "name": "q2",
     "points": 1,
     "suites": [
      {
       "cases": [
        {
         "code": ">>> test_para_ocultar1 = 'es acusado testimonio testigo culpable El inocente fiscal tribunal jurado juez el dijo'\n>>> test_para_ocultar2 = 'es acusado testimonio testigo culpable El inocente fiscal tribunal jurado juez el dijo'\n>>> esperado = test_para_ocultar1 + ''.join(make_array('El juez', 'dijo', 'el acusado', 'es inocente')) + test_para_ocultar1\n>>> expresiones_ = test_para_ocultar1 + ''.join(expresiones_sin_comas) + test_para_ocultar1\n>>> assert expresiones_sin_comas.size == 4, 'Error: el arreglo no tiene 7 elementos.'\n>>> assert expresiones_ == esperado\n",
         "hidden": false,
         "locked": false
        }
       ],
       "scored": true,
       "setup": "",
       "teardown": "",
       "type": "doctest"
      }
     ]
    },
    "q20": {
     "name": "q20",
     "points": 1,
     "suites": [
      {
       "cases": [
        {
         "code": ">>> columnas_actuales = [col.strip() for col in ventas.labels]\n>>> columnas_esperadas = ['ID de caja', 'nombre de la fruta', 'cantidad', 'CantidadVendida', 'PrecioPorFruta']\n>>> for columna in columnas_esperadas:\n...     assert columna in columnas_actuales, f\"La columna '{columna}' no existe en la tabla.\"\n",
         "hidden": false,
         "locked": false
        }
       ],
       "scored": true,
       "setup": "",
       "teardown": "",
       "type": "doctest"
      }
     ]
    },
    "q21": {
     "name": "q21",
     "points": 1,
     "suites": [
      {
       "cases": [
        {
         "code": ">>> v = 229700\n>>> assert ganancia_total == v\n",
         "hidden": false,
         "locked": false
        }
       ],
       "scored": true,
       "setup": "",
       "teardown": "",
       "type": "doctest"
      }
     ]
    },
    "q22": {
     "name": "q22",
     "points": 1,
     "suites": [
      {
       "cases": [
        {
         "code": ">>> value1 = 638\n>>> assert total_frutas_vendidas / np.pi == value1 / np.pi\n",
         "hidden": false,
         "locked": false
        }
       ],
       "scored": true,
       "setup": "",
       "teardown": "",
       "type": "doctest"
      }
     ]
    },
    "q3": {
     "name": "q3",
     "points": 1,
     "suites": [
      {
       "cases": [
        {
         "code": ">>> assert len(sin_comas) == 35\n>>> assert len(usando_comas) == 38\n",
         "hidden": false,
         "locked": false
        }
       ],
       "scored": true,
       "setup": "",
       "teardown": "",
       "type": "doctest"
      }
     ]
    },
    "q4": {
     "name": "q4",
     "points": 1,
     "suites": [
      {
       "cases": [
        {
         "code": ">>> ae = -6\n>>> assert tercer_elemento == ae\n",
         "hidden": false,
         "locked": false
        }
       ],
       "scored": true,
       "setup": "",
       "teardown": "",
       "type": "doctest"
      }
     ]
    },
    "q5": {
     "name": "q5",
     "points": 1,
     "suites": [
      {
       "cases": [
        {
         "code": ">>> def test_elementos_algunos_numeros():\n...     assert elementos_algunos_numeros.num_columns == 3\n...     suma_nombres_columnas = sum([sum((ord(c) for c in col)) for col in elementos_algunos_numeros.labels])\n...     assert suma_nombres_columnas == 2860\n...     assert elementos_algunos_numeros.num_rows == 5\n...     suma_indices = sum(elementos_algunos_numeros.column('Indice'))\n...     assert suma_indices == 10\n...     suma_elementos = sum(elementos_algunos_numeros.column('Elemento'))\n...     assert suma_elementos == -35\n>>> test_elementos_algunos_numeros()\n",
         "hidden": false,
         "locked": false
        }
       ],
       "scored": true,
       "setup": "",
       "teardown": "",
       "type": "doctest"
      }
     ]
    },
    "q6": {
     "name": "q6",
     "points": 1,
     "suites": [
      {
       "cases": [
        {
         "code": ">>> value = 141\n>>> assert indice_ultimo_elemento / np.pi == value / np.pi\n",
         "hidden": false,
         "locked": false
        }
       ],
       "scored": true,
       "setup": "",
       "teardown": "",
       "type": "doctest"
      }
     ]
    },
    "q7": {
     "name": "q7",
     "points": 1,
     "suites": [
      {
       "cases": [
        {
         "code": ">>> assert isinstance(anio_nacimiento_mas_reciente, (int, np.integer))\n>>> assert anio_nacimiento_mas_reciente + 10 == 1976 + 10\n",
         "hidden": false,
         "locked": false
        }
       ],
       "scored": true,
       "setup": "",
       "teardown": "",
       "type": "doctest"
      }
     ]
    },
    "q8": {
     "name": "q8",
     "points": 1,
     "suites": [
      {
       "cases": [
        {
         "code": ">>> assert np.isclose(min_anio_nacimiento, 1783, 0.001)\n",
         "hidden": false,
         "locked": false
        }
       ],
       "scored": true,
       "setup": "",
       "teardown": "",
       "type": "doctest"
      }
     ]
    },
    "q9": {
     "name": "q9",
     "points": 1,
     "suites": [
      {
       "cases": [
        {
         "code": ">>> def test_productos():\n...     b = 64\n...     primer_producto_esperado = 128\n...     segundo_producto_esperado = 2048\n...     tercer_producto_esperado = 0\n...     cuarto_producto_esperado = 7936\n...     assert primer_producto == primer_producto_esperado\n...     assert segundo_producto == segundo_producto_esperado\n...     assert tercer_producto == tercer_producto_esperado\n...     assert cuarto_producto == cuarto_producto_esperado\n>>> test_productos()\n",
         "hidden": false,
         "locked": false
        }
       ],
       "scored": true,
       "setup": "",
       "teardown": "",
       "type": "doctest"
      }
     ]
    }
   }
  }
 },
 "nbformat": 4,
 "nbformat_minor": 5
}
