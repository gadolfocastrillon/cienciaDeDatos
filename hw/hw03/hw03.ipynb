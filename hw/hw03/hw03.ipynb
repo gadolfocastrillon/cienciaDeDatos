{
 "cells": [
  {
   "cell_type": "code",
   "execution_count": null,
   "id": "b4f4a304",
   "metadata": {
    "deletable": false,
    "editable": false
   },
   "outputs": [],
   "source": [
    "# Initialize Otter\n",
    "import otter\n",
    "grader = otter.Notebook(\"hw03.ipynb\")"
   ]
  },
  {
   "cell_type": "markdown",
   "id": "Y12_-ZtGTtDI",
   "metadata": {
    "id": "Y12_-ZtGTtDI"
   },
   "source": [
    "# Tarea 3: Manipulación de Tablas y Visualización\n",
    "\n",
    "\n",
    "Por favor complete este notebook llenando las celdas que se indican. Antes de comenzar, ejecute la celda previa para cargar las pruebas.\n"
   ]
  },
  {
   "cell_type": "markdown",
   "id": "XV_1JlQLTtDL",
   "metadata": {
    "id": "XV_1JlQLTtDL"
   },
   "source": [
    "**Recursos útiles:**\n",
    "- [Referencia de Python](http://data8.org/fa23/reference/): Hoja de referencia y métodos útiles de métodos de arreglos y tablas.\n",
    "\n",
    "**Lectura recomendada**:\n",
    "* [Visualización](https://inferentialthinking.com/chapters/07/Visualization.html)\n",
    "* [Histogramas](https://inferentialthinking.com/chapters/07/2/Visualizing_Numerical_Distributions.html)"
   ]
  },
  {
   "cell_type": "markdown",
   "id": "CEPVwS-aTtDM",
   "metadata": {
    "id": "CEPVwS-aTtDM"
   },
   "source": [
    "Para todos los problemas en los que deba escribir explicaciones y oraciones, **deberá** proporcionar la respuesta en el espacio designado. Además, a lo largo de esta tarea y de todas las futuras, ¡asegúrese de no reasignar variables en todo el notebook! Por ejemplo, si usa `temperatura` en su respuesta a una pregunta, no la reasigne más adelante. De lo contrario, ¡reprobará las pruebas que creía que estaba aprobando anteriormente!\n",
    "\n",
    "**Fecha de entrega:**\n",
    "\n",
    "Esta tarea deberá ser entregada ** ___ a las ___**. Si quiere puntos extra, entréguela el (un día antes). Trabajo que se entregue por fuera del plazo no será recibido.\n",
    "\n",
    "**Nota: Esta tarea tiene pruebas ocultas. Eso significa que aunque los exámenes indiquen que se aprobó al 100%, no significa que su calificación final será del 100%. Realizaremos más pruebas ocultas de corrección una vez que todos entreguen la tarea.**\n",
    "\n",
    "\n",
    "Evite compartir respuestas o hacer copia con sus compañeros. Establezca en cambio discusiones grupales con otros estudiantes y docentes del curso.\n",
    "\n",
    "Si desea contar con el tiempo necesario para pedir ayuda o asesoría en caso de estar atascado, se recomienda iniciar temprano con la realización de las tareas. Tenga en cuenta el cronograma del curso y de entregas."
   ]
  },
  {
   "cell_type": "code",
   "execution_count": null,
   "id": "ViuMUYYZTtDN",
   "metadata": {
    "id": "ViuMUYYZTtDN"
   },
   "outputs": [],
   "source": [
    "# No cambie esta celda; solo ejecútela.\n",
    "import numpy as np\n",
    "from datascience import *\n",
    "import warnings\n",
    "import matplotlib.pyplot as plt\n",
    "%matplotlib inline\n",
    "plt.style.use('fivethirtyeight')\n",
    "warnings.simplefilter('ignore', FutureWarning)"
   ]
  },
  {
   "cell_type": "markdown",
   "id": "f9ce0b97-de3b-46f2-b441-c08b7032f891",
   "metadata": {
    "deletable": false,
    "editable": false
   },
   "source": [
    "<!-- BEGIN QUESTION -->\n",
    "\n",
    "Ingrese su nombre en la siguiente celda:\n",
    "```python\n",
    "Nombre = \"Ada Lovelace\"\n",
    "Carnet =  \"3,141592....\"\n",
    "```"
   ]
  },
  {
   "cell_type": "code",
   "execution_count": null,
   "id": "9abb0559-5017-44d5-89a0-db1efabdc440",
   "metadata": {
    "tags": []
   },
   "outputs": [],
   "source": [
    "Nombre = \"...\"\n",
    "Carnet = \"...\""
   ]
  },
  {
   "cell_type": "markdown",
   "id": "Auer7uhWTtD8",
   "metadata": {
    "deletable": false,
    "editable": false,
    "id": "Auer7uhWTtD8"
   },
   "source": [
    "<!-- END QUESTION -->\n",
    "\n",
    "## 1. Datos de Uber"
   ]
  },
  {
   "cell_type": "markdown",
   "id": "bYljqWZHTtD8",
   "metadata": {
    "id": "bYljqWZHTtD8"
   },
   "source": [
    "**Nota:** Recomendamos leer el [capítulo 7.2](https://inferentialthinking.com/chapters/07/2/Visualizing_Numerical_Distributions.html) del libro guía antes de llegar a la pregunta 3."
   ]
  },
  {
   "cell_type": "markdown",
   "id": "JWLk4stBTtD9",
   "metadata": {
    "id": "JWLk4stBTtD9"
   },
   "source": [
    "Las siguientes tablas contienen datos de 200000 viajes de Uber realizados durante una semana en las áreas metropolitanas de Manila y Boston. Estos datos provienen del proyecto [Uber Movement](https://movement.uber.com), con la siguiente información:\n",
    "\n",
    "- La columna `sourceid` contiene los códigos de los lugares de inicio de los viajes.\n",
    "- La columna `dstid` incluye los códigos de los destinos correspondientes.\n",
    "- La columna `hod` indica la hora del día en la que se realizó cada viaje (en formato de código).\n",
    "- La columna `ride time` representa la duración del viaje en minutos.\n",
    "\n",
    "<!-- La siguiente tabla contiene datos de diferentes viajes de uber en la ciudad de bogotá, datos tomados de [kaggle](https://www.kaggle.com/datasets/ishandutta/uber-travel-movement-data-2-billion-trips).  Las columnas `fuente` y `destino` contienen coordenadas geográficas de los lugares de inicio y de destino de cada viaje. La columna `` contiene códigos que corresponden a la hora del día en la que el viaje tuvo lugar. La columna `ride time` contiene la duración del viaje en minutos. -->"
   ]
  },
  {
   "cell_type": "code",
   "execution_count": null,
   "id": "10797995-088f-49b1-8278-3c9323a96aef",
   "metadata": {},
   "outputs": [],
   "source": [
    "boston = Table.read_table(\"boston.csv\")\n",
    "manila = Table.read_table(\"manila.csv\")\n",
    "print(\"Tabla de Boston\")\n",
    "boston.show(4)\n",
    "print(\"Tabla de Manila\")\n",
    "manila.show(4)"
   ]
  },
  {
   "cell_type": "markdown",
   "id": "NKiZZfoYTtEC",
   "metadata": {
    "deletable": false,
    "editable": false,
    "id": "NKiZZfoYTtEC"
   },
   "source": [
    "<!-- BEGIN QUESTION -->\n",
    "\n",
    "**Pregunta 1.** Genere un histograma que permita visualizar la distribución de los tiempos de viaje en Boston usando los bins dados en `bins_iguales`. **(1 Puntos)**\n",
    "\n",
    "*Hint:* Vea el [capítulo 7.2](https://inferentialthinking.com/chapters/07/2/Visualizing_Numerical_Distributions.html) si no sabe cómo especificar los bins."
   ]
  },
  {
   "cell_type": "code",
   "execution_count": null,
   "id": "d2a09c86",
   "metadata": {
    "tags": []
   },
   "outputs": [],
   "source": [
    "\n",
    "# Leea el archivo boston.csv\n",
    "bins_iguales = np.arange(0, 120, 5)\n",
    "...\n",
    "\n",
    "# ¡No borre la siguiente línea!\n",
    "plt.ylim(0, 0.05);"
   ]
  },
  {
   "cell_type": "code",
   "execution_count": null,
   "id": "288d1cc9",
   "metadata": {
    "deletable": false,
    "editable": false
   },
   "outputs": [],
   "source": [
    "grader.check(\"q1\")"
   ]
  },
  {
   "cell_type": "markdown",
   "id": "SJU7ax2rTtEF",
   "metadata": {
    "deletable": false,
    "editable": false,
    "id": "SJU7ax2rTtEF"
   },
   "source": [
    "\n",
    "\n",
    "**Pregunta 2.** Genere un histograma que muestre la distribución de los tiempos de viaje registrados en Manila, utilizando los intervalos de clase (bines) proporcionados. (1 punto)"
   ]
  },
  {
   "cell_type": "code",
   "execution_count": null,
   "id": "32358fa1",
   "metadata": {
    "tags": []
   },
   "outputs": [],
   "source": [
    "\n",
    "# Leea el archivo manila.csv\n",
    "bins_iguales = np.arange(0, 120, 5)\n",
    "...\n",
    "\n",
    "# ¡No borre la siguiente línea!\n",
    "plt.ylim(0, 0.05);"
   ]
  },
  {
   "cell_type": "code",
   "execution_count": null,
   "id": "3c8c7d99",
   "metadata": {
    "deletable": false,
    "editable": false
   },
   "outputs": [],
   "source": [
    "grader.check(\"q2\")"
   ]
  },
  {
   "cell_type": "markdown",
   "id": "hnGUfEY9TtEJ",
   "metadata": {
    "deletable": false,
    "editable": false,
    "id": "hnGUfEY9TtEJ"
   },
   "source": [
    "\n",
    "**Pregunta 3.** Observa con más detalle la etiqueta del eje y en los gráficos anteriores. Asigna a la variable `unit_meaning` un número entero (1, 2, 3) que represente correctamente la \"unidad\" mencionada en la frase \"Porcentaje por unidad\". **(1 Punto)**\n",
    "\n",
    "1. minuto  \n",
    "2. tiempo de viaje, (`ride time`)\n",
    ")  \n",
    "3. segundos\n"
   ]
  },
  {
   "cell_type": "code",
   "execution_count": null,
   "id": "ebcd4ac5",
   "metadata": {
    "tags": []
   },
   "outputs": [],
   "source": [
    "unit_meaning = ..."
   ]
  },
  {
   "cell_type": "code",
   "execution_count": null,
   "id": "88292452",
   "metadata": {
    "deletable": false,
    "editable": false
   },
   "outputs": [],
   "source": [
    "grader.check(\"q3\")"
   ]
  },
  {
   "cell_type": "markdown",
   "id": "I1OZeuZtTtEM",
   "metadata": {
    "deletable": false,
    "editable": false,
    "id": "I1OZeuZtTtEM"
   },
   "source": [
    "**Pregunta 4.** Asigna a las variables `boston_menor_15` y `manila_menor_15` el **porcentaje de viajes con duración menor a 15 minutos** en las respectivas áreas metropolitanas de Boston y Manila.\n",
    "\n",
    "Para resolverlo, **utiliza únicamente las variables de altura que se proporcionan más adelante**, junto con operaciones matemáticas básicas.  \n",
    "No debes inspeccionar visualmente las tablas `boston` ni `manila`; en cambio, implementa la solución computacionalmente, filtrando los datos según corresponda.\n",
    "\n",
    "**(1 punto)**\n",
    "\n",
    "\n",
    "\n",
    "Ayuda: \n",
    "1. Revisa el ancho de cada bin \n",
    "2. Con las alturas dada más abajo, calcule el área\n",
    "\n",
    "El área de cada bin es: \n",
    "\\begin{equation}\n",
    "A = \\mathrm{Altura\\ bin} \\times  \\mathrm{Ancho\\  bin}\n",
    "\\end{equation}\n",
    "3. Cálcula el porcentaje de viajes para cada altura\n",
    "4. ¿Cuál es el porcentaje de viajes que tuvieron una duración menor a 15 minutos?"
   ]
  },
  {
   "cell_type": "code",
   "execution_count": null,
   "id": "00bce6e4",
   "metadata": {
    "tags": []
   },
   "outputs": [],
   "source": [
    "boston_menor_5_bin_altura = 1.2\n",
    "manila_menor_5_bin_altura = 0.6\n",
    "boston_5_a_menor_10_bin_altura = 3.2\n",
    "manila_5_a_menor_10_bin_altura = 1.4\n",
    "boston_10_a_menor_15_bin_altura = 4.9\n",
    "manila_10_a_menor_15_bin_altura = 2.2\n",
    "boston_menor_15 = ...\n",
    "manila_menor_15 = ..."
   ]
  },
  {
   "cell_type": "code",
   "execution_count": null,
   "id": "c263ed93-1041-49ca-b3e0-7598e684e4dc",
   "metadata": {
    "tags": []
   },
   "outputs": [],
   "source": []
  },
  {
   "cell_type": "code",
   "execution_count": null,
   "id": "5b08b2ea",
   "metadata": {
    "deletable": false,
    "editable": false
   },
   "outputs": [],
   "source": [
    "grader.check(\"q4\")"
   ]
  },
  {
   "cell_type": "markdown",
   "id": "91lFLXniTtEO",
   "metadata": {
    "deletable": false,
    "editable": false,
    "id": "91lFLXniTtEO"
   },
   "source": [
    "**Pregunta 5.** Analicemos más de cerca la distribución de los tiempos de viaje en Boston. Asigna la variable `boston_mediana_bin` a un número entero (1, 2, 3 o 4) que corresponda al bin que contiene la mediana del tiempo de viaje. **(1 Puntos)**\n",
    "\n",
    "1. 0-8 minutos  \n",
    "2. 8-14 minutos  \n",
    "3. 14-20 minutos  \n",
    "4. 20-40 minutos  \n",
    "\n",
    "Ayuda: La mediana es una lista ordenada de números,  que divide a la lista en dos partes iguales, de manera que la mitad de los elementos se encuentran por debajo de la mediana y la otra mitad por encima.\n",
    "\n"
   ]
  },
  {
   "cell_type": "code",
   "execution_count": null,
   "id": "09fde25e",
   "metadata": {
    "tags": []
   },
   "outputs": [],
   "source": [
    "boston_mediana_bin = ...\n",
    "boston_mediana_bin"
   ]
  },
  {
   "cell_type": "code",
   "execution_count": null,
   "id": "5045512e",
   "metadata": {
    "deletable": false,
    "editable": false
   },
   "outputs": [],
   "source": [
    "grader.check(\"q5\")"
   ]
  },
  {
   "cell_type": "markdown",
   "id": "uMn9RE_bTtEP",
   "metadata": {
    "id": "uMn9RE_bTtEP"
   },
   "source": [
    "<!-- BEGIN QUESTION -->\n",
    "\n",
    "La desviación estandar  describe cómo de dispersos o concentrados están los datos alrededor de la media o promedio, si la desviación estándar es pequeña, los datos están más concentrados cerca de la media (más consistentes). Si la desviación estándar es grande, los datos están más dispersos y se extienden más lejos de la media (más variabilidad).\n",
    "\n",
    "Ejemplo: \n",
    "\n",
    "Fórmula para calcular la media (o promedio):\n",
    "\n",
    "\\begin{equation}\n",
    "\\text{Media} = \\frac{1}{n} \\sum_i x_i\n",
    "\\end{equation}\n",
    "\n",
    "Donde:\n",
    "- $x_i$ son los valores individuales de los datos.\n",
    "- $n$ es el número total de datos.\n",
    "\n",
    "Por ejemplo, si tienes los números $5, 10, 15$, la media o promedio sería:\n",
    "\n",
    "\\begin{equation}\n",
    "\\text{Media} = \\frac{5 + 10 + 15}{3} = 10\n",
    "\\end{equation}\n",
    "\n",
    "\n",
    "Fórmula para calcular la desviación estándar:\n",
    "\n",
    "La desviación estándar (\\(\\sigma\\)) mide cuánto se desvían los datos respecto a la media. La fórmula es la siguiente:\n",
    "\n",
    "\\begin{equation}\n",
    "\\sigma = \\sqrt{\\frac{1}{n} \\sum_{i=1}^{n} (x_i - \\mu)^2}\n",
    "\\end{equation}\n",
    "\n",
    "Donde:\n",
    "- $\\sigma$ es la desviación estándar.\n",
    "- $n$ es el número total de datos.\n",
    "- $x_i$ son los valores individuales de los datos.\n",
    "- $\\mu$ es la media de los datos.\n",
    "\n",
    "### Ejemplo:\n",
    "\n",
    "Supongamos que tenemos los valores: \\(5, 10, 15\\).\n",
    "\n",
    "1. **Calcular la media**:\n",
    "\\begin{equation}\n",
    "   \\mu = \\frac{5 + 10 + 15}{3} = 10\n",
    "\\end{equation}\n",
    "\n",
    "2. **Restar la media a cada valor (diferencias)**:\n",
    "   - $5 - 10 = -5$\n",
    "   - $10 - 10 = 0$\n",
    "   - $15 - 10 = 5$\n",
    "\n",
    "3. **Elevar al cuadrado cada diferencia**:\n",
    "   - $(-5)^2 = 25$\n",
    "   - $0^2 = 0$\n",
    "   - $5^2 = 25$\n",
    "\n",
    "4. **Sumar los cuadrados de las diferencias**:\n",
    "\\begin{equation}\n",
    "   25 + 0 + 25 = 50\n",
    "\\end{equation}\n",
    "\n",
    "5. **Dividir por el número total de datos** (\\(n = 3\\)):\n",
    "\\begin{equation}\n",
    "   \\frac{50}{3} \\approx 16.67\n",
    "\\end{equation}\n",
    "\n",
    "6. **Sacar la raíz cuadrada** para obtener la desviación estándar:\n",
    "\\begin{equation}\n",
    "   \\sigma = \\sqrt{16.67} \\approx 4.08\n",
    "\\end{equation}\n",
    "\n",
    "\n",
    "\n"
   ]
  },
  {
   "cell_type": "markdown",
   "id": "77a371fc-56e6-4c0f-8cd4-8405be401199",
   "metadata": {
    "deletable": false,
    "editable": false
   },
   "source": [
    "**Pregunta 6.** Identifique una diferencia entre los histogramas, en términos de sus propiedades estadísticas. ¿Qué puede decir sobre el promedio y/o la desviación de cada histograma? **(1 Puntos)**\n",
    "\n",
    "*Hint*: La mejor forma de hacerlo es comparar los dos histogramas (de los puntos 1 and 2), no tiene que hacer ningún cálculo, solo realice la comparación  visualmente.\n"
   ]
  },
  {
   "cell_type": "code",
   "execution_count": null,
   "id": "6c145eb1",
   "metadata": {
    "tags": []
   },
   "outputs": [],
   "source": [
    "_Escriba aquí su respuesta, reemplazando este texto._"
   ]
  },
  {
   "cell_type": "markdown",
   "id": "elEFu_KrTtEQ",
   "metadata": {
    "deletable": false,
    "editable": false,
    "id": "elEFu_KrTtEQ"
   },
   "source": [
    "<!-- BEGIN QUESTION -->\n",
    "\n",
    "<!-- END QUESTION -->\n",
    "\n",
    "<!-- BEGIN QUESTION -->\n",
    "\n",
    "**Pregunta 7.** ¿Por qué su respuesta en la pregunta 6 es correcta? Basado en las siguientes lecturas, ¿por qué las distribuciones de Boston y Manila son diferentes? **(4 Puntos)**\n",
    "\n",
    "- [Lectura caso Boston](https://www.climatestotravel.com/climate/united-states/boston)\n",
    "- [Lectura caso Manila](https://manilafyi.com/why-is-manila-traffic-so-bad/)\n",
    "\n",
    "*Hint:* Trate de pensar en factores externos de ambas ciudades que pueden estar causando dichas diferencias. Las lecturas le dan algunos facvtores potenciales -- Trate de conectarlos con los datos de tiempos de viaje.\n",
    "\n"
   ]
  },
  {
   "cell_type": "code",
   "execution_count": null,
   "id": "9ce75f3f",
   "metadata": {
    "tags": []
   },
   "outputs": [],
   "source": [
    "Escriba aquí su respuesta, reemplazando este texto._\n"
   ]
  },
  {
   "cell_type": "markdown",
   "id": "Y-EjfUCYTtEQ",
   "metadata": {
    "deletable": false,
    "editable": false,
    "id": "Y-EjfUCYTtEQ",
    "tags": []
   },
   "source": [
    "<!-- END QUESTION -->\n",
    "\n",
    "<!-- END QUESTION -->\n",
    "\n",
    "## 4. Histograms"
   ]
  },
  {
   "cell_type": "markdown",
   "id": "_9Q1ziY1TtER",
   "metadata": {
    "id": "_9Q1ziY1TtER"
   },
   "source": [
    "Considere la siguiente gráfica de dispersión:\n",
    "\n",
    "![Alt text](scatter.png \"Scatter plot showing data points for the variables 'x' and 'y'. The data are symmetric about the x-axis centered at 0 and symmetric about the y-axis centered at 0, but with no data in the [-0.5, 0.5] range on the y-axis.\")\n",
    "\n",
    "Los ejes de la gráfica representan valores de dos variables: $x$ y $y$.\n"
   ]
  },
  {
   "cell_type": "markdown",
   "id": "WPX6GZRhTtER",
   "metadata": {
    "id": "WPX6GZRhTtER"
   },
   "source": [
    "Suponga que tiene una tabla llamada `t` que contiene dos columnas en ella\n",
    "\n",
    "- `x`: una columna que contiene los valores de x de los puntos en la gráfica de dispersión.\n",
    "- `y`: una columna que contiene los valores de y de los puntos en la gráfica de dispersión."
   ]
  },
  {
   "cell_type": "markdown",
   "id": "TeBZQ3ppTtER",
   "metadata": {
    "id": "TeBZQ3ppTtER"
   },
   "source": [
    "Abajo se  dan tres histogramas. Uno corresponde a la columna `x`, uno corresponde a la columna `y`, y otro a ninguna de las dos columnas."
   ]
  },
  {
   "cell_type": "markdown",
   "id": "OBvvq3zpTtES",
   "metadata": {
    "id": "OBvvq3zpTtES"
   },
   "source": [
    "**Histogram A:**\n",
    "\n",
    "![Alt text](var3.png \"Symmetrical, bell-shaped histogram centered around 0\")\n",
    "\n",
    "**Histogram B:**\n",
    "\n",
    "![Alt text](var1.png \"Symmetrical histogram with two peaks at -1 and 1 but no data around 0\")\n",
    "\n",
    "**Histogram C:**\n",
    "\n",
    "![Alt text](var2.png \"Asymmetrical histogram with a peak around -0.5 and a right skew\")"
   ]
  },
  {
   "cell_type": "markdown",
   "id": "3oV-TllmTtES",
   "metadata": {
    "deletable": false,
    "editable": false,
    "id": "3oV-TllmTtES"
   },
   "source": [
    "**Pregunta 8.** Suponga que usted corre `t.hist('x')`. ¿Cuál histograma debería producir este código `t.hist('x')`? Asigne `histograma_columna_x` a 1, 2, ó 3. **(5 Puntos)**\n",
    "\n",
    "1. Histograma A\n",
    "2. Histograma B\n",
    "3. Histograma C\n"
   ]
  },
  {
   "cell_type": "code",
   "execution_count": null,
   "id": "197a2c95",
   "metadata": {
    "tags": []
   },
   "outputs": [],
   "source": [
    "histograma_columna_x = ..."
   ]
  },
  {
   "cell_type": "code",
   "execution_count": null,
   "id": "f5798638",
   "metadata": {
    "deletable": false,
    "editable": false
   },
   "outputs": [],
   "source": [
    "grader.check(\"q8\")"
   ]
  },
  {
   "cell_type": "markdown",
   "id": "r3uqp0hdTtET",
   "metadata": {
    "deletable": false,
    "editable": false,
    "id": "r3uqp0hdTtET"
   },
   "source": [
    "<!-- BEGIN QUESTION -->\n",
    "\n",
    "\n",
    "**Pregunta 9.** Dé al menos una razón por la cual eligió el histograma de la Pregunta 8. **Asegúrese de indicar claramente cuál histograma eligió** (ejemplo: \"Yo elegí el histograma A porque...\"). \n"
   ]
  },
  {
   "cell_type": "code",
   "execution_count": null,
   "id": "1a2cba06",
   "metadata": {
    "tags": []
   },
   "outputs": [],
   "source": [
    "Escriba su respuesta aqui...reemplazando este texto"
   ]
  },
  {
   "cell_type": "markdown",
   "id": "nsBlo5_MTtEV",
   "metadata": {
    "deletable": false,
    "editable": false,
    "id": "nsBlo5_MTtEV"
   },
   "source": [
    "<!-- END QUESTION -->\n",
    "\n",
    "\n",
    "**Pregunta 10.** Suponga que usted corre `t.hist('y')`. ¿Cuál histograma debería producir este código? Asigne `histograma_columna_y` a 1, 2, ó 3. **(5 Puntos)**\n",
    "\n",
    "1. Histograma A\n",
    "2. Histograma B\n",
    "3. Histograma C\n",
    "\n"
   ]
  },
  {
   "cell_type": "code",
   "execution_count": null,
   "id": "7bdc044a",
   "metadata": {
    "tags": []
   },
   "outputs": [],
   "source": [
    "histograma_columna_y = 2\n"
   ]
  },
  {
   "cell_type": "code",
   "execution_count": null,
   "id": "1e3a5516",
   "metadata": {
    "deletable": false,
    "editable": false
   },
   "outputs": [],
   "source": [
    "grader.check(\"q10\")"
   ]
  },
  {
   "cell_type": "markdown",
   "id": "c6ncLsA3TtEa",
   "metadata": {
    "deletable": false,
    "editable": false,
    "id": "c6ncLsA3TtEa"
   },
   "source": [
    "<!-- BEGIN QUESTION -->\n",
    "\n",
    "<!-- BEGIN QUESTION -->\n",
    "\n",
    "**Pregunta 11.** Dé al menos una razón por la cual eligió el histograma de la Pregunta 3. **Asegúrese de indicar claramente cuál histograma eligió** (ejemplo: \"Yo elegí el histograma A porque...\"). \n"
   ]
  },
  {
   "cell_type": "code",
   "execution_count": null,
   "id": "3863d480",
   "metadata": {
    "tags": []
   },
   "outputs": [],
   "source": [
    "Escriba su respuesta aqui...reemplazando este texto"
   ]
  },
  {
   "cell_type": "markdown",
   "id": "uTGp2HjvTtEb",
   "metadata": {
    "deletable": false,
    "editable": false,
    "id": "uTGp2HjvTtEb"
   },
   "source": [
    "<!-- END QUESTION -->\n",
    "\n",
    "_Escriba aquí su respuesta, reemplazando este texto._"
   ]
  },
  {
   "cell_type": "markdown",
   "id": "yFa9-jUvTtEd",
   "metadata": {
    "id": "yFa9-jUvTtEd"
   },
   "source": [
    "¡Terminó la tarea 3!\n",
    "\n",
    "**Información sobre la entrega:** Asegúrese de correr todas las pruebas y verificar que se ejectuen correctamente. Aquí, seleccione **Guardar Notebook** En el menú de **Archivo** y **corra la  última celda**. Descargue el archivo .zip y el archivo con extensión .ipynb y subálo al enlace compartido en la página del curso para su entrega. El nombre de esta tarea es \"HW 03 \". **Es su responsabilidad asegurarse que su trabajo se guarde antes de correr la última celda**.\n",
    "\n",
    "\n",
    "\n",
    "`Referencia`: Este material esta basado en [Data 8: The Foundations of Data Science](https://www.data8.org/) - University of California, Berkeley."
   ]
  },
  {
   "cell_type": "markdown",
   "id": "xWL-ms_iTtEe",
   "metadata": {
    "id": "xWL-ms_iTtEe"
   },
   "source": [
    "## Estudiantes de Fundamentos de Ciencia de Datos\n",
    "\n",
    "¡Felicitaciones por terminar la tarea 3!\n",
    "\n",
    "<img src=\"./lego.png\" width=\"30%\" alt=\"Close up picture of dog smiling.\"/>\n",
    "\n",
    "Perro de la semana: **Lego**\n",
    "\n"
   ]
  },
  {
   "cell_type": "markdown",
   "id": "ZrSf5B48TtEf",
   "metadata": {
    "id": "ZrSf5B48TtEf"
   },
   "source": [
    "## Entrega\n",
    "\n",
    "Asegúrese que ha ejecutado todas las celdas en su notebook en orden antes de ejecutar la celda de abajo. De esta forma todas las imágenes/gráficas apareceran en la salida. La celda de abajo va a generar un archivo con extensión .zip para que usted lo entregue. **¡Por favor guarde antes de exportar!**"
   ]
  },
  {
   "cell_type": "markdown",
   "id": "0d021545",
   "metadata": {
    "deletable": false,
    "editable": false
   },
   "source": [
    "## Submission\n",
    "\n",
    "Make sure you have run all cells in your notebook in order before running the cell below, so that all images/graphs appear in the output. The cell below will generate a zip file for you to submit. **Please save before exporting!**\n",
    "\n",
    "These are some submission instructions."
   ]
  },
  {
   "cell_type": "code",
   "execution_count": null,
   "id": "51c84589",
   "metadata": {
    "deletable": false,
    "editable": false
   },
   "outputs": [],
   "source": [
    "# Save your notebook first, then run this cell to export your submission.\n",
    "grader.export(run_tests=True)"
   ]
  },
  {
   "cell_type": "markdown",
   "id": "2578876b",
   "metadata": {},
   "source": [
    " "
   ]
  }
 ],
 "metadata": {
  "colab": {
   "collapsed_sections": [
    "SkDr_ctNTtDO",
    "hxmQVJkuTtDj"
   ],
   "provenance": []
  },
  "kernelspec": {
   "display_name": "Python 3 (ipykernel)",
   "language": "python",
   "name": "python3"
  },
  "language_info": {
   "codemirror_mode": {
    "name": "ipython",
    "version": 3
   },
   "file_extension": ".py",
   "mimetype": "text/x-python",
   "name": "python",
   "nbconvert_exporter": "python",
   "pygments_lexer": "ipython3",
   "version": "3.10.14"
  },
  "otter": {
   "OK_FORMAT": true,
   "assignment_name": "hw03",
   "tests": {
    "q1": {
     "name": "q1",
     "points": 1,
     "suites": [
      {
       "cases": [
        {
         "code": ">>> assert 'ride time' in boston.labels, \"La columna 'ride_time' no existe en la tabla.\"\n>>> assert len(boston.column('ride time')) > 0, \"La columna 'ride_time' está vacía.\"\n>>> assert np.isclose(np.mean(boston.column('ride time')), 16.502477909999996, 0.001)\n>>> assert len(bins_iguales) - 1 == len(np.histogram(boston.column('ride time'), bins=bins_iguales)[0]), 'El número de bins no coincide con los bins proporcionados.'\n",
         "hidden": false,
         "locked": false
        }
       ],
       "scored": true,
       "setup": "",
       "teardown": "",
       "type": "doctest"
      }
     ]
    },
    "q10": {
     "name": "q10",
     "points": 1,
     "suites": [
      {
       "cases": [
        {
         "code": ">>> assert histograma_columna_y == 2\n",
         "hidden": false,
         "locked": false
        }
       ],
       "scored": true,
       "setup": "",
       "teardown": "",
       "type": "doctest"
      }
     ]
    },
    "q2": {
     "name": "q2",
     "points": 1,
     "suites": [
      {
       "cases": [
        {
         "code": ">>> assert 'ride time' in manila.labels, \"La columna 'ride_time' no existe en la tabla.\"\n>>> assert len(manila.column('ride time')) > 0, \"La columna 'ride_time' está vacía.\"\n>>> assert np.isclose(np.mean(manila.column('ride time')), 33.74324175, 0.001)\n>>> assert len(bins_iguales) - 1 == len(np.histogram(manila.column('ride time'), bins=bins_iguales)[0]), 'El número de bins no coincide con los bins proporcionados.'\n",
         "hidden": false,
         "locked": false
        }
       ],
       "scored": true,
       "setup": "",
       "teardown": "",
       "type": "doctest"
      }
     ]
    },
    "q3": {
     "name": "q3",
     "points": 1,
     "suites": [
      {
       "cases": [
        {
         "code": ">>> assert unit_meaning == 2\n",
         "hidden": false,
         "locked": false
        }
       ],
       "scored": true,
       "setup": "",
       "teardown": "",
       "type": "doctest"
      }
     ]
    },
    "q4": {
     "name": "q4",
     "points": 1,
     "suites": [
      {
       "cases": [
        {
         "code": ">>> assert np.isclose(manila_menor_15, 21, 0.001)\n>>> assert np.isclose(boston_menor_15, 46.5, 0.001)\n",
         "hidden": false,
         "locked": false
        }
       ],
       "scored": true,
       "setup": "",
       "teardown": "",
       "type": "doctest"
      }
     ]
    },
    "q5": {
     "name": "q5",
     "points": 1,
     "suites": [
      {
       "cases": [
        {
         "code": ">>> assert boston_mediana_bin == 3\n",
         "hidden": false,
         "locked": false
        }
       ],
       "scored": true,
       "setup": "",
       "teardown": "",
       "type": "doctest"
      }
     ]
    },
    "q8": {
     "name": "q8",
     "points": 1,
     "suites": [
      {
       "cases": [
        {
         "code": ">>> assert histograma_columna_x == 3\n",
         "hidden": false,
         "locked": false
        }
       ],
       "scored": true,
       "setup": "",
       "teardown": "",
       "type": "doctest"
      }
     ]
    }
   }
  }
 },
 "nbformat": 4,
 "nbformat_minor": 5
}
