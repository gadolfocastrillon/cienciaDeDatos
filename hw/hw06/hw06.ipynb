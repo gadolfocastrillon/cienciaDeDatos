{
 "cells": [
  {
   "cell_type": "code",
   "execution_count": 5,
   "id": "b23bab60",
   "metadata": {
    "deletable": false,
    "editable": false
   },
   "outputs": [],
   "source": [
    "# Initialize Otter\n",
    "import otter\n",
    "grader = otter.Notebook(\"hw06.ipynb\")"
   ]
  },
  {
   "cell_type": "markdown",
   "id": "372d03e9",
   "metadata": {
    "deletable": true,
    "editable": true
   },
   "source": [
    "# Tarea 6: Probabilidad, Simulación, Estimación y Evaluación de Modelos\n",
    "\n",
    "Por favor, completa este notebook llenando las celdas proporcionadas. Antes de comenzar, ejecuta la celda anterior para cargar las pruebas proporcionadas."
   ]
  },
  {
   "cell_type": "markdown",
   "id": "966f560b-1dac-4161-aeaf-39ec63c18454",
   "metadata": {
    "deletable": false,
    "editable": false
   },
   "source": [
    "<!-- BEGIN QUESTION -->\n",
    "\n",
    "Ingrese su nombre en la siguiente celda:\n",
    "```python\n",
    "Nombre = \"Marie Curie\"\n",
    "Carnet =  \"27182818 \"\n",
    "```"
   ]
  },
  {
   "cell_type": "code",
   "execution_count": 6,
   "id": "b0766d87-f28f-40ea-83d9-42ff84d7cca3",
   "metadata": {
    "tags": []
   },
   "outputs": [],
   "source": [
    "Nombre = \"Gustavo Castrillón\"\n",
    "Carnet = \"6666666666\""
   ]
  },
  {
   "cell_type": "markdown",
   "id": "83c54f66",
   "metadata": {
    "deletable": false,
    "editable": false
   },
   "source": [
    "<!-- END QUESTION -->\n",
    "\n"
   ]
  },
  {
   "cell_type": "code",
   "execution_count": 7,
   "id": "792326de",
   "metadata": {
    "deletable": true,
    "editable": true
   },
   "outputs": [],
   "source": [
    "# Run this cell to set up the notebook, but please don't change it.\n",
    "# These lines import the Numpy and Datascience modules.\n",
    "import numpy as np\n",
    "from datascience import *\n",
    "\n",
    "# These lines do some fancy plotting magic.\n",
    "import matplotlib\n",
    "%matplotlib inline\n",
    "import matplotlib.pyplot as plt\n",
    "plt.style.use('fivethirtyeight')\n",
    "import warnings\n",
    "warnings.simplefilter('ignore', FutureWarning)"
   ]
  },
  {
   "cell_type": "markdown",
   "id": "039b75f5",
   "metadata": {
    "deletable": true,
    "editable": true
   },
   "source": [
    "**Recurso Útil:**\n",
    "- [Referencia de Python](http://data8.org/fa23/reference/): Hoja de trucos con métodos útiles de arrays y tablas utilizados en Data 8.\n",
    "\n",
    "**Lecturas Recomendadas**: \n",
    "* [Aleatoriedad](https://www.inferentialthinking.com/chapters/09/Randomness.html)\n",
    "* [Muestreo y Distribuciones Empíricas](https://www.inferentialthinking.com/chapters/10/Sampling_and_Empirical_Distributions.html)\n",
    "* [Pruebas de Hipótesis](https://www.inferentialthinking.com/chapters/11/Testing_Hypotheses.html)"
   ]
  },
  {
   "cell_type": "markdown",
   "id": "9048e695",
   "metadata": {
    "deletable": true,
    "editable": true
   },
   "source": [
    "Por favor, completa este notebook llenando las celdas proporcionadas. **Antes de comenzar, ejecuta la celda a continuación para configurar el notebook importando algunas librerías útiles.** Cada vez que inicies tu servidor, necesitarás ejecutar esta celda nuevamente.\n",
    "\n",
    "Para todos los problemas en los que debes escribir explicaciones y oraciones, **debes** proporcionar tu respuesta en el espacio designado. Además, a lo largo de esta tarea y futuras, **asegúrate de no reasignar variables en todo el notebook.** Por ejemplo, si utilizas `max_temperature` en tu respuesta a una pregunta, no la reasignes más adelante. De lo contrario, fallarás en pruebas que pensabas estar aprobando.\n",
    "\n"
   ]
  },
  {
   "cell_type": "markdown",
   "id": "f5f8e9e1",
   "metadata": {
    "deletable": true,
    "editable": true
   },
   "source": [
    "## 1. Ruleta\n",
    "\n",
    "Una ruleta  tiene 38 casillas y una pequeña bola que descansa sobre la rueda. Cuando la rueda gira, la bola se detiene en una de las 38 casillas. Esa casilla se declara ganadora.\n",
    "\n",
    "Las casillas están etiquetadas como 0, 00, 1, 2, 3, 4, ... , 36. Las casillas 0 y 00 son verdes, y las demás casillas se alternan entre rojo y negro. La tabla `wheel` representa una ruleta. **Nota que *ambas* columnas consisten en cadenas de texto.** A continuación, se muestra un ejemplo de una ruleta."
   ]
  },
  {
   "cell_type": "markdown",
   "id": "e53685d4",
   "metadata": {
    "deletable": true,
    "editable": true
   },
   "source": [
    "\n",
    "<img src=\"roulette_wheel.jpeg\" width=\"330px\">\n"
   ]
  },
  {
   "cell_type": "markdown",
   "id": "8ef01065",
   "metadata": {
    "deletable": true,
    "editable": true
   },
   "source": [
    "Ejecuta la celda a continuación para cargar la tabla `rueda`."
   ]
  },
  {
   "cell_type": "code",
   "execution_count": 4,
   "id": "f076ab6b",
   "metadata": {
    "deletable": true,
    "editable": true
   },
   "outputs": [
    {
     "data": {
      "text/html": [
       "<table border=\"1\" class=\"dataframe\">\n",
       "    <thead>\n",
       "        <tr>\n",
       "            <th>Pocket</th> <th>Color</th>\n",
       "        </tr>\n",
       "    </thead>\n",
       "    <tbody>\n",
       "        <tr>\n",
       "            <td>00    </td> <td>green</td>\n",
       "        </tr>\n",
       "        <tr>\n",
       "            <td>0     </td> <td>green</td>\n",
       "        </tr>\n",
       "        <tr>\n",
       "            <td>1     </td> <td>red  </td>\n",
       "        </tr>\n",
       "        <tr>\n",
       "            <td>2     </td> <td>black</td>\n",
       "        </tr>\n",
       "        <tr>\n",
       "            <td>3     </td> <td>red  </td>\n",
       "        </tr>\n",
       "        <tr>\n",
       "            <td>4     </td> <td>black</td>\n",
       "        </tr>\n",
       "        <tr>\n",
       "            <td>5     </td> <td>red  </td>\n",
       "        </tr>\n",
       "        <tr>\n",
       "            <td>6     </td> <td>black</td>\n",
       "        </tr>\n",
       "        <tr>\n",
       "            <td>7     </td> <td>red  </td>\n",
       "        </tr>\n",
       "        <tr>\n",
       "            <td>8     </td> <td>black</td>\n",
       "        </tr>\n",
       "    </tbody>\n",
       "</table>\n",
       "<p>... (28 rows omitted)</p>"
      ],
      "text/plain": [
       "Pocket | Color\n",
       "00     | green\n",
       "0      | green\n",
       "1      | red\n",
       "2      | black\n",
       "3      | red\n",
       "4      | black\n",
       "5      | red\n",
       "6      | black\n",
       "7      | red\n",
       "8      | black\n",
       "... (28 rows omitted)"
      ]
     },
     "execution_count": 4,
     "metadata": {},
     "output_type": "execute_result"
    }
   ],
   "source": [
    "wheel = Table.read_table('roulette_wheel.csv', dtype=str)\n",
    "wheel"
   ]
  },
  {
   "cell_type": "markdown",
   "id": "00b33f3c",
   "metadata": {
    "deletable": true,
    "editable": true
   },
   "source": [
    "### Apostando al Rojo ###\n",
    "\n",
    "Si apuestas al *rojo*, estás apostando a que la casilla ganadora será roja. Esta apuesta *paga 1 a 1*. Esto significa que si realizas una apuesta de un dólar al rojo, entonces:\n",
    "\n",
    "- Si la casilla ganadora es roja, ganas 1 dólar. Es decir, recuperas tu dólar original, más un dólar adicional.\n",
    "- Si la casilla ganadora no es roja, pierdes tu dólar. En otras palabras, ganas -1 dólar.\n",
    "\n",
    "Veamos si puedes ganar dinero apostando al rojo en la ruleta."
   ]
  },
  {
   "cell_type": "markdown",
   "id": "3e114856",
   "metadata": {
    "deletable": false,
    "editable": false
   },
   "source": [
    "**Pregunta 1.** Define una función llamada `apuesta_dolar_en_rojo` que tome el nombre de un color y devuelva tu ganancia en dólares si ese color hubiera ganado y hubieras apostado un dólar al rojo. Recuerda que la ganancia puede ser negativa. Asegúrate de que tu función devuelva un número entero. **(4 puntos)**\n",
    "\n",
    "*Nota:* Puedes asumir que los únicos colores que se pasarán como argumentos son rojo, negro y verde. Tu función no necesita verificar esto."
   ]
  },
  {
   "cell_type": "code",
   "execution_count": 8,
   "id": "7b8378ee-25d1-43bc-acc2-38bebf16c89a",
   "metadata": {
    "deletable": true,
    "editable": true,
    "tags": []
   },
   "outputs": [],
   "source": [
    "def apuesta_dolar_al_rojo(color):\n",
    "    if color == 'red':\n",
    "        return 1\n",
    "    else: \n",
    "        return -1"
   ]
  },
  {
   "cell_type": "markdown",
   "id": "12b9f473",
   "metadata": {
    "deletable": false,
    "editable": false
   },
   "source": [
    "Ejecuta la celda a continuación para asegurarte de que tu función está funcionando correctamente."
   ]
  },
  {
   "cell_type": "code",
   "execution_count": 9,
   "id": "61530eb9",
   "metadata": {
    "deletable": false,
    "editable": false
   },
   "outputs": [
    {
     "name": "stdout",
     "output_type": "stream",
     "text": [
      "-1\n",
      "-1\n",
      "1\n"
     ]
    }
   ],
   "source": [
    "print(apuesta_dolar_al_rojo('green'))\n",
    "print(apuesta_dolar_al_rojo('black'))\n",
    "print(apuesta_dolar_al_rojo('red'))"
   ]
  },
  {
   "cell_type": "code",
   "execution_count": 10,
   "id": "d9e5b5fe",
   "metadata": {
    "deletable": false,
    "editable": false
   },
   "outputs": [
    {
     "data": {
      "text/html": [
       "<p><strong><pre style='display: inline;'>q1</pre></strong> passed! 🚀</p>"
      ],
      "text/plain": [
       "q1 results: All test cases passed!"
      ]
     },
     "execution_count": 10,
     "metadata": {},
     "output_type": "execute_result"
    }
   ],
   "source": [
    "grader.check(\"q1\")"
   ]
  },
  {
   "cell_type": "markdown",
   "id": "2bdfea1d-b41a-4909-a55a-deca577159d7",
   "metadata": {
    "deletable": false,
    "editable": false
   },
   "source": [
    "**Pregunta 2.** Agrega una columna etiquetada como `win:Red` a la tabla `wheel`. Para cada casilla, la columna debe contener tu ganancia en dólares si esa casilla ganó y habías apostado un dólar al rojo. Tu código debe utilizar la función `apuesta_dolar_al_rojo`. **(4 puntos)**\n",
    "\n",
    "> *Pista:* No deberías necesitar un bucle `for` para esta pregunta; en su lugar, intenta usar un método de tabla."
   ]
  },
  {
   "cell_type": "code",
   "execution_count": 14,
   "id": "fa89ab62",
   "metadata": {
    "tags": []
   },
   "outputs": [
    {
     "data": {
      "text/html": [
       "<table border=\"1\" class=\"dataframe\">\n",
       "    <thead>\n",
       "        <tr>\n",
       "            <th>Pocket</th> <th>Color</th> <th>win:Red</th>\n",
       "        </tr>\n",
       "    </thead>\n",
       "    <tbody>\n",
       "        <tr>\n",
       "            <td>00    </td> <td>green</td> <td>-1     </td>\n",
       "        </tr>\n",
       "        <tr>\n",
       "            <td>0     </td> <td>green</td> <td>-1     </td>\n",
       "        </tr>\n",
       "        <tr>\n",
       "            <td>1     </td> <td>red  </td> <td>1      </td>\n",
       "        </tr>\n",
       "        <tr>\n",
       "            <td>2     </td> <td>black</td> <td>-1     </td>\n",
       "        </tr>\n",
       "        <tr>\n",
       "            <td>3     </td> <td>red  </td> <td>1      </td>\n",
       "        </tr>\n",
       "        <tr>\n",
       "            <td>4     </td> <td>black</td> <td>-1     </td>\n",
       "        </tr>\n",
       "        <tr>\n",
       "            <td>5     </td> <td>red  </td> <td>1      </td>\n",
       "        </tr>\n",
       "        <tr>\n",
       "            <td>6     </td> <td>black</td> <td>-1     </td>\n",
       "        </tr>\n",
       "        <tr>\n",
       "            <td>7     </td> <td>red  </td> <td>1      </td>\n",
       "        </tr>\n",
       "        <tr>\n",
       "            <td>8     </td> <td>black</td> <td>-1     </td>\n",
       "        </tr>\n",
       "    </tbody>\n",
       "</table>\n",
       "<p>... (28 rows omitted)</p>"
      ],
      "text/plain": [
       "Pocket | Color | win:Red\n",
       "00     | green | -1\n",
       "0      | green | -1\n",
       "1      | red   | 1\n",
       "2      | black | -1\n",
       "3      | red   | 1\n",
       "4      | black | -1\n",
       "5      | red   | 1\n",
       "6      | black | -1\n",
       "7      | red   | 1\n",
       "8      | black | -1\n",
       "... (28 rows omitted)"
      ]
     },
     "execution_count": 14,
     "metadata": {},
     "output_type": "execute_result"
    }
   ],
   "source": [
    "datos = wheel.apply(apuesta_dolar_al_rojo, 'Color')\n",
    "wheel = wheel.with_column('win:Red',datos)\n",
    "wheel"
   ]
  },
  {
   "cell_type": "code",
   "execution_count": 15,
   "id": "0f7c2f41",
   "metadata": {
    "deletable": false,
    "editable": false
   },
   "outputs": [
    {
     "data": {
      "text/html": [
       "<p><strong><pre style='display: inline;'>q2</pre></strong> passed! 🎉</p>"
      ],
      "text/plain": [
       "q2 results: All test cases passed!"
      ]
     },
     "execution_count": 15,
     "metadata": {},
     "output_type": "execute_result"
    }
   ],
   "source": [
    "grader.check(\"q2\")"
   ]
  },
  {
   "cell_type": "markdown",
   "id": "755848e5",
   "metadata": {
    "deletable": true,
    "editable": true
   },
   "source": [
    "### Simulando 10 Apuestas al Rojo\n",
    "\n",
    "Las ruedas de ruleta están diseñadas de tal manera que cada vez que se giran, la casilla ganadora tiene la misma probabilidad de ser cualquiera de las 38 casillas, independientemente de los resultados de todos los demás giros. Vamos a analizar lo que sucedería si decidimos apostar un dólar al rojo en cada ronda.\n"
   ]
  },
  {
   "cell_type": "markdown",
   "id": "aa21c611-88c3-4d75-991f-e8531cf1ba9a",
   "metadata": {
    "deletable": false,
    "editable": false
   },
   "source": [
    "\n",
    "**Pregunta 3.** Crea una tabla `diez_apuestas` tomando muestras de la tabla `ruleta` para simular 10 giros de la rueda de ruleta. Tu tabla debe tener las mismas tres etiquetas de columna que `ruleta`. Una vez que hayas creado esa tabla, configura `suma_apuestas` con tu ganancia neta en las 10 apuestas, asumiendo que apostaste un dólar al rojo en cada ocasión. **(4 puntos)**\n",
    "\n",
    "*Sugerencia:* Podría ser útil imprimir `diez_apuestas` después de crearla."
   ]
  },
  {
   "cell_type": "code",
   "execution_count": 19,
   "id": "623bcca5-7ad8-457c-a5f4-c20146219f92",
   "metadata": {
    "deletable": true,
    "editable": true,
    "tags": []
   },
   "outputs": [
    {
     "data": {
      "text/plain": [
       "(Pocket | Color | win:Red\n",
       " 7      | red   | 1\n",
       " 00     | green | -1\n",
       " 7      | red   | 1\n",
       " 2      | black | -1\n",
       " 33     | black | -1\n",
       " 17     | black | -1\n",
       " 33     | black | -1\n",
       " 24     | black | -1\n",
       " 32     | red   | 1\n",
       " 11     | black | -1,\n",
       " -4)"
      ]
     },
     "execution_count": 19,
     "metadata": {},
     "output_type": "execute_result"
    }
   ],
   "source": [
    "diez_apuestas = wheel.sample(10)\n",
    "suma_apuestas = diez_apuestas.column('win:Red').sum()\n",
    "diez_apuestas, suma_apuestas"
   ]
  },
  {
   "cell_type": "code",
   "execution_count": 22,
   "id": "4c0adb4f",
   "metadata": {
    "deletable": false,
    "editable": false
   },
   "outputs": [
    {
     "data": {
      "text/html": [
       "<p><strong><pre style='display: inline;'>q3</pre></strong> passed! 🚀</p>"
      ],
      "text/plain": [
       "q3 results: All test cases passed!"
      ]
     },
     "execution_count": 22,
     "metadata": {},
     "output_type": "execute_result"
    }
   ],
   "source": [
    "grader.check(\"q3\")"
   ]
  },
  {
   "cell_type": "markdown",
   "id": "748ed115",
   "metadata": {
    "deletable": true,
    "editable": true
   },
   "source": [
    "Ejecuta las celdas anteriores varias veces para observar cuánto dinero ganarías si realizaras 10 apuestas de un dólar al color rojo. Terminar con una cantidad negativa de dinero no es una buena sensación, pero es una realidad en el mundo de las apuestas. Los casinos son negocios, y obtienen ganancias cuando los apostadores pierden."
   ]
  },
  {
   "cell_type": "markdown",
   "id": "5d177653",
   "metadata": {
    "deletable": false,
    "editable": false
   },
   "source": [
    "**Pregunta 4.** Vamos a analizar qué sucedería si realizaras más apuestas. Define una función llamada `ganancia_neta_rojo` que tome como argumento el número de apuestas y devuelva la ganancia neta de realizar ese número de apuestas de un dólar en el color rojo. **(4 puntos)**\n",
    "\n",
    "*Pista:* Deberías utilizar tu tabla `ruleta` dentro de la función."
   ]
  },
  {
   "cell_type": "code",
   "execution_count": 25,
   "id": "fe812e32",
   "metadata": {
    "tags": []
   },
   "outputs": [],
   "source": [
    "def ganancia_neta_rojo(cantidad_apuestas):\n",
    "    ganancia = wheel.sample(cantidad_apuestas).column('win:Red').sum()\n",
    "    return ganancia"
   ]
  },
  {
   "cell_type": "code",
   "execution_count": 32,
   "id": "65505810-6fae-4fe9-9ade-b655b2bb10af",
   "metadata": {},
   "outputs": [
    {
     "data": {
      "text/plain": [
       "-22"
      ]
     },
     "execution_count": 32,
     "metadata": {},
     "output_type": "execute_result"
    }
   ],
   "source": [
    "ganancia_neta_rojo(1000)"
   ]
  },
  {
   "cell_type": "code",
   "execution_count": 26,
   "id": "cb5817a2",
   "metadata": {
    "deletable": false,
    "editable": false
   },
   "outputs": [
    {
     "data": {
      "text/html": [
       "<p><strong><pre style='display: inline;'>q4</pre></strong> passed! 🌈</p>"
      ],
      "text/plain": [
       "q4 results: All test cases passed!"
      ]
     },
     "execution_count": 26,
     "metadata": {},
     "output_type": "execute_result"
    }
   ],
   "source": [
    "grader.check(\"q4\")"
   ]
  },
  {
   "cell_type": "markdown",
   "id": "1dd3e1ae",
   "metadata": {
    "deletable": true,
    "editable": true
   },
   "source": [
    "Ejecuta la siguiente celda varias veces para asegurarte de que los resultados sean similares a los que observaste en el ejercicio anterior."
   ]
  },
  {
   "cell_type": "code",
   "execution_count": 38,
   "id": "09056402",
   "metadata": {
    "deletable": true,
    "editable": true
   },
   "outputs": [
    {
     "data": {
      "text/plain": [
       "4"
      ]
     },
     "execution_count": 38,
     "metadata": {},
     "output_type": "execute_result"
    }
   ],
   "source": [
    "ganancia_neta_rojo(10)"
   ]
  },
  {
   "cell_type": "markdown",
   "id": "c22b7d46",
   "metadata": {
    "deletable": false,
    "editable": false
   },
   "source": [
    "**Pregunta 5.** Completa la celda a continuación para simular la ganancia neta en 200 apuestas de un dólar al rojo, repitiendo el proceso 10,000 veces. Después de ejecutar la celda, `ganancias_simuladas_rojo` debería ser un arreglo con 10,000 entradas, cada una representando la ganancia neta en 200 apuestas de un dólar al rojo. **(4 puntos)**\n",
    "\n",
    "*Pista:* Piensa en qué herramienta computacional podría ser útil para simular un proceso múltiples veces. El laboratorio 5 podría ser un buen recurso para consultar.\n",
    "\n",
    "*Nota:* Esta celda podría tardar unos segundos en ejecutarse."
   ]
  },
  {
   "cell_type": "code",
   "execution_count": 41,
   "id": "5d48d787",
   "metadata": {
    "tags": []
   },
   "outputs": [],
   "source": [
    "\n",
    "ganancias_simuladas_rojo= [] \n",
    "for i in range(0, 10000,1):\n",
    "    ganancias_simuladas_rojo.append(ganancia_neta_rojo(200))\n",
    "\n",
    "#ganancias_simuladas_rojo"
   ]
  },
  {
   "cell_type": "code",
   "execution_count": 42,
   "id": "f48aba5b",
   "metadata": {
    "deletable": false,
    "editable": false
   },
   "outputs": [
    {
     "data": {
      "text/html": [
       "<p><strong><pre style='display: inline;'>q5</pre></strong> passed! 💯</p>"
      ],
      "text/plain": [
       "q5 results: All test cases passed!"
      ]
     },
     "execution_count": 42,
     "metadata": {},
     "output_type": "execute_result"
    }
   ],
   "source": [
    "grader.check(\"q5\")"
   ]
  },
  {
   "cell_type": "markdown",
   "id": "d71138c1",
   "metadata": {
    "deletable": true,
    "editable": true
   },
   "source": [
    "Ejecuta la celda a continuación para visualizar los resultados de tu simulación."
   ]
  },
  {
   "cell_type": "code",
   "execution_count": 43,
   "id": "d866519d",
   "metadata": {
    "deletable": true,
    "editable": true
   },
   "outputs": [
    {
     "data": {
      "image/png": "[encoded data removed]",
      "text/plain": [
       "<Figure size 600x400 with 1 Axes>"
      ]
     },
     "metadata": {},
     "output_type": "display_data"
    }
   ],
   "source": [
    "ganancias = Table().with_columns('Ganancias neta', ganancias_simuladas_rojo)\n",
    "ganancias.hist(bins = np.arange(-80, 41, 4))"
   ]
  },
  {
   "cell_type": "markdown",
   "id": "aef8c566",
   "metadata": {
    "deletable": false,
    "editable": false
   },
   "source": [
    "**Pregunta 6:** Usando el histograma anterior, decide si la siguiente afirmación es verdadera o falsa:\n",
    "\n",
    ">Si realizas 200 apuestas de un dólar al rojo, tu probabilidad de perder dinero es superior al 50%.\n",
    "\n",
    "Asigna `perder_mas_del_50` a `True` o `False` dependiendo de tu respuesta a la pregunta. **(2 puntos)**"
   ]
  },
  {
   "cell_type": "code",
   "execution_count": 44,
   "id": "cccf6b10",
   "metadata": {
    "tags": []
   },
   "outputs": [],
   "source": [
    "perder_mas_del_50=True"
   ]
  },
  {
   "cell_type": "code",
   "execution_count": 45,
   "id": "85b8a4db",
   "metadata": {
    "deletable": false,
    "editable": false
   },
   "outputs": [
    {
     "data": {
      "text/html": [
       "<p><strong><pre style='display: inline;'>q6</pre></strong> passed! 🌟</p>"
      ],
      "text/plain": [
       "q6 results: All test cases passed!"
      ]
     },
     "execution_count": 45,
     "metadata": {},
     "output_type": "execute_result"
    }
   ],
   "source": [
    "grader.check(\"q6\")"
   ]
  },
  {
   "cell_type": "markdown",
   "id": "f6740783",
   "metadata": {
    "deletable": false,
    "editable": false
   },
   "source": [
    "### Apostar a un Separador ###\n",
    "\n",
    "Si apostar al rojo no parece una buena idea, tal vez un apostador quiera intentar una apuesta diferente. Una apuesta a un *separador* es una apuesta a dos números consecutivos, como el 5 y el 6. Esta apuesta paga 17 a 1. Eso significa que si haces una apuesta de un dólar al separador 5 y 6, entonces:\n",
    "\n",
    "- Si la casilla ganadora es el 5 o el 6, tu ganancia es de 17 dólares.\n",
    "- Si cualquier otra casilla gana, pierdes tu dólar, así que tu ganancia es de -1 dólares.\n",
    "\n",
    "**Pregunta 7.** Define una función `apostar_en_separador` que reciba un número de casilla y devuelva tu ganancia en dólares si esa casilla ganó y habías apostado un dólar al separador 5-6. **(4 puntos)**\n",
    "\n",
    "*Pista:* Recuerda que los números de las casillas están representados como cadenas."
   ]
  },
  {
   "cell_type": "code",
   "execution_count": 48,
   "id": "393a1eda",
   "metadata": {
    "tags": []
   },
   "outputs": [],
   "source": [
    "def apostar_en_separador(casilla):\n",
    "    if (casilla == '5') or (casilla == '6'): \n",
    "        return 17\n",
    "    else: \n",
    "        return -1"
   ]
  },
  {
   "cell_type": "code",
   "execution_count": 49,
   "id": "00af3aed",
   "metadata": {
    "deletable": false,
    "editable": false
   },
   "outputs": [
    {
     "data": {
      "text/html": [
       "<p><strong><pre style='display: inline;'>q7</pre></strong> passed! 🎉</p>"
      ],
      "text/plain": [
       "q7 results: All test cases passed!"
      ]
     },
     "execution_count": 49,
     "metadata": {},
     "output_type": "execute_result"
    }
   ],
   "source": [
    "grader.check(\"q7\")"
   ]
  },
  {
   "cell_type": "markdown",
   "id": "bcf70ae3",
   "metadata": {
    "deletable": true,
    "editable": true
   },
   "source": [
    "Ejecute la celda a continuación para verificar que su función esté realizando la tarea correctamente."
   ]
  },
  {
   "cell_type": "code",
   "execution_count": 50,
   "id": "7dd51a80",
   "metadata": {
    "deletable": true,
    "editable": true
   },
   "outputs": [
    {
     "name": "stdout",
     "output_type": "stream",
     "text": [
      "17\n",
      "17\n",
      "-1\n",
      "-1\n"
     ]
    }
   ],
   "source": [
    "print(apostar_en_separador('5'))\n",
    "print(apostar_en_separador('6'))\n",
    "print(apostar_en_separador('00'))\n",
    "print(apostar_en_separador('23'))"
   ]
  },
  {
   "cell_type": "markdown",
   "id": "03f8f016",
   "metadata": {
    "deletable": false,
    "editable": false
   },
   "source": [
    "**Pregunta 8.** Añade una columna llamada `Winnings: Split` a la tabla `wheel`. Para cada casilla, la columna debe contener tus ganancias en dólares si esa casilla ganara y hubieras apostado un dólar en la división 5-6. **(4 puntos)**"
   ]
  },
  {
   "cell_type": "code",
   "execution_count": 52,
   "id": "5776e61f-8cb7-43a6-9d9d-64893ae565f5",
   "metadata": {},
   "outputs": [],
   "source": [
    "wheel = wheel.with_column('Winnigs: Split', wheel.apply(apostar_en_separador,'Pocket'))"
   ]
  },
  {
   "cell_type": "code",
   "execution_count": 53,
   "id": "1ef17d6c-27a3-4741-965a-32ba80cba958",
   "metadata": {
    "deletable": false,
    "editable": false
   },
   "outputs": [
    {
     "data": {
      "text/html": [
       "<table border=\"1\" class=\"dataframe\">\n",
       "    <thead>\n",
       "        <tr>\n",
       "            <th>Pocket</th> <th>Color</th> <th>win:Red</th> <th>Winnigs: Split</th>\n",
       "        </tr>\n",
       "    </thead>\n",
       "    <tbody>\n",
       "        <tr>\n",
       "            <td>00    </td> <td>green</td> <td>-1     </td> <td>-1            </td>\n",
       "        </tr>\n",
       "        <tr>\n",
       "            <td>0     </td> <td>green</td> <td>-1     </td> <td>-1            </td>\n",
       "        </tr>\n",
       "        <tr>\n",
       "            <td>1     </td> <td>red  </td> <td>1      </td> <td>-1            </td>\n",
       "        </tr>\n",
       "        <tr>\n",
       "            <td>2     </td> <td>black</td> <td>-1     </td> <td>-1            </td>\n",
       "        </tr>\n",
       "        <tr>\n",
       "            <td>3     </td> <td>red  </td> <td>1      </td> <td>-1            </td>\n",
       "        </tr>\n",
       "        <tr>\n",
       "            <td>4     </td> <td>black</td> <td>-1     </td> <td>-1            </td>\n",
       "        </tr>\n",
       "        <tr>\n",
       "            <td>5     </td> <td>red  </td> <td>1      </td> <td>17            </td>\n",
       "        </tr>\n",
       "        <tr>\n",
       "            <td>6     </td> <td>black</td> <td>-1     </td> <td>17            </td>\n",
       "        </tr>\n",
       "        <tr>\n",
       "            <td>7     </td> <td>red  </td> <td>1      </td> <td>-1            </td>\n",
       "        </tr>\n",
       "        <tr>\n",
       "            <td>8     </td> <td>black</td> <td>-1     </td> <td>-1            </td>\n",
       "        </tr>\n",
       "    </tbody>\n",
       "</table>\n",
       "<p>... (28 rows omitted)</p>"
      ],
      "text/plain": [
       "Pocket | Color | win:Red | Winnigs: Split\n",
       "00     | green | -1      | -1\n",
       "0      | green | -1      | -1\n",
       "1      | red   | 1       | -1\n",
       "2      | black | -1      | -1\n",
       "3      | red   | 1       | -1\n",
       "4      | black | -1      | -1\n",
       "5      | red   | 1       | 17\n",
       "6      | black | -1      | 17\n",
       "7      | red   | 1       | -1\n",
       "8      | black | -1      | -1\n",
       "... (28 rows omitted)"
      ]
     },
     "execution_count": 53,
     "metadata": {},
     "output_type": "execute_result"
    }
   ],
   "source": [
    "wheel"
   ]
  },
  {
   "cell_type": "code",
   "execution_count": null,
   "id": "5e3fd02d-c499-4813-9508-8cc768e595a5",
   "metadata": {
    "deletable": false,
    "editable": false
   },
   "outputs": [],
   "source": []
  },
  {
   "cell_type": "code",
   "execution_count": 54,
   "id": "d30b542e",
   "metadata": {
    "deletable": false,
    "editable": false
   },
   "outputs": [
    {
     "data": {
      "text/html": [
       "<p><strong><pre style='display: inline;'>q8</pre></strong> passed! ✨</p>"
      ],
      "text/plain": [
       "q8 results: All test cases passed!"
      ]
     },
     "execution_count": 54,
     "metadata": {},
     "output_type": "execute_result"
    }
   ],
   "source": [
    "grader.check(\"q8\")"
   ]
  },
  {
   "cell_type": "markdown",
   "id": "3f75fd0f",
   "metadata": {
    "deletable": false,
    "editable": false
   },
   "source": [
    "**Pregunta 9.** Simula la ganancia neta de 200 apuestas de un dólar en la división 5-6, repitiendo el proceso 10,000 veces y guardando tus ganancias en el arreglo `simulated_gains_split`. **(5 puntos)**\n",
    "\n",
    "*Sugerencia:* ¡Tu código en las Preguntas 4 y 5 puede ser útil aquí!"
   ]
  },
  {
   "cell_type": "code",
   "execution_count": 62,
   "id": "0de01a3c",
   "metadata": {
    "tags": []
   },
   "outputs": [
    {
     "data": {
      "text/plain": [
       "array([-92., -92.,  -2., ..., -74.,  -2., -74.])"
      ]
     },
     "execution_count": 62,
     "metadata": {},
     "output_type": "execute_result"
    }
   ],
   "source": [
    "def simulacion_ganancias(N):\n",
    "    ganancia = wheel.sample(N).column('Winnigs: Split').sum()\n",
    "    return ganancia\n",
    "    \n",
    "trials = 10000\n",
    "simulando_ganancias_neta = []\n",
    "for _ in range(trials):\n",
    "    simulando_ganancias_neta = np.append(simulando_ganancias_neta,simulacion_ganancias(200))\n",
    "simulando_ganancias_neta"
   ]
  },
  {
   "cell_type": "code",
   "execution_count": 64,
   "id": "54c52868-9771-4e4e-9e26-06a1253a8900",
   "metadata": {},
   "outputs": [
    {
     "data": {
      "text/plain": [
       "88"
      ]
     },
     "execution_count": 64,
     "metadata": {},
     "output_type": "execute_result"
    }
   ],
   "source": [
    "simulacion_ganancias(200)"
   ]
  },
  {
   "cell_type": "code",
   "execution_count": 63,
   "id": "017c7a05",
   "metadata": {
    "deletable": false,
    "editable": false
   },
   "outputs": [
    {
     "data": {
      "text/html": [
       "<p><strong><pre style='display: inline;'>q9</pre></strong> passed! 🌟</p>"
      ],
      "text/plain": [
       "q9 results: All test cases passed!"
      ]
     },
     "execution_count": 63,
     "metadata": {},
     "output_type": "execute_result"
    }
   ],
   "source": [
    "grader.check(\"q9\")"
   ]
  },
  {
   "cell_type": "code",
   "execution_count": 65,
   "id": "230ebbc2",
   "metadata": {
    "deletable": true,
    "editable": true,
    "tags": []
   },
   "outputs": [
    {
     "data": {
      "image/png": "[encoded data removed]",
      "text/plain": [
       "<Figure size 600x400 with 1 Axes>"
      ]
     },
     "metadata": {},
     "output_type": "display_data"
    }
   ],
   "source": [
    "ganancias = Table().with_columns('Ganancias Neta', simulando_ganancias_neta)\n",
    "ganancias.hist(bins = np.arange(-200, 150, 20))"
   ]
  },
  {
   "cell_type": "markdown",
   "id": "00a78b8f",
   "metadata": {
    "deletable": false,
    "editable": false
   },
   "source": [
    "**Pregunta 10.** Observa detenidamente la visualización anterior y asigna `histogram_statements` a un arreglo con los números de cada una de las afirmaciones a continuación que se pueden inferir correctamente del histograma superpuesto. **(2 puntos)**\n",
    "\n",
    "1. Si apuestas un dólar 200 veces en un número dividido ('5'-'6'), tu probabilidad de perder dinero es más del 50%.\n",
    "2. Si apuestas un dólar 200 veces en la ruleta, tu probabilidad de ganar más de 50 dólares es mayor, si apuestas a un número dividido cada vez, que si apuestas al rojo cada vez.\n",
    "3. Si apuestas un dólar 200 veces en la ruleta, tu probabilidad de perder más de 50 dólares es mayor, si apuestas a un número dividido cada vez, que si apuestas al rojo cada vez.\n",
    "\n",
    "*Pista:* Ya hemos visto una de estas afirmaciones en una pregunta anterior."
   ]
  },
  {
   "cell_type": "code",
   "execution_count": 72,
   "id": "d18fe049",
   "metadata": {
    "tags": []
   },
   "outputs": [],
   "source": [
    "histogram_statements=make_array(1,2)"
   ]
  },
  {
   "cell_type": "code",
   "execution_count": 78,
   "id": "cdbc4091",
   "metadata": {
    "deletable": false,
    "editable": false
   },
   "outputs": [
    {
     "data": {
      "text/html": [
       "<p><strong><pre style='display: inline;'>q10</pre></strong> passed! ✨</p>"
      ],
      "text/plain": [
       "q10 results: All test cases passed!"
      ]
     },
     "execution_count": 78,
     "metadata": {},
     "output_type": "execute_result"
    }
   ],
   "source": [
    "grader.check(\"q10\")"
   ]
  },
  {
   "cell_type": "markdown",
   "id": "729ba408",
   "metadata": {
    "deletable": true,
    "editable": true
   },
   "source": [
    "Si este ejercicio te ha desmotivado para jugar a la ruleta, ha cumplido su objetivo. Si aún sientes curiosidad por otras apuestas, [aquí](https://es.wikipedia.org/wiki/Ruleta#Tabla_de_odds_de_apuestas) puedes encontrarlas, y [aquí](https://es.wikipedia.org/wiki/Ruleta#Ventaja_de_la_casa) está la mala noticia. La casa – es decir, el casino – siempre tiene ventaja sobre el jugador."
   ]
  },
  {
   "cell_type": "markdown",
   "id": "8d2d1526",
   "metadata": {
    "deletable": true,
    "editable": true
   },
   "source": [
    "## 2. Oportunidades\n"
   ]
  },
  {
   "cell_type": "markdown",
   "id": "3d8236d7",
   "metadata": {
    "deletable": true,
    "editable": true
   },
   "source": [
    "Antes de realizar este ejercicio, asegúrate de comprender la lógica detrás de todos los ejemplos en [Sección 9.5](https://inferentialthinking.com/chapters/09/5/Finding_Probabilities.html).\n",
    "\n",
    "Buenas estrategias para abordar cálculos de probabilidad incluyen:\n",
    "\n",
    "- Pensar en un ensayo a la vez: ¿Qué debe ser el primero? ¿Y después qué debe ser el siguiente?\n",
    "- Dividir el evento en maneras distintas en las que puede ocurrir.\n",
    "- Ver si es más fácil encontrar la probabilidad de que el evento no ocurra."
   ]
  },
  {
   "cell_type": "markdown",
   "id": "a16ea078",
   "metadata": {
    "deletable": true,
    "editable": true
   },
   "source": [
    "### Encontrando Probabilidades\n",
    "\n",
    "En cada giro de una rueda de ruleta, los 38 casilleros tienen la misma probabilidad de resultar ganadores, independientemente de los resultados de otros giros. De los 38 casilleros, 18 son rojos, 18 son negros y 2 son verdes. En cada parte a continuación, escribe una expresión que evalúe la probabilidad del evento descrito."
   ]
  },
  {
   "cell_type": "markdown",
   "id": "8c7febee",
   "metadata": {
    "deletable": false,
    "editable": false
   },
   "source": [
    "**Pregunta 1.** ¿Cuál es la probabilidad de que el casillero ganador sea negro en cada uno de los tres primeros giros consecutivos? **(3 puntos)**\n",
    "\n",
    "Piensa en : \n",
    "- ¿Cuál es la probabilidad de que un solo giro dé como resultado un casillero negro?, Pista: hay 18 casilleros negros de un total de 38. ¿cómo puedes combinar las probabilidades de que cada uno de los tres giros dé negro?\n",
    "\n",
    "\n"
   ]
  },
  {
   "cell_type": "code",
   "execution_count": 76,
   "id": "1ed8ca81",
   "metadata": {
    "tags": []
   },
   "outputs": [],
   "source": [
    "primeros_casilleros_negros = (18/38)**3"
   ]
  },
  {
   "cell_type": "code",
   "execution_count": 77,
   "id": "88b0f01d",
   "metadata": {
    "deletable": false,
    "editable": false
   },
   "outputs": [
    {
     "data": {
      "text/html": [
       "<p><strong><pre style='display: inline;'>q10</pre></strong> passed! 🍀</p>"
      ],
      "text/plain": [
       "q10 results: All test cases passed!"
      ]
     },
     "execution_count": 77,
     "metadata": {},
     "output_type": "execute_result"
    }
   ],
   "source": [
    "grader.check(\"q10\")"
   ]
  },
  {
   "cell_type": "markdown",
   "id": "51f094c2",
   "metadata": {
    "deletable": false,
    "editable": false
   },
   "source": [
    "\n",
    "**Pregunta 2.** ¿Cuál es la probabilidad de que **ninguno** de los primeros 10 giros de una ruleta tenga como resultado un casillero verde? **(3 puntos)**\n",
    "\n",
    "Piensa en:  \n",
    "- ¿Cuántos casilleros **no verdes** hay en la ruleta? Pista: de los 38 casilleros, 2 son verdes.  \n",
    "- ¿Cuál es la probabilidad de que un solo giro **no sea verde**?  \n",
    "- Si los giros son independientes entre sí, ¿cómo puedes combinar las probabilidades de que ninguno de los 10 resulte verde?\n",
    "\n"
   ]
  },
  {
   "cell_type": "code",
   "execution_count": null,
   "id": "9d05dc36",
   "metadata": {
    "tags": []
   },
   "outputs": [],
   "source": [
    "prob_no_verde_10_giros=...\n"
   ]
  },
  {
   "cell_type": "code",
   "execution_count": null,
   "id": "4948beb9",
   "metadata": {
    "deletable": false,
    "editable": false
   },
   "outputs": [],
   "source": [
    "grader.check(\"q11\")"
   ]
  },
  {
   "cell_type": "markdown",
   "id": "44663ce0",
   "metadata": {
    "deletable": false,
    "editable": false
   },
   "source": [
    "**Pregunta 3.** ¿Cuál es la probabilidad de que el casillero verde gane **al menos una vez** durante los primeros 10 giros de la ruleta? **(3 puntos)**\n",
    "\n",
    "Piensa en:  \n",
    "- ¿Qué significa “al menos una vez”? ¿Cómo puedes reformular ese evento usando su complemento (es decir, que **nunca** salga verde)?  \n",
    "- Ya sabes calcular la probabilidad de que ningún giro resulte verde. ¿Cómo puedes usar esa información para obtener la probabilidad de que **sí** ocurra al menos una vez?\n"
   ]
  },
  {
   "cell_type": "code",
   "execution_count": null,
   "id": "3ae750b2",
   "metadata": {
    "tags": []
   },
   "outputs": [],
   "source": [
    "p_verde_al_menos_una = ..."
   ]
  },
  {
   "cell_type": "code",
   "execution_count": null,
   "id": "544ff73c",
   "metadata": {
    "deletable": false,
    "editable": false
   },
   "outputs": [],
   "source": [
    "grader.check(\"q12\")"
   ]
  },
  {
   "cell_type": "markdown",
   "id": "7f80d08e",
   "metadata": {
    "deletable": false,
    "editable": false
   },
   "source": [
    "**Pregunta 4.** ¿Cuál es la probabilidad de que, en los primeros 10 giros de la ruleta, **solo uno de los tres colores** (rojo, negro o verde) gane en todas las vueltas? Es decir, que **dos de los tres colores nunca ganen**. **(3 puntos)**\n",
    "\n",
    "Piensa en:  \n",
    "- ¿Qué significa que dos colores nunca ganen?  \n",
    "  Pista: implica que los 10 resultados pertenecen únicamente a un mismo color.  \n",
    "- ¿Cuántas maneras hay de que esto ocurra? ¿Qué probabilidades corresponden a obtener 10 veces seguidas rojo, negro o verde?  \n",
    "- ¿Cómo puedes combinar estos casos, si son mutuamente excluyentes?\n",
    "\n"
   ]
  },
  {
   "cell_type": "code",
   "execution_count": null,
   "id": "f4c6e689",
   "metadata": {
    "tags": []
   },
   "outputs": [],
   "source": [
    "p_solo_un_color=...\n"
   ]
  },
  {
   "cell_type": "code",
   "execution_count": null,
   "id": "f9b9e01a",
   "metadata": {
    "deletable": false,
    "editable": false
   },
   "outputs": [],
   "source": [
    "grader.check(\"q13\")"
   ]
  },
  {
   "cell_type": "markdown",
   "id": "38505b97",
   "metadata": {
    "deletable": true,
    "editable": true
   },
   "source": [
    "### Comparando Probabilidades\n",
    "\n",
    "En cada una de las Preguntas 5-7, se describen dos eventos A y B. Elige una de las siguientes tres opciones y establece cada variable de respuesta a un solo número entero:\n",
    "\n",
    "1. El evento A es más probable que el evento B.\n",
    "2. El evento B es más probable que el evento A.\n",
    "3. Ambos eventos tienen la misma probabilidad.\n",
    "\n",
    "Deberías poder tomar las decisiones **sin realizar cálculos**. Buenos enfoques para este ejercicio incluyen imaginar que realizas los experimentos de probabilidad tú mismo, un ensayo a la vez, y pensar sobre la [ley de los promedios](https://inferentialthinking.com/chapters/10/1/Empirical_Distributions.html#the-law-of-averages)."
   ]
  },
  {
   "cell_type": "markdown",
   "id": "9d37a301",
   "metadata": {
    "deletable": false,
    "editable": false
   },
   "source": [
    "**Pregunta 5. Verdadero o Falso**\n",
    "\n",
    "Un niño elige al azar cuatro veces de una caja que contiene cuatro animales de juguete: un oso, un elefante, una jirafa y un canguro.\n",
    "\n",
    "**Enunciado:**  \n",
    "Es más probable que el niño obtenga los cuatro animales diferentes si selecciona **sin reemplazo** que si selecciona **con reemplazo**.\n",
    "\n",
    "Asigna a la variable escogencia_5 True o False segun sea tu respuesta"
   ]
  },
  {
   "cell_type": "code",
   "execution_count": null,
   "id": "f5da4182",
   "metadata": {
    "tags": []
   },
   "outputs": [],
   "source": [
    "escogencia_5=...\n"
   ]
  },
  {
   "cell_type": "code",
   "execution_count": null,
   "id": "db387cdc",
   "metadata": {
    "deletable": false,
    "editable": false
   },
   "outputs": [],
   "source": [
    "grader.check(\"q14\")"
   ]
  },
  {
   "cell_type": "markdown",
   "id": "131cfdc8",
   "metadata": {
    "deletable": false,
    "editable": false
   },
   "source": [
    "**Pregunta 6. Verdadero o Falso (2 puntos)**\n",
    "\n",
    "En una lotería, se extraen al azar dos números **con reemplazo** de los enteros del 1 al 1000.\n",
    "\n",
    "\n",
    "Es más probable que el número **8** sea seleccionado en ambas extracciones que obtener **el mismo número cualquiera** en ambas extracciones.\n",
    "\n",
    "Asigna a la variable `escogencia_6` **True** o **False** \n"
   ]
  },
  {
   "cell_type": "code",
   "execution_count": null,
   "id": "fef4ef7a",
   "metadata": {
    "tags": []
   },
   "outputs": [],
   "source": [
    "escogencia_6=...\n"
   ]
  },
  {
   "cell_type": "code",
   "execution_count": null,
   "id": "6948b914",
   "metadata": {
    "deletable": false,
    "editable": false
   },
   "outputs": [],
   "source": [
    "grader.check(\"q15\")"
   ]
  },
  {
   "cell_type": "markdown",
   "id": "d13438d0",
   "metadata": {
    "deletable": false,
    "editable": false
   },
   "source": [
    "**Pregunta 7. Verdadero o Falso **\n",
    "\n",
    "Se lanza una moneda justa repetidamente.\n",
    "\n",
    "**Enunciado:**  \n",
    "Es más probable obtener **60 o más caras en 100 lanzamientos** que obtener **600 o más caras en 1000 lanzamientos**.\n",
    "\n",
    "Asigna a la variable `escogencia` **True** o **False** según sea tu respuesta.\n"
   ]
  },
  {
   "cell_type": "code",
   "execution_count": null,
   "id": "ef199c60",
   "metadata": {
    "tags": []
   },
   "outputs": [],
   "source": [
    "escogencia_7=...\n"
   ]
  },
  {
   "cell_type": "code",
   "execution_count": null,
   "id": "323232b7",
   "metadata": {
    "deletable": false,
    "editable": false
   },
   "outputs": [],
   "source": [
    "grader.check(\"q16\")"
   ]
  },
  {
   "cell_type": "markdown",
   "id": "ac47041f",
   "metadata": {
    "deletable": true,
    "editable": true
   },
   "source": [
    "## 3. Tres maneras en que Python genera muestras aleatorias\n",
    "\n",
    "En esta sección, discutiremos tres métodos diferentes que Python ofrece para generar muestras aleatorias. Esta capacidad es extremadamente útil en el análisis de datos y estadísticas, permitiéndonos trabajar con conjuntos de datos más manejables, realizar simulaciones y garantizar la imparcialidad en experimentos. Utilizando las funciones adecuadas, podemos asegurarnos de que las muestras tengan las características y tamaño deseados. Exploraremos cada método y proporcionaremos ejemplos prácticos para comprender su uso y aplicación en situaciones del mundo real."
   ]
  },
  {
   "cell_type": "markdown",
   "id": "c645e4de",
   "metadata": {
    "deletable": true,
    "editable": true
   },
   "source": [
    "Has aprendido tres formas de extraer muestras aleatorias utilizando Python:\n",
    "\n",
    "- `tbl.sample` extrae una muestra aleatoria de filas de la tabla `tbl`. El resultado es una tabla que consta de las filas seleccionadas.\n",
    "\n",
    "- `np.random.choice` extrae una muestra aleatoria de una población cuyos elementos están en un arreglo. El resultado es un arreglo que contiene los elementos seleccionados.\n",
    "\n",
    "- `sample_proportions` extrae de una distribución categórica cuyas proporciones están en un arreglo. El resultado es un arreglo que contiene las proporciones seleccionadas en todas las categorías."
   ]
  },
  {
   "cell_type": "code",
   "execution_count": null,
   "id": "4fa066fd",
   "metadata": {
    "deletable": true,
    "editable": true
   },
   "outputs": [],
   "source": [
    "# Revisa este código y ejecuta esta celda para las preguntas 1 y 2\n",
    "# Cargar los datos y seleccionar columnas relevantes\n",
    "peliculas_top = Table.read_table('top_movies_2017.csv').select(0, 1)\n",
    "peliculas_top.show(3)"
   ]
  },
  {
   "cell_type": "code",
   "execution_count": null,
   "id": "dd8312d0",
   "metadata": {
    "deletable": true,
    "editable": true
   },
   "outputs": [],
   "source": [
    "\n",
    "# Agrupar por estudio y ordenar por cantidad de películas\n",
    "estudios_con_cantidad = peliculas_top.group('Studio').sort('count', descending=True)\n",
    "estudios_con_cantidad.show(3)\n"
   ]
  },
  {
   "cell_type": "code",
   "execution_count": null,
   "id": "95645867",
   "metadata": {
    "deletable": true,
    "editable": true
   },
   "outputs": [],
   "source": [
    "\n",
    "# Extraer las columnas de estudios\n",
    "estudios_de_todas_las_peliculas = peliculas_top.column('Studio')\n",
    "estudios_distintos = estudios_con_cantidad.column('Studio')\n"
   ]
  },
  {
   "cell_type": "code",
   "execution_count": null,
   "id": "1d86c884-1b42-41bb-8946-bb9c44448002",
   "metadata": {},
   "outputs": [],
   "source": [
    "print(\"estudios_de_todas_las_peliculas:\", estudios_de_todas_las_peliculas[:10], \"...\")\n",
    "print(\"\\nestudios_distintos:\", estudios_distintos)\n"
   ]
  },
  {
   "cell_type": "code",
   "execution_count": null,
   "id": "530b3aca-e5f5-4688-af5c-b825263ab966",
   "metadata": {},
   "outputs": [],
   "source": [
    "\n",
    "# Extraer solo los conteos y calcular proporciones de películas por estudio\n",
    "cantidades_solo = estudios_con_cantidad.column('count')\n",
    "proporciones_solo = cantidades_solo / sum(cantidades_solo)\n",
    "\n",
    "print(\"cantidades_solo:\", cantidades_solo)\n",
    "print(\"\\nproporciones_solo:\", proporciones_solo)\n"
   ]
  },
  {
   "cell_type": "markdown",
   "id": "369f99f0",
   "metadata": {
    "deletable": true,
    "editable": true
   },
   "source": [
    "En las Preguntas 1 y 2 se presentará un escenario. Para cada uno, deberás responder si el resultado deseado puede lograrse utilizando una función dada y alguno de los siguientes arreglos o tablas: `peliculas_top`, `estudios_con_cantidad`, `estudios_de_todas_las_peliculas`, `estudios_distintos`, `cantidades_solo` y `proporciones_solo`.\n",
    "\n",
    "_Nota: **No** expliques tu respuesta; simplemente responde sí o no y escribe el nombre del arreglo o tabla correspondiente._\n"
   ]
  },
  {
   "cell_type": "markdown",
   "id": "b8484dcc",
   "metadata": {
    "deletable": true,
    "editable": true
   },
   "source": [
    "**Pregunta 1.** Simula una muestra de 10 películas seleccionadas al azar con reemplazo a partir de un total de 200 películas. Usando únicamente esta muestra, ¿tenemos suficiente información para determinar si Paramount aparece más veces que Warner Brothers entre los estudios de las películas seleccionadas? \n",
    "\n",
    "\n",
    "***Nota:*** No expliques tu respuesta para ninguna de las opciones que elijas; por favor, sigue únicamente el formato del ejemplo dado.\n",
    "\n",
    "*Ejemplo de respuesta:* Sí, sobre `peliculas_top`.\n"
   ]
  },
  {
   "cell_type": "markdown",
   "id": "9f192be6-d5a7-4221-8aa7-cd65c41c8776",
   "metadata": {},
   "source": [
    "\"Escribe tu respuesta aqui\""
   ]
  },
  {
   "cell_type": "markdown",
   "id": "2fb85f64-fed5-465f-aecd-61412f87dc23",
   "metadata": {},
   "source": [
    "**Pregunta 1(a).** ¿Es posible realizar esto utilizando la función `sample`? Si es así, ¿sobre qué tabla aplicaríamos `sample`? **(1 punto)**\n",
    "\n"
   ]
  },
  {
   "cell_type": "markdown",
   "id": "65249e95-65c3-46a3-bd80-427d30f188c6",
   "metadata": {},
   "source": [
    "\"Escribe tu respuesta aqui\""
   ]
  },
  {
   "cell_type": "markdown",
   "id": "8f99b254",
   "metadata": {
    "deletable": true,
    "editable": true
   },
   "source": [
    "**Pregunta 1(b).** ¿Es posible hacer esto usando la función `np.random.choice`? Si es así, ¿sobre qué arreglo aplicaríamos `np.random.choice`? **(1 punto)**\n",
    "\n"
   ]
  },
  {
   "cell_type": "markdown",
   "id": "f1dbe76a-c484-471b-8f8f-83b3028db4e0",
   "metadata": {},
   "source": [
    "\"Escribe tu respuesta aqui\""
   ]
  },
  {
   "cell_type": "markdown",
   "id": "5cae8cb0",
   "metadata": {
    "deletable": true,
    "editable": true
   },
   "source": [
    "**Pregunta 1(c).** ¿Se puede hacer esto usando la función `sample_proportions`? Si es así, ¿sobre qué arreglo llamaríamos a `sample_proportions`? **(1 punto)**\n",
    "\n",
    "\n"
   ]
  },
  {
   "cell_type": "markdown",
   "id": "5669afa3-71a1-46fc-8e17-c22d1353941a",
   "metadata": {},
   "source": [
    "\"Escribe tu respuesta aqui\""
   ]
  },
  {
   "cell_type": "markdown",
   "id": "69f6988b",
   "metadata": {
    "deletable": true,
    "editable": true
   },
   "source": [
    "**Pregunta 2.** Simula una muestra de 10 películas seleccionadas al azar con reemplazo a partir de un total de 200 películas. Usando únicamente esta muestra, ¿tienes suficiente información para determinar si la primera película seleccionada fue lanzada por el mismo estudio que la última película seleccionada? \n",
    "\n",
    "***Nota:*** No expliques tu respuesta para ninguna de las opciones que elijas; por favor, sigue únicamente el formato del ejemplo proporcionado.\n"
   ]
  },
  {
   "cell_type": "markdown",
   "id": "614d3cae",
   "metadata": {
    "deletable": true,
    "editable": true
   },
   "source": [
    "**Pregunta 2(a).** ¿Es posible hacer esto utilizando la función `sample`? Si es así, ¿sobre qué tabla aplicaríamos `sample`? **(1 punto)**\n",
    "\n"
   ]
  },
  {
   "cell_type": "markdown",
   "id": "21fee9dd-310c-4569-acc6-d09d3efa49c6",
   "metadata": {},
   "source": [
    "\"Escribe tu respuesta aqui\""
   ]
  },
  {
   "cell_type": "markdown",
   "id": "b5905935",
   "metadata": {
    "deletable": true,
    "editable": true
   },
   "source": [
    "<!-- END QUESTION -->\n",
    "\n",
    "<!-- BEGIN QUESTION -->\n",
    "\n",
    "**Pregunta 2(b)** ¿Es posible realizar esto usando la función `np.random.choice`? Si es así, ¿sobre qué array aplicaríamos `np.random.choice`? **(1 punto)**"
   ]
  },
  {
   "cell_type": "markdown",
   "id": "4d1714da-748c-481c-93ff-a71651cf6d27",
   "metadata": {},
   "source": [
    "\"Escribe tu respuesta aqui\""
   ]
  },
  {
   "cell_type": "markdown",
   "id": "2ff8a893",
   "metadata": {
    "deletable": true,
    "editable": true
   },
   "source": [
    "<!-- FIN DE LA PREGUNTA -->\n",
    "\n",
    "<!-- INICIO DE LA PREGUNTA -->\n",
    "\n",
    "**Pregunta 2(c)** ¿Se puede hacer esto usando la función `sample_proportions`? Si es así, ¿en qué arreglo llamaríamos a `sample_proportions`? **(1 punto)**"
   ]
  },
  {
   "cell_type": "markdown",
   "id": "ba1109c3-4f95-4058-be64-1432416e2c6f",
   "metadata": {},
   "source": [
    "\"Escribe tu respuesta aqui\""
   ]
  },
  {
   "cell_type": "markdown",
   "id": "0963a1c6",
   "metadata": {
    "deletable": true,
    "editable": true,
    "tags": []
   },
   "source": [
    "## 4. Evaluación de los Modelos de Jade\n",
    "\n",
    "Antes de comenzar, la [Sección 10.4](https://inferentialthinking.com/chapters/10/4/Random_Sampling_in_Python.html) del libro de texto es una referencia útil para esta parte."
   ]
  },
  {
   "cell_type": "markdown",
   "id": "92485145",
   "metadata": {
    "deletable": true,
    "editable": true
   },
   "source": [
    "### Juegos con Jade\n",
    "\n",
    "Nuestra amiga Jade viene de visita y nos propone un juego con cartas. Las reglas son las siguientes:\n",
    "\n",
    "> Usaremos un mazo simplificado de 13 cartas: 4 cartas con figura (A, J, Q, K) y 9 cartas numeradas (2, 3, 4, 5, 6, 7, 8, 9, 10).  \n",
    ">\n",
    "> Se sacarán cartas **al azar con reemplazo**, un total de 13 veces.  \n",
    ">\n",
    "> - Si se obtienen **4 o más cartas con figura**, nosotros perdemos.  \n",
    "> - Si se obtienen menos de 4 cartas con figura, Jade pierde.\n",
    "\n",
    "Jugamos una partida y perdemos, al obtener **8 cartas con figura**. Frustrados, acusamos a Jade de hacer trampa, pero ella insiste en que el mazo es completamente justo.\n",
    "\n",
    "Según Jade, todas las cartas (A, 2, 3, 4, 5, 6, 7, 8, 9, 10, J, Q, K) tienen **igual probabilidad de ser seleccionadas**. Sin embargo, nosotros sospechamos que el mazo ha sido manipulado para favorecer las cartas con figura (A, J, Q, K) frente a las cartas numeradas.\n"
   ]
  },
  {
   "cell_type": "markdown",
   "id": "96424e14",
   "metadata": {
    "deletable": false,
    "editable": false
   },
   "source": [
    "**Pregunta 1.**  \n",
    "Asigna a la variable `deck_model_probabilities` un arreglo de dos elementos:\n",
    "\n",
    "- El primer elemento debe ser la probabilidad de extraer una carta con figura (J, Q, K o A).\n",
    "- El segundo elemento debe ser la probabilidad de extraer una carta con número (2–10).\n",
    "\n",
    "Estas probabilidades deben reflejar el modelo propuesto por Jade, quien afirma que todas las cartas del mazo tienen la misma probabilidad de ser seleccionadas. Asegúrate de que los valores estén entre 0 y 1, y que representen una distribución de probabilidad válida.  \n"
   ]
  },
  {
   "cell_type": "code",
   "execution_count": null,
   "id": "24338d4e",
   "metadata": {
    "tags": []
   },
   "outputs": [],
   "source": [
    "deck_model_probabilities=make_array(...,....)\n"
   ]
  },
  {
   "cell_type": "code",
   "execution_count": null,
   "id": "76470489",
   "metadata": {
    "deletable": false,
    "editable": false
   },
   "outputs": [],
   "source": [
    "grader.check(\"q25\")"
   ]
  },
  {
   "cell_type": "markdown",
   "id": "8cfc95b6",
   "metadata": {
    "deletable": false,
    "editable": false
   },
   "source": [
    "**Pregunta 2.**  \n",
    "Sospechamos que el modelo de Jade es incorrecto. En particular, creemos que la probabilidad de obtener una carta con figura es **mayor** que la que Jade propone.\n",
    "\n",
    "Durante nuestra simulación, ¿cuál de las siguientes estadísticas deberíamos usar para comparar el modelo de Jade con nuestra hipótesis alternativa?  \n",
    "Asigna la variable `statistic_choice` a la opción correcta.  \n",
    "\n",
    "1. La distancia (valor absoluto) entre el número real de cartas de figura en 13 extracciones y 4, el número esperado de cartas de figura según el modelo de Jade.  \n",
    "2. El número esperado de cartas de figura en 13 extracciones.  \n",
    "3. El número de cartas de figura que obtenemos en 13 extracciones.\n",
    "\n"
   ]
  },
  {
   "cell_type": "code",
   "execution_count": null,
   "id": "961b45c6",
   "metadata": {
    "tags": []
   },
   "outputs": [],
   "source": [
    "statistic_choice=...\n"
   ]
  },
  {
   "cell_type": "code",
   "execution_count": null,
   "id": "0da328f4",
   "metadata": {
    "deletable": false,
    "editable": false
   },
   "outputs": [],
   "source": [
    "grader.check(\"q26\")"
   ]
  },
  {
   "cell_type": "markdown",
   "id": "fc5a4d0a",
   "metadata": {
    "deletable": false,
    "editable": false
   },
   "source": [
    "**Pregunta 3.**  \n",
    "Define la función `deck_simulation_and_statistic`, que reciba dos argumentos:\n",
    "\n",
    "- `tamano_muestra`: el número de cartas a extraer en la simulación,\n",
    "- `model_proportions`: un arreglo con las probabilidades del modelo (como `deck_model_probabilities` creado en la Pregunta 1).\n",
    "\n",
    "La función debe retornar el **número de cartas con figura** obtenidas en una simulación de extracción aleatoria con reemplazo, utilizando las proporciones dadas en `model_proportions`.\n",
    "\n",
    "**(5 puntos)**\n",
    "\n",
    "*Sugerencia:* Puedes utilizar la función `sample_proportions`.\n"
   ]
  },
  {
   "cell_type": "code",
   "execution_count": null,
   "id": "aefc0d5f",
   "metadata": {
    "tags": []
   },
   "outputs": [],
   "source": [
    "def deck_simulation_and_statistic(tamano_muestra, model_proportions):\n",
    "    ...\n",
    "    ...\n",
    "deck_simulation_and_statistic(13, deck_model_probabilities)\n"
   ]
  },
  {
   "cell_type": "code",
   "execution_count": null,
   "id": "e82750c7",
   "metadata": {
    "deletable": false,
    "editable": false
   },
   "outputs": [],
   "source": [
    "grader.check(\"q27\")"
   ]
  },
  {
   "cell_type": "markdown",
   "id": "96dbf659",
   "metadata": {
    "deletable": false,
    "editable": false
   },
   "source": [
    "**Pregunta 4.**  \n",
    "Usa la función que definiste anteriormente (`deck_simulation_and_statistic`) para simular el sorteo de 13 cartas, **5000 veces**, bajo las proporciones del modelo que especificaste en la Pregunta 1 (`deck_model_probabilities`).\n",
    "\n",
    "Guarda el resultado de cada simulación (el número de cartas con figura) en un arreglo llamado `deck_statistics`.  \n",
    "**(5 puntos)**\n"
   ]
  },
  {
   "cell_type": "code",
   "execution_count": null,
   "id": "d11e49cf",
   "metadata": {
    "tags": []
   },
   "outputs": [],
   "source": [
    "deck_statistics = make_array()\n",
    "repetitions=5000\n",
    "for _ in np.arange(repetitions):\n",
    "    ...\n",
    "    ...\n",
    "\n"
   ]
  },
  {
   "cell_type": "code",
   "execution_count": null,
   "id": "810f43ec",
   "metadata": {
    "deletable": false,
    "editable": false
   },
   "outputs": [],
   "source": [
    "grader.check(\"q28\")"
   ]
  },
  {
   "cell_type": "markdown",
   "id": "c293746f-db1b-41fa-94af-122866b221b1",
   "metadata": {},
   "source": [
    "Analicemos las distribuciones estadisticas simuladas"
   ]
  },
  {
   "cell_type": "code",
   "execution_count": null,
   "id": "871bac0e",
   "metadata": {
    "deletable": true,
    "editable": true
   },
   "outputs": [],
   "source": [
    "# Draw a distribution of statistics \n",
    "Table().with_column('Deck Statistics', deck_statistics).hist()"
   ]
  },
  {
   "cell_type": "markdown",
   "id": "c89ed169",
   "metadata": {
    "deletable": true,
    "editable": true
   },
   "source": [
    "<!-- BEGIN QUESTION -->\n",
    "\n",
    "**Pregunta 5.** Dado el valor que observaste, ¿crees que el modelo de Jade es razonable, o es más probable nuestra alternativa (que nuestra baraja está trucada)? Explica tu respuesta utilizando el histograma de estadísticas simuladas usando el modelo de Jade (producido anteriormente). **(4 Puntos)**"
   ]
  },
  {
   "cell_type": "markdown",
   "id": "4656bcbc-d7ac-4bc7-809d-2c56809dcc82",
   "metadata": {},
   "source": [
    "Escribe tu respuesta aqui"
   ]
  },
  {
   "cell_type": "markdown",
   "id": "878dcb30",
   "metadata": {
    "deletable": true,
    "editable": true
   },
   "source": [
    "¡Has terminado la Tarea 6!\n",
    "\n",
    "**Pasos importantes para la entrega:**\n",
    "1. Ejecuta las pruebas y verifica que todas pasen correctamente.\n",
    "2. Elige **Guardar Notebook** en el menú **Archivo**, luego **ejecuta la celda final**.\n",
    "3. Haz clic en el enlace para descargar el archivo zip.\n",
    "\n",
    "**Es tu responsabilidad asegurarte de que tu trabajo esté guardado antes de ejecutar la última celda.**"
   ]
  },
  {
   "cell_type": "markdown",
   "id": "967cd36c",
   "metadata": {
    "deletable": true,
    "editable": true
   },
   "source": [
    "## Mascotas de Data 8\n",
    "\n",
    "Oz te felicita por haber terminado la Tarea 6.\n",
    "\n",
    "<img src=\"OZ.jpg\" width=\"30%\" alt=\"Primer plano de un perro sonriendo, sentado entre hojas.\"/>\n"
   ]
  },
  {
   "cell_type": "markdown",
   "id": "e107509b",
   "metadata": {
    "deletable": true,
    "editable": true
   },
   "source": [
    "## Envío\n",
    "\n",
    "Asegúrate de haber ejecutado todas las celdas de tu notebook en orden antes de ejecutar la celda a continuación, para que todas las imágenes y gráficos aparezcan en el resultado. La celda a continuación generará un archivo zip para que lo envíes. **Por favor, guarda antes de exportar.**"
   ]
  },
  {
   "cell_type": "code",
   "execution_count": null,
   "id": "77ac0126-c8f3-49ac-8558-5588c409adf0",
   "metadata": {},
   "outputs": [],
   "source": [
    "pwd"
   ]
  },
  {
   "cell_type": "code",
   "execution_count": null,
   "id": "df2cd62e-c72c-4004-a3e2-c98799dfb182",
   "metadata": {},
   "outputs": [],
   "source": []
  },
  {
   "cell_type": "markdown",
   "id": "293595cc",
   "metadata": {
    "deletable": false,
    "editable": false
   },
   "source": [
    "## Submission\n",
    "\n",
    "Make sure you have run all cells in your notebook in order before running the cell below, so that all images/graphs appear in the output. The cell below will generate a zip file for you to submit. **Please save before exporting!**\n",
    "\n",
    "These are some submission instructions."
   ]
  },
  {
   "cell_type": "code",
   "execution_count": null,
   "id": "7725a587",
   "metadata": {
    "deletable": false,
    "editable": false
   },
   "outputs": [],
   "source": [
    "# Save your notebook first, then run this cell to export your submission.\n",
    "grader.export(run_tests=True)"
   ]
  },
  {
   "cell_type": "markdown",
   "id": "b14bdfa5",
   "metadata": {},
   "source": [
    " "
   ]
  }
 ],
 "metadata": {
  "kernelspec": {
   "display_name": "Python 3 (ipykernel)",
   "language": "python",
   "name": "python3"
  },
  "language_info": {
   "codemirror_mode": {
    "name": "ipython",
    "version": 3
   },
   "file_extension": ".py",
   "mimetype": "text/x-python",
   "name": "python",
   "nbconvert_exporter": "python",
   "pygments_lexer": "ipython3",
   "version": "3.11.6"
  },
  "otter": {
   "OK_FORMAT": true,
   "assignment_name": "hw06",
   "tests": {
    "q1": {
     "name": "q1",
     "points": 1,
     "suites": [
      {
       "cases": [
        {
         "code": ">>> assert np.isclose(apuesta_dolar_al_rojo('green'), -1, 0.1)\n>>> assert np.isclose(apuesta_dolar_al_rojo('red'), 1, 0.1)\n>>> assert np.isclose(apuesta_dolar_al_rojo('black'), -1, 0.1)\n",
         "hidden": false,
         "locked": false
        }
       ],
       "scored": true,
       "setup": "",
       "teardown": "",
       "type": "doctest"
      }
     ]
    },
    "q10": {
     "name": "q10",
     "points": 1,
     "suites": [
      {
       "cases": [
        {
         "code": ">>> assert histogram_statements[0] == 1\n>>> assert histogram_statements[1] == 2\n",
         "hidden": false,
         "locked": false
        },
        {
         "code": ">>> assert np.isclose(primeros_casilleros_negros, (18 / 38) ** 3, 0.01)\n",
         "hidden": false,
         "locked": false
        }
       ],
       "scored": true,
       "setup": "",
       "teardown": "",
       "type": "doctest"
      }
     ]
    },
    "q11": {
     "name": "q11",
     "points": 1,
     "suites": [
      {
       "cases": [
        {
         "code": ">>> assert np.isclose(prob_no_verde_10_giros, (36 / 38) ** 10, 0.01)\n",
         "hidden": false,
         "locked": false
        }
       ],
       "scored": true,
       "setup": "",
       "teardown": "",
       "type": "doctest"
      }
     ]
    },
    "q12": {
     "name": "q12",
     "points": 1,
     "suites": [
      {
       "cases": [
        {
         "code": ">>> assert np.isclose(p_verde_al_menos_una, 0.4176, 0.1)\n",
         "hidden": false,
         "locked": false
        }
       ],
       "scored": true,
       "setup": "",
       "teardown": "",
       "type": "doctest"
      }
     ]
    },
    "q13": {
     "name": "q13",
     "points": 1,
     "suites": [
      {
       "cases": [
        {
         "code": ">>> assert np.isclose(p_solo_un_color, 0.00113, 0.01)\n",
         "hidden": false,
         "locked": false
        }
       ],
       "scored": true,
       "setup": "",
       "teardown": "",
       "type": "doctest"
      }
     ]
    },
    "q14": {
     "name": "q14",
     "points": 1,
     "suites": [
      {
       "cases": [
        {
         "code": ">>> assert escogencia_5 == True\n",
         "hidden": false,
         "locked": false
        }
       ],
       "scored": true,
       "setup": "",
       "teardown": "",
       "type": "doctest"
      }
     ]
    },
    "q15": {
     "name": "q15",
     "points": 1,
     "suites": [
      {
       "cases": [
        {
         "code": ">>> assert escogencia_6 == False\n",
         "hidden": false,
         "locked": false
        }
       ],
       "scored": true,
       "setup": "",
       "teardown": "",
       "type": "doctest"
      }
     ]
    },
    "q16": {
     "name": "q16",
     "points": 1,
     "suites": [
      {
       "cases": [
        {
         "code": ">>> assert escogencia_7 == True\n",
         "hidden": false,
         "locked": false
        }
       ],
       "scored": true,
       "setup": "",
       "teardown": "",
       "type": "doctest"
      }
     ]
    },
    "q2": {
     "name": "q2",
     "points": 1,
     "suites": [
      {
       "cases": [
        {
         "code": ">>> assert np.isclose(abs(np.mean(wheel.column('win:Red'))), 0.053, 0.1)\n",
         "hidden": false,
         "locked": false
        }
       ],
       "scored": true,
       "setup": "",
       "teardown": "",
       "type": "doctest"
      }
     ]
    },
    "q25": {
     "name": "q25",
     "points": 1,
     "suites": [
      {
       "cases": [
        {
         "code": ">>> assert np.sum(np.isclose(deck_model_probabilities, make_array(4 / 13, 9 / 13), 0.01)) == 2\n",
         "hidden": false,
         "locked": false
        }
       ],
       "scored": true,
       "setup": "",
       "teardown": "",
       "type": "doctest"
      }
     ]
    },
    "q26": {
     "name": "q26",
     "points": 1,
     "suites": [
      {
       "cases": [
        {
         "code": ">>> assert statistic_choice == 3, 'Recuerda seleccionar la opción que mejor compare la diferencia entre lo observado y lo esperado.'\n",
         "hidden": false,
         "locked": false
        }
       ],
       "scored": true,
       "setup": "",
       "teardown": "",
       "type": "doctest"
      }
     ]
    },
    "q27": {
     "name": "q27",
     "points": 1,
     "suites": [
      {
       "cases": [
        {
         "code": ">>> assert np.isclose(deck_simulation_and_statistic(13, deck_model_probabilities), 3.9, 4 * 1.65)\n",
         "hidden": false,
         "locked": false
        }
       ],
       "scored": true,
       "setup": "",
       "teardown": "",
       "type": "doctest"
      }
     ]
    },
    "q28": {
     "name": "q28",
     "points": 1,
     "suites": [
      {
       "cases": [
        {
         "code": ">>> assert len(deck_statistics) == 5000\n",
         "hidden": false,
         "locked": false
        }
       ],
       "scored": true,
       "setup": "",
       "teardown": "",
       "type": "doctest"
      }
     ]
    },
    "q3": {
     "name": "q3",
     "points": 1,
     "suites": [
      {
       "cases": [
        {
         "code": ">>> assert np.isclose(abs(suma_apuestas), abs(-0.51), 4 * 3.12)\n",
         "hidden": false,
         "locked": false
        }
       ],
       "scored": true,
       "setup": "",
       "teardown": "",
       "type": "doctest"
      }
     ]
    },
    "q4": {
     "name": "q4",
     "points": 1,
     "suites": [
      {
       "cases": [
        {
         "code": ">>> assert np.isclose(ganancia_neta_rojo(10), -5.304, 4 * 9.9)\n",
         "hidden": false,
         "locked": false
        }
       ],
       "scored": true,
       "setup": "",
       "teardown": "",
       "type": "doctest"
      }
     ]
    },
    "q5": {
     "name": "q5",
     "points": 1,
     "suites": [
      {
       "cases": [
        {
         "code": ">>> assert np.isclose(abs(np.mean(ganancias_simuladas_rojo)), 10.5, 5 * 14)\n",
         "hidden": false,
         "locked": false
        }
       ],
       "scored": true,
       "setup": "",
       "teardown": "",
       "type": "doctest"
      }
     ]
    },
    "q6": {
     "name": "q6",
     "points": 1,
     "suites": [
      {
       "cases": [
        {
         "code": ">>> assert type(perder_mas_del_50) == bool, 'La respuesta debe ser un valor booleano'\n>>> assert perder_mas_del_50 == True\n",
         "hidden": false,
         "locked": false
        }
       ],
       "scored": true,
       "setup": "",
       "teardown": "",
       "type": "doctest"
      }
     ]
    },
    "q7": {
     "name": "q7",
     "points": 1,
     "suites": [
      {
       "cases": [
        {
         "code": ">>> assert apostar_en_separador('5') == 17, 'Error en el caso de la casilla 5'\n>>> assert apostar_en_separador('6') == 17, 'Error en el caso de la casilla 6'\n>>> assert apostar_en_separador('7') == -1, 'Error en el caso de la casilla 7'\n>>> assert apostar_en_separador('4') == -1, 'Error en el caso de la casilla 4'\n>>> assert apostar_en_separador('0') == -1, 'Error en el caso de la casilla 0'\n",
         "hidden": false,
         "locked": false
        }
       ],
       "scored": true,
       "setup": "",
       "teardown": "",
       "type": "doctest"
      }
     ]
    },
    "q8": {
     "name": "q8",
     "points": 1,
     "suites": [
      {
       "cases": [
        {
         "code": ">>> \n",
         "hidden": false,
         "locked": false
        }
       ],
       "scored": true,
       "setup": "",
       "teardown": "",
       "type": "doctest"
      }
     ]
    },
    "q9": {
     "name": "q9",
     "points": 1,
     "suites": [
      {
       "cases": [
        {
         "code": ">>> assert np.isclose(np.mean(simulando_ganancias_neta), -1, 10)\n",
         "hidden": false,
         "locked": false
        }
       ],
       "scored": true,
       "setup": "",
       "teardown": "",
       "type": "doctest"
      }
     ]
    }
   }
  }
 },
 "nbformat": 4,
 "nbformat_minor": 5
}
