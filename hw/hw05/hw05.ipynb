{
 "cells": [
  {
   "cell_type": "code",
   "execution_count": null,
   "id": "016bfcd3",
   "metadata": {
    "deletable": false,
    "editable": false
   },
   "outputs": [],
   "source": [
    "# Initialize Otter\n",
    "import otter\n",
    "grader = otter.Notebook(\"hw05.ipynb\")"
   ]
  },
  {
   "cell_type": "markdown",
   "id": "Y12_-ZtGTtDI",
   "metadata": {
    "id": "Y12_-ZtGTtDI"
   },
   "source": [
    "# Tarea 5: Funcion apply, iteraciones y condicionales\n",
    "\n",
    "Tarea 4 no tuvimos, por eso saltamos a la 5.\n",
    "\n",
    "Por favor complete este notebook llenando las celdas que se indican. \n",
    "\n",
    "Antes de comenzar, ejecute la celda previa para cargar las pruebas.\n"
   ]
  },
  {
   "cell_type": "markdown",
   "id": "XV_1JlQLTtDL",
   "metadata": {
    "id": "XV_1JlQLTtDL"
   },
   "source": [
    "**Recursos útiles:**\n",
    "- [Referencia de Python](http://data8.org/fa23/reference/): Hoja de referencia y métodos útiles de métodos de arreglos y tablas.\n"
   ]
  },
  {
   "cell_type": "markdown",
   "id": "CEPVwS-aTtDM",
   "metadata": {
    "id": "CEPVwS-aTtDM"
   },
   "source": [
    "Para todos los problemas en los que deba escribir explicaciones y oraciones, **deberá** proporcionar la respuesta en el espacio designado. Además, a lo largo de esta tarea y de todas las futuras, ¡asegúrese de no reasignar variables en todo el notebook! Por ejemplo, si usa `temperatura` en su respuesta a una pregunta, no la reasigne más adelante. De lo contrario, ¡reprobará las pruebas que creía que estaba aprobando anteriormente!\n",
    "\n",
    "**Fecha de entrega:**\n",
    "\n",
    "Esta tarea deberá ser entregada ** ___ a las ___**. Si quiere puntos extra, entréguela el (un día antes). Trabajo que se entregue por fuera del plazo no será recibido.\n",
    "\n",
    "**Nota: Esta tarea tiene pruebas ocultas. Eso significa que aunque los exámenes indiquen que se aprobó al 100%, no significa que su calificación final será del 100%. Realizaremos más pruebas ocultas de corrección una vez que todos entreguen la tarea.**\n",
    "\n",
    "\n",
    "Evite compartir respuestas o hacer copia con sus compañeros. Establezca en cambio discusiones grupales con otros estudiantes y docentes del curso.\n",
    "\n",
    "Si desea contar con el tiempo necesario para pedir ayuda o asesoría en caso de estar atascado, se recomienda iniciar temprano con la realización de las tareas. Tenga en cuenta el cronograma del curso y de entregas."
   ]
  },
  {
   "cell_type": "code",
   "execution_count": null,
   "id": "ViuMUYYZTtDN",
   "metadata": {
    "id": "ViuMUYYZTtDN"
   },
   "outputs": [],
   "source": [
    "# No cambie esta celda; solo ejecútela.\n",
    "import numpy as np\n",
    "from datascience import *\n",
    "import warnings\n",
    "import matplotlib.pyplot as plt\n",
    "%matplotlib inline\n",
    "plt.style.use('fivethirtyeight')\n",
    "warnings.simplefilter('ignore', FutureWarning)"
   ]
  },
  {
   "cell_type": "markdown",
   "id": "f9ce0b97-de3b-46f2-b441-c08b7032f891",
   "metadata": {
    "deletable": false,
    "editable": false
   },
   "source": [
    "<!-- BEGIN QUESTION -->\n",
    "\n",
    "Ingrese su nombre en la siguiente celda:\n",
    "```python\n",
    "Nombre = \"Ada Lovelace\"\n",
    "Carnet =  \"3,141592....\"\n",
    "```"
   ]
  },
  {
   "cell_type": "code",
   "execution_count": null,
   "id": "9abb0559-5017-44d5-89a0-db1efabdc440",
   "metadata": {
    "tags": []
   },
   "outputs": [],
   "source": [
    "Nombre = \"...\"\n",
    "Carnet = \"...\""
   ]
  },
  {
   "cell_type": "markdown",
   "id": "Auer7uhWTtD8",
   "metadata": {
    "deletable": false,
    "editable": false,
    "id": "Auer7uhWTtD8"
   },
   "source": [
    "<!-- END QUESTION -->\n",
    "\n",
    "## 1. Datos de cafe colombia"
   ]
  },
  {
   "cell_type": "markdown",
   "id": "60f55662-9e90-49c4-9f17-186acb50e9cd",
   "metadata": {
    "deletable": false,
    "editable": false
   },
   "source": [
    "**Pregunta 1** Leer la tabla cafe_colombia, la cual tiene datos que  corresponden a las **Evaluaciones Agropecuarias Municipales de Colombia**, provenientes de fuentes de datos abiertos de colombia. Contiene estadísticas anuales sobre cultivos y producción agrícola en diferentes municipios del país.\n",
    "\n",
    "Las  Columnas del conjunto de datos son:\n",
    "\n",
    "- **departamento**: Nombre del departamento.\n",
    "- **municipio**: Nombre del municipio.\n",
    "- **año**: Año de recolección del dato.\n",
    "- **periodo**: Período o ciclo del cultivo (usualmente anual o semestral).\n",
    "- **areaSembradaHa**: Superficie sembrada en hectáreas.\n",
    "- **areaCosechadaHa**: Superficie efectivamente cosechada en hectáreas.\n",
    "- **produccionT**: Producción obtenida en toneladas.\n",
    "- **cicloDeCultivo**: Ciclo de duración del cultivo (ej. permanente, transitorio).\n",
    "\n",
    "> 🔍 Antes de procesar, verifica que los valores numéricos estén correctamente tipificados y sin caracteres especiales (como comas o saltos de línea).\n"
   ]
  },
  {
   "cell_type": "code",
   "execution_count": null,
   "id": "10797995-088f-49b1-8278-3c9323a96aef",
   "metadata": {
    "tags": []
   },
   "outputs": [],
   "source": [
    "cafe = ...."
   ]
  },
  {
   "cell_type": "code",
   "execution_count": null,
   "id": "e8e84bcf",
   "metadata": {
    "deletable": false,
    "editable": false
   },
   "outputs": [],
   "source": [
    "grader.check(\"q1\")"
   ]
  },
  {
   "cell_type": "markdown",
   "id": "ebd286a2-6fc1-4a40-a41c-36bb53f81a76",
   "metadata": {
    "deletable": false,
    "editable": false
   },
   "source": [
    "**Pregunta 2** Define una función ```calcular_rendimiento``` que reciba como argumentos la columnas asociadas a la producción y el área cosechada, y retorne el rendimiento como: \n",
    "\n",
    "\\begin{equation}\n",
    "\\text{rendimiento} = \\frac{\\text{producción}} {\\text{área.}}\n",
    "\\end{equation}\n",
    "\n",
    "\n",
    "\n",
    "Luego crea una nueva tabla llamada cafe_rendimiento"
   ]
  },
  {
   "cell_type": "code",
   "execution_count": null,
   "id": "4472624a-d463-4752-8948-a6d408d67d18",
   "metadata": {
    "tags": []
   },
   "outputs": [],
   "source": [
    "def calcular_rendimiento(produccion, area):\n",
    "    if area==0:   \n",
    "        return np.nan     # Que pasa si no incluyes este condicional\n",
    "    \n",
    "    return ....\n",
    "\n",
    "cafe_rendimiento_values = cafe.apply(calcular_rendimiento, ['...', '...'])\n",
    "cafe_rendimiento=...\n",
    "cafe_rendimiento"
   ]
  },
  {
   "cell_type": "code",
   "execution_count": null,
   "id": "6890f3c7",
   "metadata": {
    "deletable": false,
    "editable": false
   },
   "outputs": [],
   "source": [
    "grader.check(\"q2\")"
   ]
  },
  {
   "cell_type": "markdown",
   "id": "a1917b28-82b3-4a9c-8bb1-fe13344ceafa",
   "metadata": {
    "deletable": false,
    "editable": false
   },
   "source": [
    "**Pregunta 3**\n",
    "Escribe una función llamada `produccion_departamento` que reciba:\n",
    "\n",
    "- `cafe_rendimiento`: una tabla con datos históricos de producción de café. Esta tabla incluye, al menos, las columnas `'departamento'`, `'año'` y `'produccionT'`.\n",
    "- `departamento`: el nombre de un departamento como cadena de texto.\n",
    "\n",
    "La función debe:\n",
    "\n",
    "1. Filtrar la tabla para conservar solo las filas correspondientes al departamento especificado.\n",
    "2. Seleccionar únicamente las columnas `'año'` y `'produccionT'`.\n",
    "3. Agrupar los datos por año, sumando la producción total por cada año.\n",
    "4. Renombrar las columnas a `'anio'` y `'produccionTotal'`.\n",
    "5. Ordenar los resultados de mayor a menor según la producción total.\n",
    "\n",
    "- Salida esperada\n",
    "Una tabla con dos columnas:\n",
    "- `anio`: el año de producción.\n",
    "- `produccionTotal`: la suma de la producción total (en toneladas) para ese año.\n",
    "\n",
    "-  Ejemplo de uso (sin código)\n",
    "```python\n",
    "produccion_departamento(cafe, \"Antioquia\")"
   ]
  },
  {
   "cell_type": "code",
   "execution_count": null,
   "id": "655293d1-e157-4fe5-b1f3-9b3e4bf99728",
   "metadata": {
    "tags": []
   },
   "outputs": [],
   "source": [
    "def produccion_departamento(cafe_rendimiento, departamento):\n",
    "    # Filtrar por el departamento dado\n",
    "    cafe_dep = cafe_rendimiento.where('departamento', departamento)\n",
    "    \n",
    "    # Agrupar por año y sumar la producción\n",
    "    produccion = (\n",
    "        cafe_dep.select('año', 'produccionT')\n",
    "        .group('año', sum)\n",
    "        .relabeled('año', 'anio')\n",
    "        .relabeled('produccionT sum', 'produccionTotal')\n",
    "        .sort('produccionTotal', descending=True)\n",
    "    )\n",
    "    return produccion\n",
    "produccion_departamento(cafe_rendimiento,\"ANTIOQUIA\")"
   ]
  },
  {
   "cell_type": "code",
   "execution_count": null,
   "id": "8156e2b5",
   "metadata": {
    "deletable": false,
    "editable": false
   },
   "outputs": [],
   "source": [
    "grader.check(\"q3\")"
   ]
  },
  {
   "cell_type": "markdown",
   "id": "aeb17b77-004c-41f6-8ea4-116a6b14be15",
   "metadata": {
    "deletable": false,
    "editable": false
   },
   "source": [
    "**Pregunta 4**. \n",
    "\n",
    "Escribe una función llamada `clasificar_porcentaje_cosechado` que reciba una fila de una tabla con datos agrícolas y clasifique la eficiencia de la cosecha de acuerdo con el porcentaje cosechado respecto al área sembrada.\n",
    "\n",
    "#### **La función debe:**\n",
    "1. Leer los valores `'areaSembradaHa'` y `'areaCosechadaHa'` de la fila.\n",
    "2. Si el área sembrada es cero, retornar la cadena `'Sin dato'`.\n",
    "3. Calcular el porcentaje como:\n",
    "\n",
    "   $$\n",
    "   \\text{porcentaje} = \\frac{\\text{Área Cosechada}}{\\text{Área Sembrada}} \\times 100\n",
    "   $$\n",
    "\n",
    "4. Clasificar la fila según las siguientes reglas:\n",
    "\n",
    "   - Si el porcentaje es **menor que 60%**, retornar `'Bajo'`.\n",
    "   - Si el porcentaje está entre **60% y 90%**, retornar `'Medio'`.\n",
    "   - Si el porcentaje es **mayor que 90%**, retornar `'Alto'`.\n",
    "\n",
    "\n",
    "\n",
    "Una vez definida la función, aplícala a una tabla llamada `cafe_rendimiento` utilizando `apply` y añade una nueva columna llamada `'ClasificacionCosecha'` con los resultados.\n",
    "\n",
    "Ejemplo de uso\n",
    "```python\n",
    "cafe_clasificacion = cafe_rendimiento.with_column('clasificacionCosecha', cafe_rendimiento.apply(clasificar_porcentaje_cosechado))\n",
    "```\n",
    "La tabla resultante cafe_clasificacion tendrá una nueva columna que clasifica cada fila como 'Bajo', 'Medio', 'Alto' o 'Sin dato', dependiendo del porcentaje cosechado."
   ]
  },
  {
   "cell_type": "code",
   "execution_count": null,
   "id": "59b05e72-52a5-4632-88e6-35bd9194e1d9",
   "metadata": {
    "tags": []
   },
   "outputs": [],
   "source": [
    "\n",
    "def clasificar_porcentaje_cosechado(fila):\n",
    "    sembrada = fila.item('areaSembradaHa')\n",
    "    cosechada = fila.item('areaCosechadaHa')\n",
    "    \n",
    "    if sembrada == 0:\n",
    "        return 'Sin dato'\n",
    "    porcentaje = (... / ...) * 100\n",
    "    \n",
    "    if porcentaje < ...:\n",
    "        return ...\n",
    "    \n",
    "    elif ... < porcentaje <= ..:\n",
    "        return ...\n",
    "    else:\n",
    "        return ...\n",
    "cafe_clasificacion = cafe_rendimiento.with_column('clasificacionCosecha', cafe.apply(clasificar_porcentaje_cosechado))\n",
    "cafe_clasificacion"
   ]
  },
  {
   "cell_type": "code",
   "execution_count": null,
   "id": "8b51ebb6",
   "metadata": {
    "deletable": false,
    "editable": false
   },
   "outputs": [],
   "source": [
    "grader.check(\"q4\")"
   ]
  },
  {
   "cell_type": "code",
   "execution_count": null,
   "id": "795d23ee-8624-4fbe-b594-827b163291d0",
   "metadata": {},
   "outputs": [],
   "source": [
    "def graficar_promedio_anual_por_departamento(tabla, departamento, col):\n",
    "    agrupada = (\n",
    "        tabla\n",
    "        .select(\"departamento\", \"año\", col)\n",
    "        .where(\"departamento\", are.equal_to(departamento))\n",
    "        .group(\"año\", np.mean)\n",
    "    )\n",
    "    \n",
    "    col_media = f\"{col} mean\"\n",
    "    agrupada.scatter(\"año\", col_media)"
   ]
  },
  {
   "cell_type": "markdown",
   "id": "f00e5720-8eda-464c-ba0e-7b49f04c8eb6",
   "metadata": {},
   "source": [
    "Analiza las siguientes gráficas y saca tus propias conclusiones para cada una."
   ]
  },
  {
   "cell_type": "code",
   "execution_count": null,
   "id": "39bc9bad-32d9-4c17-9d8a-ab04514528c6",
   "metadata": {},
   "outputs": [],
   "source": [
    "col1=\"areaSembradaHa\"\n",
    "col2= \"areaCosechadaHa\"\n",
    "col3=\"produccionT\"\n",
    "\n",
    "graficar_promedio_anual_por_departamento(cafe_clasificacion, \"ANTIOQUIA\", col1)\n",
    "graficar_promedio_anual_por_departamento(cafe_clasificacion, \"ANTIOQUIA\", col2)\n",
    "graficar_promedio_anual_por_departamento(cafe_clasificacion, \"ANTIOQUIA\", col3)"
   ]
  },
  {
   "cell_type": "code",
   "execution_count": null,
   "id": "6d5383ea-0ee5-4192-9e0a-bec13fd54664",
   "metadata": {},
   "outputs": [],
   "source": [
    "Conclusion1=\"\""
   ]
  },
  {
   "cell_type": "code",
   "execution_count": null,
   "id": "b442ca2b-b04b-4c5c-b3f2-5bba8ee91ec1",
   "metadata": {},
   "outputs": [],
   "source": [
    "Conclusion2=\"\""
   ]
  },
  {
   "cell_type": "code",
   "execution_count": null,
   "id": "d74d6e53-8ad1-45df-bd6e-93b556ee2d52",
   "metadata": {},
   "outputs": [],
   "source": [
    "Conclusion3=\"\""
   ]
  },
  {
   "cell_type": "markdown",
   "id": "c78e8efd-3981-4e28-9d25-3ff8b1316d1d",
   "metadata": {},
   "source": [
    "## Iteraciones\n",
    "\n",
    "\n",
    "\"expandir\" un ciclo `for` significa escribir manualmente todo el código que el ciclo ejecutaría. El resultado es un código que hace lo mismo que el ciclo, pero sin usar su estructura. Por ejemplo, el siguiente ciclo:\n",
    "\n",
    "```python\n",
    "for num in np.arange(3):\n",
    "    print(\"El número es\", num)\n"
   ]
  },
  {
   "cell_type": "markdown",
   "id": "7d98e23d-13f8-41d9-b51d-6a6b82dec81e",
   "metadata": {},
   "source": [
    "Puede ser expandido así:"
   ]
  },
  {
   "cell_type": "code",
   "execution_count": null,
   "id": "414f6148-aac0-4e4f-88ea-b605a0f58509",
   "metadata": {},
   "outputs": [],
   "source": [
    "print(\"El número es\", 0)\n",
    "print(\"El número es\", 1)\n",
    "print(\"El número es\", 2)\n",
    "\n"
   ]
  },
  {
   "cell_type": "markdown",
   "id": "70aa58b6-e317-4f9b-b3a3-d3cc9588eabd",
   "metadata": {},
   "source": [
    "Expandir un ciclo for es una excelente forma de entender qué hace el ciclo en cada paso. En este ejercicio, practicarás cómo desenrollar un ciclo for.\n",
    "En la siguiente pregunta, escribe código que haga exactamente lo mismo que el código dado, pero con los ciclos for expandidos. Es buena idea ejecutar tanto tu respuesta como el código original para verificar que el comportamiento sea el mismo. (Por supuesto, si el código incluye algún comportamiento aleatorio, el resultado puede variar ligeramente)."
   ]
  },
  {
   "cell_type": "code",
   "execution_count": null,
   "id": "d087a4c3-1ff3-4c34-9c11-05b33151bcef",
   "metadata": {},
   "outputs": [],
   "source": [
    "print(\"¿Qué hace una abeja en el gimnasio?\")\n",
    "for i in range(3): \n",
    "    print(\"...\")\n",
    "    print(\"¡Zum-ba!\")\n",
    "    print()\n",
    "print(\"Fin del entrenamiento. 🐝💪\")"
   ]
  },
  {
   "cell_type": "markdown",
   "id": "4a67f2dc-045d-45ca-9646-8d6f4021a15a",
   "metadata": {
    "deletable": false,
    "editable": false
   },
   "source": [
    "# Practica de ciclos\n",
    "\n",
    "**Paseo Aleatorio del Borracho**\n",
    "\n",
    "El **paseo del borracho**, también conocido como **paseo aleatorio**, es un concepto clásico en teoría de probabilidades y matemáticas. Se refiere al camino formado por una serie de pasos aleatorios, típicamente en un espacio o red. Imagina a un borracho que comienza en un punto fijo y da pasos al azar, hacia adelante o hacia atrás, cada uno con una probabilidad definida. \n",
    "\n",
    "Este modelo es utilizado para ilustrar cómo las fluctuaciones aleatorias pueden influir en el movimiento o posición de un objeto a lo largo del tiempo. Se aplica en varios campos como la física, la biología, la economía y otras disciplinas que estudian procesos y fenómenos estocásticos. Es una herramienta fundamental para entender la difusión y procesos de varianza aleatoria en distintas áreas de estudio.\n",
    "\n",
    "En los sigientes puntos, realizaremos su simulación.\n",
    "\n",
    "Simula un paseo aleatorio de un borracho que realiza 100 pasos. Cada paso puede ser hacia adelante (+1) o hacia atrás (-1) con igual probabilidad. Ejecuta esta simulación 10,000 veces para analizar el desplazamiento final del borracho, para ello realiza lo siguiente :\n",
    "\n",
    "\n",
    "\n",
    "1. **Define una función llamada `simulacion_paseo_borracho`**  \n",
    "   Esta función debe generar 100 pasos aleatorios, cada uno con valor +1 o −1 (con igual probabilidad), y devolver la suma total de esos pasos, es decir, la posición final alcanzada.\n",
    "\n",
    "2. **Crea un arreglo vacío llamado `desplazamientos_finales`**  \n",
    "   Este arreglo servirá para almacenar la posición final del borracho en cada una de las simulaciones.\n",
    "\n",
    "3. **Simula el experimento 10,000 veces**  \n",
    "   Usa un ciclo `for` con `np.arange` para repetir la simulación 10,000 veces.  \n",
    "   En cada iteración:\n",
    "   - Llama a la función `simulacion_paseo_borracho()`.\n",
    "   - Agrega el valor retornado al arreglo `desplazamientos_finales`.\n",
    "\n",
    "4. **Construye una tabla llamada `sim`**  \n",
    "   Esta tabla debe tener dos columnas:\n",
    "   - `\"desplazamiento\"`: contiene las posiciones finales de cada recorrido.\n",
    "   - `\"simulacion\"`: contiene los índices de simulación (del 1 al 10,000).\n",
    "\n",
    "5. **Muestra las primeras 10 filas de la tabla** usando `.show(10)` para verificar que todo funcione correctamente.\n",
    "\n",
    "#### 💡 Nota\n",
    "Puedes usar `np.random.choice([-1, 1], size=1000)` para generar los pasos aleatorios, y `np.sum()` para obtener la posición final.\n",
    "\n",
    "---\n"
   ]
  },
  {
   "cell_type": "code",
   "execution_count": null,
   "id": "9af4fcd6-3cd0-4e9d-99da-a700b989fe1c",
   "metadata": {
    "tags": []
   },
   "outputs": [],
   "source": [
    "def simulacion_paseo_borracho():\n",
    "    ...\n",
    "    return ...\n",
    "\n",
    "num_repeticiones = 10000\n",
    "desplazamientos_finales = make_array()\n",
    "\n",
    "for _ in np.arange(num_repeticiones):\n",
    "    nuevo_desplazamiento = simulacion_paseo_borracho()\n",
    "    desplazamientos_finales = np.append(...., nuevo_desplazamiento)\n",
    "\n",
    "simulacion = Table().with_columns(\n",
    "    \"...\", desplazamientos_finales,\n",
    "    \"....\", np.arange(1, num_repeticiones + 1)\n",
    ")\n"
   ]
  },
  {
   "cell_type": "code",
   "execution_count": null,
   "id": "679e60b6",
   "metadata": {
    "deletable": false,
    "editable": false
   },
   "outputs": [],
   "source": [
    "grader.check(\"q5\")"
   ]
  },
  {
   "cell_type": "code",
   "execution_count": null,
   "id": "289dc9ce-cb38-4300-b69d-9c8b9553b584",
   "metadata": {},
   "outputs": [],
   "source": [
    "sim.hist(\"desplazamiento\", bins=range(-100, 100,2))"
   ]
  },
  {
   "cell_type": "markdown",
   "id": "07e44708-13ab-4871-adbe-19567d556951",
   "metadata": {},
   "source": [
    "¿Qué puede concluir del histograma?, interpreta muy bien cada una de las variables"
   ]
  },
  {
   "cell_type": "code",
   "execution_count": null,
   "id": "e66b65d0-c0f3-478c-a2a2-a83004b129e8",
   "metadata": {},
   "outputs": [],
   "source": [
    "conclusion=\"Escribe aqui tu respuesta\""
   ]
  },
  {
   "cell_type": "markdown",
   "id": "yFa9-jUvTtEd",
   "metadata": {
    "id": "yFa9-jUvTtEd"
   },
   "source": [
    "¡Terminó la tarea 5, recuerda que NO tuvimos tarea 4!\n",
    "\n",
    "**Información sobre la entrega:** Asegúrese de correr todas las pruebas y verificar que se ejectuen correctamente. Aquí, seleccione **Guardar Notebook** En el menú de **Archivo** y **corra la  última celda**. Descargue el archivo .zip y el archivo con extensión .ipynb y subálo al enlace compartido en la página del curso para su entrega. El nombre de esta tarea es \"HW 03 \". **Es su responsabilidad asegurarse que su trabajo se guarde antes de correr la última celda**.\n",
    "\n",
    "\n",
    "\n",
    "`Referencia`: Este material esta basado en [Data 8: The Foundations of Data Science](https://www.data8.org/) - University of California, Berkeley."
   ]
  },
  {
   "cell_type": "markdown",
   "id": "xWL-ms_iTtEe",
   "metadata": {
    "id": "xWL-ms_iTtEe",
    "jp-MarkdownHeadingCollapsed": true
   },
   "source": [
    "Estimad@ estudiante de Fundamentos de Ciencia de Datos\n",
    "\n",
    "¡Felicitaciones por terminar la tarea 5!\n",
    "\n",
    "<img src=\"./Casafus.jpg\" width=\"50%\" alt=\"Close up picture of dog smiling.\"/>\n",
    "\n",
    "Perro de la semana\n",
    "\n"
   ]
  },
  {
   "cell_type": "markdown",
   "id": "ZrSf5B48TtEf",
   "metadata": {
    "id": "ZrSf5B48TtEf"
   },
   "source": [
    "## Entrega\n",
    "\n",
    "Asegúrese que ha ejecutado todas las celdas en su notebook en orden antes de ejecutar la celda de abajo. De esta forma todas las imágenes/gráficas apareceran en la salida. La celda de abajo va a generar un archivo con extensión .zip para que usted lo entregue. **¡Por favor guarde antes de exportar!**"
   ]
  },
  {
   "cell_type": "markdown",
   "id": "5ecaf653",
   "metadata": {
    "deletable": false,
    "editable": false
   },
   "source": [
    "## Submission\n",
    "\n",
    "Make sure you have run all cells in your notebook in order before running the cell below, so that all images/graphs appear in the output. The cell below will generate a zip file for you to submit. **Please save before exporting!**\n",
    "\n",
    "These are some submission instructions."
   ]
  },
  {
   "cell_type": "code",
   "execution_count": null,
   "id": "b323e63f",
   "metadata": {
    "deletable": false,
    "editable": false
   },
   "outputs": [],
   "source": [
    "# Save your notebook first, then run this cell to export your submission.\n",
    "grader.export(run_tests=True)"
   ]
  },
  {
   "cell_type": "markdown",
   "id": "31e9e43f",
   "metadata": {},
   "source": [
    " "
   ]
  }
 ],
 "metadata": {
  "colab": {
   "collapsed_sections": [
    "SkDr_ctNTtDO",
    "hxmQVJkuTtDj"
   ],
   "provenance": []
  },
  "kernelspec": {
   "display_name": "Python 3 (ipykernel)",
   "language": "python",
   "name": "python3"
  },
  "language_info": {
   "codemirror_mode": {
    "name": "ipython",
    "version": 3
   },
   "file_extension": ".py",
   "mimetype": "text/x-python",
   "name": "python",
   "nbconvert_exporter": "python",
   "pygments_lexer": "ipython3",
   "version": "3.10.14"
  },
  "otter": {
   "OK_FORMAT": true,
   "assignment_name": "hw05",
   "tests": {
    "q1": {
     "name": "q1",
     "points": 1,
     "suites": [
      {
       "cases": [
        {
         "code": ">>> assert cafe.labels == ('departamento', 'municipio', 'año', 'periodo', 'areaSembradaHa', 'areaCosechadaHa', 'produccionT', 'cicloDeCultivo')\n",
         "hidden": false,
         "locked": false
        }
       ],
       "scored": true,
       "setup": "",
       "teardown": "",
       "type": "doctest"
      }
     ]
    },
    "q2": {
     "name": "q2",
     "points": 1,
     "suites": [
      {
       "cases": [
        {
         "code": ">>> assert np.isclose(cafe_rendimiento.column('rendimiento').mean(), 0.9198174805793192, 0.01)\n",
         "hidden": false,
         "locked": false
        }
       ],
       "scored": true,
       "setup": "",
       "teardown": "",
       "type": "doctest"
      }
     ]
    },
    "q3": {
     "name": "q3",
     "points": 1,
     "suites": [
      {
       "cases": [
        {
         "code": ">>> assert np.isclose(np.mean(produccion_departamento(cafe_rendimiento, 'ANTIOQUIA').column('produccionTotal')), 116863.33333, 0.1)\n",
         "hidden": false,
         "locked": false
        }
       ],
       "scored": true,
       "setup": "",
       "teardown": "",
       "type": "doctest"
      }
     ]
    },
    "q4": {
     "name": "q4",
     "points": 1,
     "suites": [
      {
       "cases": [
        {
         "code": ">>> b = np.count_nonzero(cafe_clasificacion.column('clasificacionCosecha') == 'Bajo')\n>>> m = np.count_nonzero(cafe_clasificacion.column('clasificacionCosecha') == 'Medio')\n>>> a = np.count_nonzero(cafe_clasificacion.column('clasificacionCosecha') == 'Alto')\n>>> assert np.isclose((462, 4449, 2350) == (b, m, a), True)\n",
         "hidden": false,
         "locked": false
        }
       ],
       "scored": true,
       "setup": "",
       "teardown": "",
       "type": "doctest"
      }
     ]
    },
    "q5": {
     "name": "q5",
     "points": 1,
     "suites": [
      {
       "cases": [
        {
         "code": ">>> assert np.isclose(round(np.mean(sim.column('desplazamiento'))), 0.0, 0.1)\n",
         "hidden": false,
         "locked": false
        }
       ],
       "scored": true,
       "setup": "",
       "teardown": "",
       "type": "doctest"
      }
     ]
    }
   }
  }
 },
 "nbformat": 4,
 "nbformat_minor": 5
}
